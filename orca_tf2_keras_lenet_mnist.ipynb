{
  "nbformat": 4,
  "nbformat_minor": 0,
  "metadata": {
    "colab": {
      "name": "orca_tf2_keras_lenet_mnist.ipynb",
      "provenance": [],
      "toc_visible": true,
      "include_colab_link": true
    },
    "kernelspec": {
      "name": "python3",
      "display_name": "Python 3"
    }
  },
  "cells": [
    {
      "cell_type": "markdown",
      "metadata": {
        "id": "view-in-github",
        "colab_type": "text"
      },
      "source": [
        "<a href=\"https://colab.research.google.com/github/n-n-n/notebooks/blob/main/orca_tf2_keras_lenet_mnist.ipynb\" target=\"_parent\"><img src=\"https://colab.research.google.com/assets/colab-badge.svg\" alt=\"Open In Colab\"/></a>"
      ]
    },
    {
      "cell_type": "markdown",
      "metadata": {
        "id": "xgV_QLGE9Lox"
      },
      "source": [
        "\n",
        "![image.png](data:image/png;base64,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)\n",
        "---"
      ]
    },
    {
      "cell_type": "markdown",
      "metadata": {
        "id": "fDBPZ0_rfBmU"
      },
      "source": [
        "##### Copyright 2018 Analytics Zoo Authors."
      ]
    },
    {
      "cell_type": "code",
      "metadata": {
        "id": "xBWVU_bhfkY7"
      },
      "source": [
        "#@title Licensed under the Apache License, Version 2.0 (the \"License\");\n",
        "# you may not use this file except in compliance with the License.\n",
        "# You may obtain a copy of the License at\n",
        "#\n",
        "#     http://www.apache.org/licenses/LICENSE-2.0\n",
        "#\n",
        "# Unless required by applicable law or agreed to in writing, software\n",
        "# distributed under the License is distributed on an \"AS IS\" BASIS,\n",
        "# WITHOUT WARRANTIES OR CONDITIONS OF ANY KIND, either express or implied.\n",
        "# See the License for the specific language governing permissions and\n",
        "# limitations under the License.\n",
        "#"
      ],
      "execution_count": null,
      "outputs": []
    },
    {
      "cell_type": "markdown",
      "metadata": {
        "id": "voMBntim9bMf"
      },
      "source": [
        "## **Environment Preparation**"
      ]
    },
    {
      "cell_type": "markdown",
      "metadata": {
        "id": "ccXnsv_pMCHQ"
      },
      "source": [
        "**Install Java 8**\n",
        "\n",
        "Run the cell on the **Google Colab** to install jdk 1.8.\n",
        "\n",
        "**Note:** if you run this notebook on your computer, root permission is required when running the cell to install Java 8. (You may ignore this cell if Java 8 has already been set up in your computer).\n"
      ]
    },
    {
      "cell_type": "code",
      "metadata": {
        "id": "HWx_0DSnXVhz",
        "colab": {
          "base_uri": "https://localhost:8080/"
        },
        "outputId": "6e3059b7-3fea-4e8e-f330-cb013fd4abd4"
      },
      "source": [
        "# Install jdk8\n",
        "!apt-get install openjdk-8-jdk-headless -qq > /dev/null\n",
        "import os\n",
        "# Set environment variable JAVA_HOME.\n",
        "os.environ[\"JAVA_HOME\"] = \"/usr/lib/jvm/java-8-openjdk-amd64\"\n",
        "!update-alternatives --set java /usr/lib/jvm/java-8-openjdk-amd64/jre/bin/java\n",
        "!java -version"
      ],
      "execution_count": null,
      "outputs": [
        {
          "output_type": "stream",
          "text": [
            "openjdk version \"1.8.0_292\"\n",
            "OpenJDK Runtime Environment (build 1.8.0_292-8u292-b10-0ubuntu1~18.04-b10)\n",
            "OpenJDK 64-Bit Server VM (build 25.292-b10, mixed mode)\n"
          ],
          "name": "stdout"
        }
      ]
    },
    {
      "cell_type": "markdown",
      "metadata": {
        "id": "I_OS4HKJMNpv"
      },
      "source": [
        "**Install Analytics Zoo**\n",
        "\n",
        "You can install the latest pre-release version using `pip install --pre --upgrade analytics-zoo`. "
      ]
    },
    {
      "cell_type": "code",
      "metadata": {
        "id": "3qfT8CaC51hI"
      },
      "source": [
        "# Install latest pre-release version of Analytics Zoo \n",
        "# Installing Analytics Zoo from pip will automatically install pyspark, bigdl, and their dependencies.\n",
        "!pip install --pre --upgrade -q analytics-zoo[ray]"
      ],
      "execution_count": null,
      "outputs": []
    },
    {
      "cell_type": "markdown",
      "metadata": {
        "id": "l-l4vel5N3qP"
      },
      "source": [
        "## **Distributed TensorFlow 2 using Orca APIs**\n",
        "\n",
        "In this guide we will describe how to scale out TensorFlow 2 programs using Orca in 4 simple steps."
      ]
    },
    {
      "cell_type": "code",
      "metadata": {
        "id": "RDPt2XTsT-Gv",
        "colab": {
          "base_uri": "https://localhost:8080/"
        },
        "outputId": "63230e9e-c8a2-4b19-84c1-6a91a20f552b"
      },
      "source": [
        "# import necesary libraries and modules\n",
        "import argparse\n",
        "\n",
        "from zoo.orca import init_orca_context, stop_orca_context\n",
        "from zoo.orca import OrcaContext"
      ],
      "execution_count": null,
      "outputs": [
        {
          "output_type": "stream",
          "text": [
            "Prepending /usr/local/lib/python3.7/dist-packages/bigdl/share/conf/spark-bigdl.conf to sys.path\n",
            "Adding /usr/local/lib/python3.7/dist-packages/zoo/share/lib/analytics-zoo-bigdl_0.12.2-spark_2.4.3-0.11.0-SNAPSHOT-jar-with-dependencies.jar to BIGDL_JARS\n",
            "Prepending /usr/local/lib/python3.7/dist-packages/zoo/share/conf/spark-analytics-zoo.conf to sys.path\n"
          ],
          "name": "stdout"
        }
      ]
    },
    {
      "cell_type": "markdown",
      "metadata": {
        "id": "zBdeoZzLWWlY"
      },
      "source": [
        "### **Step 1: Init Orca Context** "
      ]
    },
    {
      "cell_type": "code",
      "metadata": {
        "id": "QAQp0FcUWaH3",
        "colab": {
          "base_uri": "https://localhost:8080/"
        },
        "outputId": "9499505b-86ad-4956-b52f-9f05b235bc1c"
      },
      "source": [
        "# recommended to set it to True when running Analytics Zoo in Jupyter notebook \n",
        "OrcaContext.log_output = True # (this will display terminal's stdout and stderr in the Jupyter notebook).\n",
        "\n",
        "cluster_mode = \"local\"\n",
        "\n",
        "if cluster_mode == \"local\":  \n",
        "    init_orca_context(cluster_mode=\"local\", cores=4) # run in local mode\n",
        "elif cluster_mode == \"k8s\":  \n",
        "    init_orca_context(cluster_mode=\"k8s\", num_nodes=2, cores=2) # run on K8s cluster\n",
        "elif cluster_mode == \"yarn\":  \n",
        "    init_orca_context(cluster_mode=\"yarn-client\", num_nodes=2, cores=2) # run on Hadoop YARN cluster"
      ],
      "execution_count": null,
      "outputs": [
        {
          "output_type": "stream",
          "text": [
            "Initializing orca context\n",
            "Current pyspark location is : /usr/local/lib/python3.7/dist-packages/pyspark/__init__.py\n",
            "Start to getOrCreate SparkContext\n",
            "pyspark_submit_args is:  --driver-class-path /usr/local/lib/python3.7/dist-packages/zoo/share/lib/analytics-zoo-bigdl_0.12.2-spark_2.4.3-0.11.0-SNAPSHOT-jar-with-dependencies.jar:/usr/local/lib/python3.7/dist-packages/bigdl/share/lib/bigdl-0.12.2-jar-with-dependencies.jar pyspark-shell \n",
            "2021-06-29 07:23:28 WARN  NativeCodeLoader:62 - Unable to load native-hadoop library for your platform... using builtin-java classes where applicable\n"
          ],
          "name": "stdout"
        },
        {
          "output_type": "stream",
          "text": [
            "SLF4J: Class path contains multiple SLF4J bindings.\n",
            "SLF4J: Found binding in [jar:file:/usr/local/lib/python3.7/dist-packages/zoo/share/lib/analytics-zoo-bigdl_0.12.2-spark_2.4.3-0.11.0-SNAPSHOT-jar-with-dependencies.jar!/org/slf4j/impl/StaticLoggerBinder.class]\n",
            "SLF4J: Found binding in [jar:file:/usr/local/lib/python3.7/dist-packages/pyspark/jars/slf4j-log4j12-1.7.16.jar!/org/slf4j/impl/StaticLoggerBinder.class]\n",
            "SLF4J: See http://www.slf4j.org/codes.html#multiple_bindings for an explanation.\n",
            "SLF4J: Actual binding is of type [org.slf4j.impl.Log4jLoggerFactory]\n",
            "Setting default log level to \"WARN\".\n",
            "To adjust logging level use sc.setLogLevel(newLevel). For SparkR, use setLogLevel(newLevel).\n"
          ],
          "name": "stderr"
        },
        {
          "output_type": "stream",
          "text": [
            "cls.getname: com.intel.analytics.bigdl.python.api.Sample\n",
            "BigDLBasePickler registering: bigdl.util.common  Sample\n",
            "cls.getname: com.intel.analytics.bigdl.python.api.EvaluatedResult\n",
            "BigDLBasePickler registering: bigdl.util.common  EvaluatedResult\n",
            "cls.getname: com.intel.analytics.bigdl.python.api.JTensor\n",
            "BigDLBasePickler registering: bigdl.util.common  JTensor\n",
            "cls.getname: com.intel.analytics.bigdl.python.api.JActivity\n",
            "BigDLBasePickler registering: bigdl.util.common  JActivity\n",
            "Successfully got a SparkContext\n"
          ],
          "name": "stdout"
        },
        {
          "output_type": "stream",
          "text": [
            "\n",
            "User settings:\n",
            "\n",
            "   KMP_AFFINITY=granularity=fine,compact,1,0\n",
            "   KMP_BLOCKTIME=0\n",
            "   KMP_SETTINGS=1\n",
            "   OMP_NUM_THREADS=1\n",
            "\n",
            "Effective settings:\n",
            "\n",
            "   KMP_ABORT_DELAY=0\n",
            "   KMP_ADAPTIVE_LOCK_PROPS='1,1024'\n",
            "   KMP_ALIGN_ALLOC=64\n",
            "   KMP_ALL_THREADPRIVATE=128\n",
            "   KMP_ATOMIC_MODE=2\n",
            "   KMP_BLOCKTIME=0\n",
            "   KMP_CPUINFO_FILE: value is not defined\n",
            "   KMP_DETERMINISTIC_REDUCTION=false\n",
            "   KMP_DEVICE_THREAD_LIMIT=2147483647\n",
            "   KMP_DISP_HAND_THREAD=false\n",
            "   KMP_DISP_NUM_BUFFERS=7\n",
            "   KMP_DUPLICATE_LIB_OK=false\n",
            "   KMP_FORCE_REDUCTION: value is not defined\n",
            "   KMP_FOREIGN_THREADS_THREADPRIVATE=true\n",
            "   KMP_FORKJOIN_BARRIER='2,2'\n",
            "   KMP_FORKJOIN_BARRIER_PATTERN='hyper,hyper'\n",
            "   KMP_FORKJOIN_FRAMES=true\n",
            "   KMP_FORKJOIN_FRAMES_MODE=3\n",
            "   KMP_GTID_MODE=3\n",
            "   KMP_HANDLE_SIGNALS=false\n",
            "   KMP_HOT_TEAMS_MAX_LEVEL=1\n",
            "   KMP_HOT_TEAMS_MODE=0\n",
            "   KMP_INIT_AT_FORK=true\n",
            "   KMP_ITT_PREPARE_DELAY=0\n",
            "   KMP_LIBRARY=throughput\n",
            "   KMP_LOCK_KIND=queuing\n",
            "   KMP_MALLOC_POOL_INCR=1M\n",
            "   KMP_MWAIT_HINTS=0\n",
            "   KMP_NUM_LOCKS_IN_BLOCK=1\n",
            "   KMP_PLAIN_BARRIER='2,2'\n",
            "   KMP_PLAIN_BARRIER_PATTERN='hyper,hyper'\n",
            "   KMP_REDUCTION_BARRIER='1,1'\n",
            "   KMP_REDUCTION_BARRIER_PATTERN='hyper,hyper'\n",
            "   KMP_SCHEDULE='static,balanced;guided,iterative'\n",
            "   KMP_SETTINGS=true\n",
            "   KMP_SPIN_BACKOFF_PARAMS='4096,100'\n",
            "   KMP_STACKOFFSET=64\n",
            "   KMP_STACKPAD=0\n",
            "   KMP_STACKSIZE=8M\n",
            "   KMP_STORAGE_MAP=false\n",
            "   KMP_TASKING=2\n",
            "   KMP_TASKLOOP_MIN_TASKS=0\n",
            "   KMP_TASK_STEALING_CONSTRAINT=1\n",
            "   KMP_TEAMS_THREAD_LIMIT=2\n",
            "   KMP_TOPOLOGY_METHOD=all\n",
            "   KMP_USER_LEVEL_MWAIT=false\n",
            "   KMP_USE_YIELD=1\n",
            "   KMP_VERSION=false\n",
            "   KMP_WARNINGS=true\n",
            "   OMP_AFFINITY_FORMAT='OMP: pid %P tid %i thread %n bound to OS proc set {%A}'\n",
            "   OMP_ALLOCATOR=omp_default_mem_alloc\n",
            "   OMP_CANCELLATION=false\n",
            "   OMP_DEBUG=disabled\n",
            "   OMP_DEFAULT_DEVICE=0\n",
            "   OMP_DISPLAY_AFFINITY=false\n",
            "   OMP_DISPLAY_ENV=false\n",
            "   OMP_DYNAMIC=false\n",
            "   OMP_MAX_ACTIVE_LEVELS=2147483647\n",
            "   OMP_MAX_TASK_PRIORITY=0\n",
            "   OMP_NESTED=false\n",
            "   OMP_NUM_THREADS='1'\n",
            "   OMP_PLACES: value is not defined\n",
            "   OMP_PROC_BIND='intel'\n",
            "   OMP_SCHEDULE='static'\n",
            "   OMP_STACKSIZE=8M\n",
            "   OMP_TARGET_OFFLOAD=DEFAULT\n",
            "   OMP_THREAD_LIMIT=2147483647\n",
            "   OMP_TOOL=enabled\n",
            "   OMP_TOOL_LIBRARIES: value is not defined\n",
            "   OMP_WAIT_POLICY=PASSIVE\n",
            "   KMP_AFFINITY='noverbose,warnings,respect,granularity=fine,compact,1,0'\n",
            "\n"
          ],
          "name": "stderr"
        }
      ]
    },
    {
      "cell_type": "markdown",
      "metadata": {
        "id": "9VyfhD6HVQpm"
      },
      "source": [
        "This is the only place where you need to specify local or distributed mode. View [Orca Context](https://analytics-zoo.readthedocs.io/en/latest/doc/Orca/Overview/orca-context.html) for more details.\n",
        "\n",
        "**Note**: You should export HADOOP_CONF_DIR=/path/to/hadoop/conf/dir when you run on Hadoop YARN cluster."
      ]
    },
    {
      "cell_type": "markdown",
      "metadata": {
        "id": "ld-pV8e-Vb7D"
      },
      "source": [
        "### **Step 2: Define the Model**\n",
        "\n",
        "You can then define the Keras model in the *Creator Function* using the standard TensroFlow 2 APIs."
      ]
    },
    {
      "cell_type": "code",
      "metadata": {
        "id": "DC1P7_gP9FKm"
      },
      "source": [
        "def model_creator(config):\n",
        "    import tensorflow as tf\n",
        "    model = tf.keras.Sequential(\n",
        "        [\n",
        "         tf.keras.layers.Lambda(lambda x: x/255.0),\n",
        "         tf.keras.layers.Reshape( (28, 28, 1), input_shape=(784,) ),\n",
        "         tf.keras.layers.Conv2D(20, kernel_size=(5, 5), strides=(1, 1), activation='tanh',\n",
        "                                input_shape=(28, 28, 1), padding='valid'),\n",
        "         tf.keras.layers.MaxPooling2D(pool_size=(2, 2), strides=(2, 2), padding='valid'),\n",
        "         tf.keras.layers.Conv2D(50, kernel_size=(5, 5), strides=(1, 1), activation='tanh',\n",
        "                                padding='valid'),\n",
        "         tf.keras.layers.MaxPooling2D(pool_size=(2, 2), strides=(2, 2), padding='valid'),\n",
        "         tf.keras.layers.Flatten(),\n",
        "         tf.keras.layers.Dense(500, activation='tanh'),\n",
        "         tf.keras.layers.Dense(10, activation='softmax'),\n",
        "         ]\n",
        "    )\n",
        "\n",
        "    model.compile(optimizer=tf.keras.optimizers.RMSprop(),\n",
        "                  loss='sparse_categorical_crossentropy',\n",
        "                  metrics=['accuracy'])\n",
        "    return model"
      ],
      "execution_count": null,
      "outputs": []
    },
    {
      "cell_type": "markdown",
      "metadata": {
        "id": "CiTnHATGYn_f"
      },
      "source": [
        "### **Step 3: Define Train Dataset**\n",
        "\n",
        "You can define the dataset in the _Creator Function_ using standard [tf.data.Dataset](https://www.tensorflow.org/api_docs/python/tf/data/Dataset) APIs. "
      ]
    },
    {
      "cell_type": "code",
      "metadata": {
        "id": "-YHW93myYykE"
      },
      "source": [
        "def preprocess(x, y):\n",
        "    import tensorflow as tf\n",
        "    x = tf.cast(tf.reshape(x, (28, 28, 1)), dtype=tf.float32) / 255.0\n",
        "    return x, y\n",
        "\n",
        "def train_data_creator(config, batch_size):\n",
        "    import tensorflow as tf\n",
        "    (train_feature, train_label), _ = tf.keras.datasets.mnist.load_data()\n",
        "\n",
        "    dataset = tf.data.Dataset.from_tensor_slices((train_feature, train_label))\n",
        "    dataset = dataset.repeat()\n",
        "    dataset = dataset.map(preprocess)\n",
        "    dataset = dataset.shuffle(1000)\n",
        "    dataset = dataset.batch(batch_size)\n",
        "    return dataset\n",
        "\n",
        "def val_data_creator(config, batch_size):\n",
        "    import tensorflow as tf\n",
        "    _, (val_feature, val_label) = tf.keras.datasets.mnist.load_data()\n",
        "\n",
        "    dataset = tf.data.Dataset.from_tensor_slices((val_feature, val_label))\n",
        "    dataset = dataset.repeat()\n",
        "    dataset = dataset.map(preprocess)\n",
        "    dataset = dataset.batch(batch_size)\n",
        "    return dataset"
      ],
      "execution_count": null,
      "outputs": []
    },
    {
      "cell_type": "markdown",
      "metadata": {
        "id": "CnbOmWHsXOmg"
      },
      "source": [
        "### **Step 4: Fit with Orca Estimator**\n",
        "\n",
        "First, create an Estimator.\n",
        "\n"
      ]
    },
    {
      "cell_type": "code",
      "metadata": {
        "id": "bsNbQROFXNgU",
        "colab": {
          "base_uri": "https://localhost:8080/"
        },
        "outputId": "a1a6f3e0-d3f7-4e28-d0bc-b0c8860b5e93"
      },
      "source": [
        "from zoo.orca.learn.tf2 import Estimator\n",
        "\n",
        "batch_size = 320\n",
        "est = Estimator.from_keras(model_creator=model_creator, workers_per_node=1)"
      ],
      "execution_count": null,
      "outputs": [
        {
          "output_type": "stream",
          "text": [
            "2021-06-29 07:25:28,342\tINFO services.py:1174 -- View the Ray dashboard at \u001b[1m\u001b[32mhttp://172.28.0.2:8265\u001b[39m\u001b[22m\n"
          ],
          "name": "stderr"
        },
        {
          "output_type": "stream",
          "text": [
            "{'node_ip_address': '172.28.0.2', 'raylet_ip_address': '172.28.0.2', 'redis_address': '172.28.0.2:6379', 'object_store_address': '/tmp/ray/session_2021-06-29_07-25-27_778747_2001/sockets/plasma_store', 'raylet_socket_name': '/tmp/ray/session_2021-06-29_07-25-27_778747_2001/sockets/raylet', 'webui_url': '172.28.0.2:8265', 'session_dir': '/tmp/ray/session_2021-06-29_07-25-27_778747_2001', 'metrics_export_port': 58322, 'node_id': '0badba63b86dae875115247fedfbf5fe4f7cbf3aed41fc27da199e1a'}\n",
            "\u001b[2m\u001b[36m(pid=2340)\u001b[0m Prepending /usr/local/lib/python3.7/dist-packages/bigdl/share/conf/spark-bigdl.conf to sys.path\n",
            "\u001b[2m\u001b[36m(pid=2340)\u001b[0m Prepending /usr/local/lib/python3.7/dist-packages/zoo/share/conf/spark-analytics-zoo.conf to sys.path\n"
          ],
          "name": "stdout"
        },
        {
          "output_type": "stream",
          "text": [
            "\u001b[2m\u001b[36m(pid=2340)\u001b[0m 2021-06-29 07:25:32.102805: I tensorflow/stream_executor/platform/default/dso_loader.cc:53] Successfully opened dynamic library libcudart.so.11.0\n",
            "\u001b[2m\u001b[36m(pid=2340)\u001b[0m WARNING:tensorflow:From /usr/local/lib/python3.7/dist-packages/zoo/orca/learn/tf2/tf_runner.py:314: _CollectiveAllReduceStrategyExperimental.__init__ (from tensorflow.python.distribute.collective_all_reduce_strategy) is deprecated and will be removed in a future version.\n",
            "\u001b[2m\u001b[36m(pid=2340)\u001b[0m Instructions for updating:\n",
            "\u001b[2m\u001b[36m(pid=2340)\u001b[0m use distribute.MultiWorkerMirroredStrategy instead\n",
            "\u001b[2m\u001b[36m(pid=2340)\u001b[0m 2021-06-29 07:25:33.502271: I tensorflow/stream_executor/platform/default/dso_loader.cc:53] Successfully opened dynamic library libcuda.so.1\n",
            "\u001b[2m\u001b[36m(pid=2340)\u001b[0m 2021-06-29 07:25:33.513214: E tensorflow/stream_executor/cuda/cuda_driver.cc:328] failed call to cuInit: CUDA_ERROR_NO_DEVICE: no CUDA-capable device is detected\n",
            "\u001b[2m\u001b[36m(pid=2340)\u001b[0m 2021-06-29 07:25:33.513259: I tensorflow/stream_executor/cuda/cuda_diagnostics.cc:156] kernel driver does not appear to be running on this host (c2686509198a): /proc/driver/nvidia/version does not exist\n",
            "\u001b[2m\u001b[36m(pid=2340)\u001b[0m 2021-06-29 07:25:33.513997: I tensorflow/core/platform/cpu_feature_guard.cc:142] This TensorFlow binary is optimized with oneAPI Deep Neural Network Library (oneDNN) to use the following CPU instructions in performance-critical operations:  AVX512F\n",
            "\u001b[2m\u001b[36m(pid=2340)\u001b[0m To enable them in other operations, rebuild TensorFlow with the appropriate compiler flags.\n",
            "\u001b[2m\u001b[36m(pid=2340)\u001b[0m 2021-06-29 07:25:33.519098: I tensorflow/core/distributed_runtime/rpc/grpc_channel.cc:301] Initialize GrpcChannelCache for job worker -> {0 -> 172.28.0.2:54677}\n",
            "\u001b[2m\u001b[36m(pid=2340)\u001b[0m 2021-06-29 07:25:33.519424: I tensorflow/core/distributed_runtime/rpc/grpc_server_lib.cc:411] Started server with target: grpc://172.28.0.2:54677\n"
          ],
          "name": "stderr"
        }
      ]
    },
    {
      "cell_type": "markdown",
      "metadata": {
        "id": "7bNtls5WXnzU"
      },
      "source": [
        "Next, fit the Estimator."
      ]
    },
    {
      "cell_type": "code",
      "metadata": {
        "id": "imhbbDNXXsXR"
      },
      "source": [
        "max_epoch=1\n",
        "stats = est.fit(train_data_creator,\n",
        "                epochs=max_epoch,\n",
        "                batch_size=batch_size,\n",
        "                steps_per_epoch=60000 // batch_size,\n",
        "                validation_data=val_data_creator,\n",
        "                validation_steps=10000 // batch_size)\n",
        "est.save(\"/tmp/mnist_keras.ckpt\")"
      ],
      "execution_count": null,
      "outputs": []
    },
    {
      "cell_type": "markdown",
      "metadata": {
        "id": "vRdASNtRAbiN"
      },
      "source": [
        "Finally, evaluate using the Estimator."
      ]
    },
    {
      "cell_type": "code",
      "metadata": {
        "id": "GDNoiHiquX0A"
      },
      "source": [
        "stats = est.evaluate(val_data_creator, num_steps=10000 // batch_size)\n",
        "est.shutdown()\n",
        "print(stats)"
      ],
      "execution_count": null,
      "outputs": []
    },
    {
      "cell_type": "markdown",
      "metadata": {
        "id": "yyRtP6lqieej"
      },
      "source": [
        "Now, the accuracy of this model has reached 98%."
      ]
    },
    {
      "cell_type": "code",
      "metadata": {
        "id": "BtURO-Bfd9av"
      },
      "source": [
        "spark = OrcaContext.get_spark_session()\n"
      ],
      "execution_count": null,
      "outputs": []
    },
    {
      "cell_type": "code",
      "metadata": {
        "id": "OxvtjT0Cd9o3",
        "colab": {
          "base_uri": "https://localhost:8080/"
        },
        "outputId": "d9fc5acb-b720-48db-fc4a-a529995aed93"
      },
      "source": [
        "! wget https://www.csie.ntu.edu.tw/~cjlin/libsvmtools/datasets/multiclass/mnist.bz2 && bzip2 -d mnist.bz2\n",
        "! wget https://www.csie.ntu.edu.tw/~cjlin/libsvmtools/datasets/multiclass/mnist.t.bz2 && bzip2 -d mnist.t.bz2"
      ],
      "execution_count": null,
      "outputs": [
        {
          "output_type": "stream",
          "text": [
            "--2021-06-29 07:24:01--  https://www.csie.ntu.edu.tw/~cjlin/libsvmtools/datasets/multiclass/mnist.bz2\n",
            "Resolving www.csie.ntu.edu.tw (www.csie.ntu.edu.tw)... 140.112.30.26\n",
            "Connecting to www.csie.ntu.edu.tw (www.csie.ntu.edu.tw)|140.112.30.26|:443... connected.\n",
            "HTTP request sent, awaiting response... 200 OK\n",
            "Length: 15179306 (14M) [application/x-bzip2]\n",
            "Saving to: ‘mnist.bz2’\n",
            "\n",
            "mnist.bz2           100%[===================>]  14.48M  9.04MB/s    in 1.6s    \n",
            "\n",
            "2021-06-29 07:24:04 (9.04 MB/s) - ‘mnist.bz2’ saved [15179306/15179306]\n",
            "\n",
            "bzip2: Output file mnist already exists.\n",
            "--2021-06-29 07:24:04--  https://www.csie.ntu.edu.tw/~cjlin/libsvmtools/datasets/multiclass/mnist.t.bz2\n",
            "Resolving www.csie.ntu.edu.tw (www.csie.ntu.edu.tw)... 140.112.30.26\n",
            "Connecting to www.csie.ntu.edu.tw (www.csie.ntu.edu.tw)|140.112.30.26|:443... connected.\n",
            "HTTP request sent, awaiting response... 200 OK\n",
            "Length: 2508388 (2.4M) [application/x-bzip2]\n",
            "Saving to: ‘mnist.t.bz2’\n",
            "\n",
            "mnist.t.bz2         100%[===================>]   2.39M  2.46MB/s    in 1.0s    \n",
            "\n",
            "2021-06-29 07:24:06 (2.46 MB/s) - ‘mnist.t.bz2’ saved [2508388/2508388]\n",
            "\n",
            "bzip2: Output file mnist.t already exists.\n"
          ],
          "name": "stdout"
        }
      ]
    },
    {
      "cell_type": "code",
      "metadata": {
        "id": "Wrq7aIG5lUjW"
      },
      "source": [
        "import pyspark.sql.functions as F\n",
        "sdf_train, sdf_test  = (\n",
        "    spark.read.format(\"libsvm\")\n",
        "    .option(\"numFeatures\", \"784\")\n",
        "    .option('vectorType', 'dense')\n",
        "    .load(p)\n",
        "    for p in ('./mnist', './mnist.t')\n",
        ")"
      ],
      "execution_count": null,
      "outputs": []
    },
    {
      "cell_type": "code",
      "metadata": {
        "id": "QtoFmZUhlmjv",
        "colab": {
          "base_uri": "https://localhost:8080/"
        },
        "outputId": "c455ffeb-9e70-46f4-ce83-b74697498401"
      },
      "source": [
        "sdf_train.count(), sdf_test.count()"
      ],
      "execution_count": null,
      "outputs": [
        {
          "output_type": "stream",
          "text": [
            ""
          ],
          "name": "stderr"
        },
        {
          "output_type": "execute_result",
          "data": {
            "text/plain": [
              "(60000, 10000)"
            ]
          },
          "metadata": {
            "tags": []
          },
          "execution_count": 11
        }
      ]
    },
    {
      "cell_type": "code",
      "metadata": {
        "id": "DWMGYkE3nia3",
        "colab": {
          "base_uri": "https://localhost:8080/"
        },
        "outputId": "7adf314f-9805-4cac-8c71-163bcce5ecd2"
      },
      "source": [
        "sdf_test.printSchema()"
      ],
      "execution_count": null,
      "outputs": [
        {
          "output_type": "stream",
          "text": [
            "root\n",
            " |-- label: double (nullable = true)\n",
            " |-- features: vector (nullable = true)\n",
            "\n"
          ],
          "name": "stdout"
        }
      ]
    },
    {
      "cell_type": "code",
      "metadata": {
        "id": "DNGfSzPsoPiE",
        "colab": {
          "base_uri": "https://localhost:8080/"
        },
        "outputId": "0cea7b83-c609-4729-feb1-e33bfc046fb6"
      },
      "source": [
        "x = sdf_test.select(\"features\").limit(1).toPandas()\n",
        "x['features']"
      ],
      "execution_count": null,
      "outputs": [
        {
          "output_type": "execute_result",
          "data": {
            "text/plain": [
              "0    [0.0, 0.0, 0.0, 0.0, 0.0, 0.0, 0.0, 0.0, 0.0, ...\n",
              "Name: features, dtype: object"
            ]
          },
          "metadata": {
            "tags": []
          },
          "execution_count": 18
        }
      ]
    },
    {
      "cell_type": "code",
      "metadata": {
        "id": "yB9wXj_ml-Wb",
        "colab": {
          "base_uri": "https://localhost:8080/"
        },
        "outputId": "902fd013-bbcb-4e79-ac1d-31c496bdb3c3"
      },
      "source": [
        "\n",
        "max_epoch=1\n",
        "stats = est.fit(\n",
        "    sdf_train,\n",
        "    epochs=max_epoch,\n",
        "    batch_size=batch_size,\n",
        "    feature_cols=['features'],\n",
        "    label_cols=['label'],\n",
        "    steps_per_epoch=60000 // batch_size,\n",
        "    validation_data=sdf_test,\n",
        "    validation_steps=10000 // batch_size\n",
        ")\n"
      ],
      "execution_count": null,
      "outputs": [
        {
          "output_type": "stream",
          "text": [
            "\r[Stage 8:>                                                          (0 + 4) / 4]Prepending /usr/local/lib/python3.7/dist-packages/bigdl/share/conf/spark-bigdl.conf to sys.path\n",
            "Prepending /usr/local/lib/python3.7/dist-packages/bigdl/share/conf/spark-bigdl.conf to sys.path\n",
            "Prepending /usr/local/lib/python3.7/dist-packages/bigdl/share/conf/spark-bigdl.conf to sys.path\n",
            "Prepending /usr/local/lib/python3.7/dist-packages/bigdl/share/conf/spark-bigdl.conf to sys.path\n",
            "Prepending /usr/local/lib/python3.7/dist-packages/zoo/share/conf/spark-analytics-zoo.conf to sys.path\n",
            "Prepending /usr/local/lib/python3.7/dist-packages/zoo/share/conf/spark-analytics-zoo.conf to sys.path\n",
            "Prepending /usr/local/lib/python3.7/dist-packages/zoo/share/conf/spark-analytics-zoo.conf to sys.path\n",
            "Prepending /usr/local/lib/python3.7/dist-packages/zoo/share/conf/spark-analytics-zoo.conf to sys.path\n"
          ],
          "name": "stderr"
        },
        {
          "output_type": "stream",
          "text": [
            "\u001b[2m\u001b[36m(pid=2341)\u001b[0m Prepending /usr/local/lib/python3.7/dist-packages/bigdl/share/conf/spark-bigdl.conf to sys.path\n",
            "\u001b[2m\u001b[36m(pid=2341)\u001b[0m Prepending /usr/local/lib/python3.7/dist-packages/zoo/share/conf/spark-analytics-zoo.conf to sys.path\n"
          ],
          "name": "stdout"
        },
        {
          "output_type": "stream",
          "text": [
            "2021-06-29 07:26:14,510\tINFO worker.py:655 -- Connecting to existing Ray cluster at address: 172.28.0.2:6379\n",
            "Prepending /usr/local/lib/python3.7/dist-packages/bigdl/share/conf/spark-bigdl.conf to sys.path\n",
            "Prepending /usr/local/lib/python3.7/dist-packages/zoo/share/conf/spark-analytics-zoo.conf to sys.path\n"
          ],
          "name": "stderr"
        },
        {
          "output_type": "stream",
          "text": [
            "\u001b[2m\u001b[36m(pid=2699)\u001b[0m Prepending /usr/local/lib/python3.7/dist-packages/bigdl/share/conf/spark-bigdl.conf to sys.path\n",
            "\u001b[2m\u001b[36m(pid=2699)\u001b[0m Prepending /usr/local/lib/python3.7/dist-packages/zoo/share/conf/spark-analytics-zoo.conf to sys.path\n"
          ],
          "name": "stdout"
        },
        {
          "output_type": "stream",
          "text": [
            "2021-06-29 07:26:16,936\tINFO worker.py:655 -- Connecting to existing Ray cluster at address: 172.28.0.2:6379\n",
            "\u001b[2m\u001b[36m(pid=2340)\u001b[0m WARNING:tensorflow:From /usr/local/lib/python3.7/dist-packages/zoo/orca/learn/tf2/tf_runner.py:191: StrategyBase.experimental_distribute_datasets_from_function (from tensorflow.python.distribute.distribute_lib) is deprecated and will be removed in a future version.\n",
            "\u001b[2m\u001b[36m(pid=2340)\u001b[0m Instructions for updating:\n",
            "\u001b[2m\u001b[36m(pid=2340)\u001b[0m rename to distribute_datasets_from_function\n",
            "\u001b[2m\u001b[36m(pid=2340)\u001b[0m 2021-06-29 07:26:18.226922: I tensorflow/compiler/mlir/mlir_graph_optimization_pass.cc:176] None of the MLIR Optimization Passes are enabled (registered 2)\n",
            "\u001b[2m\u001b[36m(pid=2340)\u001b[0m 2021-06-29 07:26:18.227681: I tensorflow/core/platform/profile_utils/cpu_utils.cc:114] CPU Frequency: 1999995000 Hz\n"
          ],
          "name": "stderr"
        },
        {
          "output_type": "stream",
          "text": [
            "  1/187 [..............................] - ETA: 10:12 - loss: 2.3383 - accuracy: 0.0938\n",
            "  2/187 [..............................] - ETA: 41s - loss: 2.3753 - accuracy: 0.1266  \n",
            "  3/187 [..............................] - ETA: 45s - loss: 2.1472 - accuracy: 0.2875\n",
            "  4/187 [..............................] - ETA: 44s - loss: 1.9378 - accuracy: 0.3945\n",
            "  5/187 [..............................] - ETA: 42s - loss: 1.7510 - accuracy: 0.4638\n",
            "  6/187 [..............................] - ETA: 42s - loss: 1.6170 - accuracy: 0.5089\n",
            "  7/187 [>.............................] - ETA: 42s - loss: 1.5085 - accuracy: 0.5442\n",
            "  8/187 [>.............................] - ETA: 41s - loss: 1.4103 - accuracy: 0.5754\n",
            "  9/187 [>.............................] - ETA: 41s - loss: 1.3416 - accuracy: 0.5927\n",
            " 10/187 [>.............................] - ETA: 40s - loss: 1.2800 - accuracy: 0.6078\n",
            " 11/187 [>.............................] - ETA: 40s - loss: 1.2183 - accuracy: 0.6247\n",
            " 12/187 [>.............................] - ETA: 40s - loss: 1.1595 - accuracy: 0.6451\n",
            " 13/187 [=>............................] - ETA: 40s - loss: 1.1021 - accuracy: 0.6644\n",
            " 14/187 [=>............................] - ETA: 39s - loss: 1.0583 - accuracy: 0.6790\n",
            " 15/187 [=>............................] - ETA: 39s - loss: 1.0180 - accuracy: 0.6925\n",
            " 16/187 [=>............................] - ETA: 39s - loss: 0.9876 - accuracy: 0.7012\n",
            " 17/187 [=>............................] - ETA: 39s - loss: 0.9625 - accuracy: 0.7081\n",
            " 18/187 [=>............................] - ETA: 38s - loss: 0.9299 - accuracy: 0.7179\n",
            " 19/187 [==>...........................] - ETA: 38s - loss: 0.9012 - accuracy: 0.7278\n",
            " 20/187 [==>...........................] - ETA: 38s - loss: 0.8773 - accuracy: 0.7353\n",
            " 21/187 [==>...........................] - ETA: 38s - loss: 0.8500 - accuracy: 0.7435\n",
            " 22/187 [==>...........................] - ETA: 37s - loss: 0.8291 - accuracy: 0.7510\n",
            " 23/187 [==>...........................] - ETA: 37s - loss: 0.8070 - accuracy: 0.7580\n",
            " 24/187 [==>...........................] - ETA: 37s - loss: 0.7859 - accuracy: 0.7650\n",
            " 25/187 [===>..........................] - ETA: 37s - loss: 0.7667 - accuracy: 0.7707\n",
            " 26/187 [===>..........................] - ETA: 37s - loss: 0.7484 - accuracy: 0.7764\n",
            " 27/187 [===>..........................] - ETA: 36s - loss: 0.7315 - accuracy: 0.7818\n",
            " 28/187 [===>..........................] - ETA: 36s - loss: 0.7180 - accuracy: 0.7856\n",
            " 29/187 [===>..........................] - ETA: 36s - loss: 0.7060 - accuracy: 0.7888\n",
            " 30/187 [===>..........................] - ETA: 36s - loss: 0.6935 - accuracy: 0.7919\n",
            " 31/187 [===>..........................] - ETA: 35s - loss: 0.6796 - accuracy: 0.7961\n",
            " 32/187 [====>.........................] - ETA: 35s - loss: 0.6683 - accuracy: 0.8003\n",
            " 33/187 [====>.........................] - ETA: 35s - loss: 0.6579 - accuracy: 0.8029\n",
            " 34/187 [====>.........................] - ETA: 35s - loss: 0.6488 - accuracy: 0.8061\n",
            " 35/187 [====>.........................] - ETA: 34s - loss: 0.6375 - accuracy: 0.8094\n",
            " 36/187 [====>.........................] - ETA: 34s - loss: 0.6299 - accuracy: 0.8113\n",
            " 37/187 [====>.........................] - ETA: 34s - loss: 0.6214 - accuracy: 0.8143\n",
            " 38/187 [=====>........................] - ETA: 34s - loss: 0.6145 - accuracy: 0.8163\n",
            " 39/187 [=====>........................] - ETA: 34s - loss: 0.6069 - accuracy: 0.8187\n",
            " 40/187 [=====>........................] - ETA: 33s - loss: 0.5999 - accuracy: 0.8204\n",
            " 41/187 [=====>........................] - ETA: 33s - loss: 0.5920 - accuracy: 0.8228\n",
            " 42/187 [=====>........................] - ETA: 33s - loss: 0.5847 - accuracy: 0.8249\n",
            " 43/187 [=====>........................] - ETA: 33s - loss: 0.5761 - accuracy: 0.8278\n",
            " 44/187 [======>.......................] - ETA: 32s - loss: 0.5697 - accuracy: 0.8294\n",
            " 45/187 [======>.......................] - ETA: 32s - loss: 0.5621 - accuracy: 0.8318\n",
            " 46/187 [======>.......................] - ETA: 32s - loss: 0.5541 - accuracy: 0.8343\n",
            " 47/187 [======>.......................] - ETA: 32s - loss: 0.5477 - accuracy: 0.8362\n",
            " 48/187 [======>.......................] - ETA: 32s - loss: 0.5418 - accuracy: 0.8381\n",
            " 49/187 [======>.......................] - ETA: 31s - loss: 0.5356 - accuracy: 0.8398\n",
            " 50/187 [=======>......................] - ETA: 31s - loss: 0.5289 - accuracy: 0.8420\n",
            " 51/187 [=======>......................] - ETA: 31s - loss: 0.5235 - accuracy: 0.8433\n",
            " 52/187 [=======>......................] - ETA: 31s - loss: 0.5187 - accuracy: 0.8449\n",
            " 53/187 [=======>......................] - ETA: 30s - loss: 0.5134 - accuracy: 0.8466\n",
            " 54/187 [=======>......................] - ETA: 30s - loss: 0.5081 - accuracy: 0.8483\n",
            " 55/187 [=======>......................] - ETA: 30s - loss: 0.5032 - accuracy: 0.8497\n",
            " 56/187 [=======>......................] - ETA: 30s - loss: 0.4981 - accuracy: 0.8513\n",
            " 57/187 [========>.....................] - ETA: 29s - loss: 0.4935 - accuracy: 0.8526\n",
            " 58/187 [========>.....................] - ETA: 29s - loss: 0.4877 - accuracy: 0.8544\n",
            " 59/187 [========>.....................] - ETA: 29s - loss: 0.4816 - accuracy: 0.8563\n",
            " 60/187 [========>.....................] - ETA: 29s - loss: 0.4765 - accuracy: 0.8579\n",
            " 61/187 [========>.....................] - ETA: 29s - loss: 0.4730 - accuracy: 0.8590\n",
            " 62/187 [========>.....................] - ETA: 28s - loss: 0.4676 - accuracy: 0.8606\n",
            " 63/187 [=========>....................] - ETA: 28s - loss: 0.4624 - accuracy: 0.8622\n",
            " 64/187 [=========>....................] - ETA: 28s - loss: 0.4574 - accuracy: 0.8638\n",
            " 65/187 [=========>....................] - ETA: 28s - loss: 0.4525 - accuracy: 0.8654\n",
            " 66/187 [=========>....................] - ETA: 27s - loss: 0.4472 - accuracy: 0.8670\n",
            " 67/187 [=========>....................] - ETA: 27s - loss: 0.4438 - accuracy: 0.8679\n",
            " 68/187 [=========>....................] - ETA: 27s - loss: 0.4409 - accuracy: 0.8686\n",
            " 69/187 [==========>...................] - ETA: 27s - loss: 0.4365 - accuracy: 0.8698\n",
            " 70/187 [==========>...................] - ETA: 27s - loss: 0.4325 - accuracy: 0.8712\n",
            " 71/187 [==========>...................] - ETA: 26s - loss: 0.4289 - accuracy: 0.8723\n",
            " 72/187 [==========>...................] - ETA: 26s - loss: 0.4251 - accuracy: 0.8733\n",
            " 73/187 [==========>...................] - ETA: 26s - loss: 0.4221 - accuracy: 0.8742\n",
            " 74/187 [==========>...................] - ETA: 26s - loss: 0.4190 - accuracy: 0.8751\n",
            " 75/187 [===========>..................] - ETA: 25s - loss: 0.4157 - accuracy: 0.8763\n",
            " 76/187 [===========>..................] - ETA: 25s - loss: 0.4131 - accuracy: 0.8771\n",
            " 77/187 [===========>..................] - ETA: 25s - loss: 0.4108 - accuracy: 0.8778\n",
            " 78/187 [===========>..................] - ETA: 25s - loss: 0.4086 - accuracy: 0.8786\n",
            " 79/187 [===========>..................] - ETA: 24s - loss: 0.4055 - accuracy: 0.8795\n",
            " 80/187 [===========>..................] - ETA: 24s - loss: 0.4025 - accuracy: 0.8803\n",
            " 81/187 [===========>..................] - ETA: 24s - loss: 0.3994 - accuracy: 0.8813\n",
            " 82/187 [============>.................] - ETA: 24s - loss: 0.3963 - accuracy: 0.8820\n",
            " 83/187 [============>.................] - ETA: 24s - loss: 0.3937 - accuracy: 0.8828\n",
            " 84/187 [============>.................] - ETA: 23s - loss: 0.3913 - accuracy: 0.8836\n",
            " 85/187 [============>.................] - ETA: 23s - loss: 0.3882 - accuracy: 0.8844\n",
            " 86/187 [============>.................] - ETA: 23s - loss: 0.3852 - accuracy: 0.8855\n",
            " 87/187 [============>.................] - ETA: 23s - loss: 0.3825 - accuracy: 0.8865\n",
            " 88/187 [=============>................] - ETA: 22s - loss: 0.3800 - accuracy: 0.8870\n",
            " 89/187 [=============>................] - ETA: 22s - loss: 0.3773 - accuracy: 0.8878\n",
            " 90/187 [=============>................] - ETA: 22s - loss: 0.3754 - accuracy: 0.8883\n",
            " 91/187 [=============>................] - ETA: 22s - loss: 0.3727 - accuracy: 0.8891\n",
            " 92/187 [=============>................] - ETA: 21s - loss: 0.3706 - accuracy: 0.8898\n",
            " 93/187 [=============>................] - ETA: 21s - loss: 0.3681 - accuracy: 0.8906\n",
            " 94/187 [==============>...............] - ETA: 21s - loss: 0.3653 - accuracy: 0.8913\n",
            " 95/187 [==============>...............] - ETA: 21s - loss: 0.3629 - accuracy: 0.8920\n",
            " 96/187 [==============>...............] - ETA: 20s - loss: 0.3610 - accuracy: 0.8926\n",
            " 97/187 [==============>...............] - ETA: 20s - loss: 0.3585 - accuracy: 0.8934\n",
            " 98/187 [==============>...............] - ETA: 20s - loss: 0.3562 - accuracy: 0.8940\n",
            " 99/187 [==============>...............] - ETA: 20s - loss: 0.3541 - accuracy: 0.8945\n",
            "100/187 [===============>..............] - ETA: 20s - loss: 0.3532 - accuracy: 0.8948\n",
            "101/187 [===============>..............] - ETA: 19s - loss: 0.3514 - accuracy: 0.8952\n",
            "102/187 [===============>..............] - ETA: 19s - loss: 0.3489 - accuracy: 0.8959\n",
            "103/187 [===============>..............] - ETA: 19s - loss: 0.3468 - accuracy: 0.8964\n",
            "104/187 [===============>..............] - ETA: 19s - loss: 0.3447 - accuracy: 0.8971\n",
            "105/187 [===============>..............] - ETA: 18s - loss: 0.3428 - accuracy: 0.8976\n",
            "106/187 [================>.............] - ETA: 18s - loss: 0.3407 - accuracy: 0.8983\n",
            "107/187 [================>.............] - ETA: 18s - loss: 0.3386 - accuracy: 0.8990\n",
            "108/187 [================>.............] - ETA: 18s - loss: 0.3367 - accuracy: 0.8995\n",
            "109/187 [================>.............] - ETA: 17s - loss: 0.3351 - accuracy: 0.9001\n",
            "110/187 [================>.............] - ETA: 17s - loss: 0.3337 - accuracy: 0.9005\n",
            "111/187 [================>.............] - ETA: 17s - loss: 0.3317 - accuracy: 0.9012\n",
            "112/187 [================>.............] - ETA: 17s - loss: 0.3295 - accuracy: 0.9018\n",
            "113/187 [=================>............] - ETA: 17s - loss: 0.3279 - accuracy: 0.9022\n",
            "114/187 [=================>............] - ETA: 16s - loss: 0.3258 - accuracy: 0.9028\n",
            "115/187 [=================>............] - ETA: 16s - loss: 0.3236 - accuracy: 0.9034\n",
            "116/187 [=================>............] - ETA: 16s - loss: 0.3217 - accuracy: 0.9040\n",
            "117/187 [=================>............] - ETA: 16s - loss: 0.3203 - accuracy: 0.9044\n",
            "118/187 [=================>............] - ETA: 15s - loss: 0.3183 - accuracy: 0.9049\n",
            "119/187 [==================>...........] - ETA: 15s - loss: 0.3168 - accuracy: 0.9054\n",
            "120/187 [==================>...........] - ETA: 15s - loss: 0.3155 - accuracy: 0.9057\n",
            "121/187 [==================>...........] - ETA: 15s - loss: 0.3142 - accuracy: 0.9061\n",
            "122/187 [==================>...........] - ETA: 14s - loss: 0.3127 - accuracy: 0.9065\n",
            "123/187 [==================>...........] - ETA: 14s - loss: 0.3110 - accuracy: 0.9070\n",
            "124/187 [==================>...........] - ETA: 14s - loss: 0.3092 - accuracy: 0.9075\n",
            "125/187 [===================>..........] - ETA: 14s - loss: 0.3078 - accuracy: 0.9079\n",
            "126/187 [===================>..........] - ETA: 14s - loss: 0.3062 - accuracy: 0.9084\n",
            "127/187 [===================>..........] - ETA: 13s - loss: 0.3045 - accuracy: 0.9089\n",
            "128/187 [===================>..........] - ETA: 13s - loss: 0.3033 - accuracy: 0.9093\n",
            "129/187 [===================>..........] - ETA: 13s - loss: 0.3022 - accuracy: 0.9096\n",
            "130/187 [===================>..........] - ETA: 13s - loss: 0.3009 - accuracy: 0.9100\n",
            "131/187 [====================>.........] - ETA: 12s - loss: 0.2993 - accuracy: 0.9105\n",
            "132/187 [====================>.........] - ETA: 12s - loss: 0.2976 - accuracy: 0.9110\n",
            "133/187 [====================>.........] - ETA: 12s - loss: 0.2961 - accuracy: 0.9115\n",
            "134/187 [====================>.........] - ETA: 12s - loss: 0.2948 - accuracy: 0.9119\n",
            "135/187 [====================>.........] - ETA: 11s - loss: 0.2932 - accuracy: 0.9123\n",
            "136/187 [====================>.........] - ETA: 11s - loss: 0.2921 - accuracy: 0.9126\n",
            "137/187 [====================>.........] - ETA: 11s - loss: 0.2908 - accuracy: 0.9130\n",
            "138/187 [=====================>........] - ETA: 11s - loss: 0.2896 - accuracy: 0.9133\n",
            "139/187 [=====================>........] - ETA: 11s - loss: 0.2887 - accuracy: 0.9136\n",
            "140/187 [=====================>........] - ETA: 10s - loss: 0.2875 - accuracy: 0.9140\n",
            "141/187 [=====================>........] - ETA: 10s - loss: 0.2862 - accuracy: 0.9143\n",
            "142/187 [=====================>........] - ETA: 10s - loss: 0.2852 - accuracy: 0.9145\n",
            "143/187 [=====================>........] - ETA: 10s - loss: 0.2841 - accuracy: 0.9148\n",
            "144/187 [======================>.......] - ETA: 9s - loss: 0.2826 - accuracy: 0.9152 \n",
            "145/187 [======================>.......] - ETA: 9s - loss: 0.2814 - accuracy: 0.9155\n",
            "146/187 [======================>.......] - ETA: 9s - loss: 0.2802 - accuracy: 0.9158\n",
            "147/187 [======================>.......] - ETA: 9s - loss: 0.2788 - accuracy: 0.9163\n",
            "148/187 [======================>.......] - ETA: 8s - loss: 0.2775 - accuracy: 0.9166\n",
            "149/187 [======================>.......] - ETA: 8s - loss: 0.2763 - accuracy: 0.9170\n",
            "150/187 [=======================>......] - ETA: 8s - loss: 0.2753 - accuracy: 0.9172\n",
            "151/187 [=======================>......] - ETA: 8s - loss: 0.2745 - accuracy: 0.9175\n",
            "152/187 [=======================>......] - ETA: 8s - loss: 0.2736 - accuracy: 0.9176\n",
            "153/187 [=======================>......] - ETA: 7s - loss: 0.2726 - accuracy: 0.9178\n",
            "154/187 [=======================>......] - ETA: 7s - loss: 0.2714 - accuracy: 0.9182\n",
            "155/187 [=======================>......] - ETA: 7s - loss: 0.2705 - accuracy: 0.9184\n",
            "156/187 [========================>.....] - ETA: 7s - loss: 0.2696 - accuracy: 0.9187\n",
            "157/187 [========================>.....] - ETA: 6s - loss: 0.2683 - accuracy: 0.9190\n",
            "158/187 [========================>.....] - ETA: 6s - loss: 0.2673 - accuracy: 0.9193\n",
            "159/187 [========================>.....] - ETA: 6s - loss: 0.2668 - accuracy: 0.9195\n",
            "160/187 [========================>.....] - ETA: 6s - loss: 0.2659 - accuracy: 0.9197\n",
            "161/187 [========================>.....] - ETA: 5s - loss: 0.2649 - accuracy: 0.9200\n",
            "162/187 [========================>.....] - ETA: 5s - loss: 0.2641 - accuracy: 0.9203\n",
            "163/187 [=========================>....] - ETA: 5s - loss: 0.2630 - accuracy: 0.9206\n",
            "164/187 [=========================>....] - ETA: 5s - loss: 0.2619 - accuracy: 0.9209\n",
            "165/187 [=========================>....] - ETA: 5s - loss: 0.2610 - accuracy: 0.9212\n",
            "166/187 [=========================>....] - ETA: 4s - loss: 0.2597 - accuracy: 0.9216\n",
            "167/187 [=========================>....] - ETA: 4s - loss: 0.2585 - accuracy: 0.9219\n",
            "168/187 [=========================>....] - ETA: 4s - loss: 0.2576 - accuracy: 0.9222\n",
            "169/187 [==========================>...] - ETA: 4s - loss: 0.2568 - accuracy: 0.9224\n",
            "170/187 [==========================>...] - ETA: 3s - loss: 0.2556 - accuracy: 0.9228\n",
            "171/187 [==========================>...] - ETA: 3s - loss: 0.2543 - accuracy: 0.9232\n",
            "172/187 [==========================>...] - ETA: 3s - loss: 0.2531 - accuracy: 0.9235\n",
            "173/187 [==========================>...] - ETA: 3s - loss: 0.2521 - accuracy: 0.9237\n",
            "174/187 [==========================>...] - ETA: 2s - loss: 0.2509 - accuracy: 0.9241\n",
            "175/187 [===========================>..] - ETA: 2s - loss: 0.2498 - accuracy: 0.9244\n",
            "176/187 [===========================>..] - ETA: 2s - loss: 0.2486 - accuracy: 0.9248\n",
            "177/187 [===========================>..] - ETA: 2s - loss: 0.2474 - accuracy: 0.9251\n",
            "178/187 [===========================>..] - ETA: 2s - loss: 0.2464 - accuracy: 0.9254\n",
            "179/187 [===========================>..] - ETA: 1s - loss: 0.2454 - accuracy: 0.9257\n",
            "180/187 [===========================>..] - ETA: 1s - loss: 0.2449 - accuracy: 0.9259\n",
            "181/187 [============================>.] - ETA: 1s - loss: 0.2447 - accuracy: 0.9260\n",
            "182/187 [============================>.] - ETA: 1s - loss: 0.2436 - accuracy: 0.9263\n",
            "183/187 [============================>.] - ETA: 0s - loss: 0.2425 - accuracy: 0.9266\n",
            "184/187 [============================>.] - ETA: 0s - loss: 0.2417 - accuracy: 0.9269\n",
            "185/187 [============================>.] - ETA: 0s - loss: 0.2409 - accuracy: 0.9272\n",
            "186/187 [============================>.] - ETA: 0s - loss: 0.2401 - accuracy: 0.9274\n",
            "187/187 [==============================] - ETA: 0s - loss: 0.2391 - accuracy: 0.9277\n"
          ],
          "name": "stdout"
        }
      ]
    },
    {
      "cell_type": "code",
      "metadata": {
        "id": "50A9nUETqjrR",
        "colab": {
          "base_uri": "https://localhost:8080/"
        },
        "outputId": "0324db65-b15f-4e10-954d-e02b3ada968b"
      },
      "source": [
        "stats = est.evaluate(\n",
        "    sdf_test, \n",
        "    feature_cols=['features'],\n",
        "    label_cols=['label'], \n",
        "    num_steps=10000 // batch_size\n",
        ")\n",
        "est.shutdown()\n",
        "print(stats)"
      ],
      "execution_count": null,
      "outputs": [
        {
          "output_type": "stream",
          "text": [
            "Prepending /usr/local/lib/python3.7/dist-packages/bigdl/share/conf/spark-bigdl.conf to sys.path\n",
            "Prepending /usr/local/lib/python3.7/dist-packages/bigdl/share/conf/spark-bigdl.conf to sys.path\n",
            "Prepending /usr/local/lib/python3.7/dist-packages/bigdl/share/conf/spark-bigdl.conf to sys.path\n",
            "[Stage 24:>                                                         (0 + 3) / 3]Prepending /usr/local/lib/python3.7/dist-packages/zoo/share/conf/spark-analytics-zoo.conf to sys.path\n",
            "Prepending /usr/local/lib/python3.7/dist-packages/zoo/share/conf/spark-analytics-zoo.conf to sys.path\n",
            "Prepending /usr/local/lib/python3.7/dist-packages/zoo/share/conf/spark-analytics-zoo.conf to sys.path\n"
          ],
          "name": "stderr"
        },
        {
          "output_type": "stream",
          "text": [
            "\u001b[2m\u001b[36m(pid=2925)\u001b[0m Prepending /usr/local/lib/python3.7/dist-packages/bigdl/share/conf/spark-bigdl.conf to sys.path\n",
            "\u001b[2m\u001b[36m(pid=2925)\u001b[0m Prepending /usr/local/lib/python3.7/dist-packages/zoo/share/conf/spark-analytics-zoo.conf to sys.path\n"
          ],
          "name": "stdout"
        },
        {
          "output_type": "stream",
          "text": [
            "2021-06-29 07:28:04,131\tINFO worker.py:655 -- Connecting to existing Ray cluster at address: 172.28.0.2:6379\n"
          ],
          "name": "stderr"
        },
        {
          "output_type": "stream",
          "text": [
            "\u001b[2m\u001b[36m(pid=2340)\u001b[0m \r 1/31 [..............................] - ETA: 2s - loss: 0.0191 - accuracy: 1.0000\n",
            "\u001b[2m\u001b[36m(pid=2340)\u001b[0m \b\b\b\b\b\b\b\b\b\b\b\b\b\b\b\b\b\b\b\b\b\b\b\b\b\b\b\b\b\b\b\b\b\b\b\b\b\b\b\b\b\b\b\b\b\b\b\b\b\b\b\b\b\b\b\b\b\b\b\b\b\b\b\b\b\b\b\b\b\b\b\b\b\b\b\b\b\b\b\b\b\b\r 7/31 [=====>........................] - ETA: 0s - loss: 0.0416 - accuracy: 0.9911\n",
            "\u001b[2m\u001b[36m(pid=2340)\u001b[0m \b\b\b\b\b\b\b\b\b\b\b\b\b\b\b\b\b\b\b\b\b\b\b\b\b\b\b\b\b\b\b\b\b\b\b\b\b\b\b\b\b\b\b\b\b\b\b\b\b\b\b\b\b\b\b\b\b\b\b\b\b\b\b\b\b\b\b\b\b\b\b\b\b\b\b\b\b\b\b\b\b\b\r13/31 [===========>..................] - ETA: 0s - loss: 0.0632 - accuracy: 0.9784\n",
            "18/31 [================>.............] - ETA: 0s - loss: 0.0694 - accuracy: 0.9757\n",
            "24/31 [======================>.......] - ETA: 0s - loss: 0.0757 - accuracy: 0.9714\n",
            "31/31 [==============================] - 0s 10ms/step - loss: 0.0773 - accuracy: 0.9688\n",
            "[{'validation_loss': 0.07726726680994034, 'validation_accuracy': 0.96875}]\n"
          ],
          "name": "stdout"
        }
      ]
    },
    {
      "cell_type": "code",
      "metadata": {
        "id": "w24wf23DnDcm",
        "colab": {
          "base_uri": "https://localhost:8080/"
        },
        "outputId": "05c52abd-fffa-48ca-bedd-b844eee14ffe"
      },
      "source": [
        "! ls -la ./"
      ],
      "execution_count": null,
      "outputs": [
        {
          "output_type": "stream",
          "text": [
            "total 204104\n",
            "drwxr-xr-x 1 root root      4096 Jun 29 02:24 .\n",
            "drwxr-xr-x 1 root root      4096 Jun 29 01:46 ..\n",
            "-rw-r--r-- 1 root root      7812 Jun 29 02:19 bigdl.log\n",
            "drwxr-xr-x 4 root root      4096 Jun 15 13:37 .config\n",
            "-rw-r--r-- 1 root root         0 Jun 29 02:11 download\n",
            "-rw-r--r-- 1 root root  69430283 Oct 27  2008 mnist\n",
            "-rw-r--r-- 1 root root  11671108 Oct 27  2008 mnist.t\n",
            "-rw-r--r-- 1 root root  18289443 Dec  4  2013 mnist_test.csv\n",
            "-rw-r--r-- 1 root root 109575994 Dec  4  2013 mnist_train.csv\n",
            "-rw-r--r-- 1 root root       300 Jun 29 02:08 mnist_train.csv.gz\n",
            "drwxr-xr-x 1 root root      4096 Jun 15 13:37 sample_data\n"
          ],
          "name": "stdout"
        }
      ]
    },
    {
      "cell_type": "code",
      "metadata": {
        "id": "HU1m4tF3naAa",
        "colab": {
          "base_uri": "https://localhost:8080/",
          "height": 165
        },
        "outputId": "0c20a923-ef17-4caa-a76f-63a2da002963"
      },
      "source": [
        "tmp = sdf_train.take(0)"
      ],
      "execution_count": null,
      "outputs": [
        {
          "output_type": "error",
          "ename": "NameError",
          "evalue": "ignored",
          "traceback": [
            "\u001b[0;31m---------------------------------------------------------------------------\u001b[0m",
            "\u001b[0;31mNameError\u001b[0m                                 Traceback (most recent call last)",
            "\u001b[0;32m<ipython-input-1-2908b2ec07b8>\u001b[0m in \u001b[0;36m<module>\u001b[0;34m()\u001b[0m\n\u001b[0;32m----> 1\u001b[0;31m \u001b[0mtmp\u001b[0m \u001b[0;34m=\u001b[0m \u001b[0msdf_train\u001b[0m\u001b[0;34m.\u001b[0m\u001b[0mtake\u001b[0m\u001b[0;34m(\u001b[0m\u001b[0;36m0\u001b[0m\u001b[0;34m)\u001b[0m\u001b[0;34m\u001b[0m\u001b[0;34m\u001b[0m\u001b[0m\n\u001b[0m",
            "\u001b[0;31mNameError\u001b[0m: name 'sdf_train' is not defined"
          ]
        }
      ]
    },
    {
      "cell_type": "code",
      "metadata": {
        "id": "Rn-BAFbDf5FM"
      },
      "source": [
        ""
      ],
      "execution_count": null,
      "outputs": []
    }
  ]
}