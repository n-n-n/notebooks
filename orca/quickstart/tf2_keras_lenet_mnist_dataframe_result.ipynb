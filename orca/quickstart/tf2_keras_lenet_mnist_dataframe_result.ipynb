{
  "nbformat": 4,
  "nbformat_minor": 0,
  "metadata": {
    "colab": {
      "name": "tf2_keras_lenet_mnist.ipynb",
      "provenance": [],
      "include_colab_link": true
    },
    "kernelspec": {
      "name": "python3",
      "display_name": "Python 3"
    }
  },
  "cells": [
    {
      "cell_type": "markdown",
      "metadata": {
        "id": "view-in-github",
        "colab_type": "text"
      },
      "source": [
        "<a href=\"https://colab.research.google.com/github/n-n-n/notebooks/blob/main/orca/quickstart/tf2_keras_lenet_mnist_dataframe_result.ipynb\" target=\"_parent\"><img src=\"https://colab.research.google.com/assets/colab-badge.svg\" alt=\"Open In Colab\"/></a>"
      ]
    },
    {
      "cell_type": "markdown",
      "metadata": {
        "id": "xgV_QLGE9Lox"
      },
      "source": [
        "\n",
        "![image.png](data:image/png;base64,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)\n",
        "---"
      ]
    },
    {
      "cell_type": "markdown",
      "metadata": {
        "id": "fDBPZ0_rfBmU"
      },
      "source": [
        "##### Copyright 2018 Analytics Zoo Authors."
      ]
    },
    {
      "cell_type": "code",
      "metadata": {
        "id": "xBWVU_bhfkY7"
      },
      "source": [
        "#@title Licensed under the Apache License, Version 2.0 (the \"License\");\n",
        "# you may not use this file except in compliance with the License.\n",
        "# You may obtain a copy of the License at\n",
        "#\n",
        "#     http://www.apache.org/licenses/LICENSE-2.0\n",
        "#\n",
        "# Unless required by applicable law or agreed to in writing, software\n",
        "# distributed under the License is distributed on an \"AS IS\" BASIS,\n",
        "# WITHOUT WARRANTIES OR CONDITIONS OF ANY KIND, either express or implied.\n",
        "# See the License for the specific language governing permissions and\n",
        "# limitations under the License.\n",
        "#"
      ],
      "execution_count": null,
      "outputs": []
    },
    {
      "cell_type": "markdown",
      "metadata": {
        "id": "voMBntim9bMf"
      },
      "source": [
        "## **Environment Preparation**"
      ]
    },
    {
      "cell_type": "markdown",
      "metadata": {
        "id": "ccXnsv_pMCHQ"
      },
      "source": [
        "**Install Java 8**\n",
        "\n",
        "Run the cell on the **Google Colab** to install jdk 1.8.\n",
        "\n",
        "**Note:** if you run this notebook on your computer, root permission is required when running the cell to install Java 8. (You may ignore this cell if Java 8 has already been set up in your computer).\n"
      ]
    },
    {
      "cell_type": "code",
      "metadata": {
        "id": "HWx_0DSnXVhz",
        "colab": {
          "base_uri": "https://localhost:8080/"
        },
        "outputId": "8fa82874-a61d-4204-e992-8ab6fcc1b9d7"
      },
      "source": [
        "# Install jdk8\n",
        "! apt-get install openjdk-8-jdk-headless -qq > /dev/null\n",
        "import os\n",
        "# Set environment variable JAVA_HOME.\n",
        "os.environ[\"JAVA_HOME\"] = \"/usr/lib/jvm/java-8-openjdk-amd64\"\n",
        "! update-alternatives --set java /usr/lib/jvm/java-8-openjdk-amd64/jre/bin/java\n",
        "! java -version"
      ],
      "execution_count": 1,
      "outputs": [
        {
          "output_type": "stream",
          "text": [
            "update-alternatives: using /usr/lib/jvm/java-8-openjdk-amd64/jre/bin/java to provide /usr/bin/java (java) in manual mode\n",
            "openjdk version \"1.8.0_292\"\n",
            "OpenJDK Runtime Environment (build 1.8.0_292-8u292-b10-0ubuntu1~18.04-b10)\n",
            "OpenJDK 64-Bit Server VM (build 25.292-b10, mixed mode)\n"
          ],
          "name": "stdout"
        }
      ]
    },
    {
      "cell_type": "markdown",
      "metadata": {
        "id": "I_OS4HKJMNpv"
      },
      "source": [
        "**Install Analytics Zoo**\n",
        "\n",
        "You can install the latest pre-release version using `pip install --pre --upgrade analytics-zoo`. "
      ]
    },
    {
      "cell_type": "code",
      "metadata": {
        "id": "3qfT8CaC51hI",
        "colab": {
          "base_uri": "https://localhost:8080/"
        },
        "outputId": "1869c331-5927-4b11-b115-c959fb08d95e"
      },
      "source": [
        "# Install latest pre-release version of Analytics Zoo \n",
        "# Installing Analytics Zoo from pip will automatically install pyspark, bigdl, and their dependencies.\n",
        "!pip install --pre --upgrade -q analytics-zoo[ray]"
      ],
      "execution_count": 2,
      "outputs": [
        {
          "output_type": "stream",
          "text": [
            "\u001b[K     |████████████████████████████████| 205.0MB 64kB/s \n",
            "\u001b[K     |████████████████████████████████| 114.1MB 34kB/s \n",
            "\u001b[K     |████████████████████████████████| 215.6MB 62kB/s \n",
            "\u001b[K     |████████████████████████████████| 1.3MB 32.1MB/s \n",
            "\u001b[K     |████████████████████████████████| 71kB 8.4MB/s \n",
            "\u001b[K     |████████████████████████████████| 71kB 7.4MB/s \n",
            "\u001b[K     |████████████████████████████████| 47.5MB 66kB/s \n",
            "\u001b[K     |████████████████████████████████| 204kB 51.3MB/s \n",
            "\u001b[K     |████████████████████████████████| 296kB 51.9MB/s \n",
            "\u001b[K     |████████████████████████████████| 143kB 56.4MB/s \n",
            "\u001b[K     |████████████████████████████████| 3.1MB 16.7MB/s \n",
            "\u001b[K     |████████████████████████████████| 133kB 56.7MB/s \n",
            "\u001b[K     |████████████████████████████████| 204kB 45.2MB/s \n",
            "\u001b[K     |████████████████████████████████| 92kB 8.5MB/s \n",
            "\u001b[K     |████████████████████████████████| 81kB 9.3MB/s \n",
            "\u001b[K     |████████████████████████████████| 61kB 7.4MB/s \n",
            "\u001b[?25h  Building wheel for pyspark (setup.py) ... \u001b[?25l\u001b[?25hdone\n",
            "  Building wheel for gpustat (setup.py) ... \u001b[?25l\u001b[?25hdone\n"
          ],
          "name": "stdout"
        }
      ]
    },
    {
      "cell_type": "markdown",
      "metadata": {
        "id": "l-l4vel5N3qP"
      },
      "source": [
        "## **Distributed TensorFlow 2 using Orca APIs**\n",
        "\n",
        "In this guide we will describe how to scale out TensorFlow 2 programs using Orca in 4 simple steps."
      ]
    },
    {
      "cell_type": "code",
      "metadata": {
        "id": "RDPt2XTsT-Gv",
        "colab": {
          "base_uri": "https://localhost:8080/"
        },
        "outputId": "6e6593c9-d927-4b22-8f0e-ba5790c4f077"
      },
      "source": [
        "# import necesary libraries and modules\n",
        "import argparse\n",
        "\n",
        "from zoo.orca import init_orca_context, stop_orca_context\n",
        "from zoo.orca import OrcaContext"
      ],
      "execution_count": 3,
      "outputs": [
        {
          "output_type": "stream",
          "text": [
            "Prepending /usr/local/lib/python3.7/dist-packages/bigdl/share/conf/spark-bigdl.conf to sys.path\n",
            "Adding /usr/local/lib/python3.7/dist-packages/zoo/share/lib/analytics-zoo-bigdl_0.12.2-spark_2.4.3-0.11.0-SNAPSHOT-jar-with-dependencies.jar to BIGDL_JARS\n",
            "Prepending /usr/local/lib/python3.7/dist-packages/zoo/share/conf/spark-analytics-zoo.conf to sys.path\n"
          ],
          "name": "stdout"
        }
      ]
    },
    {
      "cell_type": "markdown",
      "metadata": {
        "id": "zBdeoZzLWWlY"
      },
      "source": [
        "### **Step 1: Init Orca Context** "
      ]
    },
    {
      "cell_type": "code",
      "metadata": {
        "id": "QAQp0FcUWaH3",
        "colab": {
          "base_uri": "https://localhost:8080/"
        },
        "outputId": "202e557c-b790-4b66-b0cd-06ca3a27161f"
      },
      "source": [
        "# recommended to set it to True when running Analytics Zoo in Jupyter notebook \n",
        "OrcaContext.log_output = True # (this will display terminal's stdout and stderr in the Jupyter notebook).\n",
        "\n",
        "cluster_mode = \"local\"\n",
        "\n",
        "if cluster_mode == \"local\":  \n",
        "    init_orca_context(cluster_mode=\"local\", cores=4) # run in local mode\n",
        "elif cluster_mode == \"k8s\":  \n",
        "    init_orca_context(cluster_mode=\"k8s\", num_nodes=2, cores=2) # run on K8s cluster\n",
        "elif cluster_mode == \"yarn\":  \n",
        "    init_orca_context(cluster_mode=\"yarn-client\", num_nodes=2, cores=2) # run on Hadoop YARN cluster"
      ],
      "execution_count": 4,
      "outputs": [
        {
          "output_type": "stream",
          "text": [
            "Initializing orca context\n",
            "Current pyspark location is : /usr/local/lib/python3.7/dist-packages/pyspark/__init__.py\n",
            "Start to getOrCreate SparkContext\n",
            "pyspark_submit_args is:  --driver-class-path /usr/local/lib/python3.7/dist-packages/zoo/share/lib/analytics-zoo-bigdl_0.12.2-spark_2.4.3-0.11.0-SNAPSHOT-jar-with-dependencies.jar:/usr/local/lib/python3.7/dist-packages/bigdl/share/lib/bigdl-0.12.2-jar-with-dependencies.jar pyspark-shell \n",
            "2021-07-01 01:30:52 WARN  NativeCodeLoader:62 - Unable to load native-hadoop library for your platform... using builtin-java classes where applicable\n"
          ],
          "name": "stdout"
        },
        {
          "output_type": "stream",
          "text": [
            "SLF4J: Class path contains multiple SLF4J bindings.\n",
            "SLF4J: Found binding in [jar:file:/usr/local/lib/python3.7/dist-packages/zoo/share/lib/analytics-zoo-bigdl_0.12.2-spark_2.4.3-0.11.0-SNAPSHOT-jar-with-dependencies.jar!/org/slf4j/impl/StaticLoggerBinder.class]\n",
            "SLF4J: Found binding in [jar:file:/usr/local/lib/python3.7/dist-packages/pyspark/jars/slf4j-log4j12-1.7.16.jar!/org/slf4j/impl/StaticLoggerBinder.class]\n",
            "SLF4J: See http://www.slf4j.org/codes.html#multiple_bindings for an explanation.\n",
            "SLF4J: Actual binding is of type [org.slf4j.impl.Log4jLoggerFactory]\n",
            "Setting default log level to \"WARN\".\n",
            "To adjust logging level use sc.setLogLevel(newLevel). For SparkR, use setLogLevel(newLevel).\n"
          ],
          "name": "stderr"
        },
        {
          "output_type": "stream",
          "text": [
            "cls.getname: com.intel.analytics.bigdl.python.api.Sample\n",
            "BigDLBasePickler registering: bigdl.util.common  Sample\n",
            "cls.getname: com.intel.analytics.bigdl.python.api.EvaluatedResult\n",
            "BigDLBasePickler registering: bigdl.util.common  EvaluatedResult\n",
            "cls.getname: com.intel.analytics.bigdl.python.api.JTensor\n",
            "BigDLBasePickler registering: bigdl.util.common  JTensor\n",
            "Successfully got a SparkContextcls.getname: com.intel.analytics.bigdl.python.api.JActivity\n",
            "BigDLBasePickler registering: bigdl.util.common  JActivity\n",
            "\n"
          ],
          "name": "stdout"
        },
        {
          "output_type": "stream",
          "text": [
            "\n",
            "User settings:\n",
            "\n",
            "   KMP_AFFINITY=granularity=fine,compact,1,0\n",
            "   KMP_BLOCKTIME=0\n",
            "   KMP_SETTINGS=1\n",
            "   OMP_NUM_THREADS=1\n",
            "\n",
            "Effective settings:\n",
            "\n",
            "   KMP_ABORT_DELAY=0\n",
            "   KMP_ADAPTIVE_LOCK_PROPS='1,1024'\n",
            "   KMP_ALIGN_ALLOC=64\n",
            "   KMP_ALL_THREADPRIVATE=128\n",
            "   KMP_ATOMIC_MODE=2\n",
            "   KMP_BLOCKTIME=0\n",
            "   KMP_CPUINFO_FILE: value is not defined\n",
            "   KMP_DETERMINISTIC_REDUCTION=false\n",
            "   KMP_DEVICE_THREAD_LIMIT=2147483647\n",
            "   KMP_DISP_HAND_THREAD=false\n",
            "   KMP_DISP_NUM_BUFFERS=7\n",
            "   KMP_DUPLICATE_LIB_OK=false\n",
            "   KMP_FORCE_REDUCTION: value is not defined\n",
            "   KMP_FOREIGN_THREADS_THREADPRIVATE=true\n",
            "   KMP_FORKJOIN_BARRIER='2,2'\n",
            "   KMP_FORKJOIN_BARRIER_PATTERN='hyper,hyper'\n",
            "   KMP_FORKJOIN_FRAMES=true\n",
            "   KMP_FORKJOIN_FRAMES_MODE=3\n",
            "   KMP_GTID_MODE=3\n",
            "   KMP_HANDLE_SIGNALS=false\n",
            "   KMP_HOT_TEAMS_MAX_LEVEL=1\n",
            "   KMP_HOT_TEAMS_MODE=0\n",
            "   KMP_INIT_AT_FORK=true\n",
            "   KMP_ITT_PREPARE_DELAY=0\n",
            "   KMP_LIBRARY=throughput\n",
            "   KMP_LOCK_KIND=queuing\n",
            "   KMP_MALLOC_POOL_INCR=1M\n",
            "   KMP_MWAIT_HINTS=0\n",
            "   KMP_NUM_LOCKS_IN_BLOCK=1\n",
            "   KMP_PLAIN_BARRIER='2,2'\n",
            "   KMP_PLAIN_BARRIER_PATTERN='hyper,hyper'\n",
            "   KMP_REDUCTION_BARRIER='1,1'\n",
            "   KMP_REDUCTION_BARRIER_PATTERN='hyper,hyper'\n",
            "   KMP_SCHEDULE='static,balanced;guided,iterative'\n",
            "   KMP_SETTINGS=true\n",
            "   KMP_SPIN_BACKOFF_PARAMS='4096,100'\n",
            "   KMP_STACKOFFSET=64\n",
            "   KMP_STACKPAD=0\n",
            "   KMP_STACKSIZE=8M\n",
            "   KMP_STORAGE_MAP=false\n",
            "   KMP_TASKING=2\n",
            "   KMP_TASKLOOP_MIN_TASKS=0\n",
            "   KMP_TASK_STEALING_CONSTRAINT=1\n",
            "   KMP_TEAMS_THREAD_LIMIT=2\n",
            "   KMP_TOPOLOGY_METHOD=all\n",
            "   KMP_USER_LEVEL_MWAIT=false\n",
            "   KMP_USE_YIELD=1\n",
            "   KMP_VERSION=false\n",
            "   KMP_WARNINGS=true\n",
            "   OMP_AFFINITY_FORMAT='OMP: pid %P tid %i thread %n bound to OS proc set {%A}'\n",
            "   OMP_ALLOCATOR=omp_default_mem_alloc\n",
            "   OMP_CANCELLATION=false\n",
            "   OMP_DEBUG=disabled\n",
            "   OMP_DEFAULT_DEVICE=0\n",
            "   OMP_DISPLAY_AFFINITY=false\n",
            "   OMP_DISPLAY_ENV=false\n",
            "   OMP_DYNAMIC=false\n",
            "   OMP_MAX_ACTIVE_LEVELS=2147483647\n",
            "   OMP_MAX_TASK_PRIORITY=0\n",
            "   OMP_NESTED=false\n",
            "   OMP_NUM_THREADS='1'\n",
            "   OMP_PLACES: value is not defined\n",
            "   OMP_PROC_BIND='intel'\n",
            "   OMP_SCHEDULE='static'\n",
            "   OMP_STACKSIZE=8M\n",
            "   OMP_TARGET_OFFLOAD=DEFAULT\n",
            "   OMP_THREAD_LIMIT=2147483647\n",
            "   OMP_TOOL=enabled\n",
            "   OMP_TOOL_LIBRARIES: value is not defined\n",
            "   OMP_WAIT_POLICY=PASSIVE\n",
            "   KMP_AFFINITY='noverbose,warnings,respect,granularity=fine,compact,1,0'\n",
            "\n"
          ],
          "name": "stderr"
        }
      ]
    },
    {
      "cell_type": "markdown",
      "metadata": {
        "id": "9VyfhD6HVQpm"
      },
      "source": [
        "This is the only place where you need to specify local or distributed mode. View [Orca Context](https://analytics-zoo.readthedocs.io/en/latest/doc/Orca/Overview/orca-context.html) for more details.\n",
        "\n",
        "**Note**: You should export HADOOP_CONF_DIR=/path/to/hadoop/conf/dir when you run on Hadoop YARN cluster."
      ]
    },
    {
      "cell_type": "markdown",
      "metadata": {
        "id": "ld-pV8e-Vb7D"
      },
      "source": [
        "### **Step 2: Define the Model**\n",
        "\n",
        "You can then define the Keras model in the *Creator Function* using the standard TensroFlow 2 APIs."
      ]
    },
    {
      "cell_type": "code",
      "metadata": {
        "id": "DC1P7_gP9FKm"
      },
      "source": [
        "def model_creator(config):\n",
        "    import tensorflow as tf\n",
        "    model = tf.keras.Sequential(\n",
        "        [\n",
        "         tf.keras.layers.Lambda(lambda x: x/255.0),\n",
        "         tf.keras.layers.Reshape( (28, 28, 1), input_shape=(784,) ),\n",
        "         tf.keras.layers.Conv2D(20, kernel_size=(5, 5), strides=(1, 1), activation='tanh',\n",
        "                                input_shape=(28, 28, 1), padding='valid'),\n",
        "         tf.keras.layers.MaxPooling2D(pool_size=(2, 2), strides=(2, 2), padding='valid'),\n",
        "         tf.keras.layers.Conv2D(50, kernel_size=(5, 5), strides=(1, 1), activation='tanh',\n",
        "                                padding='valid'),\n",
        "         tf.keras.layers.MaxPooling2D(pool_size=(2, 2), strides=(2, 2), padding='valid'),\n",
        "         tf.keras.layers.Flatten(),\n",
        "         tf.keras.layers.Dense(500, activation='tanh'),\n",
        "         tf.keras.layers.Dense(10, activation='softmax'),\n",
        "         ]\n",
        "    )\n",
        "\n",
        "    model.compile(optimizer=tf.keras.optimizers.RMSprop(),\n",
        "                  loss='sparse_categorical_crossentropy',\n",
        "                  metrics=['accuracy'])\n",
        "    return model"
      ],
      "execution_count": 12,
      "outputs": []
    },
    {
      "cell_type": "markdown",
      "metadata": {
        "id": "CiTnHATGYn_f"
      },
      "source": [
        "### **Step 3: Define Train Dataset**\n",
        "\n",
        "You can define the dataset in the _Creator Function_ using standard [tf.data.Dataset](https://www.tensorflow.org/api_docs/python/tf/data/Dataset) APIs. "
      ]
    },
    {
      "cell_type": "code",
      "metadata": {
        "id": "dFW_dYqcsBWb",
        "outputId": "2ac4d494-b852-4777-d17c-5b6c44f21ba2",
        "colab": {
          "base_uri": "https://localhost:8080/"
        }
      },
      "source": [
        "! wget https://www.csie.ntu.edu.tw/~cjlin/libsvmtools/datasets/multiclass/mnist.bz2 && bzip2 -d mnist.bz2\n",
        "! wget https://www.csie.ntu.edu.tw/~cjlin/libsvmtools/datasets/multiclass/mnist.t.bz2 && bzip2 -d mnist.t.bz2"
      ],
      "execution_count": 6,
      "outputs": [
        {
          "output_type": "stream",
          "text": [
            "--2021-07-01 01:31:05--  https://www.csie.ntu.edu.tw/~cjlin/libsvmtools/datasets/multiclass/mnist.bz2\n",
            "Resolving www.csie.ntu.edu.tw (www.csie.ntu.edu.tw)... 140.112.30.26\n",
            "Connecting to www.csie.ntu.edu.tw (www.csie.ntu.edu.tw)|140.112.30.26|:443... connected.\n",
            "HTTP request sent, awaiting response... 200 OK\n",
            "Length: 15179306 (14M) [application/x-bzip2]\n",
            "Saving to: ‘mnist.bz2’\n",
            "\n",
            "mnist.bz2           100%[===================>]  14.48M  34.6MB/s    in 0.4s    \n",
            "\n",
            "2021-07-01 01:31:05 (34.6 MB/s) - ‘mnist.bz2’ saved [15179306/15179306]\n",
            "\n",
            "--2021-07-01 01:31:09--  https://www.csie.ntu.edu.tw/~cjlin/libsvmtools/datasets/multiclass/mnist.t.bz2\n",
            "Resolving www.csie.ntu.edu.tw (www.csie.ntu.edu.tw)... 140.112.30.26\n",
            "Connecting to www.csie.ntu.edu.tw (www.csie.ntu.edu.tw)|140.112.30.26|:443... connected.\n",
            "HTTP request sent, awaiting response... 200 OK\n",
            "Length: 2508388 (2.4M) [application/x-bzip2]\n",
            "Saving to: ‘mnist.t.bz2’\n",
            "\n",
            "mnist.t.bz2         100%[===================>]   2.39M  --.-KB/s    in 0.09s   \n",
            "\n",
            "2021-07-01 01:31:09 (26.1 MB/s) - ‘mnist.t.bz2’ saved [2508388/2508388]\n",
            "\n"
          ],
          "name": "stdout"
        }
      ]
    },
    {
      "cell_type": "code",
      "metadata": {
        "id": "3QCJYGwSsCr-"
      },
      "source": [
        "\n",
        "import pyspark.sql.functions as F\n",
        "\n",
        "spark = OrcaContext.get_spark_session()\n",
        "\n",
        "sdf_train, sdf_test  = (\n",
        "    spark.read.format(\"libsvm\")\n",
        "    .option(\"numFeatures\", \"784\")\n",
        "    .option('vectorType', 'dense')\n",
        "    .load(p)\n",
        "    for p in ('./mnist', './mnist.t')\n",
        ")"
      ],
      "execution_count": 8,
      "outputs": []
    },
    {
      "cell_type": "code",
      "metadata": {
        "id": "cJuzomYbsZAC",
        "outputId": "3932e597-e263-43ea-a27b-b14f3437d244",
        "colab": {
          "base_uri": "https://localhost:8080/"
        }
      },
      "source": [
        "sdf_train.count(), sdf_test.count()"
      ],
      "execution_count": 9,
      "outputs": [
        {
          "output_type": "stream",
          "text": [
            ""
          ],
          "name": "stderr"
        },
        {
          "output_type": "execute_result",
          "data": {
            "text/plain": [
              "(60000, 10000)"
            ]
          },
          "metadata": {
            "tags": []
          },
          "execution_count": 9
        }
      ]
    },
    {
      "cell_type": "code",
      "metadata": {
        "id": "JwJSPQp7sept",
        "outputId": "edda2242-3fe8-4f66-db32-0f208b3c5176",
        "colab": {
          "base_uri": "https://localhost:8080/"
        }
      },
      "source": [
        "sdf_train.printSchema()"
      ],
      "execution_count": 10,
      "outputs": [
        {
          "output_type": "stream",
          "text": [
            "root\n",
            " |-- label: double (nullable = true)\n",
            " |-- features: vector (nullable = true)\n",
            "\n"
          ],
          "name": "stdout"
        }
      ]
    },
    {
      "cell_type": "code",
      "metadata": {
        "id": "EzE4RvvDsiGk",
        "outputId": "448383d9-6118-40b1-d6b5-f02bee195ca5",
        "colab": {
          "base_uri": "https://localhost:8080/"
        }
      },
      "source": [
        "pdf = sdf_test.select('features').limit(3).toPandas()\n",
        "pdf.to_numpy()"
      ],
      "execution_count": 11,
      "outputs": [
        {
          "output_type": "execute_result",
          "data": {
            "text/plain": [
              "array([[DenseVector([0.0, 0.0, 0.0, 0.0, 0.0, 0.0, 0.0, 0.0, 0.0, 0.0, 0.0, 0.0, 0.0, 0.0, 0.0, 0.0, 0.0, 0.0, 0.0, 0.0, 0.0, 0.0, 0.0, 0.0, 0.0, 0.0, 0.0, 0.0, 0.0, 0.0, 0.0, 0.0, 0.0, 0.0, 0.0, 0.0, 0.0, 0.0, 0.0, 0.0, 0.0, 0.0, 0.0, 0.0, 0.0, 0.0, 0.0, 0.0, 0.0, 0.0, 0.0, 0.0, 0.0, 0.0, 0.0, 0.0, 0.0, 0.0, 0.0, 0.0, 0.0, 0.0, 0.0, 0.0, 0.0, 0.0, 0.0, 0.0, 0.0, 0.0, 0.0, 0.0, 0.0, 0.0, 0.0, 0.0, 0.0, 0.0, 0.0, 0.0, 0.0, 0.0, 0.0, 0.0, 0.0, 0.0, 0.0, 0.0, 0.0, 0.0, 0.0, 0.0, 0.0, 0.0, 0.0, 0.0, 0.0, 0.0, 0.0, 0.0, 0.0, 0.0, 0.0, 0.0, 0.0, 0.0, 0.0, 0.0, 0.0, 0.0, 0.0, 0.0, 0.0, 0.0, 0.0, 0.0, 0.0, 0.0, 0.0, 0.0, 0.0, 0.0, 0.0, 0.0, 0.0, 0.0, 0.0, 0.0, 0.0, 0.0, 0.0, 0.0, 0.0, 0.0, 0.0, 0.0, 0.0, 0.0, 0.0, 0.0, 0.0, 0.0, 0.0, 0.0, 0.0, 0.0, 0.0, 0.0, 0.0, 0.0, 0.0, 0.0, 0.0, 0.0, 0.0, 0.0, 0.0, 0.0, 0.0, 0.0, 0.0, 0.0, 0.0, 0.0, 0.0, 0.0, 0.0, 0.0, 0.0, 0.0, 0.0, 0.0, 0.0, 0.0, 0.0, 0.0, 0.0, 0.0, 0.0, 0.0, 0.0, 0.0, 0.0, 0.0, 0.0, 0.0, 0.0, 0.0, 0.0, 0.0, 0.0, 0.0, 0.0, 0.0, 0.0, 0.0, 0.0, 0.0, 0.0, 0.0, 0.0, 0.0, 84.0, 185.0, 159.0, 151.0, 60.0, 36.0, 0.0, 0.0, 0.0, 0.0, 0.0, 0.0, 0.0, 0.0, 0.0, 0.0, 0.0, 0.0, 0.0, 0.0, 0.0, 0.0, 0.0, 0.0, 0.0, 0.0, 0.0, 0.0, 222.0, 254.0, 254.0, 254.0, 254.0, 241.0, 198.0, 198.0, 198.0, 198.0, 198.0, 198.0, 198.0, 198.0, 170.0, 52.0, 0.0, 0.0, 0.0, 0.0, 0.0, 0.0, 0.0, 0.0, 0.0, 0.0, 0.0, 0.0, 67.0, 114.0, 72.0, 114.0, 163.0, 227.0, 254.0, 225.0, 254.0, 254.0, 254.0, 250.0, 229.0, 254.0, 254.0, 140.0, 0.0, 0.0, 0.0, 0.0, 0.0, 0.0, 0.0, 0.0, 0.0, 0.0, 0.0, 0.0, 0.0, 0.0, 0.0, 0.0, 0.0, 17.0, 66.0, 14.0, 67.0, 67.0, 67.0, 59.0, 21.0, 236.0, 254.0, 106.0, 0.0, 0.0, 0.0, 0.0, 0.0, 0.0, 0.0, 0.0, 0.0, 0.0, 0.0, 0.0, 0.0, 0.0, 0.0, 0.0, 0.0, 0.0, 0.0, 0.0, 0.0, 0.0, 0.0, 0.0, 83.0, 253.0, 209.0, 18.0, 0.0, 0.0, 0.0, 0.0, 0.0, 0.0, 0.0, 0.0, 0.0, 0.0, 0.0, 0.0, 0.0, 0.0, 0.0, 0.0, 0.0, 0.0, 0.0, 0.0, 0.0, 0.0, 0.0, 22.0, 233.0, 255.0, 83.0, 0.0, 0.0, 0.0, 0.0, 0.0, 0.0, 0.0, 0.0, 0.0, 0.0, 0.0, 0.0, 0.0, 0.0, 0.0, 0.0, 0.0, 0.0, 0.0, 0.0, 0.0, 0.0, 0.0, 0.0, 129.0, 254.0, 238.0, 44.0, 0.0, 0.0, 0.0, 0.0, 0.0, 0.0, 0.0, 0.0, 0.0, 0.0, 0.0, 0.0, 0.0, 0.0, 0.0, 0.0, 0.0, 0.0, 0.0, 0.0, 0.0, 0.0, 0.0, 59.0, 249.0, 254.0, 62.0, 0.0, 0.0, 0.0, 0.0, 0.0, 0.0, 0.0, 0.0, 0.0, 0.0, 0.0, 0.0, 0.0, 0.0, 0.0, 0.0, 0.0, 0.0, 0.0, 0.0, 0.0, 0.0, 0.0, 0.0, 133.0, 254.0, 187.0, 5.0, 0.0, 0.0, 0.0, 0.0, 0.0, 0.0, 0.0, 0.0, 0.0, 0.0, 0.0, 0.0, 0.0, 0.0, 0.0, 0.0, 0.0, 0.0, 0.0, 0.0, 0.0, 0.0, 0.0, 9.0, 205.0, 248.0, 58.0, 0.0, 0.0, 0.0, 0.0, 0.0, 0.0, 0.0, 0.0, 0.0, 0.0, 0.0, 0.0, 0.0, 0.0, 0.0, 0.0, 0.0, 0.0, 0.0, 0.0, 0.0, 0.0, 0.0, 0.0, 126.0, 254.0, 182.0, 0.0, 0.0, 0.0, 0.0, 0.0, 0.0, 0.0, 0.0, 0.0, 0.0, 0.0, 0.0, 0.0, 0.0, 0.0, 0.0, 0.0, 0.0, 0.0, 0.0, 0.0, 0.0, 0.0, 0.0, 75.0, 251.0, 240.0, 57.0, 0.0, 0.0, 0.0, 0.0, 0.0, 0.0, 0.0, 0.0, 0.0, 0.0, 0.0, 0.0, 0.0, 0.0, 0.0, 0.0, 0.0, 0.0, 0.0, 0.0, 0.0, 0.0, 0.0, 19.0, 221.0, 254.0, 166.0, 0.0, 0.0, 0.0, 0.0, 0.0, 0.0, 0.0, 0.0, 0.0, 0.0, 0.0, 0.0, 0.0, 0.0, 0.0, 0.0, 0.0, 0.0, 0.0, 0.0, 0.0, 0.0, 0.0, 3.0, 203.0, 254.0, 219.0, 35.0, 0.0, 0.0, 0.0, 0.0, 0.0, 0.0, 0.0, 0.0, 0.0, 0.0, 0.0, 0.0, 0.0, 0.0, 0.0, 0.0, 0.0, 0.0, 0.0, 0.0, 0.0, 0.0, 0.0, 38.0, 254.0, 254.0, 77.0, 0.0, 0.0, 0.0, 0.0, 0.0, 0.0, 0.0, 0.0, 0.0, 0.0, 0.0, 0.0, 0.0, 0.0, 0.0, 0.0, 0.0, 0.0, 0.0, 0.0, 0.0, 0.0, 0.0, 31.0, 224.0, 254.0, 115.0, 1.0, 0.0, 0.0, 0.0, 0.0, 0.0, 0.0, 0.0, 0.0, 0.0, 0.0, 0.0, 0.0, 0.0, 0.0, 0.0, 0.0, 0.0, 0.0, 0.0, 0.0, 0.0, 0.0, 0.0, 133.0, 254.0, 254.0, 52.0, 0.0, 0.0, 0.0, 0.0, 0.0, 0.0, 0.0, 0.0, 0.0, 0.0, 0.0, 0.0, 0.0, 0.0, 0.0, 0.0, 0.0, 0.0, 0.0, 0.0, 0.0, 0.0, 0.0, 61.0, 242.0, 254.0, 254.0, 52.0, 0.0, 0.0, 0.0, 0.0, 0.0, 0.0, 0.0, 0.0, 0.0, 0.0, 0.0, 0.0, 0.0, 0.0, 0.0, 0.0, 0.0, 0.0, 0.0, 0.0, 0.0, 0.0, 0.0, 121.0, 254.0, 254.0, 219.0, 40.0, 0.0, 0.0, 0.0, 0.0, 0.0, 0.0, 0.0, 0.0, 0.0, 0.0, 0.0, 0.0, 0.0, 0.0, 0.0, 0.0, 0.0, 0.0, 0.0, 0.0, 0.0, 0.0, 0.0, 121.0, 254.0, 207.0, 18.0, 0.0, 0.0, 0.0, 0.0, 0.0, 0.0, 0.0, 0.0, 0.0, 0.0, 0.0, 0.0, 0.0, 0.0, 0.0, 0.0, 0.0, 0.0, 0.0, 0.0, 0.0, 0.0, 0.0, 0.0, 0.0, 0.0, 0.0, 0.0, 0.0, 0.0, 0.0, 0.0, 0.0, 0.0, 0.0, 0.0, 0.0, 0.0, 0.0, 0.0, 0.0, 0.0])],\n",
              "       [DenseVector([0.0, 0.0, 0.0, 0.0, 0.0, 0.0, 0.0, 0.0, 0.0, 0.0, 0.0, 0.0, 0.0, 0.0, 0.0, 0.0, 0.0, 0.0, 0.0, 0.0, 0.0, 0.0, 0.0, 0.0, 0.0, 0.0, 0.0, 0.0, 0.0, 0.0, 0.0, 0.0, 0.0, 0.0, 0.0, 0.0, 0.0, 0.0, 0.0, 0.0, 0.0, 0.0, 0.0, 0.0, 0.0, 0.0, 0.0, 0.0, 0.0, 0.0, 0.0, 0.0, 0.0, 0.0, 0.0, 0.0, 0.0, 0.0, 0.0, 0.0, 0.0, 0.0, 0.0, 0.0, 0.0, 0.0, 0.0, 0.0, 0.0, 0.0, 0.0, 0.0, 0.0, 0.0, 0.0, 0.0, 0.0, 0.0, 0.0, 0.0, 0.0, 0.0, 0.0, 0.0, 0.0, 0.0, 0.0, 0.0, 0.0, 0.0, 0.0, 0.0, 0.0, 0.0, 116.0, 125.0, 171.0, 255.0, 255.0, 150.0, 93.0, 0.0, 0.0, 0.0, 0.0, 0.0, 0.0, 0.0, 0.0, 0.0, 0.0, 0.0, 0.0, 0.0, 0.0, 0.0, 0.0, 0.0, 0.0, 0.0, 0.0, 169.0, 253.0, 253.0, 253.0, 253.0, 253.0, 253.0, 218.0, 30.0, 0.0, 0.0, 0.0, 0.0, 0.0, 0.0, 0.0, 0.0, 0.0, 0.0, 0.0, 0.0, 0.0, 0.0, 0.0, 0.0, 0.0, 0.0, 169.0, 253.0, 253.0, 253.0, 213.0, 142.0, 176.0, 253.0, 253.0, 122.0, 0.0, 0.0, 0.0, 0.0, 0.0, 0.0, 0.0, 0.0, 0.0, 0.0, 0.0, 0.0, 0.0, 0.0, 0.0, 0.0, 0.0, 52.0, 250.0, 253.0, 210.0, 32.0, 12.0, 0.0, 6.0, 206.0, 253.0, 140.0, 0.0, 0.0, 0.0, 0.0, 0.0, 0.0, 0.0, 0.0, 0.0, 0.0, 0.0, 0.0, 0.0, 0.0, 0.0, 0.0, 0.0, 77.0, 251.0, 210.0, 25.0, 0.0, 0.0, 0.0, 122.0, 248.0, 253.0, 65.0, 0.0, 0.0, 0.0, 0.0, 0.0, 0.0, 0.0, 0.0, 0.0, 0.0, 0.0, 0.0, 0.0, 0.0, 0.0, 0.0, 0.0, 0.0, 31.0, 18.0, 0.0, 0.0, 0.0, 0.0, 209.0, 253.0, 253.0, 65.0, 0.0, 0.0, 0.0, 0.0, 0.0, 0.0, 0.0, 0.0, 0.0, 0.0, 0.0, 0.0, 0.0, 0.0, 0.0, 0.0, 0.0, 0.0, 0.0, 0.0, 0.0, 0.0, 0.0, 117.0, 247.0, 253.0, 198.0, 10.0, 0.0, 0.0, 0.0, 0.0, 0.0, 0.0, 0.0, 0.0, 0.0, 0.0, 0.0, 0.0, 0.0, 0.0, 0.0, 0.0, 0.0, 0.0, 0.0, 0.0, 0.0, 0.0, 76.0, 247.0, 253.0, 231.0, 63.0, 0.0, 0.0, 0.0, 0.0, 0.0, 0.0, 0.0, 0.0, 0.0, 0.0, 0.0, 0.0, 0.0, 0.0, 0.0, 0.0, 0.0, 0.0, 0.0, 0.0, 0.0, 0.0, 0.0, 128.0, 253.0, 253.0, 144.0, 0.0, 0.0, 0.0, 0.0, 0.0, 0.0, 0.0, 0.0, 0.0, 0.0, 0.0, 0.0, 0.0, 0.0, 0.0, 0.0, 0.0, 0.0, 0.0, 0.0, 0.0, 0.0, 0.0, 176.0, 246.0, 253.0, 159.0, 12.0, 0.0, 0.0, 0.0, 0.0, 0.0, 0.0, 0.0, 0.0, 0.0, 0.0, 0.0, 0.0, 0.0, 0.0, 0.0, 0.0, 0.0, 0.0, 0.0, 0.0, 0.0, 0.0, 25.0, 234.0, 253.0, 233.0, 35.0, 0.0, 0.0, 0.0, 0.0, 0.0, 0.0, 0.0, 0.0, 0.0, 0.0, 0.0, 0.0, 0.0, 0.0, 0.0, 0.0, 0.0, 0.0, 0.0, 0.0, 0.0, 0.0, 0.0, 198.0, 253.0, 253.0, 141.0, 0.0, 0.0, 0.0, 0.0, 0.0, 0.0, 0.0, 0.0, 0.0, 0.0, 0.0, 0.0, 0.0, 0.0, 0.0, 0.0, 0.0, 0.0, 0.0, 0.0, 0.0, 0.0, 0.0, 78.0, 248.0, 253.0, 189.0, 12.0, 0.0, 0.0, 0.0, 0.0, 0.0, 0.0, 0.0, 0.0, 0.0, 0.0, 0.0, 0.0, 0.0, 0.0, 0.0, 0.0, 0.0, 0.0, 0.0, 0.0, 0.0, 0.0, 19.0, 200.0, 253.0, 253.0, 141.0, 0.0, 0.0, 0.0, 0.0, 0.0, 0.0, 0.0, 0.0, 0.0, 0.0, 0.0, 0.0, 0.0, 0.0, 0.0, 0.0, 0.0, 0.0, 0.0, 0.0, 0.0, 0.0, 0.0, 134.0, 253.0, 253.0, 173.0, 12.0, 0.0, 0.0, 0.0, 0.0, 0.0, 0.0, 0.0, 0.0, 0.0, 0.0, 0.0, 0.0, 0.0, 0.0, 0.0, 0.0, 0.0, 0.0, 0.0, 0.0, 0.0, 0.0, 0.0, 248.0, 253.0, 253.0, 25.0, 0.0, 0.0, 0.0, 0.0, 0.0, 0.0, 0.0, 0.0, 0.0, 0.0, 0.0, 0.0, 0.0, 0.0, 0.0, 0.0, 0.0, 0.0, 0.0, 0.0, 0.0, 0.0, 0.0, 0.0, 248.0, 253.0, 253.0, 43.0, 20.0, 20.0, 20.0, 20.0, 5.0, 0.0, 5.0, 20.0, 20.0, 37.0, 150.0, 150.0, 150.0, 147.0, 10.0, 0.0, 0.0, 0.0, 0.0, 0.0, 0.0, 0.0, 0.0, 0.0, 248.0, 253.0, 253.0, 253.0, 253.0, 253.0, 253.0, 253.0, 168.0, 143.0, 166.0, 253.0, 253.0, 253.0, 253.0, 253.0, 253.0, 253.0, 123.0, 0.0, 0.0, 0.0, 0.0, 0.0, 0.0, 0.0, 0.0, 0.0, 174.0, 253.0, 253.0, 253.0, 253.0, 253.0, 253.0, 253.0, 253.0, 253.0, 253.0, 253.0, 249.0, 247.0, 247.0, 169.0, 117.0, 117.0, 57.0, 0.0, 0.0, 0.0, 0.0, 0.0, 0.0, 0.0, 0.0, 0.0, 0.0, 118.0, 123.0, 123.0, 123.0, 166.0, 253.0, 253.0, 253.0, 155.0, 123.0, 123.0, 41.0, 0.0, 0.0, 0.0, 0.0, 0.0, 0.0, 0.0, 0.0, 0.0, 0.0, 0.0, 0.0, 0.0, 0.0, 0.0, 0.0, 0.0, 0.0, 0.0, 0.0, 0.0, 0.0, 0.0, 0.0, 0.0, 0.0, 0.0, 0.0, 0.0, 0.0, 0.0, 0.0, 0.0, 0.0, 0.0, 0.0, 0.0, 0.0, 0.0, 0.0, 0.0, 0.0, 0.0, 0.0, 0.0, 0.0, 0.0, 0.0, 0.0, 0.0, 0.0, 0.0, 0.0, 0.0, 0.0, 0.0, 0.0, 0.0, 0.0, 0.0, 0.0, 0.0, 0.0, 0.0, 0.0, 0.0, 0.0, 0.0, 0.0, 0.0, 0.0, 0.0, 0.0, 0.0, 0.0, 0.0, 0.0, 0.0, 0.0, 0.0, 0.0, 0.0, 0.0, 0.0, 0.0, 0.0, 0.0, 0.0, 0.0, 0.0, 0.0, 0.0, 0.0, 0.0, 0.0, 0.0, 0.0, 0.0, 0.0, 0.0, 0.0, 0.0, 0.0, 0.0, 0.0, 0.0, 0.0, 0.0, 0.0, 0.0, 0.0, 0.0, 0.0, 0.0, 0.0, 0.0, 0.0, 0.0, 0.0, 0.0, 0.0, 0.0, 0.0, 0.0, 0.0, 0.0, 0.0, 0.0, 0.0, 0.0, 0.0, 0.0, 0.0, 0.0, 0.0, 0.0, 0.0, 0.0, 0.0, 0.0, 0.0, 0.0, 0.0, 0.0, 0.0, 0.0, 0.0])],\n",
              "       [DenseVector([0.0, 0.0, 0.0, 0.0, 0.0, 0.0, 0.0, 0.0, 0.0, 0.0, 0.0, 0.0, 0.0, 0.0, 0.0, 0.0, 0.0, 0.0, 0.0, 0.0, 0.0, 0.0, 0.0, 0.0, 0.0, 0.0, 0.0, 0.0, 0.0, 0.0, 0.0, 0.0, 0.0, 0.0, 0.0, 0.0, 0.0, 0.0, 0.0, 0.0, 0.0, 0.0, 0.0, 0.0, 0.0, 0.0, 0.0, 0.0, 0.0, 0.0, 0.0, 0.0, 0.0, 0.0, 0.0, 0.0, 0.0, 0.0, 0.0, 0.0, 0.0, 0.0, 0.0, 0.0, 0.0, 0.0, 0.0, 0.0, 0.0, 0.0, 0.0, 0.0, 0.0, 0.0, 0.0, 0.0, 0.0, 0.0, 0.0, 0.0, 0.0, 0.0, 0.0, 0.0, 0.0, 0.0, 0.0, 0.0, 0.0, 0.0, 0.0, 0.0, 0.0, 0.0, 0.0, 0.0, 0.0, 0.0, 0.0, 0.0, 0.0, 0.0, 0.0, 0.0, 0.0, 0.0, 0.0, 0.0, 0.0, 0.0, 0.0, 0.0, 0.0, 0.0, 0.0, 0.0, 0.0, 0.0, 0.0, 0.0, 0.0, 0.0, 0.0, 0.0, 0.0, 0.0, 0.0, 0.0, 38.0, 254.0, 109.0, 0.0, 0.0, 0.0, 0.0, 0.0, 0.0, 0.0, 0.0, 0.0, 0.0, 0.0, 0.0, 0.0, 0.0, 0.0, 0.0, 0.0, 0.0, 0.0, 0.0, 0.0, 0.0, 0.0, 0.0, 0.0, 87.0, 252.0, 82.0, 0.0, 0.0, 0.0, 0.0, 0.0, 0.0, 0.0, 0.0, 0.0, 0.0, 0.0, 0.0, 0.0, 0.0, 0.0, 0.0, 0.0, 0.0, 0.0, 0.0, 0.0, 0.0, 0.0, 0.0, 0.0, 135.0, 241.0, 0.0, 0.0, 0.0, 0.0, 0.0, 0.0, 0.0, 0.0, 0.0, 0.0, 0.0, 0.0, 0.0, 0.0, 0.0, 0.0, 0.0, 0.0, 0.0, 0.0, 0.0, 0.0, 0.0, 0.0, 0.0, 45.0, 244.0, 150.0, 0.0, 0.0, 0.0, 0.0, 0.0, 0.0, 0.0, 0.0, 0.0, 0.0, 0.0, 0.0, 0.0, 0.0, 0.0, 0.0, 0.0, 0.0, 0.0, 0.0, 0.0, 0.0, 0.0, 0.0, 0.0, 84.0, 254.0, 63.0, 0.0, 0.0, 0.0, 0.0, 0.0, 0.0, 0.0, 0.0, 0.0, 0.0, 0.0, 0.0, 0.0, 0.0, 0.0, 0.0, 0.0, 0.0, 0.0, 0.0, 0.0, 0.0, 0.0, 0.0, 0.0, 202.0, 223.0, 11.0, 0.0, 0.0, 0.0, 0.0, 0.0, 0.0, 0.0, 0.0, 0.0, 0.0, 0.0, 0.0, 0.0, 0.0, 0.0, 0.0, 0.0, 0.0, 0.0, 0.0, 0.0, 0.0, 0.0, 0.0, 32.0, 254.0, 216.0, 0.0, 0.0, 0.0, 0.0, 0.0, 0.0, 0.0, 0.0, 0.0, 0.0, 0.0, 0.0, 0.0, 0.0, 0.0, 0.0, 0.0, 0.0, 0.0, 0.0, 0.0, 0.0, 0.0, 0.0, 0.0, 95.0, 254.0, 195.0, 0.0, 0.0, 0.0, 0.0, 0.0, 0.0, 0.0, 0.0, 0.0, 0.0, 0.0, 0.0, 0.0, 0.0, 0.0, 0.0, 0.0, 0.0, 0.0, 0.0, 0.0, 0.0, 0.0, 0.0, 0.0, 140.0, 254.0, 77.0, 0.0, 0.0, 0.0, 0.0, 0.0, 0.0, 0.0, 0.0, 0.0, 0.0, 0.0, 0.0, 0.0, 0.0, 0.0, 0.0, 0.0, 0.0, 0.0, 0.0, 0.0, 0.0, 0.0, 0.0, 57.0, 237.0, 205.0, 8.0, 0.0, 0.0, 0.0, 0.0, 0.0, 0.0, 0.0, 0.0, 0.0, 0.0, 0.0, 0.0, 0.0, 0.0, 0.0, 0.0, 0.0, 0.0, 0.0, 0.0, 0.0, 0.0, 0.0, 0.0, 124.0, 255.0, 165.0, 0.0, 0.0, 0.0, 0.0, 0.0, 0.0, 0.0, 0.0, 0.0, 0.0, 0.0, 0.0, 0.0, 0.0, 0.0, 0.0, 0.0, 0.0, 0.0, 0.0, 0.0, 0.0, 0.0, 0.0, 0.0, 171.0, 254.0, 81.0, 0.0, 0.0, 0.0, 0.0, 0.0, 0.0, 0.0, 0.0, 0.0, 0.0, 0.0, 0.0, 0.0, 0.0, 0.0, 0.0, 0.0, 0.0, 0.0, 0.0, 0.0, 0.0, 0.0, 0.0, 24.0, 232.0, 215.0, 0.0, 0.0, 0.0, 0.0, 0.0, 0.0, 0.0, 0.0, 0.0, 0.0, 0.0, 0.0, 0.0, 0.0, 0.0, 0.0, 0.0, 0.0, 0.0, 0.0, 0.0, 0.0, 0.0, 0.0, 0.0, 120.0, 254.0, 159.0, 0.0, 0.0, 0.0, 0.0, 0.0, 0.0, 0.0, 0.0, 0.0, 0.0, 0.0, 0.0, 0.0, 0.0, 0.0, 0.0, 0.0, 0.0, 0.0, 0.0, 0.0, 0.0, 0.0, 0.0, 0.0, 151.0, 254.0, 142.0, 0.0, 0.0, 0.0, 0.0, 0.0, 0.0, 0.0, 0.0, 0.0, 0.0, 0.0, 0.0, 0.0, 0.0, 0.0, 0.0, 0.0, 0.0, 0.0, 0.0, 0.0, 0.0, 0.0, 0.0, 0.0, 228.0, 254.0, 66.0, 0.0, 0.0, 0.0, 0.0, 0.0, 0.0, 0.0, 0.0, 0.0, 0.0, 0.0, 0.0, 0.0, 0.0, 0.0, 0.0, 0.0, 0.0, 0.0, 0.0, 0.0, 0.0, 0.0, 0.0, 61.0, 251.0, 254.0, 66.0, 0.0, 0.0, 0.0, 0.0, 0.0, 0.0, 0.0, 0.0, 0.0, 0.0, 0.0, 0.0, 0.0, 0.0, 0.0, 0.0, 0.0, 0.0, 0.0, 0.0, 0.0, 0.0, 0.0, 0.0, 141.0, 254.0, 205.0, 3.0, 0.0, 0.0, 0.0, 0.0, 0.0, 0.0, 0.0, 0.0, 0.0, 0.0, 0.0, 0.0, 0.0, 0.0, 0.0, 0.0, 0.0, 0.0, 0.0, 0.0, 0.0, 0.0, 0.0, 10.0, 215.0, 254.0, 121.0, 0.0, 0.0, 0.0, 0.0, 0.0, 0.0, 0.0, 0.0, 0.0, 0.0, 0.0, 0.0, 0.0, 0.0, 0.0, 0.0, 0.0, 0.0, 0.0, 0.0, 0.0, 0.0, 0.0, 0.0, 5.0, 198.0, 176.0, 10.0, 0.0, 0.0, 0.0, 0.0, 0.0, 0.0, 0.0, 0.0, 0.0, 0.0, 0.0, 0.0, 0.0, 0.0, 0.0, 0.0, 0.0, 0.0, 0.0, 0.0, 0.0, 0.0, 0.0, 0.0, 0.0, 0.0, 0.0, 0.0, 0.0, 0.0, 0.0, 0.0, 0.0, 0.0, 0.0, 0.0, 0.0, 0.0, 0.0, 0.0, 0.0, 0.0, 0.0, 0.0, 0.0, 0.0, 0.0, 0.0, 0.0, 0.0, 0.0, 0.0, 0.0, 0.0, 0.0, 0.0, 0.0, 0.0, 0.0, 0.0, 0.0, 0.0, 0.0, 0.0, 0.0, 0.0, 0.0, 0.0, 0.0, 0.0, 0.0, 0.0, 0.0, 0.0, 0.0, 0.0, 0.0, 0.0, 0.0, 0.0, 0.0, 0.0, 0.0, 0.0, 0.0, 0.0, 0.0, 0.0, 0.0, 0.0, 0.0, 0.0, 0.0, 0.0, 0.0, 0.0, 0.0, 0.0, 0.0, 0.0, 0.0, 0.0, 0.0, 0.0, 0.0, 0.0, 0.0, 0.0, 0.0, 0.0, 0.0, 0.0, 0.0, 0.0, 0.0, 0.0, 0.0, 0.0, 0.0, 0.0, 0.0, 0.0, 0.0, 0.0, 0.0, 0.0])]],\n",
              "      dtype=object)"
            ]
          },
          "metadata": {
            "tags": []
          },
          "execution_count": 11
        }
      ]
    },
    {
      "cell_type": "code",
      "metadata": {
        "id": "-YHW93myYykE"
      },
      "source": [
        "'''\n",
        "def preprocess(x, y):\n",
        "    import tensorflow as tf\n",
        "    x = tf.cast(tf.reshape(x, (28, 28, 1)), dtype=tf.float32) / 255.0\n",
        "    return x, y\n",
        "\n",
        "def train_data_creator(config, batch_size):\n",
        "    import tensorflow as tf\n",
        "    (train_feature, train_label), _ = tf.keras.datasets.mnist.load_data()\n",
        "\n",
        "    dataset = tf.data.Dataset.from_tensor_slices((train_feature, train_label))\n",
        "    dataset = dataset.repeat()\n",
        "    dataset = dataset.map(preprocess)\n",
        "    dataset = dataset.shuffle(1000)\n",
        "    dataset = dataset.batch(batch_size)\n",
        "    return dataset\n",
        "\n",
        "def val_data_creator(config, batch_size):\n",
        "    import tensorflow as tf\n",
        "    _, (val_feature, val_label) = tf.keras.datasets.mnist.load_data()\n",
        "\n",
        "    dataset = tf.data.Dataset.from_tensor_slices((val_feature, val_label))\n",
        "    dataset = dataset.repeat()\n",
        "    dataset = dataset.map(preprocess)\n",
        "    dataset = dataset.batch(batch_size)\n",
        "    return dataset\n",
        "'''"
      ],
      "execution_count": null,
      "outputs": []
    },
    {
      "cell_type": "markdown",
      "metadata": {
        "id": "CnbOmWHsXOmg"
      },
      "source": [
        "### **Step 4: Fit with Orca Estimator**\n",
        "\n",
        "First, create an Estimator.\n",
        "\n"
      ]
    },
    {
      "cell_type": "code",
      "metadata": {
        "id": "bsNbQROFXNgU",
        "colab": {
          "base_uri": "https://localhost:8080/"
        },
        "outputId": "2d9f107d-3fad-4406-eacf-9177acb08b17"
      },
      "source": [
        "from zoo.orca.learn.tf2 import Estimator\n",
        "\n",
        "batch_size = 320\n",
        "est = Estimator.from_keras(model_creator=model_creator, workers_per_node=1)"
      ],
      "execution_count": 13,
      "outputs": [
        {
          "output_type": "stream",
          "text": [
            "2021-07-01 01:34:34,729\tINFO services.py:1174 -- View the Ray dashboard at \u001b[1m\u001b[32mhttp://172.28.0.2:8265\u001b[39m\u001b[22m\n"
          ],
          "name": "stderr"
        },
        {
          "output_type": "stream",
          "text": [
            "{'node_ip_address': '172.28.0.2', 'raylet_ip_address': '172.28.0.2', 'redis_address': '172.28.0.2:6379', 'object_store_address': '/tmp/ray/session_2021-07-01_01-34-33_984753_61/sockets/plasma_store', 'raylet_socket_name': '/tmp/ray/session_2021-07-01_01-34-33_984753_61/sockets/raylet', 'webui_url': '172.28.0.2:8265', 'session_dir': '/tmp/ray/session_2021-07-01_01-34-33_984753_61', 'metrics_export_port': 51143, 'node_id': '2104b2567b8f3e3c25b0f374e008dea860b525ade3f44c869788ff46'}\n",
            "\u001b[2m\u001b[36m(pid=530)\u001b[0m Prepending /usr/local/lib/python3.7/dist-packages/bigdl/share/conf/spark-bigdl.conf to sys.path\n",
            "\u001b[2m\u001b[36m(pid=530)\u001b[0m Prepending /usr/local/lib/python3.7/dist-packages/zoo/share/conf/spark-analytics-zoo.conf to sys.path\n"
          ],
          "name": "stdout"
        },
        {
          "output_type": "stream",
          "text": [
            "\u001b[2m\u001b[36m(pid=530)\u001b[0m 2021-07-01 01:34:38.708775: I tensorflow/stream_executor/platform/default/dso_loader.cc:53] Successfully opened dynamic library libcudart.so.11.0\n",
            "\u001b[2m\u001b[36m(pid=530)\u001b[0m WARNING:tensorflow:From /usr/local/lib/python3.7/dist-packages/zoo/orca/learn/tf2/tf_runner.py:314: _CollectiveAllReduceStrategyExperimental.__init__ (from tensorflow.python.distribute.collective_all_reduce_strategy) is deprecated and will be removed in a future version.\n",
            "\u001b[2m\u001b[36m(pid=530)\u001b[0m Instructions for updating:\n",
            "\u001b[2m\u001b[36m(pid=530)\u001b[0m use distribute.MultiWorkerMirroredStrategy instead\n",
            "\u001b[2m\u001b[36m(pid=530)\u001b[0m 2021-07-01 01:34:40.418164: I tensorflow/stream_executor/platform/default/dso_loader.cc:53] Successfully opened dynamic library libcuda.so.1\n",
            "\u001b[2m\u001b[36m(pid=530)\u001b[0m 2021-07-01 01:34:40.523934: E tensorflow/stream_executor/cuda/cuda_driver.cc:328] failed call to cuInit: CUDA_ERROR_NO_DEVICE: no CUDA-capable device is detected\n",
            "\u001b[2m\u001b[36m(pid=530)\u001b[0m 2021-07-01 01:34:40.524000: I tensorflow/stream_executor/cuda/cuda_diagnostics.cc:156] kernel driver does not appear to be running on this host (227194477f8f): /proc/driver/nvidia/version does not exist\n",
            "\u001b[2m\u001b[36m(pid=530)\u001b[0m 2021-07-01 01:34:40.597001: I tensorflow/core/distributed_runtime/rpc/grpc_channel.cc:301] Initialize GrpcChannelCache for job worker -> {0 -> 172.28.0.2:39557}\n",
            "\u001b[2m\u001b[36m(pid=530)\u001b[0m 2021-07-01 01:34:40.597340: I tensorflow/core/distributed_runtime/rpc/grpc_server_lib.cc:411] Started server with target: grpc://172.28.0.2:39557\n"
          ],
          "name": "stderr"
        }
      ]
    },
    {
      "cell_type": "markdown",
      "metadata": {
        "id": "7bNtls5WXnzU"
      },
      "source": [
        "Next, fit the Estimator."
      ]
    },
    {
      "cell_type": "code",
      "metadata": {
        "id": "imhbbDNXXsXR",
        "colab": {
          "base_uri": "https://localhost:8080/"
        },
        "outputId": "fbf440ff-cea0-4f61-d074-9db836c17ab3"
      },
      "source": [
        "max_epoch=1\n",
        "stats = est.fit(\n",
        "    sdf_train,\n",
        "    epochs=max_epoch,\n",
        "    batch_size=batch_size,\n",
        "    feature_cols=['features'],\n",
        "    label_cols=['label'],\n",
        "    steps_per_epoch=60000 // batch_size,\n",
        "    validation_data=sdf_test,\n",
        "    validation_steps=10000 // batch_size\n",
        ")\n",
        "\n"
      ],
      "execution_count": 15,
      "outputs": [
        {
          "output_type": "stream",
          "text": [
            "\r[Stage 5:>                                                          (0 + 4) / 4]Prepending /usr/local/lib/python3.7/dist-packages/bigdl/share/conf/spark-bigdl.conf to sys.path\n",
            "Prepending /usr/local/lib/python3.7/dist-packages/bigdl/share/conf/spark-bigdl.conf to sys.path\n",
            "Prepending /usr/local/lib/python3.7/dist-packages/bigdl/share/conf/spark-bigdl.conf to sys.path\n",
            "Prepending /usr/local/lib/python3.7/dist-packages/bigdl/share/conf/spark-bigdl.conf to sys.path\n",
            "Prepending /usr/local/lib/python3.7/dist-packages/zoo/share/conf/spark-analytics-zoo.conf to sys.path\n",
            "Prepending /usr/local/lib/python3.7/dist-packages/zoo/share/conf/spark-analytics-zoo.conf to sys.path\n",
            "Prepending /usr/local/lib/python3.7/dist-packages/zoo/share/conf/spark-analytics-zoo.conf to sys.path\n",
            "Prepending /usr/local/lib/python3.7/dist-packages/zoo/share/conf/spark-analytics-zoo.conf to sys.path\n"
          ],
          "name": "stderr"
        },
        {
          "output_type": "stream",
          "text": [
            "\u001b[2m\u001b[36m(pid=531)\u001b[0m Prepending /usr/local/lib/python3.7/dist-packages/bigdl/share/conf/spark-bigdl.conf to sys.path\n",
            "\u001b[2m\u001b[36m(pid=531)\u001b[0m Prepending /usr/local/lib/python3.7/dist-packages/zoo/share/conf/spark-analytics-zoo.conf to sys.path\n"
          ],
          "name": "stdout"
        },
        {
          "output_type": "stream",
          "text": [
            "2021-07-01 01:37:08,990\tINFO worker.py:655 -- Connecting to existing Ray cluster at address: 172.28.0.2:6379\n",
            "Prepending /usr/local/lib/python3.7/dist-packages/bigdl/share/conf/spark-bigdl.conf to sys.path\n",
            "Prepending /usr/local/lib/python3.7/dist-packages/zoo/share/conf/spark-analytics-zoo.conf to sys.path\n"
          ],
          "name": "stderr"
        },
        {
          "output_type": "stream",
          "text": [
            "\u001b[2m\u001b[36m(pid=910)\u001b[0m Prepending /usr/local/lib/python3.7/dist-packages/bigdl/share/conf/spark-bigdl.conf to sys.path\n",
            "\u001b[2m\u001b[36m(pid=910)\u001b[0m Prepending /usr/local/lib/python3.7/dist-packages/zoo/share/conf/spark-analytics-zoo.conf to sys.path\n"
          ],
          "name": "stdout"
        },
        {
          "output_type": "stream",
          "text": [
            "2021-07-01 01:37:12,240\tINFO worker.py:655 -- Connecting to existing Ray cluster at address: 172.28.0.2:6379\n",
            "\u001b[2m\u001b[36m(pid=530)\u001b[0m WARNING:tensorflow:From /usr/local/lib/python3.7/dist-packages/zoo/orca/learn/tf2/tf_runner.py:191: StrategyBase.experimental_distribute_datasets_from_function (from tensorflow.python.distribute.distribute_lib) is deprecated and will be removed in a future version.\n",
            "\u001b[2m\u001b[36m(pid=530)\u001b[0m Instructions for updating:\n",
            "\u001b[2m\u001b[36m(pid=530)\u001b[0m rename to distribute_datasets_from_function\n",
            "\u001b[2m\u001b[36m(pid=530)\u001b[0m 2021-07-01 01:37:14.036416: I tensorflow/compiler/mlir/mlir_graph_optimization_pass.cc:176] None of the MLIR Optimization Passes are enabled (registered 2)\n",
            "\u001b[2m\u001b[36m(pid=530)\u001b[0m 2021-07-01 01:37:14.037364: I tensorflow/core/platform/profile_utils/cpu_utils.cc:114] CPU Frequency: 2199995000 Hz\n"
          ],
          "name": "stderr"
        },
        {
          "output_type": "stream",
          "text": [
            "  1/187 [..............................] - ETA: 7:44 - loss: 2.3302 - accuracy: 0.1094\n",
            "  2/187 [..............................] - ETA: 45s - loss: 2.2972 - accuracy: 0.2094 \n",
            "  3/187 [..............................] - ETA: 45s - loss: 2.0962 - accuracy: 0.3260\n",
            "  4/187 [..............................] - ETA: 46s - loss: 1.9030 - accuracy: 0.4227\n",
            "  5/187 [..............................] - ETA: 45s - loss: 1.7397 - accuracy: 0.4725\n",
            "  6/187 [..............................] - ETA: 45s - loss: 1.5769 - accuracy: 0.5323\n",
            "  7/187 [>.............................] - ETA: 45s - loss: 1.4388 - accuracy: 0.5790\n",
            "  8/187 [>.............................] - ETA: 45s - loss: 1.3458 - accuracy: 0.6062\n",
            "  9/187 [>.............................] - ETA: 44s - loss: 1.2656 - accuracy: 0.6257\n",
            " 10/187 [>.............................] - ETA: 44s - loss: 1.1854 - accuracy: 0.6516\n",
            " 11/187 [>.............................] - ETA: 44s - loss: 1.1273 - accuracy: 0.6690\n",
            " 12/187 [>.............................] - ETA: 44s - loss: 1.0821 - accuracy: 0.6797\n",
            " 13/187 [=>............................] - ETA: 44s - loss: 1.0513 - accuracy: 0.6853\n",
            " 14/187 [=>............................] - ETA: 43s - loss: 1.0110 - accuracy: 0.6960\n",
            " 15/187 [=>............................] - ETA: 43s - loss: 0.9734 - accuracy: 0.7079\n",
            " 16/187 [=>............................] - ETA: 43s - loss: 0.9423 - accuracy: 0.7174\n",
            " 17/187 [=>............................] - ETA: 43s - loss: 0.9118 - accuracy: 0.7272\n",
            " 18/187 [=>............................] - ETA: 42s - loss: 0.8832 - accuracy: 0.7361\n",
            " 19/187 [==>...........................] - ETA: 42s - loss: 0.8557 - accuracy: 0.7452\n",
            " 20/187 [==>...........................] - ETA: 42s - loss: 0.8359 - accuracy: 0.7520\n",
            " 21/187 [==>...........................] - ETA: 42s - loss: 0.8156 - accuracy: 0.7586\n",
            " 22/187 [==>...........................] - ETA: 41s - loss: 0.7963 - accuracy: 0.7642\n",
            " 23/187 [==>...........................] - ETA: 41s - loss: 0.7759 - accuracy: 0.7708\n",
            " 24/187 [==>...........................] - ETA: 41s - loss: 0.7553 - accuracy: 0.7770\n",
            " 25/187 [===>..........................] - ETA: 41s - loss: 0.7354 - accuracy: 0.7834\n",
            " 26/187 [===>..........................] - ETA: 40s - loss: 0.7193 - accuracy: 0.7882\n",
            " 27/187 [===>..........................] - ETA: 40s - loss: 0.7046 - accuracy: 0.7914\n",
            " 28/187 [===>..........................] - ETA: 40s - loss: 0.6930 - accuracy: 0.7942\n",
            " 29/187 [===>..........................] - ETA: 40s - loss: 0.6826 - accuracy: 0.7967\n",
            " 30/187 [===>..........................] - ETA: 40s - loss: 0.6715 - accuracy: 0.7992\n",
            " 31/187 [===>..........................] - ETA: 40s - loss: 0.6591 - accuracy: 0.8026\n",
            " 32/187 [====>.........................] - ETA: 39s - loss: 0.6469 - accuracy: 0.8062\n",
            " 33/187 [====>.........................] - ETA: 39s - loss: 0.6401 - accuracy: 0.8079\n",
            " 34/187 [====>.........................] - ETA: 39s - loss: 0.6332 - accuracy: 0.8100\n",
            " 35/187 [====>.........................] - ETA: 38s - loss: 0.6224 - accuracy: 0.8131\n",
            " 36/187 [====>.........................] - ETA: 38s - loss: 0.6123 - accuracy: 0.8165\n",
            " 37/187 [====>.........................] - ETA: 38s - loss: 0.6047 - accuracy: 0.8189\n",
            " 38/187 [=====>........................] - ETA: 38s - loss: 0.5966 - accuracy: 0.8211\n",
            " 39/187 [=====>........................] - ETA: 37s - loss: 0.5881 - accuracy: 0.8236\n",
            " 40/187 [=====>........................] - ETA: 37s - loss: 0.5797 - accuracy: 0.8261\n",
            " 41/187 [=====>........................] - ETA: 37s - loss: 0.5736 - accuracy: 0.8280\n",
            " 42/187 [=====>........................] - ETA: 37s - loss: 0.5672 - accuracy: 0.8298\n",
            " 43/187 [=====>........................] - ETA: 36s - loss: 0.5606 - accuracy: 0.8316\n",
            " 44/187 [======>.......................] - ETA: 36s - loss: 0.5546 - accuracy: 0.8335\n",
            " 45/187 [======>.......................] - ETA: 36s - loss: 0.5493 - accuracy: 0.8348\n",
            " 46/187 [======>.......................] - ETA: 36s - loss: 0.5421 - accuracy: 0.8368\n",
            " 47/187 [======>.......................] - ETA: 35s - loss: 0.5364 - accuracy: 0.8381\n",
            " 48/187 [======>.......................] - ETA: 35s - loss: 0.5307 - accuracy: 0.8396\n",
            " 49/187 [======>.......................] - ETA: 35s - loss: 0.5264 - accuracy: 0.8414\n",
            " 50/187 [=======>......................] - ETA: 35s - loss: 0.5201 - accuracy: 0.8434\n",
            " 51/187 [=======>......................] - ETA: 34s - loss: 0.5133 - accuracy: 0.8453\n",
            " 52/187 [=======>......................] - ETA: 34s - loss: 0.5081 - accuracy: 0.8469\n",
            " 53/187 [=======>......................] - ETA: 34s - loss: 0.5039 - accuracy: 0.8483\n",
            " 54/187 [=======>......................] - ETA: 34s - loss: 0.4995 - accuracy: 0.8498\n",
            " 55/187 [=======>......................] - ETA: 33s - loss: 0.4942 - accuracy: 0.8515\n",
            " 56/187 [=======>......................] - ETA: 33s - loss: 0.4895 - accuracy: 0.8527\n",
            " 57/187 [========>.....................] - ETA: 33s - loss: 0.4854 - accuracy: 0.8538\n",
            " 58/187 [========>.....................] - ETA: 33s - loss: 0.4810 - accuracy: 0.8552\n",
            " 59/187 [========>.....................] - ETA: 33s - loss: 0.4757 - accuracy: 0.8568\n",
            " 60/187 [========>.....................] - ETA: 32s - loss: 0.4708 - accuracy: 0.8585\n",
            " 61/187 [========>.....................] - ETA: 32s - loss: 0.4653 - accuracy: 0.8601\n",
            " 62/187 [========>.....................] - ETA: 32s - loss: 0.4603 - accuracy: 0.8615\n",
            " 63/187 [=========>....................] - ETA: 31s - loss: 0.4552 - accuracy: 0.8630\n",
            " 64/187 [=========>....................] - ETA: 31s - loss: 0.4504 - accuracy: 0.8646\n",
            " 65/187 [=========>....................] - ETA: 31s - loss: 0.4468 - accuracy: 0.8657\n",
            " 66/187 [=========>....................] - ETA: 31s - loss: 0.4424 - accuracy: 0.8669\n",
            " 67/187 [=========>....................] - ETA: 30s - loss: 0.4387 - accuracy: 0.8679\n",
            " 68/187 [=========>....................] - ETA: 30s - loss: 0.4357 - accuracy: 0.8686\n",
            " 69/187 [==========>...................] - ETA: 30s - loss: 0.4321 - accuracy: 0.8696\n",
            " 70/187 [==========>...................] - ETA: 30s - loss: 0.4288 - accuracy: 0.8708\n",
            " 71/187 [==========>...................] - ETA: 29s - loss: 0.4252 - accuracy: 0.8720\n",
            " 72/187 [==========>...................] - ETA: 29s - loss: 0.4222 - accuracy: 0.8727\n",
            " 73/187 [==========>...................] - ETA: 29s - loss: 0.4186 - accuracy: 0.8736\n",
            " 74/187 [==========>...................] - ETA: 29s - loss: 0.4155 - accuracy: 0.8744\n",
            " 75/187 [===========>..................] - ETA: 28s - loss: 0.4120 - accuracy: 0.8755\n",
            " 76/187 [===========>..................] - ETA: 28s - loss: 0.4084 - accuracy: 0.8765\n",
            " 77/187 [===========>..................] - ETA: 28s - loss: 0.4054 - accuracy: 0.8774\n",
            " 78/187 [===========>..................] - ETA: 28s - loss: 0.4024 - accuracy: 0.8783\n",
            " 79/187 [===========>..................] - ETA: 27s - loss: 0.3995 - accuracy: 0.8790\n",
            " 80/187 [===========>..................] - ETA: 27s - loss: 0.3973 - accuracy: 0.8796\n",
            " 81/187 [===========>..................] - ETA: 27s - loss: 0.3942 - accuracy: 0.8806\n",
            " 82/187 [============>.................] - ETA: 27s - loss: 0.3908 - accuracy: 0.8815\n",
            " 83/187 [============>.................] - ETA: 26s - loss: 0.3871 - accuracy: 0.8827\n",
            " 84/187 [============>.................] - ETA: 26s - loss: 0.3844 - accuracy: 0.8836\n",
            " 85/187 [============>.................] - ETA: 26s - loss: 0.3817 - accuracy: 0.8845\n",
            " 86/187 [============>.................] - ETA: 26s - loss: 0.3783 - accuracy: 0.8854\n",
            " 87/187 [============>.................] - ETA: 25s - loss: 0.3763 - accuracy: 0.8861\n",
            " 88/187 [=============>................] - ETA: 25s - loss: 0.3744 - accuracy: 0.8867\n",
            " 89/187 [=============>................] - ETA: 25s - loss: 0.3716 - accuracy: 0.8875\n",
            " 90/187 [=============>................] - ETA: 24s - loss: 0.3690 - accuracy: 0.8883\n",
            " 91/187 [=============>................] - ETA: 24s - loss: 0.3664 - accuracy: 0.8889\n",
            " 92/187 [=============>................] - ETA: 24s - loss: 0.3644 - accuracy: 0.8896\n",
            " 93/187 [=============>................] - ETA: 24s - loss: 0.3619 - accuracy: 0.8905\n",
            " 94/187 [==============>...............] - ETA: 23s - loss: 0.3592 - accuracy: 0.8912\n",
            " 95/187 [==============>...............] - ETA: 23s - loss: 0.3568 - accuracy: 0.8920\n",
            " 96/187 [==============>...............] - ETA: 23s - loss: 0.3548 - accuracy: 0.8925\n",
            " 97/187 [==============>...............] - ETA: 23s - loss: 0.3537 - accuracy: 0.8931\n",
            " 98/187 [==============>...............] - ETA: 22s - loss: 0.3512 - accuracy: 0.8938\n",
            " 99/187 [==============>...............] - ETA: 22s - loss: 0.3485 - accuracy: 0.8947\n",
            "100/187 [===============>..............] - ETA: 22s - loss: 0.3465 - accuracy: 0.8954\n",
            "101/187 [===============>..............] - ETA: 22s - loss: 0.3442 - accuracy: 0.8962\n",
            "102/187 [===============>..............] - ETA: 21s - loss: 0.3418 - accuracy: 0.8970\n",
            "103/187 [===============>..............] - ETA: 21s - loss: 0.3400 - accuracy: 0.8975\n",
            "104/187 [===============>..............] - ETA: 21s - loss: 0.3380 - accuracy: 0.8981\n",
            "105/187 [===============>..............] - ETA: 21s - loss: 0.3363 - accuracy: 0.8986\n",
            "106/187 [================>.............] - ETA: 20s - loss: 0.3339 - accuracy: 0.8993\n",
            "107/187 [================>.............]\n",
            "\u001b[2m\u001b[36m(pid=530)\u001b[0m  - ETA: 20s - loss: 0.3319 - accuracy: 0.8999\n",
            "108/187 [================>.............] - ETA: 20s - loss: 0.3302 - accuracy: 0.9003\n",
            "109/187 [================>.............] - ETA: 20s - loss: 0.3293 - accuracy: 0.9005\n",
            "110/187 [================>.............] - ETA: 19s - loss: 0.3282 - accuracy: 0.9009\n",
            "111/187 [================>.............] - ETA: 19s - loss: 0.3265 - accuracy: 0.9014\n",
            "112/187 [================>.............] - ETA: 19s - loss: 0.3246 - accuracy: 0.9019\n",
            "113/187 [=================>............] - ETA: 19s - loss: 0.3228 - accuracy: 0.9025\n",
            "114/187 [=================>............] - ETA: 18s - loss: 0.3210 - accuracy: 0.9031\n",
            "115/187 [=================>............] - ETA: 18s - loss: 0.3194 - accuracy: 0.9035\n",
            "116/187 [=================>............] - ETA: 18s - loss: 0.3179 - accuracy: 0.9039\n",
            "117/187 [=================>............] - ETA: 18s - loss: 0.3161 - accuracy: 0.9045\n",
            "118/187 [=================>............] - ETA: 17s - loss: 0.3145 - accuracy: 0.9050\n",
            "119/187 [==================>...........] - ETA: 17s - loss: 0.3125 - accuracy: 0.9055\n",
            "120/187 [==================>...........] - ETA: 17s - loss: 0.3110 - accuracy: 0.9060\n",
            "121/187 [==================>...........] - ETA: 17s - loss: 0.3093 - accuracy: 0.9065\n",
            "122/187 [==================>...........] - ETA: 16s - loss: 0.3075 - accuracy: 0.9071\n",
            "123/187 [==================>...........] - ETA: 16s - loss: 0.3060 - accuracy: 0.9075\n",
            "124/187 [==================>...........] - ETA: 16s - loss: 0.3050 - accuracy: 0.9078\n",
            "125/187 [===================>..........] - ETA: 15s - loss: 0.3040 - accuracy: 0.9082\n",
            "126/187 [===================>..........] - ETA: 15s - loss: 0.3027 - accuracy: 0.9085\n",
            "127/187 [===================>..........] - ETA: 15s - loss: 0.3011 - accuracy: 0.9089\n",
            "128/187 [===================>..........] - ETA: 15s - loss: 0.2998 - accuracy: 0.9092\n",
            "129/187 [===================>..........] - ETA: 14s - loss: 0.2983 - accuracy: 0.9097\n",
            "130/187 [===================>..........] - ETA: 14s - loss: 0.2970 - accuracy: 0.9102\n",
            "131/187 [====================>.........] - ETA: 14s - loss: 0.2953 - accuracy: 0.9107\n",
            "132/187 [====================>.........] - ETA: 14s - loss: 0.2938 - accuracy: 0.9111\n",
            "133/187 [====================>.........] - ETA: 13s - loss: 0.2925 - accuracy: 0.9115\n",
            "134/187 [====================>.........] - ETA: 13s - loss: 0.2911 - accuracy: 0.9120\n",
            "135/187 [====================>.........] - ETA: 13s - loss: 0.2897 - accuracy: 0.9124\n",
            "136/187 [====================>.........] - ETA: 13s - loss: 0.2885 - accuracy: 0.9128\n",
            "137/187 [====================>.........] - ETA: 12s - loss: 0.2873 - accuracy: 0.9131\n",
            "138/187 [=====================>........] - ETA: 12s - loss: 0.2860 - accuracy: 0.9135\n",
            "139/187 [=====================>........] - ETA: 12s - loss: 0.2848 - accuracy: 0.9139\n",
            "140/187 [=====================>........] - ETA: 12s - loss: 0.2831 - accuracy: 0.9143\n",
            "141/187 [=====================>........] - ETA: 11s - loss: 0.2817 - accuracy: 0.9148\n",
            "142/187 [=====================>........] - ETA: 11s - loss: 0.2805 - accuracy: 0.9151\n",
            "143/187 [=====================>........] - ETA: 11s - loss: 0.2791 - accuracy: 0.9155\n",
            "144/187 [======================>.......] - ETA: 11s - loss: 0.2778 - accuracy: 0.9159\n",
            "145/187 [======================>.......] - ETA: 10s - loss: 0.2765 - accuracy: 0.9162\n",
            "146/187 [======================>.......] - ETA: 10s - loss: 0.2755 - accuracy: 0.9166\n",
            "147/187 [======================>.......] - ETA: 10s - loss: 0.2744 - accuracy: 0.9170\n",
            "148/187 [======================>.......] - ETA: 10s - loss: 0.2734 - accuracy: 0.9173\n",
            "149/187 [======================>.......] - ETA: 9s - loss: 0.2723 - accuracy: 0.9176 \n",
            "150/187 [=======================>......] - ETA: 9s - loss: 0.2718 - accuracy: 0.9177\n",
            "151/187 [=======================>......] - ETA: 9s - loss: 0.2713 - accuracy: 0.9178\n",
            "152/187 [=======================>......] - ETA: 9s - loss: 0.2707 - accuracy: 0.9179\n",
            "153/187 [=======================>......] - ETA: 8s - loss: 0.2697 - accuracy: 0.9182\n",
            "154/187 [=======================>......] - ETA: 8s - loss: 0.2690 - accuracy: 0.9184\n",
            "155/187 [=======================>......] - ETA: 8s - loss: 0.2680 - accuracy: 0.9188\n",
            "156/187 [========================>.....] - ETA: 7s - loss: 0.2670 - accuracy: 0.9190\n",
            "157/187 [========================>.....] - ETA: 7s - loss: 0.2664 - accuracy: 0.9192\n",
            "158/187 [========================>.....] - ETA: 7s - loss: 0.2654 - accuracy: 0.9194\n",
            "159/187 [========================>.....] - ETA: 7s - loss: 0.2644 - accuracy: 0.9197\n",
            "160/187 [========================>.....] - ETA: 6s - loss: 0.2634 - accuracy: 0.9200\n",
            "161/187 [========================>.....] - ETA: 6s - loss: 0.2626 - accuracy: 0.9203\n",
            "162/187 [========================>.....] - ETA: 6s - loss: 0.2614 - accuracy: 0.9207\n",
            "163/187 [=========================>....] - ETA: 6s - loss: 0.2604 - accuracy: 0.9210\n",
            "164/187 [=========================>....] - ETA: 5s - loss: 0.2593 - accuracy: 0.9213\n",
            "165/187 [=========================>....] - ETA: 5s - loss: 0.2580 - accuracy: 0.9217\n",
            "166/187 [=========================>....] - ETA: 5s - loss: 0.2572 - accuracy: 0.9220\n",
            "167/187 [=========================>....] - ETA: 5s - loss: 0.2561 - accuracy: 0.9223\n",
            "168/187 [=========================>....] - ETA: 4s - loss: 0.2553 - accuracy: 0.9226\n",
            "169/187 [==========================>...] - ETA: 4s - loss: 0.2541 - accuracy: 0.9229\n",
            "170/187 [==========================>...] - ETA: 4s - loss: 0.2531 - accuracy: 0.9232\n",
            "171/187 [==========================>...] - ETA: 4s - loss: 0.2519 - accuracy: 0.9235\n",
            "172/187 [==========================>...] - ETA: 3s - loss: 0.2508 - accuracy: 0.9239\n",
            "173/187 [==========================>...] - ETA: 3s - loss: 0.2496 - accuracy: 0.9242\n",
            "174/187 [==========================>...] - ETA: 3s - loss: 0.2485 - accuracy: 0.9245\n",
            "175/187 [===========================>..] - ETA: 3s - loss: 0.2473 - accuracy: 0.9249\n",
            "176/187 [===========================>..] - ETA: 2s - loss: 0.2462 - accuracy: 0.9253\n",
            "177/187 [===========================>..] - ETA: 2s - loss: 0.2452 - accuracy: 0.9256\n",
            "178/187 [===========================>..] - ETA: 2s - loss: 0.2444 - accuracy: 0.9259\n",
            "179/187 [===========================>..] - ETA: 2s - loss: 0.2436 - accuracy: 0.9261\n",
            "180/187 [===========================>..] - ETA: 1s - loss: 0.2427 - accuracy: 0.9264\n",
            "181/187 [============================>.] - ETA: 1s - loss: 0.2417 - accuracy: 0.9266\n",
            "182/187 [============================>.] - ETA: 1s - loss: 0.2410 - accuracy: 0.9269\n",
            "183/187 [============================>.] - ETA: 1s - loss: 0.2402 - accuracy: 0.9271\n",
            "184/187 [============================>.] - ETA: 0s - loss: 0.2396 - accuracy: 0.9273\n",
            "185/187 [============================>.] - ETA: 0s - loss: 0.2388 - accuracy: 0.9276\n",
            "186/187 [============================>.] - ETA: 0s - loss: 0.2379 - accuracy: 0.9278\n",
            "187/187 [==============================] - ETA: 0s - loss: 0.2368 - accuracy: 0.9282\n"
          ],
          "name": "stdout"
        }
      ]
    },
    {
      "cell_type": "markdown",
      "metadata": {
        "id": "vRdASNtRAbiN"
      },
      "source": [
        "Finally, evaluate using the Estimator."
      ]
    },
    {
      "cell_type": "code",
      "metadata": {
        "id": "GDNoiHiquX0A",
        "colab": {
          "base_uri": "https://localhost:8080/"
        },
        "outputId": "b75ed15b-95f9-4efe-bd6f-01c853512526"
      },
      "source": [
        "stats = est.evaluate(\n",
        "    sdf_test, \n",
        "    feature_cols=['features'],\n",
        "    label_cols=['label'], \n",
        "    num_steps=10000 // batch_size\n",
        ")\n",
        "\n",
        "est.shutdown()\n",
        "print(stats)\n",
        "# tf.dataset version {'validation_loss': 0.08448926359415054, 'validation_accuracy': 0.9717742204666138}"
      ],
      "execution_count": 17,
      "outputs": [
        {
          "output_type": "stream",
          "text": [
            "Prepending /usr/local/lib/python3.7/dist-packages/bigdl/share/conf/spark-bigdl.conf to sys.path\n",
            "Prepending /usr/local/lib/python3.7/dist-packages/bigdl/share/conf/spark-bigdl.conf to sys.pathPrepending /usr/local/lib/python3.7/dist-packages/bigdl/share/conf/spark-bigdl.conf to sys.path\n",
            "\n",
            "[Stage 21:>                                                         (0 + 3) / 3]Prepending /usr/local/lib/python3.7/dist-packages/zoo/share/conf/spark-analytics-zoo.conf to sys.path\n",
            "Prepending /usr/local/lib/python3.7/dist-packages/zoo/share/conf/spark-analytics-zoo.conf to sys.path\n",
            "Prepending /usr/local/lib/python3.7/dist-packages/zoo/share/conf/spark-analytics-zoo.conf to sys.path\n"
          ],
          "name": "stderr"
        },
        {
          "output_type": "stream",
          "text": [
            "\u001b[2m\u001b[36m(pid=1117)\u001b[0m Prepending /usr/local/lib/python3.7/dist-packages/bigdl/share/conf/spark-bigdl.conf to sys.path\n",
            "\u001b[2m\u001b[36m(pid=1117)\u001b[0m Prepending /usr/local/lib/python3.7/dist-packages/zoo/share/conf/spark-analytics-zoo.conf to sys.path\n"
          ],
          "name": "stdout"
        },
        {
          "output_type": "stream",
          "text": [
            "2021-07-01 01:38:38,247\tINFO worker.py:655 -- Connecting to existing Ray cluster at address: 172.28.0.2:6379\n"
          ],
          "name": "stderr"
        },
        {
          "output_type": "stream",
          "text": [
            "\u001b[2m\u001b[36m(pid=530)\u001b[0m \r 1/31 [..............................] - ETA: 2s - loss: 0.0294 - accuracy: 1.0000\n",
            "\u001b[2m\u001b[36m(pid=530)\u001b[0m \b\b\b\b\b\b\b\b\b\b\b\b\b\b\b\b\b\b\b\b\b\b\b\b\b\b\b\b\b\b\b\b\b\b\b\b\b\b\b\b\b\b\b\b\b\b\b\b\b\b\b\b\b\b\b\b\b\b\b\b\b\b\b\b\b\b\b\b\b\b\b\b\b\b\b\b\b\b\b\b\b\b\r 6/31 [====>.........................] - ETA: 0s - loss: 0.0332 - accuracy: 0.9948\n",
            "\u001b[2m\u001b[36m(pid=530)\u001b[0m \b\b\b\b\b\b\b\b\b\b\b\b\b\b\b\b\b\b\b\b\b\b\b\b\b\b\b\b\b\b\b\b\b\b\b\b\b\b\b\b\b\b\b\b\b\b\b\b\b\b\b\b\b\b\b\b\b\b\b\b\b\b\b\b\b\b\b\b\b\b\b\b\b\b\b\b\b\b\b\b\b\b\r11/31 [=========>....................] - ETA: 0s - loss: 0.0706 - accuracy: 0.9801\n",
            "16/31 [==============>...............] - ETA: 0s - loss: 0.0797 - accuracy: 0.9766\n",
            "21/31 [===================>..........] - ETA: 0s - loss: 0.0859 - accuracy: 0.9747\n",
            "26/31 [========================>.....] - ETA: 0s - loss: 0.0866 - accuracy: 0.9748\n",
            "31/31 [==============================] - 0s 11ms/step - loss: 0.0877 - accuracy: 0.9718\n",
            "[{'validation_loss': 0.0877300426363945, 'validation_accuracy': 0.9717742204666138}]\n"
          ],
          "name": "stdout"
        }
      ]
    },
    {
      "cell_type": "markdown",
      "metadata": {
        "id": "yyRtP6lqieej"
      },
      "source": [
        "Now, the accuracy of this model has reached 98%."
      ]
    },
    {
      "cell_type": "code",
      "metadata": {
        "id": "nC4KhlHxXakk",
        "colab": {
          "base_uri": "https://localhost:8080/"
        },
        "outputId": "08bc53a5-2665-41c1-e46a-8dc96b0ac536"
      },
      "source": [
        "# Stop orca context when your program finishes\n",
        "stop_orca_context()"
      ],
      "execution_count": 18,
      "outputs": [
        {
          "output_type": "stream",
          "text": [
            "Stopping orca context\n"
          ],
          "name": "stdout"
        },
        {
          "output_type": "stream",
          "text": [
            "2021-07-01 01:38:55,748\tERROR worker.py:1109 -- listen_error_messages_raylet: Connection closed by server.\n",
            "2021-07-01 01:38:55,749\tERROR worker.py:919 -- print_logs: Connection closed by server.\n",
            "2021-07-01 01:38:55,749\tERROR import_thread.py:89 -- ImportThread: Connection closed by server.\n"
          ],
          "name": "stderr"
        }
      ]
    }
  ]
}