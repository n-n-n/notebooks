{
  "nbformat": 4,
  "nbformat_minor": 0,
  "metadata": {
    "colab": {
      "name": "ncf_dataframe.ipynb",
      "provenance": [],
      "toc_visible": true,
      "include_colab_link": true
    },
    "kernelspec": {
      "name": "python3",
      "display_name": "Python 3"
    }
  },
  "cells": [
    {
      "cell_type": "markdown",
      "metadata": {
        "id": "view-in-github",
        "colab_type": "text"
      },
      "source": [
        "<a href=\"https://colab.research.google.com/github/n-n-n/notebooks/blob/main/orca/quickstart/dcn_dataframe.ipynb\" target=\"_parent\"><img src=\"https://colab.research.google.com/assets/colab-badge.svg\" alt=\"Open In Colab\"/></a>"
      ]
    },
    {
      "cell_type": "markdown",
      "metadata": {
        "id": "VsdUyI7vKEGF"
      },
      "source": [
        "\n",
        "![image.png](data:image/png;base64,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)\n",
        "---"
      ]
    },
    {
      "cell_type": "markdown",
      "metadata": {
        "id": "gQWPKGb4KNv6"
      },
      "source": [
        "## **Environment Preparation**"
      ]
    },
    {
      "cell_type": "markdown",
      "metadata": {
        "id": "gwxHGCOQKToI"
      },
      "source": [
        "**Install Java 8**\n",
        "\n",
        "Run the cell on the **Google Colab** to install jdk 1.8.\n",
        "\n",
        "**Note:** if you run this notebook on your computer, root permission is required when running the cell to install Java 8. (You may ignore this cell if Java 8 has already been set up in your computer)."
      ]
    },
    {
      "cell_type": "code",
      "metadata": {
        "id": "zV2cU3jJIXCg",
        "colab": {
          "base_uri": "https://localhost:8080/"
        },
        "outputId": "1dce54d3-90ca-4314-9ad1-41a67506b11a"
      },
      "source": [
        "# Install jdk8\n",
        "! apt-get install openjdk-8-jdk-headless -qq > /dev/null\n",
        "\n",
        "import os\n",
        "# Set environment variable JAVA_HOME.\n",
        "os.environ[\"JAVA_HOME\"] = \"/usr/lib/jvm/java-8-openjdk-amd64\"\n",
        "! update-alternatives --set java /usr/lib/jvm/java-8-openjdk-amd64/jre/bin/java\n",
        "! java -version"
      ],
      "execution_count": 1,
      "outputs": [
        {
          "output_type": "stream",
          "text": [
            "openjdk version \"1.8.0_292\"\n",
            "OpenJDK Runtime Environment (build 1.8.0_292-8u292-b10-0ubuntu1~18.04-b10)\n",
            "OpenJDK 64-Bit Server VM (build 25.292-b10, mixed mode)\n"
          ],
          "name": "stdout"
        }
      ]
    },
    {
      "cell_type": "markdown",
      "metadata": {
        "id": "zDMnBeFSKz21"
      },
      "source": [
        "**Install Analytics Zoo**\n",
        "\n",
        "You can install the latest release version or latest pre-release version using `pip install --pre --upgrade analytics-zoo`. "
      ]
    },
    {
      "cell_type": "code",
      "metadata": {
        "id": "8FKTQXbDYWWr"
      },
      "source": [
        "# Install latest release version of analytics-zoo \n",
        "# Installing analytics-zoo from pip will automatically install pyspark, bigdl, and their dependencies.\n",
        "! pip install --pre --upgrade -q analytics-zoo[ray]"
      ],
      "execution_count": 2,
      "outputs": []
    },
    {
      "cell_type": "markdown",
      "metadata": {
        "id": "Zy-92WBjYdx5"
      },
      "source": [
        "## **Using Spark Dataframes for Distribtued Deep Learning** \n",
        "\n",
        "In this guide we will describe how to use Spark Dataframes to process large-scale dataset."
      ]
    },
    {
      "cell_type": "markdown",
      "metadata": {
        "id": "DAy37CZkYy3p"
      },
      "source": [
        "#### **Intialization** \n",
        "\n",
        "import necessary libraries"
      ]
    },
    {
      "cell_type": "code",
      "metadata": {
        "id": "3mNCKlZLY5xI",
        "colab": {
          "base_uri": "https://localhost:8080/"
        },
        "outputId": "78905839-3487-4060-f1c2-5c9e9c168090"
      },
      "source": [
        "import os\n",
        "import zipfile\n",
        "import argparse\n",
        "\n",
        "import numpy as np\n",
        "\n",
        "from bigdl.dataset import base\n",
        "from sklearn.model_selection import train_test_split\n",
        "\n",
        "from zoo.orca import init_orca_context, stop_orca_context\n",
        "from zoo.orca import OrcaContext\n",
        "from zoo.orca.learn.tf2 import Estimator\n",
        "from zoo.orca.data import SharedValue\n",
        "\n",
        "from pyspark.sql.functions import col\n",
        "import zoo.orca.data.pandas"
      ],
      "execution_count": 3,
      "outputs": [
        {
          "output_type": "stream",
          "text": [
            "Prepending /usr/local/lib/python3.7/dist-packages/bigdl/share/conf/spark-bigdl.conf to sys.path\n",
            "Adding /usr/local/lib/python3.7/dist-packages/zoo/share/lib/analytics-zoo-bigdl_0.12.2-spark_2.4.3-0.11.0-SNAPSHOT-jar-with-dependencies.jar to BIGDL_JARS\n",
            "Prepending /usr/local/lib/python3.7/dist-packages/zoo/share/conf/spark-analytics-zoo.conf to sys.path\n"
          ],
          "name": "stdout"
        }
      ]
    },
    {
      "cell_type": "markdown",
      "metadata": {
        "id": "kU0wwMFgY9hs"
      },
      "source": [
        "## **Init Orca Context** "
      ]
    },
    {
      "cell_type": "code",
      "metadata": {
        "id": "InTPPklsZMNW",
        "colab": {
          "base_uri": "https://localhost:8080/"
        },
        "outputId": "6052761f-9294-4073-9c59-626d5c4f4836"
      },
      "source": [
        "# recommended to set it to True when running Analytics Zoo in Jupyter notebook \n",
        "OrcaContext.log_output = True # (this will display terminal's stdout and stderr in the Jupyter notebook).\n",
        "\n",
        "cluster_mode = \"local\"\n",
        "\n",
        "if cluster_mode == \"local\":  \n",
        "    init_orca_context(cluster_mode=\"local\", cores=4) # run in local mode\n",
        "elif cluster_mode == \"yarn\":  \n",
        "    init_orca_context(cluster_mode=\"yarn-client\", num_nodes=2, cores=2, driver_memory=\"6g\") # run on Hadoop YARN cluster"
      ],
      "execution_count": 4,
      "outputs": [
        {
          "output_type": "stream",
          "text": [
            "Initializing orca context\n",
            "Current pyspark location is : /usr/local/lib/python3.7/dist-packages/pyspark/__init__.py\n",
            "Start to getOrCreate SparkContext\n",
            "pyspark_submit_args is:  --driver-class-path /usr/local/lib/python3.7/dist-packages/zoo/share/lib/analytics-zoo-bigdl_0.12.2-spark_2.4.3-0.11.0-SNAPSHOT-jar-with-dependencies.jar:/usr/local/lib/python3.7/dist-packages/bigdl/share/lib/bigdl-0.12.2-jar-with-dependencies.jar pyspark-shell \n",
            "2021-07-01 01:48:34 WARN  NativeCodeLoader:62 - Unable to load native-hadoop library for your platform... using builtin-java classes where applicable\n"
          ],
          "name": "stdout"
        },
        {
          "output_type": "stream",
          "text": [
            "SLF4J: Class path contains multiple SLF4J bindings.\n",
            "SLF4J: Found binding in [jar:file:/usr/local/lib/python3.7/dist-packages/zoo/share/lib/analytics-zoo-bigdl_0.12.2-spark_2.4.3-0.11.0-SNAPSHOT-jar-with-dependencies.jar!/org/slf4j/impl/StaticLoggerBinder.class]\n",
            "SLF4J: Found binding in [jar:file:/usr/local/lib/python3.7/dist-packages/pyspark/jars/slf4j-log4j12-1.7.16.jar!/org/slf4j/impl/StaticLoggerBinder.class]\n",
            "SLF4J: See http://www.slf4j.org/codes.html#multiple_bindings for an explanation.\n",
            "SLF4J: Actual binding is of type [org.slf4j.impl.Log4jLoggerFactory]\n",
            "Setting default log level to \"WARN\".\n",
            "To adjust logging level use sc.setLogLevel(newLevel). For SparkR, use setLogLevel(newLevel).\n"
          ],
          "name": "stderr"
        },
        {
          "output_type": "stream",
          "text": [
            "cls.getname: com.intel.analytics.bigdl.python.api.Sample\n",
            "BigDLBasePickler registering: bigdl.util.common  Sample\n",
            "cls.getname: com.intel.analytics.bigdl.python.api.EvaluatedResult\n",
            "BigDLBasePickler registering: bigdl.util.common  EvaluatedResult\n",
            "cls.getname: com.intel.analytics.bigdl.python.api.JTensor\n",
            "BigDLBasePickler registering: bigdl.util.common  JTensor\n",
            "cls.getname: com.intel.analytics.bigdl.python.api.JActivity\n",
            "Successfully got a SparkContext\n",
            "BigDLBasePickler registering: bigdl.util.common  JActivity\n"
          ],
          "name": "stdout"
        },
        {
          "output_type": "stream",
          "text": [
            "\n",
            "User settings:\n",
            "\n",
            "   KMP_AFFINITY=granularity=fine,compact,1,0\n",
            "   KMP_BLOCKTIME=0\n",
            "   KMP_DUPLICATE_LIB_OK=True\n",
            "   KMP_INIT_AT_FORK=FALSE\n",
            "   KMP_SETTINGS=1\n",
            "   OMP_NUM_THREADS=1\n",
            "\n",
            "Effective settings:\n",
            "\n",
            "   KMP_ABORT_DELAY=0\n",
            "   KMP_ADAPTIVE_LOCK_PROPS='1,1024'\n",
            "   KMP_ALIGN_ALLOC=64\n",
            "   KMP_ALL_THREADPRIVATE=128\n",
            "   KMP_ATOMIC_MODE=2\n",
            "   KMP_BLOCKTIME=0\n",
            "   KMP_CPUINFO_FILE: value is not defined\n",
            "   KMP_DETERMINISTIC_REDUCTION=false\n",
            "   KMP_DEVICE_THREAD_LIMIT=2147483647\n",
            "   KMP_DISP_HAND_THREAD=false\n",
            "   KMP_DISP_NUM_BUFFERS=7\n",
            "   KMP_DUPLICATE_LIB_OK=true\n",
            "   KMP_FORCE_REDUCTION: value is not defined\n",
            "   KMP_FOREIGN_THREADS_THREADPRIVATE=true\n",
            "   KMP_FORKJOIN_BARRIER='2,2'\n",
            "   KMP_FORKJOIN_BARRIER_PATTERN='hyper,hyper'\n",
            "   KMP_FORKJOIN_FRAMES=true\n",
            "   KMP_FORKJOIN_FRAMES_MODE=3\n",
            "   KMP_GTID_MODE=3\n",
            "   KMP_HANDLE_SIGNALS=false\n",
            "   KMP_HOT_TEAMS_MAX_LEVEL=1\n",
            "   KMP_HOT_TEAMS_MODE=0\n",
            "   KMP_INIT_AT_FORK=true\n",
            "   KMP_ITT_PREPARE_DELAY=0\n",
            "   KMP_LIBRARY=throughput\n",
            "   KMP_LOCK_KIND=queuing\n",
            "   KMP_MALLOC_POOL_INCR=1M\n",
            "   KMP_MWAIT_HINTS=0\n",
            "   KMP_NUM_LOCKS_IN_BLOCK=1\n",
            "   KMP_PLAIN_BARRIER='2,2'\n",
            "   KMP_PLAIN_BARRIER_PATTERN='hyper,hyper'\n",
            "   KMP_REDUCTION_BARRIER='1,1'\n",
            "   KMP_REDUCTION_BARRIER_PATTERN='hyper,hyper'\n",
            "   KMP_SCHEDULE='static,balanced;guided,iterative'\n",
            "   KMP_SETTINGS=true\n",
            "   KMP_SPIN_BACKOFF_PARAMS='4096,100'\n",
            "   KMP_STACKOFFSET=64\n",
            "   KMP_STACKPAD=0\n",
            "   KMP_STACKSIZE=8M\n",
            "   KMP_STORAGE_MAP=false\n",
            "   KMP_TASKING=2\n",
            "   KMP_TASKLOOP_MIN_TASKS=0\n",
            "   KMP_TASK_STEALING_CONSTRAINT=1\n",
            "   KMP_TEAMS_THREAD_LIMIT=2\n",
            "   KMP_TOPOLOGY_METHOD=all\n",
            "   KMP_USER_LEVEL_MWAIT=false\n",
            "   KMP_USE_YIELD=1\n",
            "   KMP_VERSION=false\n",
            "   KMP_WARNINGS=true\n",
            "   OMP_AFFINITY_FORMAT='OMP: pid %P tid %i thread %n bound to OS proc set {%A}'\n",
            "   OMP_ALLOCATOR=omp_default_mem_alloc\n",
            "   OMP_CANCELLATION=false\n",
            "   OMP_DEBUG=disabled\n",
            "   OMP_DEFAULT_DEVICE=0\n",
            "   OMP_DISPLAY_AFFINITY=false\n",
            "   OMP_DISPLAY_ENV=false\n",
            "   OMP_DYNAMIC=false\n",
            "   OMP_MAX_ACTIVE_LEVELS=2147483647\n",
            "   OMP_MAX_TASK_PRIORITY=0\n",
            "   OMP_NESTED=false\n",
            "   OMP_NUM_THREADS='1'\n",
            "   OMP_PLACES: value is not defined\n",
            "   OMP_PROC_BIND='intel'\n",
            "   OMP_SCHEDULE='static'\n",
            "   OMP_STACKSIZE=8M\n",
            "   OMP_TARGET_OFFLOAD=DEFAULT\n",
            "   OMP_THREAD_LIMIT=2147483647\n",
            "   OMP_TOOL=enabled\n",
            "   OMP_TOOL_LIBRARIES: value is not defined\n",
            "   OMP_WAIT_POLICY=PASSIVE\n",
            "   KMP_AFFINITY='noverbose,warnings,respect,granularity=fine,compact,1,0'\n",
            "\n"
          ],
          "name": "stderr"
        }
      ]
    },
    {
      "cell_type": "markdown",
      "metadata": {
        "id": "dO2x4TI4ZRnq"
      },
      "source": [
        "## **Data Preprocessing with Spark Dataframes**\n",
        "\n",
        "Orca supports Spark Dataframes as the input to the distributed training, and as the input/output of the distributed inference. Consequently, the user can easily process large-scale dataset using Apache Spark, and directly apply AI models on the distributed (and possibly in-memory) Dataframes without data conversion or serialization."
      ]
    },
    {
      "cell_type": "code",
      "metadata": {
        "id": "4xyxitSDZP8V"
      },
      "source": [
        "# Download and extract movielens 1M data.\n",
        "url = 'http://files.grouplens.org/datasets/movielens/ml-1m.zip'\n",
        "local_file = base.maybe_download('ml-1m.zip', '.', url)\n",
        "if not os.path.exists('./ml-1m'):\n",
        "        zip_ref = zipfile.ZipFile(local_file, 'r')\n",
        "        zip_ref.extractall('.')\n",
        "        zip_ref.close()"
      ],
      "execution_count": 5,
      "outputs": []
    },
    {
      "cell_type": "code",
      "metadata": {
        "id": "OxeY0f2Ia7yo"
      },
      "source": [
        "# Read in the dataset, and do a little preprocessing\n",
        "rating_files=\"./ml-1m/ratings.dat\"\n",
        "new_rating_files=\"./ml-1m/ratings_new.dat\"\n",
        "if not os.path.exists(new_rating_files):\n",
        "        fin = open(rating_files, \"rt\")\n",
        "        fout = open(new_rating_files, \"wt\")\n",
        "        for line in fin:\n",
        "            # replace :: to : for spark 2.4 support\n",
        "            fout.write(line.replace('::', ':'))\n",
        "        fin.close()\n",
        "        fout.close()"
      ],
      "execution_count": 6,
      "outputs": []
    },
    {
      "cell_type": "code",
      "metadata": {
        "colab": {
          "base_uri": "https://localhost:8080/"
        },
        "id": "-BVhLa-ebFTe",
        "outputId": "893e4245-1990-48b1-b2e1-b9f4973979c0"
      },
      "source": [
        "# read csv\n",
        "spark = OrcaContext.get_spark_session()\n",
        "df = (\n",
        "    spark\n",
        "    .read.csv(new_rating_files, sep=':', header=True, inferSchema=True)\n",
        "    .toDF(\"user\", \"item\", \"label\", \"timestamp\")\n",
        ")\n",
        "\n",
        "user_set = df.select('user').collect()\n",
        "item_set = df.select('item').collect()\n",
        "\n",
        "min_user_id = min(user_set)[0]\n",
        "max_user_id = max(user_set)[0]\n",
        "min_item_id = min(item_set)[0]\n",
        "max_item_id = max(item_set)[0]\n",
        "print(min_user_id, max_user_id, min_item_id, max_item_id)"
      ],
      "execution_count": 7,
      "outputs": [
        {
          "output_type": "stream",
          "text": [
            ""
          ],
          "name": "stderr"
        },
        {
          "output_type": "stream",
          "text": [
            "1 6040 1 3952\n"
          ],
          "name": "stdout"
        }
      ]
    },
    {
      "cell_type": "code",
      "metadata": {
        "id": "PFLTccOlbTaa"
      },
      "source": [
        "# update label starting from 0\n",
        "df = df.withColumn('label', df.label-1)"
      ],
      "execution_count": 8,
      "outputs": []
    },
    {
      "cell_type": "code",
      "metadata": {
        "id": "kXym4BodbzwS"
      },
      "source": [
        "# split to train/test dataset\n",
        "train_data, test_data = df.randomSplit([0.8, 0.2], 100)"
      ],
      "execution_count": 9,
      "outputs": []
    },
    {
      "cell_type": "code",
      "metadata": {
        "colab": {
          "base_uri": "https://localhost:8080/"
        },
        "id": "DaCa_7CTQLQj",
        "outputId": "9ee5caaa-bdad-42a0-e9b0-b4e88b4fe38c"
      },
      "source": [
        "train_data.printSchema()"
      ],
      "execution_count": 10,
      "outputs": [
        {
          "output_type": "stream",
          "text": [
            "root\n",
            " |-- user: integer (nullable = true)\n",
            " |-- item: integer (nullable = true)\n",
            " |-- label: integer (nullable = true)\n",
            " |-- timestamp: integer (nullable = true)\n",
            "\n"
          ],
          "name": "stdout"
        }
      ]
    },
    {
      "cell_type": "code",
      "metadata": {
        "colab": {
          "base_uri": "https://localhost:8080/"
        },
        "id": "R4s0goJmQQ9L",
        "outputId": "6b7c1560-e067-48e5-dfde-890d14eda97d"
      },
      "source": [
        "train_data.count(), test_data.count()"
      ],
      "execution_count": 11,
      "outputs": [
        {
          "output_type": "stream",
          "text": [
            ""
          ],
          "name": "stderr"
        },
        {
          "output_type": "execute_result",
          "data": {
            "text/plain": [
              "(799608, 200600)"
            ]
          },
          "metadata": {
            "tags": []
          },
          "execution_count": 11
        }
      ]
    },
    {
      "cell_type": "markdown",
      "metadata": {
        "id": "nEgxpdYcb7oC"
      },
      "source": [
        "### **Define NCF Model**"
      ]
    },
    {
      "cell_type": "code",
      "metadata": {
        "id": "OnPGNXK0b8ot",
        "colab": {
          "base_uri": "https://localhost:8080/"
        },
        "outputId": "f2a45a2c-fb12-4ee6-dcf8-df1559d98cac"
      },
      "source": [
        "import tensorflow as tf\n",
        "from tensorflow import keras\n",
        "\n",
        "print(tf.__version__, keras.__version__)\n",
        "def model_creator(config):\n",
        "    embedding_size=16\n",
        "    user = keras.layers.Input(dtype=tf.int32, shape=(None,))\n",
        "    item = keras.layers.Input(dtype=tf.int32, shape=(None,))\n",
        "    label = keras.layers.Input(dtype=tf.int32, shape=(None,))\n",
        "\n",
        "    with tf.name_scope(\"GMF\"):\n",
        "        user_embed_GMF = keras.layers.Embedding(max_user_id + 1, embedding_size)(user)\n",
        "        item_embed_GMF = keras.layers.Embedding(max_item_id + 1, embedding_size)(item)\n",
        "        GMF = keras.layers.Multiply()([user_embed_GMF, item_embed_GMF])\n",
        "\n",
        "    with tf.name_scope(\"MLP\"):\n",
        "        user_embed_MLP = keras.layers.Embedding(max_user_id + 1, embedding_size)(user)\n",
        "        item_embed_MLP = keras.layers.Embedding(max_item_id + 1, embedding_size)(item)\n",
        "        interaction = tf.concat([user_embed_MLP, item_embed_MLP], axis=-1)\n",
        "        layer1_MLP = keras.layers.Dense(units=embedding_size * 2, activation='relu')(interaction)\n",
        "        layer1_MLP = keras.layers.Dropout(rate=0.2)(layer1_MLP)\n",
        "        layer2_MLP = keras.layers.Dense(units=embedding_size, activation='relu')(layer1_MLP)\n",
        "        layer2_MLP = keras.layers.Dropout(rate=0.2)(layer2_MLP)\n",
        "        layer3_MLP = keras.layers.Dense(units=embedding_size // 2, activation='relu')(layer2_MLP)\n",
        "        layer3_MLP = keras.layers.Dropout(rate=0.2)(layer3_MLP)\n",
        "\n",
        "    # Concate the two parts together\n",
        "    with tf.name_scope(\"concatenation\"):\n",
        "        concatenation = tf.concat([GMF, layer3_MLP], axis=-1)\n",
        "        outputs = keras.layers.Dense(units=5, activation='softmax')(concatenation)\n",
        "    \n",
        "    model = keras.Model(inputs=[user, item], outputs=outputs)\n",
        "    model.compile(optimizer= \"adam\",\n",
        "                  loss= \"sparse_categorical_crossentropy\",\n",
        "                  metrics=['accuracy'])\n",
        "    return model"
      ],
      "execution_count": 12,
      "outputs": [
        {
          "output_type": "stream",
          "text": [
            "2.5.0 2.5.0\n"
          ],
          "name": "stdout"
        }
      ]
    },
    {
      "cell_type": "markdown",
      "metadata": {
        "id": "1srWZc5DcHMG"
      },
      "source": [
        "### **Fit with Orca Estimator**"
      ]
    },
    {
      "cell_type": "code",
      "metadata": {
        "id": "tqTuXJbYcRj6",
        "colab": {
          "base_uri": "https://localhost:8080/",
          "height": 1000
        },
        "outputId": "ed75adea-9d28-4c68-87e8-6fc8242916c0"
      },
      "source": [
        "batch_size=1280\n",
        "epochs=2\n",
        "model_dir='./'\n",
        "\n",
        "# create an Estimator\n",
        "est = Estimator.from_keras(model_creator=model_creator, workers_per_node=1)\n",
        "\n",
        "stats = est.fit(train_data,\n",
        "                epochs=epochs,\n",
        "                batch_size=batch_size,\n",
        "                feature_cols=['user', 'item'],\n",
        "                label_cols=['label'],\n",
        "                steps_per_epoch=800000 // batch_size,\n",
        "                validation_data=test_data,\n",
        "                validation_steps = 200000 // batch_size)\n",
        "\n",
        "checkpoint_path = os.path.join(model_dir, \"NCF.ckpt\")\n",
        "est.save(checkpoint_path)"
      ],
      "execution_count": 13,
      "outputs": [
        {
          "output_type": "stream",
          "text": [
            "2021-07-01 01:49:09,322\tINFO services.py:1174 -- View the Ray dashboard at \u001b[1m\u001b[32mhttp://172.28.0.2:8265\u001b[39m\u001b[22m\n"
          ],
          "name": "stderr"
        },
        {
          "output_type": "stream",
          "text": [
            "{'node_ip_address': '172.28.0.2', 'raylet_ip_address': '172.28.0.2', 'redis_address': '172.28.0.2:6379', 'object_store_address': '/tmp/ray/session_2021-07-01_01-49-08_616675_794/sockets/plasma_store', 'raylet_socket_name': '/tmp/ray/session_2021-07-01_01-49-08_616675_794/sockets/raylet', 'webui_url': '172.28.0.2:8265', 'session_dir': '/tmp/ray/session_2021-07-01_01-49-08_616675_794', 'metrics_export_port': 58170, 'node_id': 'ee36a03f96efdf6cf896f5cdd218ba91be4f8f1f9a3f75231995be4d'}\n",
            "\u001b[2m\u001b[36m(pid=1099)\u001b[0m Prepending /usr/local/lib/python3.7/dist-packages/bigdl/share/conf/spark-bigdl.conf to sys.path\n",
            "\u001b[2m\u001b[36m(pid=1099)\u001b[0m Prepending /usr/local/lib/python3.7/dist-packages/zoo/share/conf/spark-analytics-zoo.conf to sys.path\n"
          ],
          "name": "stdout"
        },
        {
          "output_type": "stream",
          "text": [
            "\u001b[2m\u001b[36m(pid=1099)\u001b[0m 2021-07-01 01:49:13.248885: I tensorflow/stream_executor/platform/default/dso_loader.cc:53] Successfully opened dynamic library libcudart.so.11.0\n",
            "\u001b[2m\u001b[36m(pid=1099)\u001b[0m WARNING:tensorflow:From /usr/local/lib/python3.7/dist-packages/zoo/orca/learn/tf2/tf_runner.py:314: _CollectiveAllReduceStrategyExperimental.__init__ (from tensorflow.python.distribute.collective_all_reduce_strategy) is deprecated and will be removed in a future version.\n",
            "\u001b[2m\u001b[36m(pid=1099)\u001b[0m Instructions for updating:\n",
            "\u001b[2m\u001b[36m(pid=1099)\u001b[0m use distribute.MultiWorkerMirroredStrategy instead\n",
            "\u001b[2m\u001b[36m(pid=1099)\u001b[0m 2021-07-01 01:49:14.848027: I tensorflow/stream_executor/platform/default/dso_loader.cc:53] Successfully opened dynamic library libcuda.so.1\n",
            "\u001b[2m\u001b[36m(pid=1099)\u001b[0m 2021-07-01 01:49:14.963457: E tensorflow/stream_executor/cuda/cuda_driver.cc:328] failed call to cuInit: CUDA_ERROR_NO_DEVICE: no CUDA-capable device is detected\n",
            "\u001b[2m\u001b[36m(pid=1099)\u001b[0m 2021-07-01 01:49:14.963684: I tensorflow/stream_executor/cuda/cuda_diagnostics.cc:156] kernel driver does not appear to be running on this host (606070a6e5ed): /proc/driver/nvidia/version does not exist\n",
            "\u001b[2m\u001b[36m(pid=1099)\u001b[0m 2021-07-01 01:49:15.122387: I tensorflow/core/distributed_runtime/rpc/grpc_channel.cc:301] Initialize GrpcChannelCache for job worker -> {0 -> 172.28.0.2:45309}\n",
            "\u001b[2m\u001b[36m(pid=1099)\u001b[0m 2021-07-01 01:49:15.122779: I tensorflow/core/distributed_runtime/rpc/grpc_server_lib.cc:411] Started server with target: grpc://172.28.0.2:45309\n",
            "[Stage 8:>                                                          (0 + 4) / 4]Prepending /usr/local/lib/python3.7/dist-packages/bigdl/share/conf/spark-bigdl.conf to sys.path\n",
            "Prepending /usr/local/lib/python3.7/dist-packages/zoo/share/conf/spark-analytics-zoo.conf to sys.path\n",
            "Prepending /usr/local/lib/python3.7/dist-packages/bigdl/share/conf/spark-bigdl.conf to sys.path\n",
            "Prepending /usr/local/lib/python3.7/dist-packages/bigdl/share/conf/spark-bigdl.conf to sys.path\n",
            "Prepending /usr/local/lib/python3.7/dist-packages/bigdl/share/conf/spark-bigdl.conf to sys.path\n",
            "Prepending /usr/local/lib/python3.7/dist-packages/zoo/share/conf/spark-analytics-zoo.conf to sys.path\n",
            "Prepending /usr/local/lib/python3.7/dist-packages/zoo/share/conf/spark-analytics-zoo.conf to sys.path\n",
            "Prepending /usr/local/lib/python3.7/dist-packages/zoo/share/conf/spark-analytics-zoo.conf to sys.path\n"
          ],
          "name": "stderr"
        },
        {
          "output_type": "stream",
          "text": [
            "\u001b[2m\u001b[36m(pid=1100)\u001b[0m Prepending /usr/local/lib/python3.7/dist-packages/bigdl/share/conf/spark-bigdl.conf to sys.path\n",
            "\u001b[2m\u001b[36m(pid=1100)\u001b[0m Prepending /usr/local/lib/python3.7/dist-packages/zoo/share/conf/spark-analytics-zoo.conf to sys.path\n"
          ],
          "name": "stdout"
        },
        {
          "output_type": "stream",
          "text": [
            "2021-07-01 01:49:46,259\tINFO worker.py:655 -- Connecting to existing Ray cluster at address: 172.28.0.2:6379\n",
            "Prepending /usr/local/lib/python3.7/dist-packages/bigdl/share/conf/spark-bigdl.conf to sys.path\n",
            "Prepending /usr/local/lib/python3.7/dist-packages/zoo/share/conf/spark-analytics-zoo.conf to sys.path\n"
          ],
          "name": "stderr"
        },
        {
          "output_type": "stream",
          "text": [
            "\u001b[2m\u001b[36m(pid=1468)\u001b[0m Prepending /usr/local/lib/python3.7/dist-packages/bigdl/share/conf/spark-bigdl.conf to sys.path\n",
            "\u001b[2m\u001b[36m(pid=1468)\u001b[0m Prepending /usr/local/lib/python3.7/dist-packages/zoo/share/conf/spark-analytics-zoo.conf to sys.path\n"
          ],
          "name": "stdout"
        },
        {
          "output_type": "stream",
          "text": [
            "Prepending /usr/local/lib/python3.7/dist-packages/bigdl/share/conf/spark-bigdl.conf to sys.path\n",
            "Prepending /usr/local/lib/python3.7/dist-packages/zoo/share/conf/spark-analytics-zoo.conf to sys.path\n",
            "[Stage 23:>                                                         (0 + 1) / 1]2021-07-01 01:49:48,710\tINFO worker.py:655 -- Connecting to existing Ray cluster at address: 172.28.0.2:6379\n",
            "\u001b[2m\u001b[36m(pid=1099)\u001b[0m WARNING:tensorflow:From /usr/local/lib/python3.7/dist-packages/zoo/orca/learn/tf2/tf_runner.py:191: StrategyBase.experimental_distribute_datasets_from_function (from tensorflow.python.distribute.distribute_lib) is deprecated and will be removed in a future version.\n",
            "\u001b[2m\u001b[36m(pid=1099)\u001b[0m Instructions for updating:\n",
            "\u001b[2m\u001b[36m(pid=1099)\u001b[0m rename to distribute_datasets_from_function\n",
            "\u001b[2m\u001b[36m(pid=1099)\u001b[0m 2021-07-01 01:49:49.395648: I tensorflow/compiler/mlir/mlir_graph_optimization_pass.cc:176] None of the MLIR Optimization Passes are enabled (registered 2)\n",
            "\u001b[2m\u001b[36m(pid=1099)\u001b[0m 2021-07-01 01:49:49.397969: I tensorflow/core/platform/profile_utils/cpu_utils.cc:114] CPU Frequency: 2200150000 Hz\n"
          ],
          "name": "stderr"
        },
        {
          "output_type": "stream",
          "text": [
            "\u001b[2m\u001b[36m(pid=1099)\u001b[0m Epoch 1/2\n",
            "  1/625 [..............................] - ETA: 29:09 - loss: 1.6129 - accuracy: 0.1898\n",
            "  5/625 [..............................] - ETA: 8s - loss: 1.6107 - accuracy: 0.2294   \n",
            " 10/625 [..............................] - ETA: 7s - loss: 1.6072 - accuracy: 0.2458\n",
            " 14/625 [..............................] - ETA: 7s - loss: 1.6048 - accuracy: 0.2514\n",
            " 19/625 [..............................] - ETA: 7s - loss: 1.6021 - accuracy: 0.2533\n",
            " 23/625 [>.............................] - ETA: 7s - loss: 1.6000 - accuracy: 0.2542\n",
            " 28/625 [>.............................] - ETA: 7s - loss: 1.5971 - accuracy: 0.2574\n",
            " 33/625 [>.............................] - ETA: 7s - loss: 1.5937 - accuracy: 0.2597\n",
            " 37/625 [>.............................] - ETA: 7s - loss: 1.5911 - accuracy: 0.2598\n",
            " 41/625 [>.............................] - ETA: 7s - loss: 1.5882 - accuracy: 0.2602\n",
            " 45/625 [=>............................] - ETA: 7s - loss: 1.5854 - accuracy: 0.2609\n",
            " 49/625 [=>............................] - ETA: 7s - loss: 1.5825 - accuracy: 0.2614\n",
            " 53/625 [=>............................] - ETA: 7s - loss: 1.5797 - accuracy: 0.2620\n",
            " 57/625 [=>............................] - ETA: 7s - loss: 1.5766 - accuracy: 0.2626\n",
            " 61/625 [=>............................] - ETA: 7s - loss: 1.5731 - accuracy: 0.2638\n",
            " 66/625 [==>...........................] - ETA: 7s - loss: 1.5692 - accuracy: 0.2641\n",
            " 70/625 [==>...........................] - ETA: 7s - loss: 1.5660 - accuracy: 0.2657\n",
            " 74/625 [==>...........................] - ETA: 7s - loss: 1.5626 - accuracy: 0.2668\n",
            " 79/625 [==>...........................] - ETA: 6s - loss: 1.5586 - accuracy: 0.2689\n",
            " 84/625 [===>..........................] - ETA: 6s - loss: 1.5543 - accuracy: 0.2714\n",
            " 88/625 [===>..........................] - ETA: 6s - loss: 1.5505 - accuracy: 0.2743\n",
            " 93/625 [===>..........................] - ETA: 6s - loss: 1.5464 - accuracy: 0.2770\n",
            " 97/625 [===>..........................] - ETA: 6s - loss: 1.5441 - accuracy: 0.2785\n",
            "102/625 [===>..........................] - ETA: 6s - loss: 1.5416 - accuracy: 0.2806\n",
            "106/625 [====>.........................] - ETA: 6s - loss: 1.5400 - accuracy: 0.2821\n",
            "111/625 [====>.........................] - ETA: 6s - loss: 1.5386 - accuracy: 0.2829\n",
            "116/625 [====>.........................] - ETA: 6s - loss: 1.5366 - accuracy: 0.2838\n",
            "121/625 [====>.........................] - ETA: 6s - loss: 1.5341 - accuracy: 0.2852\n",
            "125/625 [=====>........................] - ETA: 6s - loss: 1.5317 - accuracy: 0.2864\n",
            "130/625 [=====>........................] - ETA: 6s - loss: 1.5288 - accuracy: 0.2882\n",
            "135/625 [=====>........................] - ETA: 6s - loss: 1.5267 - accuracy: 0.2895\n",
            "140/625 [=====>........................] - ETA: 6s - loss: 1.5242 - accuracy: 0.2905\n",
            "145/625 [=====>........................] - ETA: 5s - loss: 1.5221 - accuracy: 0.2914\n",
            "150/625 [======>.......................] - ETA: 5s - loss: 1.5198 - accuracy: 0.2926\n",
            "155/625 [======>.......................] - ETA: 5s - loss: 1.5168 - accuracy: 0.2939\n",
            "160/625 [======>.......................] - ETA: 5s - loss: 1.5141 - accuracy: 0.2949\n",
            "165/625 [======>.......................] - ETA: 5s - loss: 1.5120 - accuracy: 0.2957\n",
            "170/625 [=======>......................] - ETA: 5s - loss: 1.5092 - accuracy: 0.2967\n",
            "174/625 [=======>......................] - ETA: 5s - loss: 1.5065 - accuracy: 0.2980\n",
            "178/625 [=======>......................] - ETA: 5s - loss: 1.5042 - accuracy: 0.2990\n",
            "183/625 [=======>......................] - ETA: 5s - loss: 1.5018 - accuracy: 0.3001\n",
            "188/625 [========>.....................] - ETA: 5s - loss: 1.4990 - accuracy: 0.3009\n",
            "193/625 [========>.....................] - ETA: 5s - loss: 1.4961 - accuracy: 0.3020\n",
            "198/625 [========>.....................] - ETA: 5s - loss: 1.4935 - accuracy: 0.3032\n",
            "203/625 [========>.....................] - ETA: 5s - loss: 1.4911 - accuracy: 0.3042\n",
            "208/625 [========>.....................] - ETA: 5s - loss: 1.4886 - accuracy: 0.3054\n",
            "212/625 [=========>....................] - ETA: 5s - loss: 1.4865 - accuracy: 0.3064\n",
            "217/625 [=========>....................] - ETA: 5s - loss: 1.4846 - accuracy: 0.3074\n",
            "222/625 [=========>....................] - ETA: 4s - loss: 1.4828 - accuracy: 0.3083\n",
            "227/625 [=========>....................] - ETA: 4s - loss: 1.4809 - accuracy: 0.3091\n",
            "231/625 [==========>...................]\n",
            "\u001b[2m\u001b[36m(pid=1099)\u001b[0m  - ETA: 4s - loss: 1.4794 - accuracy: 0.3100\n",
            "236/625 [==========>...................] - ETA: 4s - loss: 1.4766 - accuracy: 0.3116\n",
            "241/625 [==========>...................] - ETA: 4s - loss: 1.4740 - accuracy: 0.3131\n",
            "246/625 [==========>...................] - ETA: 4s - loss: 1.4714 - accuracy: 0.3144\n",
            "251/625 [===========>..................] - ETA: 4s - loss: 1.4689 - accuracy: 0.3157\n",
            "256/625 [===========>..................] - ETA: 4s - loss: 1.4665 - accuracy: 0.3169\n",
            "261/625 [===========>..................] - ETA: 4s - loss: 1.4643 - accuracy: 0.3182\n",
            "264/625 [===========>..................] - ETA: 4s - loss: 1.4629 - accuracy: 0.3191\n",
            "268/625 [===========>..................] - ETA: 4s - loss: 1.4610 - accuracy: 0.3201\n",
            "273/625 [============>.................] - ETA: 4s - loss: 1.4592 - accuracy: 0.3213\n",
            "278/625 [============>.................] - ETA: 4s - loss: 1.4568 - accuracy: 0.3227\n",
            "283/625 [============>.................] - ETA: 4s - loss: 1.4551 - accuracy: 0.3237\n",
            "287/625 [============>.................] - ETA: 4s - loss: 1.4536 - accuracy: 0.3247\n",
            "289/625 [============>.................] - ETA: 4s - loss: 1.4529 - accuracy: 0.3251\n",
            "290/625 [============>.................] - ETA: 4s - loss: 1.4525 - accuracy: 0.3253\n",
            "292/625 [=============>................] - ETA: 4s - loss: 1.4518 - accuracy: 0.3257\n",
            "294/625 [=============>................] - ETA: 4s - loss: 1.4511 - accuracy: 0.3261\n",
            "297/625 [=============>................] - ETA: 4s - loss: 1.4500 - accuracy: 0.3268\n",
            "301/625 [=============>................] - ETA: 4s - loss: 1.4485 - accuracy: 0.3276\n",
            "305/625 [=============>................] - ETA: 4s - loss: 1.4469 - accuracy: 0.3286\n",
            "309/625 [=============>................] - ETA: 4s - loss: 1.4454 - accuracy: 0.3294\n",
            "311/625 [=============>................]\n",
            "\u001b[2m\u001b[36m(pid=1099)\u001b[0m  - ETA: 4s - loss: 1.4446 - accuracy: 0.3299\n",
            "313/625 [==============>...............] - ETA: 4s - loss: 1.4439 - accuracy: 0.3302\n",
            "317/625 [==============>...............] - ETA: 4s - loss: 1.4425 - accuracy: 0.3310\n",
            "322/625 [==============>...............] - ETA: 4s - loss: 1.4406 - accuracy: 0.3319\n",
            "327/625 [==============>...............] - ETA: 4s - loss: 1.4389 - accuracy: 0.3327\n",
            "331/625 [==============>...............] - ETA: 3s - loss: 1.4378 - accuracy: 0.3332\n",
            "335/625 [===============>..............] - ETA: 3s - loss: 1.4365 - accuracy: 0.3338\n",
            "340/625 [===============>..............] - ETA: 3s - loss: 1.4351 - accuracy: 0.3345\n",
            "343/625 [===============>..............] - ETA: 3s - loss: 1.4341 - accuracy: 0.3350\n",
            "346/625 [===============>..............] - ETA: 3s - loss: 1.4335 - accuracy: 0.3355\n",
            "351/625 [===============>..............] - ETA: 3s - loss: 1.4321 - accuracy: 0.3364\n",
            "356/625 [================>.............] - ETA: 3s - loss: 1.4312 - accuracy: 0.3370\n",
            "360/625 [================>.............] - ETA: 3s - loss: 1.4304 - accuracy: 0.3375\n",
            "365/625 [================>.............] - ETA: 3s - loss: 1.4298 - accuracy: 0.3380\n",
            "370/625 [================>.............] - ETA: 3s - loss: 1.4287 - accuracy: 0.3387\n",
            "374/625 [================>.............] - ETA: 3s - loss: 1.4277 - accuracy: 0.3393\n",
            "378/625 [=================>............] - ETA: 3s - loss: 1.4267 - accuracy: 0.3399\n",
            "382/625 [=================>............] - ETA: 3s - loss: 1.4255 - accuracy: 0.3406\n",
            "387/625 [=================>............] - ETA: 3s - loss: 1.4245 - accuracy: 0.3413\n",
            "391/625 [=================>............] - ETA: 3s - loss: 1.4236 - accuracy: 0.3417\n",
            "395/625 [=================>............] - ETA: 3s - loss: 1.4229 - accuracy: 0.3421\n",
            "399/625 [==================>...........] - ETA: 3s - loss: 1.4221 - accuracy: 0.3425\n",
            "404/625 [==================>...........] - ETA: 2s - loss: 1.4211 - accuracy: 0.3431\n",
            "409/625 [==================>...........] - ETA: 2s - loss: 1.4204 - accuracy: 0.3436\n",
            "413/625 [==================>...........] - ETA: 2s - loss: 1.4198 - accuracy: 0.3439\n",
            "417/625 [===================>..........] - ETA: 2s - loss: 1.4192 - accuracy: 0.3443\n",
            "421/625 [===================>..........] - ETA: 2s - loss: 1.4184 - accuracy: 0.3447\n",
            "426/625 [===================>..........] - ETA: 2s - loss: 1.4174 - accuracy: 0.3453\n",
            "430/625 [===================>..........] - ETA: 2s - loss: 1.4164 - accuracy: 0.3458\n",
            "434/625 [===================>..........] - ETA: 2s - loss: 1.4154 - accuracy: 0.3464\n",
            "439/625 [====================>.........] - ETA: 2s - loss: 1.4142 - accuracy: 0.3471\n",
            "444/625 [====================>.........] - ETA: 2s - loss: 1.4129 - accuracy: 0.3479\n",
            "448/625 [====================>.........] - ETA: 2s - loss: 1.4122 - accuracy: 0.3483\n",
            "452/625 [====================>.........] - ETA: 2s - loss: 1.4115 - accuracy: 0.3487\n",
            "457/625 [====================>.........] - ETA: 2s - loss: 1.4106 - accuracy: 0.3493\n",
            "462/625 [=====================>........] - ETA: 2s - loss: 1.4097 - accuracy: 0.3499\n",
            "467/625 [=====================>........] - ETA: 2s - loss: 1.4088 - accuracy: 0.3504\n",
            "471/625 [=====================>........] - ETA: 2s - loss: 1.4079 - accuracy: 0.3509\n",
            "475/625 [=====================>........] - ETA: 2s - loss: 1.4071 - accuracy: 0.3514\n",
            "479/625 [=====================>........] - ETA: 1s - loss: 1.4065 - accuracy: 0.3518\n",
            "484/625 [======================>.......] - ETA: 1s - loss: 1.4058 - accuracy: 0.3522\n",
            "489/625 [======================>.......] - ETA: 1s - loss: 1.4047 - accuracy: 0.3527\n",
            "494/625 [======================>.......] - ETA: 1s - loss: 1.4035 - accuracy: 0.3534\n",
            "498/625 [======================>.......] - ETA: 1s - loss: 1.4026 - accuracy: 0.3539\n",
            "503/625 [=======================>......] - ETA: 1s - loss: 1.4015 - accuracy: 0.3545\n",
            "508/625 [=======================>......] - ETA: 1s - loss: 1.4005 - accuracy: 0.3550\n",
            "513/625 [=======================>......] - ETA: 1s - loss: 1.3994 - accuracy: 0.3556\n",
            "518/625 [=======================>......] - ETA: 1s - loss: 1.3986 - accuracy: 0.3560\n",
            "523/625 [========================>.....] - ETA: 1s - loss: 1.3978 - accuracy: 0.3564\n",
            "528/625 [========================>.....] - ETA: 1s - loss: 1.3972 - accuracy: 0.3567\n",
            "532/625 [========================>.....] - ETA: 1s - loss: 1.3966 - accuracy: 0.3571\n",
            "537/625 [========================>.....] - ETA: 1s - loss: 1.3961 - accuracy: 0.3574\n",
            "542/625 [=========================>....] - ETA: 1s - loss: 1.3955 - accuracy: 0.3577\n",
            "547/625 [=========================>....] - ETA: 1s - loss: 1.3948 - accuracy: 0.3581\n",
            "552/625 [=========================>....] - ETA: 0s - loss: 1.3940 - accuracy: 0.3586\n",
            "557/625 [=========================>....] - ETA: 0s - loss: 1.3933 - accuracy: 0.3590\n",
            "562/625 [=========================>....] - ETA: 0s - loss: 1.3925 - accuracy: 0.3594\n",
            "567/625 [==========================>...] - ETA: 0s - loss: 1.3916 - accuracy: 0.3599\n",
            "571/625 [==========================>...] - ETA: 0s - loss: 1.3912 - accuracy: 0.3601\n",
            "576/625 [==========================>...] - ETA: 0s - loss: 1.3908 - accuracy: 0.3603\n",
            "581/625 [==========================>...] - ETA: 0s - loss: 1.3904 - accuracy: 0.3606\n",
            "586/625 [===========================>..] - ETA: 0s - loss: 1.3899 - accuracy: 0.3610\n",
            "591/625 [===========================>..] - ETA: 0s - loss: 1.3893 - accuracy: 0.3613\n",
            "596/625 [===========================>..] - ETA: 0s - loss: 1.3887 - accuracy: 0.3617\n",
            "600/625 [===========================>..] - ETA: 0s - loss: 1.3882 - accuracy: 0.3620\n",
            "604/625 [===========================>..] - ETA: 0s - loss: 1.3877 - accuracy: 0.3622\n",
            "609/625 [============================>.] - ETA: 0s - loss: 1.3873 - accuracy: 0.3625\n",
            "614/625 [============================>.] - ETA: 0s - loss: 1.3867 - accuracy: 0.3629\n",
            "618/625 [============================>.] - ETA: 0s - loss: 1.3862 - accuracy: 0.3632\n",
            "622/625 [============================>.] - ETA: 0s - loss: 1.3858 - accuracy: 0.3634\n",
            "625/625 [==============================] - 13s 16ms/step - loss: 1.3855 - accuracy: 0.3636 - val_loss: 1.2635 - val_accuracy: 0.4302\n",
            "\u001b[2m\u001b[36m(pid=1099)\u001b[0m Epoch 2/2\n",
            "  1/625 [..............................] - ETA: 8s - loss: 1.3381 - accuracy: 0.4133\n",
            "  5/625 [..............................] - ETA: 7s - loss: 1.3205 - accuracy: 0.4205\n",
            " 10/625 [..............................] - ETA: 7s - loss: 1.3227 - accuracy: 0.4086\n",
            " 14/625 [..............................] - ETA: 7s - loss: 1.3232 - accuracy: 0.4058\n",
            " 19/625 [..............................] - ETA: 7s - loss: 1.3244 - accuracy: 0.4028\n",
            " 24/625 [>.............................] - ETA: 7s - loss: 1.3231 - accuracy: 0.4010\n",
            " 29/625 [>.............................] - ETA: 7s - loss: 1.3193 - accuracy: 0.4030\n",
            " 34/625 [>.............................] - ETA: 7s - loss: 1.3132 - accuracy: 0.4061\n",
            " 38/625 [>.............................] - ETA: 7s - loss: 1.3105 - accuracy: 0.4075\n",
            " 42/625 [=>............................] - ETA: 7s - loss: 1.3086 - accuracy: 0.4084\n",
            " 47/625 [=>............................] - ETA: 7s - loss: 1.3091 - accuracy: 0.4075\n",
            " 51/625 [=>............................] - ETA: 7s - loss: 1.3090 - accuracy: 0.4073\n",
            " 56/625 [=>............................] - ETA: 6s - loss: 1.3074 - accuracy: 0.4080\n",
            " 60/625 [=>............................] - ETA: 6s - loss: 1.3054 - accuracy: 0.4090\n",
            " 65/625 [==>...........................] - ETA: 6s - loss: 1.3038 - accuracy: 0.4098\n",
            " 69/625 [==>...........................] - ETA: 6s - loss: 1.3040 - accuracy: 0.4089\n",
            " 74/625 [==>...........................] - ETA: 6s - loss: 1.3033 - accuracy: 0.4092\n",
            " 79/625 [==>...........................] - ETA: 6s - loss: 1.3031 - accuracy: 0.4097\n",
            " 84/625 [===>..........................] - ETA: 6s - loss: 1.3009 - accuracy: 0.4110\n",
            " 89/625 [===>..........................] - ETA: 6s - loss: 1.2991 - accuracy: 0.4119\n",
            " 94/625 [===>..........................] - ETA: 6s - loss: 1.2984 - accuracy: 0.4121\n",
            " 97/625 [===>..........................] - ETA: 6s - loss: 1.2983 - accuracy: 0.4120\n",
            "102/625 [===>..........................] - ETA: 6s - loss: 1.2974 - accuracy: 0.4126\n",
            "106/625 [====>.........................] - ETA: 6s - loss: 1.2967 - accuracy: 0.4129\n",
            "111/625 [====>.........................] - ETA: 6s - loss: 1.2966 - accuracy: 0.4129\n",
            "115/625 [====>.........................] - ETA: 6s - loss: 1.2957 - accuracy: 0.4132\n",
            "120/625 [====>.........................] - ETA: 6s - loss: 1.2956 - accuracy: 0.4130\n",
            "125/625 [=====>........................] - ETA: 6s - loss: 1.2944 - accuracy: 0.4129\n",
            "130/625 [=====>........................] - ETA: 6s - loss: 1.2933 - accuracy: 0.4134\n",
            "135/625 [=====>........................] - ETA: 6s - loss: 1.2931 - accuracy: 0.4134\n",
            "139/625 [=====>........................] - ETA: 6s - loss: 1.2926 - accuracy: 0.4136\n",
            "144/625 [=====>........................] - ETA: 5s - loss: 1.2919 - accuracy: 0.4141\n",
            "148/625 [======>.......................] - ETA: 5s - loss: 1.2914 - accuracy: 0.4143\n",
            "153/625 [======>.......................] - ETA: 5s - loss: 1.2907 - accuracy: 0.4148\n",
            "158/625 [======>.......................] - ETA: 5s - loss: 1.2899 - accuracy: 0.4154\n",
            "163/625 [======>.......................] - ETA: 5s - loss: 1.2898 - accuracy: 0.4155\n",
            "167/625 [=======>......................] - ETA: 5s - loss: 1.2901 - accuracy: 0.4153\n",
            "172/625 [=======>......................] - ETA: 5s - loss: 1.2892 - accuracy: 0.4158\n",
            "177/625 [=======>......................] - ETA: 5s - loss: 1.2883 - accuracy: 0.4162\n",
            "180/625 [=======>......................] - ETA: 5s - loss: 1.2880 - accuracy: 0.4164\n",
            "184/625 [=======>......................] - ETA: 5s - loss: 1.2874 - accuracy: 0.4167\n",
            "189/625 [========>.....................] - ETA: 5s - loss: 1.2862 - accuracy: 0.4173\n",
            "194/625 [========>.....................] - ETA: 5s - loss: 1.2845 - accuracy: 0.4179\n",
            "199/625 [========>.....................] - ETA: 5s - loss: 1.2838 - accuracy: 0.4183\n",
            "203/625 [========>.....................] - ETA: 5s - loss: 1.2831 - accuracy: 0.4186\n",
            "207/625 [========>.....................] - ETA: 5s - loss: 1.2829 - accuracy: 0.4188\n",
            "212/625 [=========>....................] - ETA: 5s - loss: 1.2829 - accuracy: 0.4188\n",
            "217/625 [=========>....................] - ETA: 5s - loss: 1.2825 - accuracy: 0.4189\n",
            "222/625 [=========>....................] - ETA: 4s - loss: 1.2825 - accuracy: 0.4188\n",
            "227/625 [=========>....................] - ETA: 4s - loss: 1.2822 - accuracy: 0.4190\n",
            "232/625 [==========>...................] - ETA: 4s - loss: 1.2821 - accuracy: 0.4190\n",
            "237/625 [==========>...................] - ETA: 4s - loss: 1.2815 - accuracy: 0.4194\n",
            "242/625 [==========>...................] - ETA: 4s - loss: 1.2807 - accuracy: 0.4197\n",
            "247/625 [==========>...................] - ETA: 4s - loss: 1.2800 - accuracy: 0.4201\n",
            "252/625 [===========>..................] - ETA: 4s - loss: 1.2795 - accuracy: 0.4203\n",
            "256/625 [===========>..................] - ETA: 4s - loss: 1.2791 - accuracy: 0.4205\n",
            "260/625 [===========>..................] - ETA: 4s - loss: 1.2790 - accuracy: 0.4206\n",
            "264/625 [===========>..................] - ETA: 4s - loss: 1.2787 - accuracy: 0.4207\n",
            "269/625 [===========>..................] - ETA: 4s - loss: 1.2784 - accuracy: 0.4210\n",
            "273/625 [============>.................] - ETA: 4s - loss: 1.2779 - accuracy: 0.4211\n",
            "278/625 [============>.................] - ETA: 4s - loss: 1.2774 - accuracy: 0.4215\n",
            "283/625 [============>.................] - ETA: 4s - loss: 1.2772 - accuracy: 0.4216\n",
            "288/625 [============>.................] - ETA: 4s - loss: 1.2772 - accuracy: 0.4214\n",
            "292/625 [=============>................] - ETA: 4s - loss: 1.2774 - accuracy: 0.4212\n",
            "297/625 [=============>................] - ETA: 4s - loss: 1.2769 - accuracy: 0.4215\n",
            "302/625 [=============>................] - ETA: 3s - loss: 1.2764 - accuracy: 0.4217\n",
            "307/625 [=============>................] - ETA: 3s - loss: 1.2758 - accuracy: 0.4219\n",
            "311/625 [=============>................] - ETA: 3s - loss: 1.2755 - accuracy: 0.4220\n",
            "316/625 [==============>...............] - ETA: 3s - loss: 1.2751 - accuracy: 0.4223\n",
            "321/625 [==============>...............] - ETA: 3s - loss: 1.2743 - accuracy: 0.4226\n",
            "326/625 [==============>...............] - ETA: 3s - loss: 1.2740 - accuracy: 0.4229\n",
            "331/625 [==============>...............] - ETA: 3s - loss: 1.2736 - accuracy: 0.4232\n",
            "336/625 [===============>..............] - ETA: 3s - loss: 1.2733 - accuracy: 0.4233\n",
            "341/625 [===============>..............] - ETA: 3s - loss: 1.2731 - accuracy: 0.4232\n",
            "345/625 [===============>..............] - ETA: 3s - loss: 1.2729 - accuracy: 0.4233\n",
            "350/625 [===============>..............] - ETA: 3s - loss: 1.2727 - accuracy: 0.4233\n",
            "355/625 [================>.............] - ETA: 3s - loss: 1.2725 - accuracy: 0.4234\n",
            "359/625 [================>.............] - ETA: 3s - loss: 1.2725 - accuracy: 0.4234\n",
            "364/625 [================>.............] - ETA: 3s - loss: 1.2726 - accuracy: 0.4235\n",
            "368/625 [================>.............] - ETA: 3s - loss: 1.2724 - accuracy: 0.4238\n",
            "373/625 [================>.............] - ETA: 3s - loss: 1.2721 - accuracy: 0.4241\n",
            "377/625 [=================>............] - ETA: 3s - loss: 1.2719 - accuracy: 0.4243\n",
            "382/625 [=================>............] - ETA: 2s - loss: 1.2713 - accuracy: 0.4246\n",
            "387/625 [=================>............] - ETA: 2s - loss: 1.2711 - accuracy: 0.4247\n",
            "392/625 [=================>............] - ETA: 2s - loss: 1.2712 - accuracy: 0.4246\n",
            "396/625 [==================>...........] - ETA: 2s - loss: 1.2710 - accuracy: 0.4248\n",
            "401/625 [==================>...........] - ETA: 2s - loss: 1.2709 - accuracy: 0.4249\n",
            "406/625 [==================>...........] - ETA: 2s - loss: 1.2708 - accuracy: 0.4249\n",
            "410/625 [==================>...........] - ETA: 2s - loss: 1.2708 - accuracy: 0.4250\n",
            "414/625 [==================>...........] - ETA: 2s - loss: 1.2711 - accuracy: 0.4249\n",
            "419/625 [===================>..........] - ETA: 2s - loss: 1.2710 - accuracy: 0.4251\n",
            "424/625 [===================>..........] - ETA: 2s - loss: 1.2708 - accuracy: 0.4253\n",
            "429/625 [===================>..........] - ETA: 2s - loss: 1.2704 - accuracy: 0.4256\n",
            "432/625 [===================>..........] - ETA: 2s - loss: 1.2701 - accuracy: 0.4258\n",
            "437/625 [===================>..........] - ETA: 2s - loss: 1.2697 - accuracy: 0.4260\n",
            "440/625 [====================>.........] - ETA: 2s - loss: 1.2694 - accuracy: 0.4262\n",
            "444/625 [====================>.........] - ETA: 2s - loss: 1.2691 - accuracy: 0.4264\n",
            "448/625 [====================>.........] - ETA: 2s - loss: 1.2690 - accuracy: 0.4265\n",
            "453/625 [====================>.........] - ETA: 2s - loss: 1.2691 - accuracy: 0.4265\n",
            "458/625 [====================>.........] - ETA: 2s - loss: 1.2689 - accuracy: 0.4266\n",
            "462/625 [=====================>........] - ETA: 2s - loss: 1.2687 - accuracy: 0.4267\n",
            "467/625 [=====================>........] - ETA: 1s - loss: 1.2683 - accuracy: 0.4270\n",
            "471/625 [=====================>........] - ETA: 1s - loss: 1.2678 - accuracy: 0.4273\n",
            "476/625 [=====================>........] - ETA: 1s - loss: 1.2677 - accuracy: 0.4273\n",
            "480/625 [======================>.......] - ETA: 1s - loss: 1.2677 - accuracy: 0.4274\n",
            "484/625 [======================>.......] - ETA: 1s - loss: 1.2677 - accuracy: 0.4274\n",
            "489/625 [======================>.......] - ETA: 1s - loss: 1.2675 - accuracy: 0.4275\n",
            "494/625 [======================>.......] - ETA: 1s - loss: 1.2668 - accuracy: 0.4278\n",
            "498/625 [======================>.......] - ETA: 1s - loss: 1.2666 - accuracy: 0.4279\n",
            "502/625 [=======================>......] - ETA: 1s - loss: 1.2660 - accuracy: 0.4282\n",
            "507/625 [=======================>......] - ETA: 1s - loss: 1.2657 - accuracy: 0.4284\n",
            "511/625 [=======================>......] - ETA: 1s - loss: 1.2653 - accuracy: 0.4286\n",
            "515/625 [=======================>......] - ETA: 1s - loss: 1.2650 - accuracy: 0.4288\n",
            "520/625 [=======================>......] - ETA: 1s - loss: 1.2648 - accuracy: 0.4288\n",
            "525/625 [========================>.....] - ETA: 1s - loss: 1.2646 - accuracy: 0.4289\n",
            "529/625 [========================>.....] - ETA: 1s - loss: 1.2646 - accuracy: 0.4290\n",
            "533/625 [========================>.....] - ETA: 1s - loss: 1.2646 - accuracy: 0.4290\n",
            "538/625 [========================>.....] - ETA: 1s - loss: 1.2645 - accuracy: 0.4291\n",
            "543/625 [=========================>....] - ETA: 1s - loss: 1.2645 - accuracy: 0.4290\n",
            "548/625 [=========================>....] - ETA: 0s - loss: 1.2644 - accuracy: 0.4291\n",
            "552/625 [=========================>....] - ETA: 0s - loss: 1.2642 - accuracy: 0.4292\n",
            "557/625 [=========================>....] - ETA: 0s - loss: 1.2641 - accuracy: 0.4293\n",
            "562/625 [=========================>....] - ETA: 0s - loss: 1.2640 - accuracy: 0.4295\n",
            "566/625 [==========================>...] - ETA: 0s - loss: 1.2638 - accuracy: 0.4296\n",
            "571/625 [==========================>...] - ETA: 0s - loss: 1.2637 - accuracy: 0.4297\n",
            "576/625 [==========================>...] - ETA: 0s - loss: 1.2638 - accuracy: 0.4297\n",
            "580/625 [==========================>...] - ETA: 0s - loss: 1.2638 - accuracy: 0.4298\n",
            "585/625 [===========================>..] - ETA: 0s - loss: 1.2638 - accuracy: 0.4297\n",
            "590/625 [===========================>..] - ETA: 0s - loss: 1.2639 - accuracy: 0.4297\n",
            "593/625 [===========================>..] - ETA: 0s - loss: 1.2639 - accuracy: 0.4297\n",
            "597/625 [===========================>..] - ETA: 0s - loss: 1.2636 - accuracy: 0.4298\n",
            "600/625 [===========================>..] - ETA: 0s - loss: 1.2635 - accuracy: 0.4299\n",
            "605/625 [============================>.] - ETA: 0s - loss: 1.2634 - accuracy: 0.4300\n",
            "609/625 [============================>.] - ETA: 0s - loss: 1.2634 - accuracy: 0.4301\n",
            "614/625 [============================>.] - ETA: 0s - loss: 1.2634 - accuracy: 0.4301\n",
            "619/625 [============================>.] - ETA: 0s - loss: 1.2633 - accuracy: 0.4302\n",
            "624/625 [============================>.] - ETA: 0s - loss: 1.2632 - accuracy: 0.4303\n",
            "625/625 [==============================] - 8s 13ms/step - loss: 1.2632 - accuracy: 0.4302 - val_loss: 1.2209 - val_accuracy: 0.4550\n"
          ],
          "name": "stdout"
        },
        {
          "output_type": "execute_result",
          "data": {
            "application/vnd.google.colaboratory.intrinsic+json": {
              "type": "string"
            },
            "text/plain": [
              "'./NCF.ckpt'"
            ]
          },
          "metadata": {
            "tags": []
          },
          "execution_count": 13
        }
      ]
    },
    {
      "cell_type": "code",
      "metadata": {
        "id": "M-ikO_Da3qHv",
        "colab": {
          "base_uri": "https://localhost:8080/"
        },
        "outputId": "5a28dbdf-90ec-460b-adbf-56ea305ef523"
      },
      "source": [
        "# evaluate with Estimator\n",
        "stats = est.evaluate(test_data, \n",
        "                     feature_cols=['user', 'item'],\n",
        "                     label_cols=['label'],\n",
        "                     num_steps=100000 // batch_size)\n",
        "est.shutdown()\n",
        "print(stats)"
      ],
      "execution_count": 14,
      "outputs": [
        {
          "output_type": "stream",
          "text": [
            ""
          ],
          "name": "stderr"
        },
        {
          "output_type": "stream",
          "text": [
            "\u001b[2m\u001b[36m(pid=1704)\u001b[0m Prepending /usr/local/lib/python3.7/dist-packages/bigdl/share/conf/spark-bigdl.conf to sys.path\n",
            "\u001b[2m\u001b[36m(pid=1704)\u001b[0m Prepending /usr/local/lib/python3.7/dist-packages/zoo/share/conf/spark-analytics-zoo.conf to sys.path\n",
            " 1/78 [..............................] - ETA: 6s - loss: 1.0896 - accuracy: 0.5000\n",
            "32/78 [===========>..................] - ETA: 0s - loss: 1.2652 - accuracy: 0.4238\n",
            "[{'validation_loss': 1.2308145761489868, 'validation_accuracy': 0.45673078298568726}]\n",
            "78/78 [==============================] - 0s 2ms/step - loss: 1.2308 - accuracy: 0.4567\n"
          ],
          "name": "stdout"
        }
      ]
    },
    {
      "cell_type": "code",
      "metadata": {
        "id": "TeJsTahMgFxE",
        "colab": {
          "base_uri": "https://localhost:8080/"
        },
        "outputId": "24a7164d-9812-4114-b95f-ccced598b279"
      },
      "source": [
        "stop_orca_context()"
      ],
      "execution_count": 15,
      "outputs": [
        {
          "output_type": "stream",
          "text": [
            "Stopping orca context\n"
          ],
          "name": "stdout"
        },
        {
          "output_type": "stream",
          "text": [
            "2021-07-01 01:50:21,486\tERROR worker.py:919 -- print_logs: Connection closed by server.\n",
            "2021-07-01 01:50:21,488\tERROR worker.py:1109 -- listen_error_messages_raylet: Connection closed by server.\n",
            "2021-07-01 01:50:21,489\tERROR import_thread.py:89 -- ImportThread: Connection closed by server.\n",
            "2021-07-01 01:50:21,489\tERROR import_thread.py:89 -- ImportThread: Connection closed by server.\n",
            "2021-07-01 01:50:21,492\tERROR worker.py:1109 -- listen_error_messages_raylet: Connection closed by server.\n",
            "2021-07-01 01:50:21,495\tERROR worker.py:919 -- print_logs: Connection closed by server.\n"
          ],
          "name": "stderr"
        }
      ]
    }
  ]
}