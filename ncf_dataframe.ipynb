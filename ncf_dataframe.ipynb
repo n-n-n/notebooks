{
  "nbformat": 4,
  "nbformat_minor": 0,
  "metadata": {
    "colab": {
      "name": "ncf_dataframe.ipynb",
      "provenance": [],
      "toc_visible": true,
      "include_colab_link": true
    },
    "kernelspec": {
      "name": "python3",
      "display_name": "Python 3"
    }
  },
  "cells": [
    {
      "cell_type": "markdown",
      "metadata": {
        "id": "view-in-github",
        "colab_type": "text"
      },
      "source": [
        "<a href=\"https://colab.research.google.com/github/n-n-n/notebooks/blob/main/ncf_dataframe.ipynb\" target=\"_parent\"><img src=\"https://colab.research.google.com/assets/colab-badge.svg\" alt=\"Open In Colab\"/></a>"
      ]
    },
    {
      "cell_type": "markdown",
      "metadata": {
        "id": "VsdUyI7vKEGF"
      },
      "source": [
        "\n",
        "![image.png](data:image/png;base64,/9j/4AAQSkZJRgABAQEAYABgAAD/2wBDAAUDBAQEAwUEBAQFBQUGBwwIBwcHBw8LCwkMEQ8SEhEPERETFhwXExQaFRERGCEYGh0dHx8fExciJCIeJBweHx7/2wBDAQUFBQcGBw4ICA4eFBEUHh4eHh4eHh4eHh4eHh4eHh4eHh4eHh4eHh4eHh4eHh4eHh4eHh4eHh4eHh4eHh4eHh7/wAARCABNAI0DASIAAhEBAxEB/8QAHwAAAQUBAQEBAQEAAAAAAAAAAAECAwQFBgcICQoL/8QAtRAAAgEDAwIEAwUFBAQAAAF9AQIDAAQRBRIhMUEGE1FhByJxFDKBkaEII0KxwRVS0fAkM2JyggkKFhcYGRolJicoKSo0NTY3ODk6Q0RFRkdISUpTVFVWV1hZWmNkZWZnaGlqc3R1dnd4eXqDhIWGh4iJipKTlJWWl5iZmqKjpKWmp6ipqrKztLW2t7i5usLDxMXGx8jJytLT1NXW19jZ2uHi4+Tl5ufo6erx8vP09fb3+Pn6/8QAHwEAAwEBAQEBAQEBAQAAAAAAAAECAwQFBgcICQoL/8QAtREAAgECBAQDBAcFBAQAAQJ3AAECAxEEBSExBhJBUQdhcRMiMoEIFEKRobHBCSMzUvAVYnLRChYkNOEl8RcYGRomJygpKjU2Nzg5OkNERUZHSElKU1RVVldYWVpjZGVmZ2hpanN0dXZ3eHl6goOEhYaHiImKkpOUlZaXmJmaoqOkpaanqKmqsrO0tba3uLm6wsPExcbHyMnK0tPU1dbX2Nna4uPk5ebn6Onq8vP09fb3+Pn6/9oADAMBAAIRAxEAPwD7LrzPT/i1p958WpvAy2O2NZHgjvjPw8yrkptxxyGXOeorrfiDr0XhnwbqmuyEFrW3Zogf4pDwg/FiK+WW8OajpHw10T4lwM51E6w0zuTyU3fu2P1dG/77r2crwNLEQlKr192P+J6/16niZpj6uHnGNLp70v8ACnY+gP2hfiafhR4AXxUNGGr5vYrX7P8AafJ++GO7dtbpt6Y710Hwx8baL8QPBVh4q0Gbfa3aZaNj88Eg+/G47Mp4/IjgivC/25dVt9b/AGY9P1i0IMF5qVnOnPQMkhx+HT8K84+Gt/q/7OmseF9du5bm7+HXjfTrSa6Yjd9humiUs3Hdck/7UeRyUrx3FxbT3R7UZKSTWzPozQvjRp+q/HrVPhPHol3HeafE8j3rTKY3Coj8L1/jH5VN+0Z8XLP4Q+DrbWpdN/tW7vLsW1tZ/aPJ3/KWdi21sBQB26kV4d8Npobj/goV4puYJUlhlsZHjkRgyupt4CGBHUEHOaZ8W7WD42/te2Pw8lkaTQPDVhMLwoxwJSm52/B2hT/gJpDPqD4aeLbLxx4C0bxZp6eXBqdqk3lltxifo6E9yrAr+Fcd8IvjNp/xD8beKfDFpol3Yy+HpWilmlmVlmIlePIA5HKZ5ryv9gjxDeadbeKvhRrRKaj4fv3lijbqEL7JVHsJFB/7aVmfsV/8l7+Lv/X6/wD6VzUAeufDf456d4p+Kmr/AA41Pw/e+H9d00SYS5nR1nMZG4IV/wBkhx6rk1j+Pf2kNM0D4jap4J0TwnqniW90q2ee9ks5kVY/LQvIvIJJUYB/2jt61xX7bXhTUPC+r6J8cvCMyWesaTcRW962B+8BJWJyP4sZMbDurDsK3P2Gvh22j+Crj4i60/2nX/FJM4mc7nS2LEjJ/vO2Xb/gPpQBiN+2ZpiXq2T/AA38RrdPysBlQSN9F25PQ16T4d+OVpq0XhJpPC+p2UniMkJHPIoa3xcND8wIyc7d3HY15N49z/w8U8Jcn/jyj7/9O9xXffG8Z+PfgEHPL24/8ma78uw8K9ZxntZv7k2efmVedCipw3ul97Ol+O/x48I/CdYbTUkuNT1q4TzINNtSN+zON7seEUkEDqT2B5rkPhB+0u/jX4g6d4O1f4fap4duNUEjWc0s+9HCIznIZEOMKeRnnFec/s8WFr4+/bA8f+JvE0aXlzo885sYZhuETLP5MbYP9xFwPQkHrX2HdWFndTW01xbQzS2snmwO6BmifBBZSeVOCRx2JrgPQPn/AMdftQ22m+Pb3wn4K8Cax40n01mW+msnIVChw+wKjlgp4LHAyOM9a9b+EHjyy+I/ge18U2Gm6hp0M7vH5N7HtcMh2tgjhlzkbh6HoQRXyVc6b8Vf2Z/iN4k8T6X4dTxF4S1SUyT3IUsvlb2dd7L80LruIJIKnPfjH1N8C/iXoHxR8FLr+hQyWnlymC7s5cb7eYAMVyOGBDAhh1z2OQADvaKKKAPF/wBpaHxDrseieE9D0u+uI7m4E11PHAzRJztQMwGAASzHPoKgv/2edCXSp0tNb1p7pYW8lZJU8oyAHbkbemcd69b8Wa7Y+GfDOpeIdT837FptrJdT+Um5tiAk4Hc4HSvD/wDhsH4Qf89Nf/8ABd/9lXpU80r0aUKVF8qV/m/M8yplVCtVlUqrmb/BeR5n8T9H8a6v+y5N4RHhXXZr/TtegeCBLCVnaBlkJ2gDJCtuyR03CvoTRPAmneL/ANnXQvBfivT5Ujl0G0hmjkTbNbSrCuGAPKujD9CDxmuH/wCGwfhB/wA9Nf8A/Bd/9nR/w2D8IP8Anpr/AP4Lv/s65MTX9vVlVta+tjrwtD6vRjSve3U8V+BXgrxj8JP2gtefVtF1PUxo+h3rWs9vaySJfKqKYVjIByWAAC9RyO1aXwJ/ZsvfiFpus+MfiVd+J/D+rX2oyFIYlFvLID8zyOJEJwXYgdPu19g+BvEll4v8K2HiTTre9gsr+LzbdbuLypGQk7W25OARyPUEGsP4mfFfwH8OrcP4r8QW1nO67orRMy3Eg9RGuWx7nA96wOg+aLD4Xa98Df2m/C+p+E7HxH4g8NahGIb+7+ztO0SysY5RK0agAKdkgyOg9qwPh5rXxM+E/wAXPH2r6f8ACTxF4gh1jUZ1R1tZ40CrcSMHVhGwYENXo+qftseB4rpo9O8K+IbuJTgSSNFFu9wNzfrW/wCC/wBr74Wa3cpa6sNW8PSM20SXsAeHP+/GWx9SAKAD9omTxP8AED9kz7XH4T1O21vUHtJpNIjgklnhInGVK7Q3AGTwK9I/Zzsb3Tfgb4PsNRtJ7O7g0uJJoJ4ykkbDOQynkH2Ndpo+p6frGmw6lpV9bX1lOu+G4t5RJHIPUMODVugD5a8beGvEU/7efhjxDBoOqS6PDaRrLfpaubdD5E4wZMbRyQOvcV23xi0fV7741+Cb+z0u9uLW3aHz54oGZIsXGTuYDA455r2+vLfih8fvhl8PbmSx1nXRdanGcPYaennzIfRsEKh9mYGunCYl4apzpX0a+9WOXF4VYmnyN21T+53PGvjF8P8A4h/C7403Pxi+FmmPrNlqJZtV02KMyMC+DKCi/MyMQHDLkq3bGM9P8Lfjl8R/iH8RNH0aL4Y3vh7RQZG1W9uEllAxE+xQzIgQF9vqx6cVhy/tteDhORF4N8QPDn77Swq2P93J/nXe/Dv9qP4UeLrqKxk1S40C9lICRatGIkZs4wJQSn5kVzHUeZ678aPjT4Th8R+D/G3wzudc1O8edNNvbGFzaGOTKqoCo3mxjPHIbHDc816B+xF8N9d+H/wyu5PEts9lqWsXgufsj/fgiVAqBx2Y/MSOwIB5yK94jdJUDowZWAKlTkEHvT6ACiiigDO8T6Jp/iPw7qGg6rG0thqFu9tcIrlC0bghgCORweorxv8A4ZM+Cv8A0L99/wCDSf8A+Kr3WigD548T/sz/AAE8OeHr/XtX0e9t7Cwge4uJDqk/yooJP8XJ7AdyQK+TvgL8OrT4sfG37Dp+mSWHheCdr27h8xnMForfLCXPJZuEz15Y9q9s/wCCgfxSMstr8K9FnJOUutYMZySesMBx+Dkf7nvXtP7JXwvX4Z/C2CO/gEevattvNTLDDRkj5Ifoinn/AGi1AGH+1f8AGyD4TeGrbw74ZW3/AOElvoMWqBQUsIB8olK9M8YRenBJ4GD4P8CP2cPEXxXc+PPiNrGoWmm6g3noWbfe6gCfvlnzsQ9iQSR0AGDXN+HbZvjz+13I+ps02l3OoyTSqScCxt87Y/YMqqv1cmvsXxn8YNF8F+NIvCtzo84tIIo/PuYjgQKy5GyMDLALjp9ADitqGHqV5ONNXaV/kjGviKdCKlUdk3b5kWi/s2/BjS7NbdPBNndEDDS3c0szt7ks3H4AVy3xD/ZJ+F+v2UreH7a58MagV/dy2srSw7u26Jycj/dKmtL4gWvjH4oabKnh+8sbDSbVopEia4Ia5ZwSN8qEqNqFG2DIBcZYkYHf/Dx9V0SztfCfiO7W71C3tVe3uxuxdRjAYZPJeMkA+qlG7kBypQVFVFPVvbqvMmNabrSpuGiW/R+R8PeHNf8AiR+y38Tzouro93otwwkmtUcm2voc482En7kg9eCCMMCK+/8Awj4g0vxT4asPEOi3K3OnX8CzwSDup7EdiDkEdiCK8q/bF8C2fjb4I6tdJCj6locbajZSryRsGZUz6Mgbj1C+leG/sY/FSXw38GfiBYXcnmDw5aNq2no/I+dWBT6eYEP1c1gdBv8A7ZHx/wBS07VZvhn4BupYr7iLVL+3JMqM3/LvERyG5G5hyM7Rg5qh8Dv2P473T4dc+KV3dJNOBIukW0mxkzz++k5O71Vends8Vx/7CHg8eNfi/qnjXXs3v9igXW6UZ8y9mZtrn1IxI312ntX35QB5Xb/s7fBiC1FsngHTGQDG52ld/wDvotn9a8v+LX7HfhHU9PnvPh/dT6DqagtHazytNaSn+6S2XT65Ye1fUlFAHwT+zr8ZPFHwf8cH4afEn7TFosdwLZkujl9Lc9HU94TkEgcYIZe4P3qjK6B0YMpGQQcgivkj/gop4CtZ/DWlfEK0hRL20nWwvWUYMkL7jGW/3WBH0f2FeofsW+L7jxd8BdKe9mM15pMj6ZM7NksIsGMn/tmyD8KAPaKKKKACuP8AjL470/4c/DvVPFeobX+yx7baAnBnnbiOMfU9fQAntXYV8Cftj+PL/wCJ/wAXrH4b+FN15Z6Zdi0ijiORc37nY7fRfuA9vnPQ0AM/Y+8Cah8VPjFf/EbxXuvLLTLv7bPJIPlub5zuRPov3yO2EHQ197ajG8un3EURw7xOq/UggVynwV8Baf8ADf4c6Z4Usdjtbx77qcDH2i4bmST8TwPRQB2rsz0oA/PH9gaRLL9oh7a7+WeXS7uBFbr5gZGI+uEavqP4mfEbRNB+KVvpdz4ITWL23hULdLGrXJMikqkK7SW6469SQPf5U+Omkav8Df2nk8V6TARaTXx1fTichJUdj50BPbBZ0I67WU96+5/h94g8JfEPw/pnjXREtLwSR4jleJTPav8AxRMeqMpOCM+44INdGGq06Um6kbqzW9jmxVKpVilTlZ3T2ueK2ngHVPEngKSztdestLa3uUuJbRpz9luFkDFZncEjzASY+OP3RB3EAjubvwbq91pGk+DLfxhqkl/Y2yzXF4oj2Wi7GRQp2eZmTLIAWzsDk/w5vfGH4TW3jCIXWj3EWmam0gNwW3eTcqM8uinG8E5DYzyQfbr/AIe+GYfCfhe10lZ2up40BuLl87pnwBnkk4AAUDsqgdq3lXthIRU9U27W2879fQ540b4ucnDRxSvffyt09TzTw94M1D4b/Bzxy3iLVbe5il065l8qJmMcarA4J+bHLZGeOw618W/BCxu7r4ffFiW3VikXhdN+P+vuF/8A0GN/1r6R/bz+L1jp3hiX4ZaJdLLquobW1Qxtn7Nbg7hGx7O5A47KDn7wrT/Yt+FCWPwN1e48RWpSTxnEwkjZcMLIoyR/i293Hsy1zYivPEVHUnuzrw9CGHpqnDZHN/8ABNO7tzpPjWxDKLhbi0lI7lCsgH6g/nX2BX5u/CHxHqX7O/7Q15pniSOUWCSNp+phVPzwMQY7hB3AwrjuVJHU1+jGk6hZarp1vqOnXUN3Z3MaywzwuGSRCMhgR1BrE2LVFFITigDwr9u+5gg/Zx1iKYgPc3dpFDnu4mV+P+Ao1cr/AME4baeP4R67cuCIZtccR577YYgT+teT/twfFWHx74vsPAXhSX+0NP0q4PmyW/zi6vW+QKmPvBASoI6szY4AJ+t/2dvArfDv4Q6J4ZnC/bo4jPfEHObiQ7nGe+0kLn0WgD0GiiigDyD9rH4or8M/hdc3FlOE17VN1ppig/MjEfPN9EXn/eKjvX5//Bz4iXPw38ajxZbaLYaxqEcTpAb4uRCz8NINpBLYyMn+8a/Vi5s7W5Km4t4Ziv3TJGGx9M1F/ZWm/wDQPtP+/C/4UAfDn/DbXjv/AKFLw3+c/wD8XR/w2147/wChS8N/nP8A/F19x/2Vpv8A0D7T/vwv+FH9lab/ANA+0/78L/hQB4b4bsdP/ad/Z7tb3xjp9tp17NcT/ZJ7IEm0kjcoHXeSSCB8yk4I9OCPmS+8NfHD9mzxLPqWkm5OlO3zXltEZ7C6QdPNT+Bsf3sMOcHvX6K28EVvH5cMaRoOiooUfkKe6hlKsAQRggjrQB8UaH+3BqkVqE1rwDZ3VwF5ktNRaFSf91kfH51znjP9rX4m+MlOieC9Eh0OS5yi/Yle7vGz2RsYB9wufQivs/VPhl8O9UnNxqPgbw1dzE5Mkulwlj9Tt5rW0Dwz4d0BCmhaFpelKRgiztI4c/8AfIFAHx3+zv8Asta3qutxeMPizFLFb+b9oXSrh99xdyZzuuDztUnkqTubvgdftiKNIkWONVVFACqBgADsKcKKAPF/2mfgNpXxZ0qO9tJotN8T2cZW1vWX5JU5PlS45K56MOVJPUEg/JmgeL/jl+zhqTaNfWNxFpPmEizv4zNYyknlopFOFJ6/Kw68jNfo3UN5a295bvb3UEU8LjDRyIGVh7g8GgD40tv247lbIrcfDqF7oDG6PVyqE/Qxk/rXBeMvjz8ZfjNK/hbwtpk1naXI2SWWixO8sintJMeQvrjaMda+3J/hV8NJ7n7TN8P/AAs82c7zpMOc/wDfNdNpGk6ZpFr9l0rTrOwt/wDnlbQLEn5KAKAPm39lX9mdfBF5B4x8ceRc+IYxus7KMh4rEn+Mt0eX0xwvYk4I+nqKKACiiigD/9k=)\n",
        "---"
      ]
    },
    {
      "cell_type": "markdown",
      "metadata": {
        "id": "gQWPKGb4KNv6"
      },
      "source": [
        "## **Environment Preparation**"
      ]
    },
    {
      "cell_type": "markdown",
      "metadata": {
        "id": "gwxHGCOQKToI"
      },
      "source": [
        "**Install Java 8**\n",
        "\n",
        "Run the cell on the **Google Colab** to install jdk 1.8.\n",
        "\n",
        "**Note:** if you run this notebook on your computer, root permission is required when running the cell to install Java 8. (You may ignore this cell if Java 8 has already been set up in your computer)."
      ]
    },
    {
      "cell_type": "code",
      "metadata": {
        "id": "zV2cU3jJIXCg",
        "colab": {
          "base_uri": "https://localhost:8080/"
        },
        "outputId": "1a32120b-6017-4474-91a5-864af57ba7fd"
      },
      "source": [
        "# Install jdk8\n",
        "! apt-get install openjdk-8-jdk-headless -qq > /dev/null\n",
        "\n",
        "import os\n",
        "# Set environment variable JAVA_HOME.\n",
        "os.environ[\"JAVA_HOME\"] = \"/usr/lib/jvm/java-8-openjdk-amd64\"\n",
        "! update-alternatives --set java /usr/lib/jvm/java-8-openjdk-amd64/jre/bin/java\n",
        "! java -version"
      ],
      "execution_count": 1,
      "outputs": [
        {
          "output_type": "stream",
          "text": [
            "openjdk version \"1.8.0_292\"\n",
            "OpenJDK Runtime Environment (build 1.8.0_292-8u292-b10-0ubuntu1~18.04-b10)\n",
            "OpenJDK 64-Bit Server VM (build 25.292-b10, mixed mode)\n"
          ],
          "name": "stdout"
        }
      ]
    },
    {
      "cell_type": "markdown",
      "metadata": {
        "id": "zDMnBeFSKz21"
      },
      "source": [
        "**Install Analytics Zoo**\n",
        "\n",
        "You can install the latest release version or latest pre-release version using `pip install --pre --upgrade analytics-zoo`. "
      ]
    },
    {
      "cell_type": "code",
      "metadata": {
        "id": "8FKTQXbDYWWr",
        "colab": {
          "base_uri": "https://localhost:8080/"
        },
        "outputId": "966906f4-faf8-4c72-ab17-a99794962804"
      },
      "source": [
        "# Install latest release version of analytics-zoo \n",
        "# Installing analytics-zoo from pip will automatically install pyspark, bigdl, and their dependencies.\n",
        "! pip install --pre --upgrade analytics-zoo[ray]"
      ],
      "execution_count": 2,
      "outputs": [
        {
          "output_type": "stream",
          "text": [
            "Requirement already up-to-date: analytics-zoo[ray] in /usr/local/lib/python3.7/dist-packages (0.11.0b20210630)\n",
            "Requirement already satisfied, skipping upgrade: bigdl==0.12.2 in /usr/local/lib/python3.7/dist-packages (from analytics-zoo[ray]) (0.12.2)\n",
            "Requirement already satisfied, skipping upgrade: conda-pack==0.3.1 in /usr/local/lib/python3.7/dist-packages (from analytics-zoo[ray]) (0.3.1)\n",
            "Requirement already satisfied, skipping upgrade: pyspark==2.4.3 in /usr/local/lib/python3.7/dist-packages (from analytics-zoo[ray]) (2.4.3)\n",
            "Requirement already satisfied, skipping upgrade: aioredis==1.1.0; extra == \"ray\" in /usr/local/lib/python3.7/dist-packages (from analytics-zoo[ray]) (1.1.0)\n",
            "Requirement already satisfied, skipping upgrade: hiredis==1.1.0; extra == \"ray\" in /usr/local/lib/python3.7/dist-packages (from analytics-zoo[ray]) (1.1.0)\n",
            "Requirement already satisfied, skipping upgrade: ray==1.2.0; extra == \"ray\" in /usr/local/lib/python3.7/dist-packages (from analytics-zoo[ray]) (1.2.0)\n",
            "Requirement already satisfied, skipping upgrade: psutil; extra == \"ray\" in /usr/local/lib/python3.7/dist-packages (from analytics-zoo[ray]) (5.4.8)\n",
            "Requirement already satisfied, skipping upgrade: setproctitle; extra == \"ray\" in /usr/local/lib/python3.7/dist-packages (from analytics-zoo[ray]) (1.2.2)\n",
            "Requirement already satisfied, skipping upgrade: aiohttp==3.7.0; extra == \"ray\" in /usr/local/lib/python3.7/dist-packages (from analytics-zoo[ray]) (3.7.0)\n",
            "Requirement already satisfied, skipping upgrade: six>=1.10.0 in /usr/local/lib/python3.7/dist-packages (from bigdl==0.12.2->analytics-zoo[ray]) (1.15.0)\n",
            "Requirement already satisfied, skipping upgrade: numpy>=1.7 in /usr/local/lib/python3.7/dist-packages (from bigdl==0.12.2->analytics-zoo[ray]) (1.19.5)\n",
            "Requirement already satisfied, skipping upgrade: setuptools in /usr/local/lib/python3.7/dist-packages (from conda-pack==0.3.1->analytics-zoo[ray]) (57.0.0)\n",
            "Requirement already satisfied, skipping upgrade: py4j==0.10.7 in /usr/local/lib/python3.7/dist-packages (from pyspark==2.4.3->analytics-zoo[ray]) (0.10.7)\n",
            "Requirement already satisfied, skipping upgrade: async-timeout in /usr/local/lib/python3.7/dist-packages (from aioredis==1.1.0; extra == \"ray\"->analytics-zoo[ray]) (3.0.1)\n",
            "Requirement already satisfied, skipping upgrade: msgpack<2.0.0,>=1.0.0 in /usr/local/lib/python3.7/dist-packages (from ray==1.2.0; extra == \"ray\"->analytics-zoo[ray]) (1.0.2)\n",
            "Requirement already satisfied, skipping upgrade: protobuf>=3.8.0 in /usr/local/lib/python3.7/dist-packages (from ray==1.2.0; extra == \"ray\"->analytics-zoo[ray]) (3.12.4)\n",
            "Requirement already satisfied, skipping upgrade: colorama in /usr/local/lib/python3.7/dist-packages (from ray==1.2.0; extra == \"ray\"->analytics-zoo[ray]) (0.4.4)\n",
            "Requirement already satisfied, skipping upgrade: aiohttp-cors in /usr/local/lib/python3.7/dist-packages (from ray==1.2.0; extra == \"ray\"->analytics-zoo[ray]) (0.7.0)\n",
            "Requirement already satisfied, skipping upgrade: grpcio>=1.28.1 in /usr/local/lib/python3.7/dist-packages (from ray==1.2.0; extra == \"ray\"->analytics-zoo[ray]) (1.34.1)\n",
            "Requirement already satisfied, skipping upgrade: opencensus in /usr/local/lib/python3.7/dist-packages (from ray==1.2.0; extra == \"ray\"->analytics-zoo[ray]) (0.7.13)\n",
            "Requirement already satisfied, skipping upgrade: gpustat in /usr/local/lib/python3.7/dist-packages (from ray==1.2.0; extra == \"ray\"->analytics-zoo[ray]) (1.0.0b1)\n",
            "Requirement already satisfied, skipping upgrade: py-spy>=0.2.0 in /usr/local/lib/python3.7/dist-packages (from ray==1.2.0; extra == \"ray\"->analytics-zoo[ray]) (0.4.0.dev1)\n",
            "Requirement already satisfied, skipping upgrade: pyyaml in /usr/local/lib/python3.7/dist-packages (from ray==1.2.0; extra == \"ray\"->analytics-zoo[ray]) (3.13)\n",
            "Requirement already satisfied, skipping upgrade: prometheus-client>=0.7.1 in /usr/local/lib/python3.7/dist-packages (from ray==1.2.0; extra == \"ray\"->analytics-zoo[ray]) (0.11.0)\n",
            "Requirement already satisfied, skipping upgrade: jsonschema in /usr/local/lib/python3.7/dist-packages (from ray==1.2.0; extra == \"ray\"->analytics-zoo[ray]) (2.6.0)\n",
            "Requirement already satisfied, skipping upgrade: click>=7.0 in /usr/local/lib/python3.7/dist-packages (from ray==1.2.0; extra == \"ray\"->analytics-zoo[ray]) (7.1.2)\n",
            "Requirement already satisfied, skipping upgrade: colorful in /usr/local/lib/python3.7/dist-packages (from ray==1.2.0; extra == \"ray\"->analytics-zoo[ray]) (0.6.0a1)\n",
            "Requirement already satisfied, skipping upgrade: requests in /usr/local/lib/python3.7/dist-packages (from ray==1.2.0; extra == \"ray\"->analytics-zoo[ray]) (2.23.0)\n",
            "Requirement already satisfied, skipping upgrade: filelock in /usr/local/lib/python3.7/dist-packages (from ray==1.2.0; extra == \"ray\"->analytics-zoo[ray]) (3.0.12)\n",
            "Requirement already satisfied, skipping upgrade: redis>=3.5.0 in /usr/local/lib/python3.7/dist-packages (from ray==1.2.0; extra == \"ray\"->analytics-zoo[ray]) (3.5.3)\n",
            "Requirement already satisfied, skipping upgrade: multidict<7.0,>=4.5 in /usr/local/lib/python3.7/dist-packages (from aiohttp==3.7.0; extra == \"ray\"->analytics-zoo[ray]) (5.1.0)\n",
            "Requirement already satisfied, skipping upgrade: attrs>=17.3.0 in /usr/local/lib/python3.7/dist-packages (from aiohttp==3.7.0; extra == \"ray\"->analytics-zoo[ray]) (21.2.0)\n",
            "Requirement already satisfied, skipping upgrade: yarl<2.0,>=1.0 in /usr/local/lib/python3.7/dist-packages (from aiohttp==3.7.0; extra == \"ray\"->analytics-zoo[ray]) (1.6.3)\n",
            "Requirement already satisfied, skipping upgrade: chardet<4.0,>=2.0 in /usr/local/lib/python3.7/dist-packages (from aiohttp==3.7.0; extra == \"ray\"->analytics-zoo[ray]) (3.0.4)\n",
            "Requirement already satisfied, skipping upgrade: opencensus-context==0.1.2 in /usr/local/lib/python3.7/dist-packages (from opencensus->ray==1.2.0; extra == \"ray\"->analytics-zoo[ray]) (0.1.2)\n",
            "Requirement already satisfied, skipping upgrade: google-api-core<2.0.0,>=1.0.0 in /usr/local/lib/python3.7/dist-packages (from opencensus->ray==1.2.0; extra == \"ray\"->analytics-zoo[ray]) (1.26.3)\n",
            "Requirement already satisfied, skipping upgrade: blessed>=1.17.1 in /usr/local/lib/python3.7/dist-packages (from gpustat->ray==1.2.0; extra == \"ray\"->analytics-zoo[ray]) (1.18.1)\n",
            "Requirement already satisfied, skipping upgrade: nvidia-ml-py3>=7.352.0 in /usr/local/lib/python3.7/dist-packages (from gpustat->ray==1.2.0; extra == \"ray\"->analytics-zoo[ray]) (7.352.0)\n",
            "Requirement already satisfied, skipping upgrade: urllib3!=1.25.0,!=1.25.1,<1.26,>=1.21.1 in /usr/local/lib/python3.7/dist-packages (from requests->ray==1.2.0; extra == \"ray\"->analytics-zoo[ray]) (1.24.3)\n",
            "Requirement already satisfied, skipping upgrade: certifi>=2017.4.17 in /usr/local/lib/python3.7/dist-packages (from requests->ray==1.2.0; extra == \"ray\"->analytics-zoo[ray]) (2021.5.30)\n",
            "Requirement already satisfied, skipping upgrade: idna<3,>=2.5 in /usr/local/lib/python3.7/dist-packages (from requests->ray==1.2.0; extra == \"ray\"->analytics-zoo[ray]) (2.10)\n",
            "Requirement already satisfied, skipping upgrade: typing-extensions>=3.7.4; python_version < \"3.8\" in /usr/local/lib/python3.7/dist-packages (from yarl<2.0,>=1.0->aiohttp==3.7.0; extra == \"ray\"->analytics-zoo[ray]) (3.7.4.3)\n",
            "Requirement already satisfied, skipping upgrade: pytz in /usr/local/lib/python3.7/dist-packages (from google-api-core<2.0.0,>=1.0.0->opencensus->ray==1.2.0; extra == \"ray\"->analytics-zoo[ray]) (2018.9)\n",
            "Requirement already satisfied, skipping upgrade: googleapis-common-protos<2.0dev,>=1.6.0 in /usr/local/lib/python3.7/dist-packages (from google-api-core<2.0.0,>=1.0.0->opencensus->ray==1.2.0; extra == \"ray\"->analytics-zoo[ray]) (1.53.0)\n",
            "Requirement already satisfied, skipping upgrade: packaging>=14.3 in /usr/local/lib/python3.7/dist-packages (from google-api-core<2.0.0,>=1.0.0->opencensus->ray==1.2.0; extra == \"ray\"->analytics-zoo[ray]) (20.9)\n",
            "Requirement already satisfied, skipping upgrade: google-auth<2.0dev,>=1.21.1 in /usr/local/lib/python3.7/dist-packages (from google-api-core<2.0.0,>=1.0.0->opencensus->ray==1.2.0; extra == \"ray\"->analytics-zoo[ray]) (1.31.0)\n",
            "Requirement already satisfied, skipping upgrade: wcwidth>=0.1.4 in /usr/local/lib/python3.7/dist-packages (from blessed>=1.17.1->gpustat->ray==1.2.0; extra == \"ray\"->analytics-zoo[ray]) (0.2.5)\n",
            "Requirement already satisfied, skipping upgrade: pyparsing>=2.0.2 in /usr/local/lib/python3.7/dist-packages (from packaging>=14.3->google-api-core<2.0.0,>=1.0.0->opencensus->ray==1.2.0; extra == \"ray\"->analytics-zoo[ray]) (2.4.7)\n",
            "Requirement already satisfied, skipping upgrade: cachetools<5.0,>=2.0.0 in /usr/local/lib/python3.7/dist-packages (from google-auth<2.0dev,>=1.21.1->google-api-core<2.0.0,>=1.0.0->opencensus->ray==1.2.0; extra == \"ray\"->analytics-zoo[ray]) (4.2.2)\n",
            "Requirement already satisfied, skipping upgrade: rsa<5,>=3.1.4; python_version >= \"3.6\" in /usr/local/lib/python3.7/dist-packages (from google-auth<2.0dev,>=1.21.1->google-api-core<2.0.0,>=1.0.0->opencensus->ray==1.2.0; extra == \"ray\"->analytics-zoo[ray]) (4.7.2)\n",
            "Requirement already satisfied, skipping upgrade: pyasn1-modules>=0.2.1 in /usr/local/lib/python3.7/dist-packages (from google-auth<2.0dev,>=1.21.1->google-api-core<2.0.0,>=1.0.0->opencensus->ray==1.2.0; extra == \"ray\"->analytics-zoo[ray]) (0.2.8)\n",
            "Requirement already satisfied, skipping upgrade: pyasn1>=0.1.3 in /usr/local/lib/python3.7/dist-packages (from rsa<5,>=3.1.4; python_version >= \"3.6\"->google-auth<2.0dev,>=1.21.1->google-api-core<2.0.0,>=1.0.0->opencensus->ray==1.2.0; extra == \"ray\"->analytics-zoo[ray]) (0.4.8)\n"
          ],
          "name": "stdout"
        }
      ]
    },
    {
      "cell_type": "markdown",
      "metadata": {
        "id": "Zy-92WBjYdx5"
      },
      "source": [
        "## **Using Spark Dataframes for Distribtued Deep Learning** \n",
        "\n",
        "In this guide we will describe how to use Spark Dataframes to process large-scale dataset."
      ]
    },
    {
      "cell_type": "markdown",
      "metadata": {
        "id": "DAy37CZkYy3p"
      },
      "source": [
        "#### **Intialization** \n",
        "\n",
        "import necessary libraries"
      ]
    },
    {
      "cell_type": "code",
      "metadata": {
        "id": "3mNCKlZLY5xI",
        "colab": {
          "base_uri": "https://localhost:8080/"
        },
        "outputId": "6e3ff7d7-9e55-46de-bc38-fd2a2d0b7e30"
      },
      "source": [
        "import os\n",
        "import zipfile\n",
        "import argparse\n",
        "\n",
        "import numpy as np\n",
        "\n",
        "from bigdl.dataset import base\n",
        "from sklearn.model_selection import train_test_split\n",
        "\n",
        "from zoo.orca import init_orca_context, stop_orca_context\n",
        "from zoo.orca import OrcaContext\n",
        "from zoo.orca.learn.tf2 import Estimator\n",
        "from zoo.orca.data import SharedValue\n",
        "\n",
        "from pyspark.sql.functions import col\n",
        "import zoo.orca.data.pandas"
      ],
      "execution_count": 3,
      "outputs": [
        {
          "output_type": "stream",
          "text": [
            "Prepending /usr/local/lib/python3.7/dist-packages/bigdl/share/conf/spark-bigdl.conf to sys.path\n",
            "Adding /usr/local/lib/python3.7/dist-packages/zoo/share/lib/analytics-zoo-bigdl_0.12.2-spark_2.4.3-0.11.0-SNAPSHOT-jar-with-dependencies.jar to BIGDL_JARS\n",
            "Prepending /usr/local/lib/python3.7/dist-packages/zoo/share/conf/spark-analytics-zoo.conf to sys.path\n"
          ],
          "name": "stdout"
        }
      ]
    },
    {
      "cell_type": "markdown",
      "metadata": {
        "id": "kU0wwMFgY9hs"
      },
      "source": [
        "## **Init Orca Context** "
      ]
    },
    {
      "cell_type": "code",
      "metadata": {
        "id": "InTPPklsZMNW",
        "colab": {
          "base_uri": "https://localhost:8080/"
        },
        "outputId": "126cbd8b-33a8-41a5-8371-8fadf54d3bc5"
      },
      "source": [
        "# recommended to set it to True when running Analytics Zoo in Jupyter notebook \n",
        "OrcaContext.log_output = True # (this will display terminal's stdout and stderr in the Jupyter notebook).\n",
        "\n",
        "cluster_mode = \"local\"\n",
        "\n",
        "if cluster_mode == \"local\":  \n",
        "    init_orca_context(cluster_mode=\"local\", cores=4) # run in local mode\n",
        "elif cluster_mode == \"yarn\":  \n",
        "    init_orca_context(cluster_mode=\"yarn-client\", num_nodes=2, cores=2, driver_memory=\"6g\") # run on Hadoop YARN cluster"
      ],
      "execution_count": 4,
      "outputs": [
        {
          "output_type": "stream",
          "text": [
            "Initializing orca context\n",
            "Current pyspark location is : /usr/local/lib/python3.7/dist-packages/pyspark/__init__.py\n",
            "Start to getOrCreate SparkContext\n",
            "pyspark_submit_args is:  --driver-class-path /usr/local/lib/python3.7/dist-packages/zoo/share/lib/analytics-zoo-bigdl_0.12.2-spark_2.4.3-0.11.0-SNAPSHOT-jar-with-dependencies.jar:/usr/local/lib/python3.7/dist-packages/bigdl/share/lib/bigdl-0.12.2-jar-with-dependencies.jar pyspark-shell \n",
            "2021-06-30 13:42:43 WARN  NativeCodeLoader:62 - Unable to load native-hadoop library for your platform... using builtin-java classes where applicable\n"
          ],
          "name": "stdout"
        },
        {
          "output_type": "stream",
          "text": [
            "SLF4J: Class path contains multiple SLF4J bindings.\n",
            "SLF4J: Found binding in [jar:file:/usr/local/lib/python3.7/dist-packages/zoo/share/lib/analytics-zoo-bigdl_0.12.2-spark_2.4.3-0.11.0-SNAPSHOT-jar-with-dependencies.jar!/org/slf4j/impl/StaticLoggerBinder.class]\n",
            "SLF4J: Found binding in [jar:file:/usr/local/lib/python3.7/dist-packages/pyspark/jars/slf4j-log4j12-1.7.16.jar!/org/slf4j/impl/StaticLoggerBinder.class]\n",
            "SLF4J: See http://www.slf4j.org/codes.html#multiple_bindings for an explanation.\n",
            "SLF4J: Actual binding is of type [org.slf4j.impl.Log4jLoggerFactory]\n",
            "Setting default log level to \"WARN\".\n",
            "To adjust logging level use sc.setLogLevel(newLevel). For SparkR, use setLogLevel(newLevel).\n"
          ],
          "name": "stderr"
        },
        {
          "output_type": "stream",
          "text": [
            "cls.getname: com.intel.analytics.bigdl.python.api.Sample\n",
            "BigDLBasePickler registering: bigdl.util.common  Sample\n",
            "cls.getname: com.intel.analytics.bigdl.python.api.EvaluatedResult\n",
            "BigDLBasePickler registering: bigdl.util.common  EvaluatedResult\n",
            "cls.getname: com.intel.analytics.bigdl.python.api.JTensor\n",
            "BigDLBasePickler registering: bigdl.util.common  JTensor\n",
            "cls.getname: com.intel.analytics.bigdl.python.api.JActivity\n",
            "Successfully got a SparkContext\n",
            "BigDLBasePickler registering: bigdl.util.common  JActivity\n"
          ],
          "name": "stdout"
        },
        {
          "output_type": "stream",
          "text": [
            "\n",
            "User settings:\n",
            "\n",
            "   KMP_AFFINITY=granularity=fine,compact,1,0\n",
            "   KMP_BLOCKTIME=0\n",
            "   KMP_DUPLICATE_LIB_OK=True\n",
            "   KMP_INIT_AT_FORK=FALSE\n",
            "   KMP_SETTINGS=1\n",
            "   OMP_NUM_THREADS=1\n",
            "\n",
            "Effective settings:\n",
            "\n",
            "   KMP_ABORT_DELAY=0\n",
            "   KMP_ADAPTIVE_LOCK_PROPS='1,1024'\n",
            "   KMP_ALIGN_ALLOC=64\n",
            "   KMP_ALL_THREADPRIVATE=128\n",
            "   KMP_ATOMIC_MODE=2\n",
            "   KMP_BLOCKTIME=0\n",
            "   KMP_CPUINFO_FILE: value is not defined\n",
            "   KMP_DETERMINISTIC_REDUCTION=false\n",
            "   KMP_DEVICE_THREAD_LIMIT=2147483647\n",
            "   KMP_DISP_HAND_THREAD=false\n",
            "   KMP_DISP_NUM_BUFFERS=7\n",
            "   KMP_DUPLICATE_LIB_OK=true\n",
            "   KMP_FORCE_REDUCTION: value is not defined\n",
            "   KMP_FOREIGN_THREADS_THREADPRIVATE=true\n",
            "   KMP_FORKJOIN_BARRIER='2,2'\n",
            "   KMP_FORKJOIN_BARRIER_PATTERN='hyper,hyper'\n",
            "   KMP_FORKJOIN_FRAMES=true\n",
            "   KMP_FORKJOIN_FRAMES_MODE=3\n",
            "   KMP_GTID_MODE=3\n",
            "   KMP_HANDLE_SIGNALS=false\n",
            "   KMP_HOT_TEAMS_MAX_LEVEL=1\n",
            "   KMP_HOT_TEAMS_MODE=0\n",
            "   KMP_INIT_AT_FORK=true\n",
            "   KMP_ITT_PREPARE_DELAY=0\n",
            "   KMP_LIBRARY=throughput\n",
            "   KMP_LOCK_KIND=queuing\n",
            "   KMP_MALLOC_POOL_INCR=1M\n",
            "   KMP_MWAIT_HINTS=0\n",
            "   KMP_NUM_LOCKS_IN_BLOCK=1\n",
            "   KMP_PLAIN_BARRIER='2,2'\n",
            "   KMP_PLAIN_BARRIER_PATTERN='hyper,hyper'\n",
            "   KMP_REDUCTION_BARRIER='1,1'\n",
            "   KMP_REDUCTION_BARRIER_PATTERN='hyper,hyper'\n",
            "   KMP_SCHEDULE='static,balanced;guided,iterative'\n",
            "   KMP_SETTINGS=true\n",
            "   KMP_SPIN_BACKOFF_PARAMS='4096,100'\n",
            "   KMP_STACKOFFSET=64\n",
            "   KMP_STACKPAD=0\n",
            "   KMP_STACKSIZE=8M\n",
            "   KMP_STORAGE_MAP=false\n",
            "   KMP_TASKING=2\n",
            "   KMP_TASKLOOP_MIN_TASKS=0\n",
            "   KMP_TASK_STEALING_CONSTRAINT=1\n",
            "   KMP_TEAMS_THREAD_LIMIT=2\n",
            "   KMP_TOPOLOGY_METHOD=all\n",
            "   KMP_USER_LEVEL_MWAIT=false\n",
            "   KMP_USE_YIELD=1\n",
            "   KMP_VERSION=false\n",
            "   KMP_WARNINGS=true\n",
            "   OMP_AFFINITY_FORMAT='OMP: pid %P tid %i thread %n bound to OS proc set {%A}'\n",
            "   OMP_ALLOCATOR=omp_default_mem_alloc\n",
            "   OMP_CANCELLATION=false\n",
            "   OMP_DEBUG=disabled\n",
            "   OMP_DEFAULT_DEVICE=0\n",
            "   OMP_DISPLAY_AFFINITY=false\n",
            "   OMP_DISPLAY_ENV=false\n",
            "   OMP_DYNAMIC=false\n",
            "   OMP_MAX_ACTIVE_LEVELS=2147483647\n",
            "   OMP_MAX_TASK_PRIORITY=0\n",
            "   OMP_NESTED=false\n",
            "   OMP_NUM_THREADS='1'\n",
            "   OMP_PLACES: value is not defined\n",
            "   OMP_PROC_BIND='intel'\n",
            "   OMP_SCHEDULE='static'\n",
            "   OMP_STACKSIZE=8M\n",
            "   OMP_TARGET_OFFLOAD=DEFAULT\n",
            "   OMP_THREAD_LIMIT=2147483647\n",
            "   OMP_TOOL=enabled\n",
            "   OMP_TOOL_LIBRARIES: value is not defined\n",
            "   OMP_WAIT_POLICY=PASSIVE\n",
            "   KMP_AFFINITY='noverbose,warnings,respect,granularity=fine,compact,1,0'\n",
            "\n"
          ],
          "name": "stderr"
        }
      ]
    },
    {
      "cell_type": "markdown",
      "metadata": {
        "id": "dO2x4TI4ZRnq"
      },
      "source": [
        "## **Data Preprocessing with Spark Dataframes**\n",
        "\n",
        "Orca supports Spark Dataframes as the input to the distributed training, and as the input/output of the distributed inference. Consequently, the user can easily process large-scale dataset using Apache Spark, and directly apply AI models on the distributed (and possibly in-memory) Dataframes without data conversion or serialization."
      ]
    },
    {
      "cell_type": "code",
      "metadata": {
        "id": "4xyxitSDZP8V"
      },
      "source": [
        "# Download and extract movielens 1M data.\n",
        "url = 'http://files.grouplens.org/datasets/movielens/ml-1m.zip'\n",
        "local_file = base.maybe_download('ml-1m.zip', '.', url)\n",
        "if not os.path.exists('./ml-1m'):\n",
        "        zip_ref = zipfile.ZipFile(local_file, 'r')\n",
        "        zip_ref.extractall('.')\n",
        "        zip_ref.close()"
      ],
      "execution_count": 5,
      "outputs": []
    },
    {
      "cell_type": "code",
      "metadata": {
        "id": "OxeY0f2Ia7yo"
      },
      "source": [
        "# Read in the dataset, and do a little preprocessing\n",
        "rating_files=\"./ml-1m/ratings.dat\"\n",
        "new_rating_files=\"./ml-1m/ratings_new.dat\"\n",
        "if not os.path.exists(new_rating_files):\n",
        "        fin = open(rating_files, \"rt\")\n",
        "        fout = open(new_rating_files, \"wt\")\n",
        "        for line in fin:\n",
        "            # replace :: to : for spark 2.4 support\n",
        "            fout.write(line.replace('::', ':'))\n",
        "        fin.close()\n",
        "        fout.close()"
      ],
      "execution_count": 6,
      "outputs": []
    },
    {
      "cell_type": "code",
      "metadata": {
        "colab": {
          "base_uri": "https://localhost:8080/"
        },
        "id": "-BVhLa-ebFTe",
        "outputId": "d8bba2f2-f544-4ca7-d0ff-213c97017e5d"
      },
      "source": [
        "# read csv\n",
        "spark = OrcaContext.get_spark_session()\n",
        "df = (\n",
        "    spark\n",
        "    .read.csv(new_rating_files, sep=':', header=True, inferSchema=True)\n",
        "    .toDF(\"user\", \"item\", \"label\", \"timestamp\")\n",
        ")\n",
        "\n",
        "user_set = df.select('user').collect()\n",
        "item_set = df.select('item').collect()\n",
        "\n",
        "min_user_id = min(user_set)[0]\n",
        "max_user_id = max(user_set)[0]\n",
        "min_item_id = min(item_set)[0]\n",
        "max_item_id = max(item_set)[0]\n",
        "print(min_user_id, max_user_id, min_item_id, max_item_id)"
      ],
      "execution_count": 7,
      "outputs": [
        {
          "output_type": "stream",
          "text": [
            ""
          ],
          "name": "stderr"
        },
        {
          "output_type": "stream",
          "text": [
            "1 6040 1 3952\n"
          ],
          "name": "stdout"
        }
      ]
    },
    {
      "cell_type": "code",
      "metadata": {
        "id": "PFLTccOlbTaa"
      },
      "source": [
        "# update label starting from 0\n",
        "df = df.withColumn('label', df.label-1)"
      ],
      "execution_count": 8,
      "outputs": []
    },
    {
      "cell_type": "code",
      "metadata": {
        "id": "kXym4BodbzwS"
      },
      "source": [
        "# split to train/test dataset\n",
        "train_data, test_data = df.randomSplit([0.8, 0.2], 100)"
      ],
      "execution_count": 9,
      "outputs": []
    },
    {
      "cell_type": "code",
      "metadata": {
        "colab": {
          "base_uri": "https://localhost:8080/"
        },
        "id": "DaCa_7CTQLQj",
        "outputId": "05dac4a1-ecaf-4dc8-c60a-246ef36ab7f9"
      },
      "source": [
        "train_data.printSchema()"
      ],
      "execution_count": 10,
      "outputs": [
        {
          "output_type": "stream",
          "text": [
            "root\n",
            " |-- user: integer (nullable = true)\n",
            " |-- item: integer (nullable = true)\n",
            " |-- label: integer (nullable = true)\n",
            " |-- timestamp: integer (nullable = true)\n",
            "\n"
          ],
          "name": "stdout"
        }
      ]
    },
    {
      "cell_type": "code",
      "metadata": {
        "colab": {
          "base_uri": "https://localhost:8080/"
        },
        "id": "R4s0goJmQQ9L",
        "outputId": "9bd61043-786a-4f1d-fcac-a7305fcfe356"
      },
      "source": [
        "train_data.count(), test_data.count()"
      ],
      "execution_count": 11,
      "outputs": [
        {
          "output_type": "stream",
          "text": [
            ""
          ],
          "name": "stderr"
        },
        {
          "output_type": "execute_result",
          "data": {
            "text/plain": [
              "(799608, 200600)"
            ]
          },
          "metadata": {
            "tags": []
          },
          "execution_count": 11
        }
      ]
    },
    {
      "cell_type": "markdown",
      "metadata": {
        "id": "nEgxpdYcb7oC"
      },
      "source": [
        "### **Define NCF Model**"
      ]
    },
    {
      "cell_type": "code",
      "metadata": {
        "id": "OnPGNXK0b8ot",
        "colab": {
          "base_uri": "https://localhost:8080/"
        },
        "outputId": "a3f252fe-cc58-4956-d8de-58eae90406a0"
      },
      "source": [
        "import tensorflow as tf\n",
        "from tensorflow import keras\n",
        "\n",
        "print(tf.__version__, keras.__version__)\n",
        "def model_creator(config):\n",
        "    embedding_size=16\n",
        "    user = keras.layers.Input(dtype=tf.int32, shape=(None,))\n",
        "    item = keras.layers.Input(dtype=tf.int32, shape=(None,))\n",
        "    label = keras.layers.Input(dtype=tf.int32, shape=(None,))\n",
        "\n",
        "    with tf.name_scope(\"GMF\"):\n",
        "        user_embed_GMF = keras.layers.Embedding(max_user_id + 1, embedding_size)(user)\n",
        "        item_embed_GMF = keras.layers.Embedding(max_item_id + 1, embedding_size)(item)\n",
        "        GMF = keras.layers.Multiply()([user_embed_GMF, item_embed_GMF])\n",
        "\n",
        "    with tf.name_scope(\"MLP\"):\n",
        "        user_embed_MLP = keras.layers.Embedding(max_user_id + 1, embedding_size)(user)\n",
        "        item_embed_MLP = keras.layers.Embedding(max_item_id + 1, embedding_size)(item)\n",
        "        interaction = tf.concat([user_embed_MLP, item_embed_MLP], axis=-1)\n",
        "        layer1_MLP = keras.layers.Dense(units=embedding_size * 2, activation='relu')(interaction)\n",
        "        layer1_MLP = keras.layers.Dropout(rate=0.2)(layer1_MLP)\n",
        "        layer2_MLP = keras.layers.Dense(units=embedding_size, activation='relu')(layer1_MLP)\n",
        "        layer2_MLP = keras.layers.Dropout(rate=0.2)(layer2_MLP)\n",
        "        layer3_MLP = keras.layers.Dense(units=embedding_size // 2, activation='relu')(layer2_MLP)\n",
        "        layer3_MLP = keras.layers.Dropout(rate=0.2)(layer3_MLP)\n",
        "\n",
        "    # Concate the two parts together\n",
        "    with tf.name_scope(\"concatenation\"):\n",
        "        concatenation = tf.concat([GMF, layer3_MLP], axis=-1)\n",
        "        outputs = keras.layers.Dense(units=5, activation='softmax')(concatenation)\n",
        "    \n",
        "    model = keras.Model(inputs=[user, item], outputs=outputs)\n",
        "    model.compile(optimizer= \"adam\",\n",
        "                  loss= \"sparse_categorical_crossentropy\",\n",
        "                  metrics=['accuracy'])\n",
        "    return model"
      ],
      "execution_count": 12,
      "outputs": [
        {
          "output_type": "stream",
          "text": [
            "2.5.0 2.5.0\n"
          ],
          "name": "stdout"
        }
      ]
    },
    {
      "cell_type": "markdown",
      "metadata": {
        "id": "1srWZc5DcHMG"
      },
      "source": [
        "### **Fit with Orca Estimator**"
      ]
    },
    {
      "cell_type": "code",
      "metadata": {
        "id": "tqTuXJbYcRj6",
        "colab": {
          "base_uri": "https://localhost:8080/",
          "height": 1000
        },
        "outputId": "36f252f5-77f4-4b77-a934-e0f45f3e58f6"
      },
      "source": [
        "batch_size=1280\n",
        "epochs=2\n",
        "model_dir='./'\n",
        "\n",
        "# create an Estimator\n",
        "est = Estimator.from_keras(model_creator=model_creator, workers_per_node=1)\n",
        "\n",
        "stats = est.fit(train_data,\n",
        "                epochs=epochs,\n",
        "                batch_size=batch_size,\n",
        "                feature_cols=['user', 'item'],\n",
        "                label_cols=['label'],\n",
        "                steps_per_epoch=800000 // batch_size,\n",
        "                validation_data=test_data,\n",
        "                validation_steps = 200000 // batch_size)\n",
        "\n",
        "checkpoint_path = os.path.join(model_dir, \"NCF.ckpt\")\n",
        "est.save(checkpoint_path)"
      ],
      "execution_count": 13,
      "outputs": [
        {
          "output_type": "stream",
          "text": [
            "2021-06-30 13:43:21,522\tINFO services.py:1174 -- View the Ray dashboard at \u001b[1m\u001b[32mhttp://172.28.0.2:8265\u001b[39m\u001b[22m\n"
          ],
          "name": "stderr"
        },
        {
          "output_type": "stream",
          "text": [
            "{'node_ip_address': '172.28.0.2', 'raylet_ip_address': '172.28.0.2', 'redis_address': '172.28.0.2:6379', 'object_store_address': '/tmp/ray/session_2021-06-30_13-43-20_698221_1732/sockets/plasma_store', 'raylet_socket_name': '/tmp/ray/session_2021-06-30_13-43-20_698221_1732/sockets/raylet', 'webui_url': '172.28.0.2:8265', 'session_dir': '/tmp/ray/session_2021-06-30_13-43-20_698221_1732', 'metrics_export_port': 60889, 'node_id': '49c8ac40c338e2340fd9ae995f64e4ec674341b86ffd6c90cb201eb5'}\n",
            "\u001b[2m\u001b[36m(pid=2025)\u001b[0m Prepending /usr/local/lib/python3.7/dist-packages/bigdl/share/conf/spark-bigdl.conf to sys.path\n",
            "\u001b[2m\u001b[36m(pid=2025)\u001b[0m Prepending /usr/local/lib/python3.7/dist-packages/zoo/share/conf/spark-analytics-zoo.conf to sys.path\n"
          ],
          "name": "stdout"
        },
        {
          "output_type": "stream",
          "text": [
            "\u001b[2m\u001b[36m(pid=2025)\u001b[0m 2021-06-30 13:43:25.386469: I tensorflow/stream_executor/platform/default/dso_loader.cc:53] Successfully opened dynamic library libcudart.so.11.0\n",
            "\u001b[2m\u001b[36m(pid=2025)\u001b[0m WARNING:tensorflow:From /usr/local/lib/python3.7/dist-packages/zoo/orca/learn/tf2/tf_runner.py:314: _CollectiveAllReduceStrategyExperimental.__init__ (from tensorflow.python.distribute.collective_all_reduce_strategy) is deprecated and will be removed in a future version.\n",
            "\u001b[2m\u001b[36m(pid=2025)\u001b[0m Instructions for updating:\n",
            "\u001b[2m\u001b[36m(pid=2025)\u001b[0m use distribute.MultiWorkerMirroredStrategy instead\n",
            "\u001b[2m\u001b[36m(pid=2025)\u001b[0m 2021-06-30 13:43:27.078391: I tensorflow/stream_executor/platform/default/dso_loader.cc:53] Successfully opened dynamic library libcuda.so.1\n",
            "\u001b[2m\u001b[36m(pid=2025)\u001b[0m 2021-06-30 13:43:27.090523: E tensorflow/stream_executor/cuda/cuda_driver.cc:328] failed call to cuInit: CUDA_ERROR_NO_DEVICE: no CUDA-capable device is detected\n",
            "\u001b[2m\u001b[36m(pid=2025)\u001b[0m 2021-06-30 13:43:27.090642: I tensorflow/stream_executor/cuda/cuda_diagnostics.cc:156] kernel driver does not appear to be running on this host (85b68a06cb3f): /proc/driver/nvidia/version does not exist\n",
            "\u001b[2m\u001b[36m(pid=2025)\u001b[0m 2021-06-30 13:43:27.099538: I tensorflow/core/distributed_runtime/rpc/grpc_channel.cc:301] Initialize GrpcChannelCache for job worker -> {0 -> 172.28.0.2:43179}\n",
            "\u001b[2m\u001b[36m(pid=2025)\u001b[0m 2021-06-30 13:43:27.099916: I tensorflow/core/distributed_runtime/rpc/grpc_server_lib.cc:411] Started server with target: grpc://172.28.0.2:43179\n",
            "[Stage 8:>                                                          (0 + 4) / 4]Prepending /usr/local/lib/python3.7/dist-packages/bigdl/share/conf/spark-bigdl.conf to sys.path\n",
            "Prepending /usr/local/lib/python3.7/dist-packages/zoo/share/conf/spark-analytics-zoo.conf to sys.path\n",
            "Prepending /usr/local/lib/python3.7/dist-packages/bigdl/share/conf/spark-bigdl.conf to sys.path\n",
            "Prepending /usr/local/lib/python3.7/dist-packages/bigdl/share/conf/spark-bigdl.conf to sys.path\n",
            "Prepending /usr/local/lib/python3.7/dist-packages/bigdl/share/conf/spark-bigdl.conf to sys.path\n",
            "Prepending /usr/local/lib/python3.7/dist-packages/zoo/share/conf/spark-analytics-zoo.conf to sys.path\n",
            "Prepending /usr/local/lib/python3.7/dist-packages/zoo/share/conf/spark-analytics-zoo.conf to sys.path\n",
            "Prepending /usr/local/lib/python3.7/dist-packages/zoo/share/conf/spark-analytics-zoo.conf to sys.path\n"
          ],
          "name": "stderr"
        },
        {
          "output_type": "stream",
          "text": [
            "\u001b[2m\u001b[36m(pid=2026)\u001b[0m Prepending /usr/local/lib/python3.7/dist-packages/bigdl/share/conf/spark-bigdl.conf to sys.path\n",
            "\u001b[2m\u001b[36m(pid=2026)\u001b[0m Prepending /usr/local/lib/python3.7/dist-packages/zoo/share/conf/spark-analytics-zoo.conf to sys.path\n"
          ],
          "name": "stdout"
        },
        {
          "output_type": "stream",
          "text": [
            "2021-06-30 13:43:57,671\tINFO worker.py:655 -- Connecting to existing Ray cluster at address: 172.28.0.2:6379\n"
          ],
          "name": "stderr"
        },
        {
          "output_type": "stream",
          "text": [
            "\u001b[2m\u001b[36m(pid=2416)\u001b[0m Prepending /usr/local/lib/python3.7/dist-packages/bigdl/share/conf/spark-bigdl.conf to sys.path\n",
            "\u001b[2m\u001b[36m(pid=2416)\u001b[0m Prepending /usr/local/lib/python3.7/dist-packages/zoo/share/conf/spark-analytics-zoo.conf to sys.path\n"
          ],
          "name": "stdout"
        },
        {
          "output_type": "stream",
          "text": [
            "\u001b[2m\u001b[36m(pid=2025)\u001b[0m WARNING:tensorflow:From /usr/local/lib/python3.7/dist-packages/zoo/orca/learn/tf2/tf_runner.py:191: StrategyBase.experimental_distribute_datasets_from_function (from tensorflow.python.distribute.distribute_lib) is deprecated and will be removed in a future version.\n",
            "\u001b[2m\u001b[36m(pid=2025)\u001b[0m Instructions for updating:\n",
            "\u001b[2m\u001b[36m(pid=2025)\u001b[0m rename to distribute_datasets_from_function\n"
          ],
          "name": "stderr"
        },
        {
          "output_type": "stream",
          "text": [
            "\u001b[2m\u001b[36m(pid=2025)\u001b[0m Epoch 1/2\n"
          ],
          "name": "stdout"
        },
        {
          "output_type": "stream",
          "text": [
            "\u001b[2m\u001b[36m(pid=2025)\u001b[0m 2021-06-30 13:43:59.585230: I tensorflow/compiler/mlir/mlir_graph_optimization_pass.cc:176] None of the MLIR Optimization Passes are enabled (registered 2)\n",
            "\u001b[2m\u001b[36m(pid=2025)\u001b[0m 2021-06-30 13:43:59.585878: I tensorflow/core/platform/profile_utils/cpu_utils.cc:114] CPU Frequency: 2199995000 Hz\n"
          ],
          "name": "stderr"
        },
        {
          "output_type": "stream",
          "text": [
            "\u001b[2m\u001b[36m(pid=2025)\u001b[0m \r  1/625 [..............................] - ETA: 34:51 - loss: 1.6046 - accuracy: 0.3156\n",
            "\u001b[2m\u001b[36m(pid=2025)\u001b[0m \b\b\b\b\b\b\b\b\b\b\b\b\b\b\b\b\b\b\b\b\b\b\b\b\b\b\b\b\b\b\b\b\b\b\b\b\b\b\b\b\b\b\b\b\b\b\b\b\b\b\b\b\b\b\b\b\b\b\b\b\b\b\b\b\b\b\b\b\b\b\b\b\b\b\b\b\b\b\b\b\b\b\b\b\b\b\b\r  5/625 [..............................] - ETA: 8s - loss: 1.6009 - accuracy: 0.3162   \n",
            "\u001b[2m\u001b[36m(pid=2025)\u001b[0m \b\b\b\b\b\b\b\b\b\b\b\b\b\b\b\b\b\b\b\b\b\b\b\b\b\b\b\b\b\b\b\b\b\b\b\b\b\b\b\b\b\b\b\b\b\b\b\b\b\b\b\b\b\b\b\b\b\b\b\b\b\b\b\b\b\b\b\b\b\b\b\b\b\b\b\b\b\b\b\b\b\b\b\b\r  9/625 [..............................] - ETA: 8s - loss: 1.5974 - accuracy: 0.3271\n",
            " 14/625 [..............................] - ETA: 7s - loss: 1.5926 - accuracy: 0.3306\n",
            " 19/625 [..............................] - ETA: 7s - loss: 1.5877 - accuracy: 0.3314\n",
            " 23/625 [>.............................] - ETA: 7s - loss: 1.5842 - accuracy: 0.3317\n",
            " 27/625 [>.............................] - ETA: 7s - loss: 1.5806 - accuracy: 0.3321\n",
            " 32/625 [>.............................] - ETA: 7s - loss: 1.5740 - accuracy: 0.3355\n",
            " 36/625 [>.............................] - ETA: 7s - loss: 1.5696 - accuracy: 0.3360\n",
            " 40/625 [>.............................] - ETA: 7s - loss: 1.5642 - accuracy: 0.3379\n",
            " 45/625 [=>............................] - ETA: 7s - loss: 1.5584 - accuracy: 0.3382\n",
            " 50/625 [=>............................] - ETA: 7s - loss: 1.5536 - accuracy: 0.3380\n",
            " 55/625 [=>............................] - ETA: 7s - loss: 1.5481 - accuracy: 0.3390\n",
            " 59/625 [=>............................] - ETA: 7s - loss: 1.5435 - accuracy: 0.3403\n",
            " 64/625 [==>...........................] - ETA: 7s - loss: 1.5384 - accuracy: 0.3412\n",
            " 69/625 [==>...........................] - ETA: 6s - loss: 1.5337 - accuracy: 0.3420\n",
            " 74/625 [==>...........................] - ETA: 6s - loss: 1.5297 - accuracy: 0.3423\n",
            " 78/625 [==>...........................] - ETA: 6s - loss: 1.5265 - accuracy: 0.3428\n",
            " 83/625 [==>...........................] - ETA: 6s - loss: 1.5224 - accuracy: 0.3434\n",
            " 88/625 [===>..........................] - ETA: 6s - loss: 1.5181 - accuracy: 0.3444\n",
            " 92/625 [===>..........................] - ETA: 6s - loss: 1.5156 - accuracy: 0.3445\n",
            " 97/625 [===>..........................] - ETA: 6s - loss: 1.5130 - accuracy: 0.3442\n",
            "102/625 [===>..........................] - ETA: 6s - loss: 1.5106 - accuracy: 0.3442\n",
            "106/625 [====>.........................] - ETA: 6s - loss: 1.5091 - accuracy: 0.3441\n",
            "110/625 [====>.........................] - ETA: 6s - loss: 1.5085 - accuracy: 0.3433\n",
            "115/625 [====>.........................] - ETA: 6s - loss: 1.5076 - accuracy: 0.3419\n",
            "119/625 [====>.........................] - ETA: 6s - loss: 1.5057 - accuracy: 0.3416\n",
            "123/625 [====>.........................] - ETA: 6s - loss: 1.5036 - accuracy: 0.3418\n",
            "127/625 [=====>........................] - ETA: 6s - loss: 1.5015 - accuracy: 0.3424\n",
            "132/625 [=====>........................] - ETA: 6s - loss: 1.4997 - accuracy: 0.3423\n",
            "137/625 [=====>........................] - ETA: 6s - loss: 1.4981 - accuracy: 0.3419\n",
            "142/625 [=====>........................] - ETA: 6s - loss: 1.4968 - accuracy: 0.3412\n",
            "146/625 [======>.......................] - ETA: 5s - loss: 1.4956 - accuracy: 0.3409\n",
            "151/625 [======>.......................] - ETA: 5s - loss: 1.4940 - accuracy: 0.3406\n",
            "156/625 [======>.......................] - ETA: 5s - loss: 1.4919 - accuracy: 0.3408\n",
            "160/625 [======>.......................] - ETA: 5s - loss: 1.4903 - accuracy: 0.3408\n",
            "165/625 [======>.......................] - ETA: 5s - loss: 1.4885 - accuracy: 0.3407\n",
            "170/625 [=======>......................] - ETA: 5s - loss: 1.4865 - accuracy: 0.3407\n",
            "175/625 [=======>......................] - ETA: 5s - loss: 1.4842 - accuracy: 0.3412\n",
            "179/625 [=======>......................] - ETA: 5s - loss: 1.4824 - accuracy: 0.3414\n",
            "184/625 [=======>......................] - ETA: 5s - loss: 1.4804 - accuracy: 0.3416\n",
            "189/625 [========>.....................] - ETA: 5s - loss: 1.4783 - accuracy: 0.3413\n",
            "194/625 [========>.....................] - ETA: 5s - loss: 1.4760 - accuracy: 0.3415\n",
            "198/625 [========>.....................] - ETA: 5s - loss: 1.4747 - accuracy: 0.3415\n",
            "203/625 [========>.....................] - ETA: 5s - loss: 1.4730 - accuracy: 0.3417\n",
            "207/625 [========>.....................] - ETA: 5s - loss: 1.4717 - accuracy: 0.3418\n",
            "212/625 [=========>....................] - ETA: 5s - loss: 1.4700 - accuracy: 0.3424\n",
            "217/625 [=========>....................] - ETA: 5s - loss: 1.4687 - accuracy: 0.3428\n",
            "222/625 [=========>....................] - ETA: 4s - loss: 1.4675 - accuracy: 0.3431\n",
            "227/625 [=========>....................] - ETA: 4s - loss: 1.4662 - accuracy: 0.3434\n",
            "231/625 [==========>...................] - ETA: 4s - loss: 1.4653 - accuracy: 0.3434\n",
            "236/625 [==========>...................] - ETA: 4s - loss: 1.4632 - accuracy: 0.3442\n",
            "241/625 [==========>...................] - ETA: 4s - loss: 1.4613 - accuracy: 0.3451\n",
            "245/625 [==========>...................] - ETA: 4s - loss: 1.4595 - accuracy: 0.3459\n",
            "249/625 [==========>...................] - ETA: 4s - loss: 1.4578 - accuracy: 0.3463\n",
            "254/625 [===========>..................] - ETA: 4s - loss: 1.4560 - accuracy: 0.3470\n",
            "259/625 [===========>..................] - ETA: 4s - loss: 1.4541 - accuracy: 0.3477\n",
            "264/625 [===========>..................] - ETA: 4s - loss: 1.4521 - accuracy: 0.3485\n",
            "269/625 [===========>..................] - ETA: 4s - loss: 1.4504 - accuracy: 0.3494\n",
            "274/625 [============>.................] - ETA: 4s - loss: 1.4485 - accuracy: 0.3502\n",
            "279/625 [============>.................] - ETA: 4s - loss: 1.4468 - accuracy: 0.3508\n",
            "284/625 [============>.................] - ETA: 4s - loss: 1.4455 - accuracy: 0.3514\n",
            "289/625 [============>.................] - ETA: 4s - loss: 1.4442 - accuracy: 0.3520\n",
            "293/625 [=============>................] - ETA: 4s - loss: 1.4430 - accuracy: 0.3527\n",
            "298/625 [=============>................] - ETA: 3s - loss: 1.4414 - accuracy: 0.3534\n",
            "303/625 [=============>................] - ETA: 3s - loss: 1.4397 - accuracy: 0.3541\n",
            "308/625 [=============>................] - ETA: 3s - loss: 1.4376 - accuracy: 0.3550\n",
            "313/625 [==============>...............] - ETA: 3s - loss: 1.4359 - accuracy: 0.3558\n",
            "318/625 [==============>...............] - ETA: 3s - loss: 1.4345 - accuracy: 0.3563\n",
            "322/625 [==============>...............] - ETA: 3s - loss: 1.4332 - accuracy: 0.3569\n",
            "327/625 [==============>...............] - ETA: 3s - loss: 1.4317 - accuracy: 0.3575\n",
            "332/625 [==============>...............] - ETA: 3s - loss: 1.4303 - accuracy: 0.3579\n",
            "336/625 [===============>..............] - ETA: 3s - loss: 1.4292 - accuracy: 0.3584\n",
            "340/625 [===============>..............] - ETA: 3s - loss: 1.4281 - accuracy: 0.3588\n",
            "345/625 [===============>..............] - ETA: 3s - loss: 1.4269 - accuracy: 0.3592\n",
            "350/625 [===============>..............] - ETA: 3s - loss: 1.4257 - accuracy: 0.3597\n",
            "354/625 [===============>..............] - ETA: 3s - loss: 1.4248 - accuracy: 0.3601\n",
            "358/625 [================>.............] - ETA: 3s - loss: 1.4238 - accuracy: 0.3604\n",
            "363/625 [================>.............] - ETA: 3s - loss: 1.4229 - accuracy: 0.3608\n",
            "368/625 [================>.............] - ETA: 3s - loss: 1.4219 - accuracy: 0.3612\n",
            "373/625 [================>.............] - ETA: 3s - loss: 1.4207 - accuracy: 0.3618\n",
            "377/625 [=================>............] - ETA: 3s - loss: 1.4197 - accuracy: 0.3623\n",
            "381/625 [=================>............] - ETA: 2s - loss: 1.4187 - accuracy: 0.3628\n",
            "386/625 [=================>............] - ETA: 2s - loss: 1.4173 - accuracy: 0.3633\n",
            "391/625 [=================>............] - ETA: 2s - loss: 1.4165 - accuracy: 0.3635\n",
            "396/625 [==================>...........] - ETA: 2s - loss: 1.4155 - accuracy: 0.3640\n",
            "401/625 [==================>...........] - ETA: 2s - loss: 1.4144 - accuracy: 0.3642\n",
            "406/625 [==================>...........] - ETA: 2s - loss: 1.4135 - accuracy: 0.3645\n",
            "411/625 [==================>...........] - ETA: 2s - loss: 1.4129 - accuracy: 0.3649\n",
            "414/625 [==================>...........] - ETA: 2s - loss: 1.4124 - accuracy: 0.3651\n",
            "419/625 [===================>..........] - ETA: 2s - loss: 1.4117 - accuracy: 0.3653\n",
            "424/625 [===================>..........] - ETA: 2s - loss: 1.4107 - accuracy: 0.3657\n",
            "429/625 [===================>..........] - ETA: 2s - loss: 1.4098 - accuracy: 0.3661\n",
            "433/625 [===================>..........] - ETA: 2s - loss: 1.4087 - accuracy: 0.3665\n",
            "438/625 [====================>.........] - ETA: 2s - loss: 1.4076 - accuracy: 0.3670\n",
            "443/625 [====================>.........] - ETA: 2s - loss: 1.4065 - accuracy: 0.3674\n",
            "448/625 [====================>.........] - ETA: 2s - loss: 1.4054 - accuracy: 0.3680\n",
            "453/625 [====================>.........] - ETA: 2s - loss: 1.4046 - accuracy: 0.3683\n",
            "457/625 [====================>.........] - ETA: 2s - loss: 1.4039 - accuracy: 0.3686\n",
            "462/625 [=====================>........] - ETA: 1s - loss: 1.4031 - accuracy: 0.3690\n",
            "466/625 [=====================>........] - ETA: 1s - loss: 1.4023 - accuracy: 0.3692\n",
            "471/625 [=====================>........] - ETA: 1s - loss: 1.4013 - accuracy: 0.3696\n",
            "476/625 [=====================>........] - ETA: 1s - loss: 1.4003 - accuracy: 0.3699\n",
            "480/625 [======================>.......] - ETA: 1s - loss: 1.3998 - accuracy: 0.3701\n",
            "485/625 [======================>.......] - ETA: 1s - loss: 1.3990 - accuracy: 0.3706\n",
            "490/625 [======================>.......] - ETA: 1s - loss: 1.3980 - accuracy: 0.3710\n",
            "495/625 [======================>.......] - ETA: 1s - loss: 1.3970 - accuracy: 0.3715\n",
            "500/625 [=======================>......] - ETA: 1s - loss: 1.3959 - accuracy: 0.3719\n",
            "504/625 [=======================>......] - ETA: 1s - loss: 1.3951 - accuracy: 0.3723\n",
            "509/625 [=======================>......] - ETA: 1s - loss: 1.3941 - accuracy: 0.3727\n",
            "514/625 [=======================>......] - ETA: 1s - loss: 1.3931 - accuracy: 0.3731\n",
            "519/625 [=======================>......] - ETA: 1s - loss: 1.3924 - accuracy: 0.3734\n",
            "524/625 [========================>.....] - ETA: 1s - loss: 1.3917 - accuracy: 0.3736\n",
            "529/625 [========================>.....] - ETA: 1s - loss: 1.3911 - accuracy: 0.3738\n",
            "534/625 [========================>.....] - ETA: 1s - loss: 1.3906 - accuracy: 0.3739\n",
            "539/625 [========================>.....] - ETA: 1s - loss: 1.3902 - accuracy: 0.3740\n",
            "544/625 [=========================>....] - ETA: 0s - loss: 1.3896 - accuracy: 0.3742\n",
            "548/625 [=========================>....] - ETA: 0s - loss: 1.3891 - accuracy: 0.3745\n",
            "552/625 [=========================>....] - ETA: 0s - loss: 1.3885 - accuracy: 0.3748\n",
            "557/625 [=========================>....] - ETA: 0s - loss: 1.3879 - accuracy: 0.3750\n",
            "562/625 [=========================>....] - ETA: 0s - loss: 1.3872 - accuracy: 0.3753\n",
            "567/625 [==========================>...] - ETA: 0s - loss: 1.3865 - accuracy: 0.3756\n",
            "572/625 [==========================>...] - ETA: 0s - loss: 1.3861 - accuracy: 0.3758\n",
            "577/625 [==========================>...] - ETA: 0s - loss: 1.3858 - accuracy: 0.3759\n",
            "582/625 [==========================>...] - ETA: 0s - loss: 1.3854 - accuracy: 0.3761\n",
            "587/625 [===========================>..] - ETA: 0s - loss: 1.3850 - accuracy: 0.3763\n",
            "591/625 [===========================>..] - ETA: 0s - loss: 1.3846 - accuracy: 0.3764\n",
            "596/625 [===========================>..] - ETA: 0s - loss: 1.3840 - accuracy: 0.3767\n",
            "601/625 [===========================>..] - ETA: 0s - loss: 1.3835 - accuracy: 0.3769\n",
            "606/625 [============================>.] - ETA: 0s - loss: 1.3829 - accuracy: 0.3770\n",
            "610/625 [============================>.] - ETA: 0s - loss: 1.3826 - accuracy: 0.3772\n",
            "615/625 [============================>.] - ETA: 0s - loss: 1.3821 - accuracy: 0.3774\n",
            "620/625 [============================>.] - ETA: 0s - loss: 1.3816 - accuracy: 0.3776\n",
            "625/625 [==============================] - ETA: 0s - loss: 1.3812 - accuracy: 0.3777\n",
            "625/625 [==============================] - 12s 13ms/step - loss: 1.3812 - accuracy: 0.3777 - val_loss: 1.2825 - val_accuracy: 0.4189\n",
            "\u001b[2m\u001b[36m(pid=2025)\u001b[0m Epoch 2/2\n",
            "  1/625 [..............................] - ETA: 6s - loss: 1.3276 - accuracy: 0.4164\n",
            "  6/625 [..............................] - ETA: 7s - loss: 1.3385 - accuracy: 0.3987\n",
            " 11/625 [..............................] - ETA: 6s - loss: 1.3315 - accuracy: 0.3969\n",
            " 16/625 [..............................] - ETA: 6s - loss: 1.3275 - accuracy: 0.3968\n",
            " 20/625 [..............................] - ETA: 7s - loss: 1.3270 - accuracy: 0.3984\n",
            " 24/625 [>.............................] - ETA: 7s - loss: 1.3260 - accuracy: 0.3970\n",
            " 29/625 [>.............................] - ETA: 6s - loss: 1.3246 - accuracy: 0.3965\n",
            " 34/625 [>.............................] - ETA: 6s - loss: 1.3195 - accuracy: 0.4004\n",
            " 39/625 [>.............................] - ETA: 6s - loss: 1.3154 - accuracy: 0.4021\n",
            " 44/625 [=>............................] - ETA: 6s - loss: 1.3139 - accuracy: 0.4025\n",
            " 49/625 [=>............................] - ETA: 6s - loss: 1.3130 - accuracy: 0.4025\n",
            " 54/625 [=>............................] - ETA: 6s - loss: 1.3126 - accuracy: 0.4024\n",
            " 58/625 [=>............................] - ETA: 6s - loss: 1.3108 - accuracy: 0.4037\n",
            " 63/625 [==>...........................] - ETA: 6s - loss: 1.3092 - accuracy: 0.4052\n",
            " 68/625 [==>...........................] - ETA: 6s - loss: 1.3095 - accuracy: 0.4054\n",
            " 72/625 [==>...........................] - ETA: 6s - loss: 1.3098 - accuracy: 0.4057\n",
            " 77/625 [==>...........................] - ETA: 6s - loss: 1.3089 - accuracy: 0.4062\n",
            " 82/625 [==>...........................] - ETA: 6s - loss: 1.3083 - accuracy: 0.4067\n",
            " 87/625 [===>..........................] - ETA: 6s - loss: 1.3077 - accuracy: 0.4072\n",
            " 92/625 [===>..........................] - ETA: 6s - loss: 1.3069 - accuracy: 0.4075\n",
            " 96/625 [===>..........................] - ETA: 6s - loss: 1.3063 - accuracy: 0.4075\n",
            "101/625 [===>..........................] - ETA: 6s - loss: 1.3064 - accuracy: 0.4072\n",
            "105/625 [====>.........................] - ETA: 6s - loss: 1.3054 - accuracy: 0.4079\n",
            "110/625 [====>.........................] - ETA: 6s - loss: 1.3049 - accuracy: 0.4078\n",
            "114/625 [====>.........................] - ETA: 6s - loss: 1.3051 - accuracy: 0.4077\n",
            "119/625 [====>.........................] - ETA: 6s - loss: 1.3049 - accuracy: 0.4078\n",
            "124/625 [====>.........................] - ETA: 6s - loss: 1.3034 - accuracy: 0.4081\n",
            "129/625 [=====>........................] - ETA: 5s - loss: 1.3021 - accuracy: 0.4080\n",
            "133/625 [=====>........................] - ETA: 5s - loss: 1.3023 - accuracy: 0.4076\n",
            "138/625 [=====>........................] - ETA: 5s - loss: 1.3022 - accuracy: 0.4075\n",
            "143/625 [=====>........................] - ETA: 5s - loss: 1.3020 - accuracy: 0.4074\n",
            "148/625 [======>.......................] - ETA: 5s - loss: 1.3018 - accuracy: 0.4072\n",
            "153/625 [======>.......................] - ETA: 5s - loss: 1.3013 - accuracy: 0.4071\n",
            "158/625 [======>.......................] - ETA: 5s - loss: 1.3007 - accuracy: 0.4079\n",
            "163/625 [======>.......................] - ETA: 5s - loss: 1.3007 - accuracy: 0.4081\n",
            "168/625 [=======>......................] - ETA: 5s - loss: 1.3004 - accuracy: 0.4082\n",
            "173/625 [=======>......................] - ETA: 5s - loss: 1.2993 - accuracy: 0.4087\n",
            "177/625 [=======>......................] - ETA: 5s - loss: 1.2986 - accuracy: 0.4089\n",
            "182/625 [=======>......................] - ETA: 5s - loss: 1.2984 - accuracy: 0.4090\n",
            "187/625 [=======>......................] - ETA: 5s - loss: 1.2976 - accuracy: 0.4095\n",
            "191/625 [========>.....................] - ETA: 5s - loss: 1.2967 - accuracy: 0.4102\n",
            "196/625 [========>.....................] - ETA: 5s - loss: 1.2954 - accuracy: 0.4107\n",
            "201/625 [========>.....................] - ETA: 5s - loss: 1.2948 - accuracy: 0.4111\n",
            "206/625 [========>.....................] - ETA: 5s - loss: 1.2940 - accuracy: 0.4114\n",
            "210/625 [=========>....................] - ETA: 5s - loss: 1.2938 - accuracy: 0.4115\n",
            "\u001b[2m\u001b[36m(pid=2025)\u001b[0m \b\b\b\b\b\b\b\b\b\b\b\b\b\b\b\b\b\b\b\b\b\b\b\b\b\b\b\b\b\b\b\b\b\b\b\b\b\b\b\b\b\b\b\b\b\b\b\b\b\b\b\b\b\b\b\b\b\b\b\b\b\b\b\b\b\b\b\b\b\b\b\b\b\b\b\b\b\b\b\b\b\b\b\b\n",
            "\u001b[2m\u001b[36m(pid=2025)\u001b[0m 215/625 [=========>....................] - ETA: 4s - loss: 1.2935 - accuracy: 0.4114\n",
            "220/625 [=========>....................] - ETA: 4s - loss: 1.2932 - accuracy: 0.4111\n",
            "225/625 [=========>....................] - ETA: 4s - loss: 1.2935 - accuracy: 0.4110\n",
            "230/625 [==========>...................] - ETA: 4s - loss: 1.2932 - accuracy: 0.4111\n",
            "235/625 [==========>...................] - ETA: 4s - loss: 1.2929 - accuracy: 0.4113\n",
            "240/625 [==========>...................] - ETA: 4s - loss: 1.2920 - accuracy: 0.4118\n",
            "244/625 [==========>...................] - ETA: 4s - loss: 1.2913 - accuracy: 0.4120\n",
            "249/625 [==========>...................] - ETA: 4s - loss: 1.2909 - accuracy: 0.4124\n",
            "254/625 [===========>..................] - ETA: 4s - loss: 1.2904 - accuracy: 0.4127\n",
            "259/625 [===========>..................] - ETA: 4s - loss: 1.2900 - accuracy: 0.4127\n",
            "263/625 [===========>..................] - ETA: 4s - loss: 1.2896 - accuracy: 0.4127\n",
            "268/625 [===========>..................] - ETA: 4s - loss: 1.2892 - accuracy: 0.4129\n",
            "272/625 [============>.................]\n",
            "\u001b[2m\u001b[36m(pid=2025)\u001b[0m  - ETA: 4s - loss: 1.2887 - accuracy: 0.4131\n",
            "277/625 [============>.................] - ETA: 4s - loss: 1.2878 - accuracy: 0.4135\n",
            "282/625 [============>.................] - ETA: 4s - loss: 1.2874 - accuracy: 0.4137\n",
            "287/625 [============>.................] - ETA: 4s - loss: 1.2875 - accuracy: 0.4137\n",
            "292/625 [=============>................] - ETA: 4s - loss: 1.2874 - accuracy: 0.4137\n",
            "296/625 [=============>................] - ETA: 3s - loss: 1.2871 - accuracy: 0.4139\n",
            "300/625 [=============>................] - ETA: 3s - loss: 1.2866 - accuracy: 0.4139\n",
            "305/625 [=============>................] - ETA: 3s - loss: 1.2861 - accuracy: 0.4141\n",
            "310/625 [=============>................] - ETA: 3s - loss: 1.2855 - accuracy: 0.4144\n",
            "314/625 [==============>...............] - ETA: 3s - loss: 1.2851 - accuracy: 0.4146\n",
            "319/625 [==============>...............] - ETA: 3s - loss: 1.2844 - accuracy: 0.4149\n",
            "324/625 [==============>...............] - ETA: 3s - loss: 1.2838 - accuracy: 0.4152\n",
            "329/625 [==============>...............] - ETA: 3s - loss: 1.2834 - accuracy: 0.4154\n",
            "333/625 [==============>...............] - ETA: 3s - loss: 1.2832 - accuracy: 0.4154\n",
            "338/625 [===============>..............] - ETA: 3s - loss: 1.2828 - accuracy: 0.4155\n",
            "343/625 [===============>..............] - ETA: 3s - loss: 1.2824 - accuracy: 0.4156\n",
            "348/625 [===============>..............] - ETA: 3s - loss: 1.2821 - accuracy: 0.4158\n",
            "353/625 [===============>..............] - ETA: 3s - loss: 1.2820 - accuracy: 0.4161\n",
            "357/625 [================>.............] - ETA: 3s - loss: 1.2819 - accuracy: 0.4162\n",
            "362/625 [================>.............] - ETA: 3s - loss: 1.2818 - accuracy: 0.4164\n",
            "366/625 [================>.............] - ETA: 3s - loss: 1.2817 - accuracy: 0.4167\n",
            "371/625 [================>.............] - ETA: 3s - loss: 1.2817 - accuracy: 0.4169\n",
            "376/625 [=================>............] - ETA: 3s - loss: 1.2813 - accuracy: 0.4171\n",
            "381/625 [=================>............] - ETA: 2s - loss: 1.2808 - accuracy: 0.4175\n",
            "386/625 [=================>............] - ETA: 2s - loss: 1.2807 - accuracy: 0.4177\n",
            "391/625 [=================>............] - ETA: 2s - loss: 1.2807 - accuracy: 0.4177\n",
            "396/625 [==================>...........] - ETA: 2s - loss: 1.2806 - accuracy: 0.4179\n",
            "400/625 [==================>...........] - ETA: 2s - loss: 1.2804 - accuracy: 0.4179\n",
            "404/625 [==================>...........] - ETA: 2s - loss: 1.2801 - accuracy: 0.4180\n",
            "409/625 [==================>...........] - ETA: 2s - loss: 1.2802 - accuracy: 0.4181\n",
            "414/625 [==================>...........] - ETA: 2s - loss: 1.2802 - accuracy: 0.4184\n",
            "419/625 [===================>..........] - ETA: 2s - loss: 1.2804 - accuracy: 0.4184\n",
            "423/625 [===================>..........] - ETA: 2s - loss: 1.2801 - accuracy: 0.4186\n",
            "428/625 [===================>..........] - ETA: 2s - loss: 1.2797 - accuracy: 0.4188\n",
            "433/625 [===================>..........] - ETA: 2s - loss: 1.2792 - accuracy: 0.4191\n",
            "438/625 [====================>.........] - ETA: 2s - loss: 1.2788 - accuracy: 0.4192\n",
            "442/625 [====================>.........] - ETA: 2s - loss: 1.2785 - accuracy: 0.4195\n",
            "447/625 [====================>.........] - ETA: 2s - loss: 1.2781 - accuracy: 0.4197\n",
            "452/625 [====================>.........] - ETA: 2s - loss: 1.2779 - accuracy: 0.4199\n",
            "456/625 [====================>.........] - ETA: 2s - loss: 1.2779 - accuracy: 0.4199\n",
            "461/625 [=====================>........] - ETA: 1s - loss: 1.2775 - accuracy: 0.4202\n",
            "466/625 [=====================>........] - ETA: 1s - loss: 1.2770 - accuracy: 0.4204\n",
            "471/625 [=====================>........] - ETA: 1s - loss: 1.2766 - accuracy: 0.4208\n",
            "475/625 [=====================>........] - ETA: 1s - loss: 1.2763 - accuracy: 0.4210\n",
            "480/625 [======================>.......] - ETA: 1s - loss: 1.2763 - accuracy: 0.4211\n",
            "485/625 [======================>.......] - ETA: 1s - loss: 1.2761 - accuracy: 0.4211\n",
            "490/625 [======================>.......] - ETA: 1s - loss: 1.2757 - accuracy: 0.4212\n",
            "494/625 [======================>.......] - ETA: 1s - loss: 1.2753 - accuracy: 0.4214\n",
            "499/625 [======================>.......] - ETA: 1s - loss: 1.2748 - accuracy: 0.4216\n",
            "504/625 [=======================>......] - ETA: 1s - loss: 1.2743 - accuracy: 0.4219\n",
            "509/625 [=======================>......] - ETA: 1s - loss: 1.2739 - accuracy: 0.4221\n",
            "514/625 [=======================>......] - ETA: 1s - loss: 1.2735 - accuracy: 0.4223\n",
            "519/625 [=======================>......] - ETA: 1s - loss: 1.2731 - accuracy: 0.4225\n",
            "524/625 [========================>.....] - ETA: 1s - loss: 1.2729 - accuracy: 0.4225\n",
            "527/625 [========================>.....] - ETA: 1s - loss: 1.2729 - accuracy: 0.4225\n",
            "532/625 [========================>.....] - ETA: 1s - loss: 1.2728 - accuracy: 0.4226\n",
            "536/625 [========================>.....] - ETA: 1s - loss: 1.2727 - accuracy: 0.4227\n",
            "541/625 [========================>.....] - ETA: 1s - loss: 1.2728 - accuracy: 0.4227\n",
            "545/625 [=========================>....] - ETA: 0s - loss: 1.2726 - accuracy: 0.4229\n",
            "549/625 [=========================>....] - ETA: 0s - loss: 1.2724 - accuracy: 0.4230\n",
            "554/625 [=========================>....] - ETA: 0s - loss: 1.2722 - accuracy: 0.4232\n",
            "559/625 [=========================>....] - ETA: 0s - loss: 1.2720 - accuracy: 0.4234\n",
            "564/625 [==========================>...] - ETA: 0s - loss: 1.2718 - accuracy: 0.4236\n",
            "569/625 [==========================>...] - ETA: 0s - loss: 1.2717 - accuracy: 0.4237\n",
            "574/625 [==========================>...] - ETA: 0s - loss: 1.2718 - accuracy: 0.4237\n",
            "579/625 [==========================>...] - ETA: 0s - loss: 1.2717 - accuracy: 0.4237\n",
            "584/625 [===========================>..] - ETA: 0s - loss: 1.2717 - accuracy: 0.4238\n",
            "589/625 [===========================>..] - ETA: 0s - loss: 1.2717 - accuracy: 0.4238\n",
            "593/625 [===========================>..] - ETA: 0s - loss: 1.2716 - accuracy: 0.4239\n",
            "597/625 [===========================>..] - ETA: 0s - loss: 1.2713 - accuracy: 0.4242\n",
            "601/625 [===========================>..] - ETA: 0s - loss: 1.2712 - accuracy: 0.4242\n",
            "606/625 [============================>.] - ETA: 0s - loss: 1.2711 - accuracy: 0.4243\n",
            "610/625 [============================>.] - ETA: 0s - loss: 1.2710 - accuracy: 0.4244\n",
            "614/625 [============================>.] - ETA: 0s - loss: 1.2709 - accuracy: 0.4245\n",
            "619/625 [============================>.] - ETA: 0s - loss: 1.2707 - accuracy: 0.4247\n",
            "624/625 [============================>.] - ETA: 0s - loss: 1.2707 - accuracy: 0.4248\n",
            "625/625 [==============================] - 8s 13ms/step - loss: 1.2707 - accuracy: 0.4248 - val_loss: 1.2282 - val_accuracy: 0.4498\n"
          ],
          "name": "stdout"
        },
        {
          "output_type": "execute_result",
          "data": {
            "application/vnd.google.colaboratory.intrinsic+json": {
              "type": "string"
            },
            "text/plain": [
              "'./NCF.ckpt'"
            ]
          },
          "metadata": {
            "tags": []
          },
          "execution_count": 13
        }
      ]
    },
    {
      "cell_type": "code",
      "metadata": {
        "id": "M-ikO_Da3qHv",
        "colab": {
          "base_uri": "https://localhost:8080/"
        },
        "outputId": "266add63-87df-4609-954f-8d7141caa693"
      },
      "source": [
        "# evaluate with Estimator\n",
        "stats = est.evaluate(test_data, \n",
        "                     feature_cols=['user', 'item'],\n",
        "                     label_cols=['label'],\n",
        "                     num_steps=100000 // batch_size)\n",
        "est.shutdown()\n",
        "print(stats)"
      ],
      "execution_count": 14,
      "outputs": [
        {
          "output_type": "stream",
          "text": [
            "\r[Stage 24:>                                                         (0 + 4) / 4]Prepending /usr/local/lib/python3.7/dist-packages/bigdl/share/conf/spark-bigdl.conf to sys.path\n",
            "Prepending /usr/local/lib/python3.7/dist-packages/zoo/share/conf/spark-analytics-zoo.conf to sys.path\n",
            "Prepending /usr/local/lib/python3.7/dist-packages/bigdl/share/conf/spark-bigdl.conf to sys.path\n",
            "Prepending /usr/local/lib/python3.7/dist-packages/zoo/share/conf/spark-analytics-zoo.conf to sys.path\n"
          ],
          "name": "stderr"
        },
        {
          "output_type": "stream",
          "text": [
            "\u001b[2m\u001b[36m(pid=2584)\u001b[0m Prepending /usr/local/lib/python3.7/dist-packages/bigdl/share/conf/spark-bigdl.conf to sys.path\n",
            "\u001b[2m\u001b[36m(pid=2584)\u001b[0m Prepending /usr/local/lib/python3.7/dist-packages/zoo/share/conf/spark-analytics-zoo.conf to sys.path\n"
          ],
          "name": "stdout"
        },
        {
          "output_type": "stream",
          "text": [
            "2021-06-30 13:44:28,455\tINFO worker.py:655 -- Connecting to existing Ray cluster at address: 172.28.0.2:6379\n"
          ],
          "name": "stderr"
        },
        {
          "output_type": "stream",
          "text": [
            "\u001b[2m\u001b[36m(pid=2025)\u001b[0m \r 1/78 [..............................] - ETA: 5s - loss: 1.1113 - accuracy: 0.5625\n",
            "\u001b[2m\u001b[36m(pid=2025)\u001b[0m \b\b\b\b\b\b\b\b\b\b\b\b\b\b\b\b\b\b\b\b\b\b\b\b\b\b\b\b\b\b\b\b\b\b\b\b\b\b\b\b\b\b\b\b\b\b\b\b\b\b\b\b\b\b\b\b\b\b\b\b\b\b\b\b\b\b\b\b\b\b\b\b\b\b\b\b\b\b\b\b\b\b\r29/78 [==========>...................] - ETA: 0s - loss: 1.2787 - accuracy: 0.4106\n",
            "\u001b[2m\u001b[36m(pid=2025)\u001b[0m \b\b\b\b\b\b\b\b\b\b\b\b\b\b\b\b\b\b\b\b\b\b\b\b\b\b\b\b\b\b\b\b\b\b\b\b\b\b\b\b\b\b\b\b\b\b\b\b\b\b\b\b\b\b\b\b\b\b\b\b\b\b\b\b\b\b\b\b\b\b\b\b\b\b\b\b\b\b\b\b\b\b\r58/78 [=====================>........] - ETA: 0s - loss: 1.2150 - accuracy: 0.4456\n",
            "\u001b[2m\u001b[36m(pid=2025)\u001b[0m \b\b\b\b\b\b\b\b\b\b\b\b\b\b\b\b\b\b\b\b\b\b\b\b\b\b\b\b\b\b\b\b\b\b\b\b\b\b\b\b\b\b\b\b\b\b\b\b\b\b\b\b\b\b\b\b\b\b\b\b\b\b\b\b\b\b\b\b\b\b\b\b\b\b\b\b\b\b\b\b\b\b\r78/78 [==============================] - 0s 2ms/step - loss: 1.2396 - accuracy: 0.4423\n",
            "[{'validation_loss': 1.2396360635757446, 'validation_accuracy': 0.4423076808452606}]\n"
          ],
          "name": "stdout"
        }
      ]
    },
    {
      "cell_type": "code",
      "metadata": {
        "id": "TeJsTahMgFxE",
        "colab": {
          "base_uri": "https://localhost:8080/"
        },
        "outputId": "969f03bd-14d3-4801-d86b-e2294dec1738"
      },
      "source": [
        "stop_orca_context()"
      ],
      "execution_count": 15,
      "outputs": [
        {
          "output_type": "stream",
          "text": [
            "Stopping orca context\n"
          ],
          "name": "stdout"
        },
        {
          "output_type": "stream",
          "text": [
            "2021-06-30 13:44:29,377\tERROR import_thread.py:89 -- ImportThread: Connection closed by server.\n",
            "2021-06-30 13:44:29,379\tERROR worker.py:919 -- print_logs: Connection closed by server.\n",
            "2021-06-30 13:44:29,380\tERROR worker.py:1109 -- listen_error_messages_raylet: Connection closed by server.\n",
            "2021-06-30 13:44:29,380\tERROR worker.py:919 -- print_logs: Connection closed by server.\n",
            "2021-06-30 13:44:29,380\tERROR import_thread.py:89 -- ImportThread: Connection closed by server.\n",
            "2021-06-30 13:44:29,381\tERROR worker.py:1109 -- listen_error_messages_raylet: Connection closed by server.\n"
          ],
          "name": "stderr"
        }
      ]
    }
  ]
}