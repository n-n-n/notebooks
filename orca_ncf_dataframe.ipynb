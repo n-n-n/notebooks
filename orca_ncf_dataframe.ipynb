{
  "nbformat": 4,
  "nbformat_minor": 0,
  "metadata": {
    "colab": {
      "name": "orca_ncf_dataframe.ipynb",
      "provenance": [],
      "toc_visible": true,
      "include_colab_link": true
    },
    "kernelspec": {
      "name": "python3",
      "display_name": "Python 3"
    }
  },
  "cells": [
    {
      "cell_type": "markdown",
      "metadata": {
        "id": "view-in-github",
        "colab_type": "text"
      },
      "source": [
        "<a href=\"https://colab.research.google.com/github/n-n-n/notebooks/blob/main/orca_ncf_dataframe.ipynb\" target=\"_parent\"><img src=\"https://colab.research.google.com/assets/colab-badge.svg\" alt=\"Open In Colab\"/></a>"
      ]
    },
    {
      "cell_type": "markdown",
      "metadata": {
        "id": "VsdUyI7vKEGF"
      },
      "source": [
        "\n",
        "![image.png](data:image/png;base64,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)\n",
        "---"
      ]
    },
    {
      "cell_type": "markdown",
      "metadata": {
        "id": "gQWPKGb4KNv6"
      },
      "source": [
        "## **Environment Preparation**"
      ]
    },
    {
      "cell_type": "markdown",
      "metadata": {
        "id": "gwxHGCOQKToI"
      },
      "source": [
        "**Install Java 8**\n",
        "\n",
        "Run the cell on the **Google Colab** to install jdk 1.8.\n",
        "\n",
        "**Note:** if you run this notebook on your computer, root permission is required when running the cell to install Java 8. (You may ignore this cell if Java 8 has already been set up in your computer)."
      ]
    },
    {
      "cell_type": "code",
      "metadata": {
        "id": "zV2cU3jJIXCg",
        "colab": {
          "base_uri": "https://localhost:8080/"
        },
        "outputId": "86398010-1299-4834-fc4d-87de871a5802"
      },
      "source": [
        "# Install jdk8\n",
        "! apt-get install openjdk-8-jdk-headless -qq > /dev/null\n",
        "\n",
        "import os\n",
        "# Set environment variable JAVA_HOME.\n",
        "os.environ[\"JAVA_HOME\"] = \"/usr/lib/jvm/java-8-openjdk-amd64\"\n",
        "! update-alternatives --set java /usr/lib/jvm/java-8-openjdk-amd64/jre/bin/java\n",
        "! java -version"
      ],
      "execution_count": null,
      "outputs": [
        {
          "output_type": "stream",
          "text": [
            "update-alternatives: using /usr/lib/jvm/java-8-openjdk-amd64/jre/bin/java to provide /usr/bin/java (java) in manual mode\n",
            "openjdk version \"1.8.0_292\"\n",
            "OpenJDK Runtime Environment (build 1.8.0_292-8u292-b10-0ubuntu1~18.04-b10)\n",
            "OpenJDK 64-Bit Server VM (build 25.292-b10, mixed mode)\n"
          ],
          "name": "stdout"
        }
      ]
    },
    {
      "cell_type": "markdown",
      "metadata": {
        "id": "zDMnBeFSKz21"
      },
      "source": [
        "**Install Analytics Zoo**\n",
        "\n",
        "You can install the latest release version or latest pre-release version using `pip install --pre --upgrade analytics-zoo`. "
      ]
    },
    {
      "cell_type": "code",
      "metadata": {
        "id": "8FKTQXbDYWWr",
        "colab": {
          "base_uri": "https://localhost:8080/"
        },
        "outputId": "729503d7-945b-42ac-b5cf-edf246273092"
      },
      "source": [
        "# Install latest release version of analytics-zoo \n",
        "# Installing analytics-zoo from pip will automatically install pyspark, bigdl, and their dependencies.\n",
        "! pip install --pre --upgrade analytics-zoo[ray]"
      ],
      "execution_count": null,
      "outputs": [
        {
          "output_type": "stream",
          "text": [
            "Collecting analytics-zoo[ray]\n",
            "\u001b[?25l  Downloading https://files.pythonhosted.org/packages/4a/73/ebf6ea567f666fb920471ba4cb29c1253fad7c423186c8f03c88ebf1342d/analytics_zoo-0.11.0b20210630-py2.py3-none-manylinux1_x86_64.whl (205.0MB)\n",
            "\u001b[K     |████████████████████████████████| 205.0MB 70kB/s \n",
            "\u001b[?25hCollecting pyspark==2.4.3\n",
            "\u001b[?25l  Downloading https://files.pythonhosted.org/packages/37/98/244399c0daa7894cdf387e7007d5e8b3710a79b67f3fd991c0b0b644822d/pyspark-2.4.3.tar.gz (215.6MB)\n",
            "\u001b[K     |████████████████████████████████| 215.6MB 69kB/s \n",
            "\u001b[?25hCollecting conda-pack==0.3.1\n",
            "  Downloading https://files.pythonhosted.org/packages/e9/e7/d942780c4281a665f34dbfffc1cd1517c5843fb478c133a1e1fa0df30cd6/conda_pack-0.3.1-py2.py3-none-any.whl\n",
            "Collecting bigdl==0.12.2\n",
            "\u001b[?25l  Downloading https://files.pythonhosted.org/packages/1a/40/81fed203a633536dbb83454f1a102ebde86214f576572769290afb9427c9/BigDL-0.12.2-py2.py3-none-manylinux1_x86_64.whl (114.1MB)\n",
            "\u001b[K     |████████████████████████████████| 114.1MB 91kB/s \n",
            "\u001b[?25hCollecting aiohttp==3.7.0; extra == \"ray\"\n",
            "\u001b[?25l  Downloading https://files.pythonhosted.org/packages/84/44/3722592d693a037a0ebb4106c7645c77dd06b062ed8ab2e2bf150580967a/aiohttp-3.7.0-cp37-cp37m-manylinux2014_x86_64.whl (1.3MB)\n",
            "\u001b[K     |████████████████████████████████| 1.3MB 40.6MB/s \n",
            "\u001b[?25hCollecting ray==1.2.0; extra == \"ray\"\n",
            "\u001b[?25l  Downloading https://files.pythonhosted.org/packages/11/14/15d0f0aec20a4674a996429160565a071688f27f49f789327ebed8188ffb/ray-1.2.0-cp37-cp37m-manylinux2014_x86_64.whl (47.5MB)\n",
            "\u001b[K     |████████████████████████████████| 47.5MB 55kB/s \n",
            "\u001b[?25hRequirement already satisfied, skipping upgrade: psutil; extra == \"ray\" in /usr/local/lib/python3.7/dist-packages (from analytics-zoo[ray]) (5.4.8)\n",
            "Collecting hiredis==1.1.0; extra == \"ray\"\n",
            "\u001b[?25l  Downloading https://files.pythonhosted.org/packages/ed/09/986288478cd05126c7f8eeec912d051b8e4fa52965d5c26d066d6dbce194/hiredis-1.1.0-cp37-cp37m-manylinux2010_x86_64.whl (62kB)\n",
            "\u001b[K     |████████████████████████████████| 71kB 8.3MB/s \n",
            "\u001b[?25hCollecting setproctitle; extra == \"ray\"\n",
            "  Downloading https://files.pythonhosted.org/packages/97/5c/16a6e69febfbee3f1a1a8c4318d1f054ff4d3ef2a61b233937c316cba06d/setproctitle-1.2.2-cp37-cp37m-manylinux1_x86_64.whl\n",
            "Collecting aioredis==1.1.0; extra == \"ray\"\n",
            "\u001b[?25l  Downloading https://files.pythonhosted.org/packages/83/4f/fb41fd054522b2f15cf8c9a0b119096a3f2e4db41c9cd7c114da8de742b1/aioredis-1.1.0-py3-none-any.whl (65kB)\n",
            "\u001b[K     |████████████████████████████████| 71kB 7.9MB/s \n",
            "\u001b[?25hCollecting py4j==0.10.7\n",
            "\u001b[?25l  Downloading https://files.pythonhosted.org/packages/e3/53/c737818eb9a7dc32a7cd4f1396e787bd94200c3997c72c1dbe028587bd76/py4j-0.10.7-py2.py3-none-any.whl (197kB)\n",
            "\u001b[K     |████████████████████████████████| 204kB 53.3MB/s \n",
            "\u001b[?25hRequirement already satisfied, skipping upgrade: setuptools in /usr/local/lib/python3.7/dist-packages (from conda-pack==0.3.1->analytics-zoo[ray]) (57.0.0)\n",
            "Requirement already satisfied, skipping upgrade: numpy>=1.7 in /usr/local/lib/python3.7/dist-packages (from bigdl==0.12.2->analytics-zoo[ray]) (1.19.5)\n",
            "Requirement already satisfied, skipping upgrade: six>=1.10.0 in /usr/local/lib/python3.7/dist-packages (from bigdl==0.12.2->analytics-zoo[ray]) (1.15.0)\n",
            "Collecting async-timeout<4.0,>=3.0\n",
            "  Downloading https://files.pythonhosted.org/packages/e1/1e/5a4441be21b0726c4464f3f23c8b19628372f606755a9d2e46c187e65ec4/async_timeout-3.0.1-py3-none-any.whl\n",
            "Collecting yarl<2.0,>=1.0\n",
            "\u001b[?25l  Downloading https://files.pythonhosted.org/packages/f1/62/046834c5fc998c88ab2ef722f5d42122230a632212c8afa76418324f53ff/yarl-1.6.3-cp37-cp37m-manylinux2014_x86_64.whl (294kB)\n",
            "\u001b[K     |████████████████████████████████| 296kB 46.6MB/s \n",
            "\u001b[?25hRequirement already satisfied, skipping upgrade: chardet<4.0,>=2.0 in /usr/local/lib/python3.7/dist-packages (from aiohttp==3.7.0; extra == \"ray\"->analytics-zoo[ray]) (3.0.4)\n",
            "Collecting multidict<7.0,>=4.5\n",
            "\u001b[?25l  Downloading https://files.pythonhosted.org/packages/7c/a6/4123b8165acbe773d1a8dc8e3f0d1edea16d29f7de018eda769abb56bd30/multidict-5.1.0-cp37-cp37m-manylinux2014_x86_64.whl (142kB)\n",
            "\u001b[K     |████████████████████████████████| 143kB 47.0MB/s \n",
            "\u001b[?25hRequirement already satisfied, skipping upgrade: attrs>=17.3.0 in /usr/local/lib/python3.7/dist-packages (from aiohttp==3.7.0; extra == \"ray\"->analytics-zoo[ray]) (21.2.0)\n",
            "Collecting colorful\n",
            "\u001b[?25l  Downloading https://files.pythonhosted.org/packages/4e/47/c0838017b456191529eb890aab5fc48538435d81e19c38badfa762dcfd1d/colorful-0.6.0a1-py2.py3-none-any.whl (202kB)\n",
            "\u001b[K     |████████████████████████████████| 204kB 44.0MB/s \n",
            "\u001b[?25hRequirement already satisfied, skipping upgrade: click>=7.0 in /usr/local/lib/python3.7/dist-packages (from ray==1.2.0; extra == \"ray\"->analytics-zoo[ray]) (7.1.2)\n",
            "Collecting redis>=3.5.0\n",
            "\u001b[?25l  Downloading https://files.pythonhosted.org/packages/a7/7c/24fb0511df653cf1a5d938d8f5d19802a88cef255706fdda242ff97e91b7/redis-3.5.3-py2.py3-none-any.whl (72kB)\n",
            "\u001b[K     |████████████████████████████████| 81kB 9.6MB/s \n",
            "\u001b[?25hCollecting opencensus\n",
            "\u001b[?25l  Downloading https://files.pythonhosted.org/packages/18/59/12044123133d000f705383ad98579aeb0dd82d66b33a254a21b54bf0d6bb/opencensus-0.7.13-py2.py3-none-any.whl (127kB)\n",
            "\u001b[K     |████████████████████████████████| 133kB 44.5MB/s \n",
            "\u001b[?25hRequirement already satisfied, skipping upgrade: jsonschema in /usr/local/lib/python3.7/dist-packages (from ray==1.2.0; extra == \"ray\"->analytics-zoo[ray]) (2.6.0)\n",
            "Collecting colorama\n",
            "  Downloading https://files.pythonhosted.org/packages/44/98/5b86278fbbf250d239ae0ecb724f8572af1c91f4a11edf4d36a206189440/colorama-0.4.4-py2.py3-none-any.whl\n",
            "Requirement already satisfied, skipping upgrade: requests in /usr/local/lib/python3.7/dist-packages (from ray==1.2.0; extra == \"ray\"->analytics-zoo[ray]) (2.23.0)\n",
            "Requirement already satisfied, skipping upgrade: pyyaml in /usr/local/lib/python3.7/dist-packages (from ray==1.2.0; extra == \"ray\"->analytics-zoo[ray]) (3.13)\n",
            "Collecting gpustat\n",
            "\u001b[?25l  Downloading https://files.pythonhosted.org/packages/09/93/53c9a9b688fc5f87ee1b2c0ad0ca4e56108b0ae31f1327e671a3f42b9eba/gpustat-1.0.0b1.tar.gz (82kB)\n",
            "\u001b[K     |████████████████████████████████| 92kB 10.7MB/s \n",
            "\u001b[?25hRequirement already satisfied, skipping upgrade: prometheus-client>=0.7.1 in /usr/local/lib/python3.7/dist-packages (from ray==1.2.0; extra == \"ray\"->analytics-zoo[ray]) (0.11.0)\n",
            "Requirement already satisfied, skipping upgrade: grpcio>=1.28.1 in /usr/local/lib/python3.7/dist-packages (from ray==1.2.0; extra == \"ray\"->analytics-zoo[ray]) (1.34.1)\n",
            "Requirement already satisfied, skipping upgrade: protobuf>=3.8.0 in /usr/local/lib/python3.7/dist-packages (from ray==1.2.0; extra == \"ray\"->analytics-zoo[ray]) (3.12.4)\n",
            "Requirement already satisfied, skipping upgrade: filelock in /usr/local/lib/python3.7/dist-packages (from ray==1.2.0; extra == \"ray\"->analytics-zoo[ray]) (3.0.12)\n",
            "Requirement already satisfied, skipping upgrade: msgpack<2.0.0,>=1.0.0 in /usr/local/lib/python3.7/dist-packages (from ray==1.2.0; extra == \"ray\"->analytics-zoo[ray]) (1.0.2)\n",
            "Collecting py-spy>=0.2.0\n",
            "\u001b[?25l  Downloading https://files.pythonhosted.org/packages/d5/19/508f97270d9d57d46797303e09bceeeea7c850451d528ac4cf0bdc680848/py_spy-0.4.0.dev1-py2.py3-none-manylinux1_x86_64.whl (3.0MB)\n",
            "\u001b[K     |████████████████████████████████| 3.1MB 35.4MB/s \n",
            "\u001b[?25hCollecting aiohttp-cors\n",
            "  Downloading https://files.pythonhosted.org/packages/13/e7/e436a0c0eb5127d8b491a9b83ecd2391c6ff7dcd5548dfaec2080a2340fd/aiohttp_cors-0.7.0-py3-none-any.whl\n",
            "Requirement already satisfied, skipping upgrade: idna>=2.0 in /usr/local/lib/python3.7/dist-packages (from yarl<2.0,>=1.0->aiohttp==3.7.0; extra == \"ray\"->analytics-zoo[ray]) (2.10)\n",
            "Requirement already satisfied, skipping upgrade: typing-extensions>=3.7.4; python_version < \"3.8\" in /usr/local/lib/python3.7/dist-packages (from yarl<2.0,>=1.0->aiohttp==3.7.0; extra == \"ray\"->analytics-zoo[ray]) (3.7.4.3)\n",
            "Collecting opencensus-context==0.1.2\n",
            "  Downloading https://files.pythonhosted.org/packages/f1/33/990f1bd9e7ee770fc8d3c154fc24743a96f16a0e49e14e1b7540cc2fdd93/opencensus_context-0.1.2-py2.py3-none-any.whl\n",
            "Requirement already satisfied, skipping upgrade: google-api-core<2.0.0,>=1.0.0 in /usr/local/lib/python3.7/dist-packages (from opencensus->ray==1.2.0; extra == \"ray\"->analytics-zoo[ray]) (1.26.3)\n",
            "Requirement already satisfied, skipping upgrade: certifi>=2017.4.17 in /usr/local/lib/python3.7/dist-packages (from requests->ray==1.2.0; extra == \"ray\"->analytics-zoo[ray]) (2021.5.30)\n",
            "Requirement already satisfied, skipping upgrade: urllib3!=1.25.0,!=1.25.1,<1.26,>=1.21.1 in /usr/local/lib/python3.7/dist-packages (from requests->ray==1.2.0; extra == \"ray\"->analytics-zoo[ray]) (1.24.3)\n",
            "Requirement already satisfied, skipping upgrade: nvidia-ml-py3>=7.352.0 in /usr/local/lib/python3.7/dist-packages (from gpustat->ray==1.2.0; extra == \"ray\"->analytics-zoo[ray]) (7.352.0)\n",
            "Collecting blessed>=1.17.1\n",
            "\u001b[?25l  Downloading https://files.pythonhosted.org/packages/af/7b/5ae28215407a11f8f935cc8d4e5e67cb473e8a5154c6275f153e3a480357/blessed-1.18.1-py2.py3-none-any.whl (56kB)\n",
            "\u001b[K     |████████████████████████████████| 61kB 7.8MB/s \n",
            "\u001b[?25hRequirement already satisfied, skipping upgrade: packaging>=14.3 in /usr/local/lib/python3.7/dist-packages (from google-api-core<2.0.0,>=1.0.0->opencensus->ray==1.2.0; extra == \"ray\"->analytics-zoo[ray]) (20.9)\n",
            "Requirement already satisfied, skipping upgrade: google-auth<2.0dev,>=1.21.1 in /usr/local/lib/python3.7/dist-packages (from google-api-core<2.0.0,>=1.0.0->opencensus->ray==1.2.0; extra == \"ray\"->analytics-zoo[ray]) (1.31.0)\n",
            "Requirement already satisfied, skipping upgrade: googleapis-common-protos<2.0dev,>=1.6.0 in /usr/local/lib/python3.7/dist-packages (from google-api-core<2.0.0,>=1.0.0->opencensus->ray==1.2.0; extra == \"ray\"->analytics-zoo[ray]) (1.53.0)\n",
            "Requirement already satisfied, skipping upgrade: pytz in /usr/local/lib/python3.7/dist-packages (from google-api-core<2.0.0,>=1.0.0->opencensus->ray==1.2.0; extra == \"ray\"->analytics-zoo[ray]) (2018.9)\n",
            "Requirement already satisfied, skipping upgrade: wcwidth>=0.1.4 in /usr/local/lib/python3.7/dist-packages (from blessed>=1.17.1->gpustat->ray==1.2.0; extra == \"ray\"->analytics-zoo[ray]) (0.2.5)\n",
            "Requirement already satisfied, skipping upgrade: pyparsing>=2.0.2 in /usr/local/lib/python3.7/dist-packages (from packaging>=14.3->google-api-core<2.0.0,>=1.0.0->opencensus->ray==1.2.0; extra == \"ray\"->analytics-zoo[ray]) (2.4.7)\n",
            "Requirement already satisfied, skipping upgrade: rsa<5,>=3.1.4; python_version >= \"3.6\" in /usr/local/lib/python3.7/dist-packages (from google-auth<2.0dev,>=1.21.1->google-api-core<2.0.0,>=1.0.0->opencensus->ray==1.2.0; extra == \"ray\"->analytics-zoo[ray]) (4.7.2)\n",
            "Requirement already satisfied, skipping upgrade: cachetools<5.0,>=2.0.0 in /usr/local/lib/python3.7/dist-packages (from google-auth<2.0dev,>=1.21.1->google-api-core<2.0.0,>=1.0.0->opencensus->ray==1.2.0; extra == \"ray\"->analytics-zoo[ray]) (4.2.2)\n",
            "Requirement already satisfied, skipping upgrade: pyasn1-modules>=0.2.1 in /usr/local/lib/python3.7/dist-packages (from google-auth<2.0dev,>=1.21.1->google-api-core<2.0.0,>=1.0.0->opencensus->ray==1.2.0; extra == \"ray\"->analytics-zoo[ray]) (0.2.8)\n",
            "Requirement already satisfied, skipping upgrade: pyasn1>=0.1.3 in /usr/local/lib/python3.7/dist-packages (from rsa<5,>=3.1.4; python_version >= \"3.6\"->google-auth<2.0dev,>=1.21.1->google-api-core<2.0.0,>=1.0.0->opencensus->ray==1.2.0; extra == \"ray\"->analytics-zoo[ray]) (0.4.8)\n",
            "Building wheels for collected packages: pyspark, gpustat\n",
            "  Building wheel for pyspark (setup.py) ... \u001b[?25l\u001b[?25hdone\n",
            "  Created wheel for pyspark: filename=pyspark-2.4.3-py2.py3-none-any.whl size=215964968 sha256=84664cec77b3fa00a496863f539831972ba02cb5733f1099ac93d95394189f9b\n",
            "  Stored in directory: /root/.cache/pip/wheels/8d/20/f0/b30e2024226dc112e256930dd2cd4f06d00ab053c86278dcf3\n",
            "  Building wheel for gpustat (setup.py) ... \u001b[?25l\u001b[?25hdone\n",
            "  Created wheel for gpustat: filename=gpustat-1.0.0b1-cp37-none-any.whl size=15980 sha256=ee9e512806247d6c7a0fc066ab9819b7df7a89608f870a4f6412f5d74866a7da\n",
            "  Stored in directory: /root/.cache/pip/wheels/b7/ce/db/3d3ee9515083c2e7e313aa34a01a1bd1ad6bcaae61f6852e9b\n",
            "Successfully built pyspark gpustat\n",
            "Installing collected packages: py4j, pyspark, conda-pack, bigdl, async-timeout, multidict, yarl, aiohttp, colorful, redis, opencensus-context, opencensus, hiredis, aioredis, colorama, blessed, gpustat, py-spy, aiohttp-cors, ray, setproctitle, analytics-zoo\n",
            "Successfully installed aiohttp-3.7.0 aiohttp-cors-0.7.0 aioredis-1.1.0 analytics-zoo-0.11.0b20210630 async-timeout-3.0.1 bigdl-0.12.2 blessed-1.18.1 colorama-0.4.4 colorful-0.6.0a1 conda-pack-0.3.1 gpustat-1.0.0b1 hiredis-1.1.0 multidict-5.1.0 opencensus-0.7.13 opencensus-context-0.1.2 py-spy-0.4.0.dev1 py4j-0.10.7 pyspark-2.4.3 ray-1.2.0 redis-3.5.3 setproctitle-1.2.2 yarl-1.6.3\n"
          ],
          "name": "stdout"
        }
      ]
    },
    {
      "cell_type": "markdown",
      "metadata": {
        "id": "Zy-92WBjYdx5"
      },
      "source": [
        "## **Using Spark Dataframes for Distribtued Deep Learning** \n",
        "\n",
        "In this guide we will describe how to use Spark Dataframes to process large-scale dataset."
      ]
    },
    {
      "cell_type": "markdown",
      "metadata": {
        "id": "DAy37CZkYy3p"
      },
      "source": [
        "#### **Intialization** \n",
        "\n",
        "import necessary libraries"
      ]
    },
    {
      "cell_type": "code",
      "metadata": {
        "id": "3mNCKlZLY5xI",
        "colab": {
          "base_uri": "https://localhost:8080/"
        },
        "outputId": "108f36d7-9fc0-4c9e-a71c-e595babc5d07"
      },
      "source": [
        "import os\n",
        "import zipfile\n",
        "import argparse\n",
        "\n",
        "import numpy as np\n",
        "\n",
        "from bigdl.dataset import base\n",
        "from sklearn.model_selection import train_test_split\n",
        "\n",
        "from zoo.orca import init_orca_context, stop_orca_context\n",
        "from zoo.orca import OrcaContext\n",
        "from zoo.orca.learn.tf2 import Estimator\n",
        "from zoo.orca.data import SharedValue\n",
        "\n",
        "from pyspark.sql.functions import col\n",
        "import zoo.orca.data.pandas"
      ],
      "execution_count": null,
      "outputs": [
        {
          "output_type": "stream",
          "text": [
            "Prepending /usr/local/lib/python3.7/dist-packages/bigdl/share/conf/spark-bigdl.conf to sys.path\n",
            "Adding /usr/local/lib/python3.7/dist-packages/zoo/share/lib/analytics-zoo-bigdl_0.12.2-spark_2.4.3-0.11.0-SNAPSHOT-jar-with-dependencies.jar to BIGDL_JARS\n",
            "Prepending /usr/local/lib/python3.7/dist-packages/zoo/share/conf/spark-analytics-zoo.conf to sys.path\n"
          ],
          "name": "stdout"
        }
      ]
    },
    {
      "cell_type": "markdown",
      "metadata": {
        "id": "kU0wwMFgY9hs"
      },
      "source": [
        "## **Init Orca Context** "
      ]
    },
    {
      "cell_type": "code",
      "metadata": {
        "id": "InTPPklsZMNW",
        "colab": {
          "base_uri": "https://localhost:8080/"
        },
        "outputId": "7e40ff20-5d73-4252-eea4-4da75f260162"
      },
      "source": [
        "# recommended to set it to True when running Analytics Zoo in Jupyter notebook \n",
        "OrcaContext.log_output = True # (this will display terminal's stdout and stderr in the Jupyter notebook).\n",
        "\n",
        "cluster_mode = \"local\"\n",
        "\n",
        "if cluster_mode == \"local\":  \n",
        "    init_orca_context(cluster_mode=\"local\", cores=4) # run in local mode\n",
        "elif cluster_mode == \"yarn\":  \n",
        "    init_orca_context(cluster_mode=\"yarn-client\", num_nodes=2, cores=2, driver_memory=\"6g\") # run on Hadoop YARN cluster"
      ],
      "execution_count": null,
      "outputs": [
        {
          "output_type": "stream",
          "text": [
            "Initializing orca context\n",
            "Current pyspark location is : /usr/local/lib/python3.7/dist-packages/pyspark/__init__.py\n",
            "Start to getOrCreate SparkContext\n",
            "pyspark_submit_args is:  --driver-class-path /usr/local/lib/python3.7/dist-packages/zoo/share/lib/analytics-zoo-bigdl_0.12.2-spark_2.4.3-0.11.0-SNAPSHOT-jar-with-dependencies.jar:/usr/local/lib/python3.7/dist-packages/bigdl/share/lib/bigdl-0.12.2-jar-with-dependencies.jar pyspark-shell \n",
            "2021-06-30 09:23:00 WARN  NativeCodeLoader:62 - Unable to load native-hadoop library for your platform... using builtin-java classes where applicable\n"
          ],
          "name": "stdout"
        },
        {
          "output_type": "stream",
          "text": [
            "SLF4J: Class path contains multiple SLF4J bindings.\n",
            "SLF4J: Found binding in [jar:file:/usr/local/lib/python3.7/dist-packages/zoo/share/lib/analytics-zoo-bigdl_0.12.2-spark_2.4.3-0.11.0-SNAPSHOT-jar-with-dependencies.jar!/org/slf4j/impl/StaticLoggerBinder.class]\n",
            "SLF4J: Found binding in [jar:file:/usr/local/lib/python3.7/dist-packages/pyspark/jars/slf4j-log4j12-1.7.16.jar!/org/slf4j/impl/StaticLoggerBinder.class]\n",
            "SLF4J: See http://www.slf4j.org/codes.html#multiple_bindings for an explanation.\n",
            "SLF4J: Actual binding is of type [org.slf4j.impl.Log4jLoggerFactory]\n",
            "Setting default log level to \"WARN\".\n",
            "To adjust logging level use sc.setLogLevel(newLevel). For SparkR, use setLogLevel(newLevel).\n"
          ],
          "name": "stderr"
        },
        {
          "output_type": "stream",
          "text": [
            "cls.getname: com.intel.analytics.bigdl.python.api.Sample\n",
            "BigDLBasePickler registering: bigdl.util.common  Sample\n",
            "cls.getname: com.intel.analytics.bigdl.python.api.EvaluatedResult\n",
            "BigDLBasePickler registering: bigdl.util.common  EvaluatedResult\n",
            "cls.getname: com.intel.analytics.bigdl.python.api.JTensor\n",
            "BigDLBasePickler registering: bigdl.util.common  JTensor\n",
            "cls.getname: com.intel.analytics.bigdl.python.api.JActivity\n",
            "BigDLBasePickler registering: bigdl.util.common  JActivity\n",
            "Successfully got a SparkContext\n"
          ],
          "name": "stdout"
        },
        {
          "output_type": "stream",
          "text": [
            "\n",
            "User settings:\n",
            "\n",
            "   KMP_AFFINITY=granularity=fine,compact,1,0\n",
            "   KMP_BLOCKTIME=0\n",
            "   KMP_DUPLICATE_LIB_OK=True\n",
            "   KMP_INIT_AT_FORK=FALSE\n",
            "   KMP_SETTINGS=1\n",
            "   OMP_NUM_THREADS=1\n",
            "\n",
            "Effective settings:\n",
            "\n",
            "   KMP_ABORT_DELAY=0\n",
            "   KMP_ADAPTIVE_LOCK_PROPS='1,1024'\n",
            "   KMP_ALIGN_ALLOC=64\n",
            "   KMP_ALL_THREADPRIVATE=128\n",
            "   KMP_ATOMIC_MODE=2\n",
            "   KMP_BLOCKTIME=0\n",
            "   KMP_CPUINFO_FILE: value is not defined\n",
            "   KMP_DETERMINISTIC_REDUCTION=false\n",
            "   KMP_DEVICE_THREAD_LIMIT=2147483647\n",
            "   KMP_DISP_HAND_THREAD=false\n",
            "   KMP_DISP_NUM_BUFFERS=7\n",
            "   KMP_DUPLICATE_LIB_OK=true\n",
            "   KMP_FORCE_REDUCTION: value is not defined\n",
            "   KMP_FOREIGN_THREADS_THREADPRIVATE=true\n",
            "   KMP_FORKJOIN_BARRIER='2,2'\n",
            "   KMP_FORKJOIN_BARRIER_PATTERN='hyper,hyper'\n",
            "   KMP_FORKJOIN_FRAMES=true\n",
            "   KMP_FORKJOIN_FRAMES_MODE=3\n",
            "   KMP_GTID_MODE=3\n",
            "   KMP_HANDLE_SIGNALS=false\n",
            "   KMP_HOT_TEAMS_MAX_LEVEL=1\n",
            "   KMP_HOT_TEAMS_MODE=0\n",
            "   KMP_INIT_AT_FORK=true\n",
            "   KMP_ITT_PREPARE_DELAY=0\n",
            "   KMP_LIBRARY=throughput\n",
            "   KMP_LOCK_KIND=queuing\n",
            "   KMP_MALLOC_POOL_INCR=1M\n",
            "   KMP_MWAIT_HINTS=0\n",
            "   KMP_NUM_LOCKS_IN_BLOCK=1\n",
            "   KMP_PLAIN_BARRIER='2,2'\n",
            "   KMP_PLAIN_BARRIER_PATTERN='hyper,hyper'\n",
            "   KMP_REDUCTION_BARRIER='1,1'\n",
            "   KMP_REDUCTION_BARRIER_PATTERN='hyper,hyper'\n",
            "   KMP_SCHEDULE='static,balanced;guided,iterative'\n",
            "   KMP_SETTINGS=true\n",
            "   KMP_SPIN_BACKOFF_PARAMS='4096,100'\n",
            "   KMP_STACKOFFSET=64\n",
            "   KMP_STACKPAD=0\n",
            "   KMP_STACKSIZE=8M\n",
            "   KMP_STORAGE_MAP=false\n",
            "   KMP_TASKING=2\n",
            "   KMP_TASKLOOP_MIN_TASKS=0\n",
            "   KMP_TASK_STEALING_CONSTRAINT=1\n",
            "   KMP_TEAMS_THREAD_LIMIT=2\n",
            "   KMP_TOPOLOGY_METHOD=all\n",
            "   KMP_USER_LEVEL_MWAIT=false\n",
            "   KMP_USE_YIELD=1\n",
            "   KMP_VERSION=false\n",
            "   KMP_WARNINGS=true\n",
            "   OMP_AFFINITY_FORMAT='OMP: pid %P tid %i thread %n bound to OS proc set {%A}'\n",
            "   OMP_ALLOCATOR=omp_default_mem_alloc\n",
            "   OMP_CANCELLATION=false\n",
            "   OMP_DEBUG=disabled\n",
            "   OMP_DEFAULT_DEVICE=0\n",
            "   OMP_DISPLAY_AFFINITY=false\n",
            "   OMP_DISPLAY_ENV=false\n",
            "   OMP_DYNAMIC=false\n",
            "   OMP_MAX_ACTIVE_LEVELS=2147483647\n",
            "   OMP_MAX_TASK_PRIORITY=0\n",
            "   OMP_NESTED=false\n",
            "   OMP_NUM_THREADS='1'\n",
            "   OMP_PLACES: value is not defined\n",
            "   OMP_PROC_BIND='intel'\n",
            "   OMP_SCHEDULE='static'\n",
            "   OMP_STACKSIZE=8M\n",
            "   OMP_TARGET_OFFLOAD=DEFAULT\n",
            "   OMP_THREAD_LIMIT=2147483647\n",
            "   OMP_TOOL=enabled\n",
            "   OMP_TOOL_LIBRARIES: value is not defined\n",
            "   OMP_WAIT_POLICY=PASSIVE\n",
            "   KMP_AFFINITY='noverbose,warnings,respect,granularity=fine,compact,1,0'\n",
            "\n"
          ],
          "name": "stderr"
        }
      ]
    },
    {
      "cell_type": "markdown",
      "metadata": {
        "id": "dO2x4TI4ZRnq"
      },
      "source": [
        "## **Data Preprocessing with Spark Dataframes**\n",
        "\n",
        "Orca supports Spark Dataframes as the input to the distributed training, and as the input/output of the distributed inference. Consequently, the user can easily process large-scale dataset using Apache Spark, and directly apply AI models on the distributed (and possibly in-memory) Dataframes without data conversion or serialization."
      ]
    },
    {
      "cell_type": "code",
      "metadata": {
        "id": "4xyxitSDZP8V",
        "colab": {
          "base_uri": "https://localhost:8080/"
        },
        "outputId": "219e275c-af3c-4444-c69c-d8a8ed708189"
      },
      "source": [
        "# Download and extract movielens 1M data.\n",
        "url = 'http://files.grouplens.org/datasets/movielens/ml-1m.zip'\n",
        "local_file = base.maybe_download('ml-1m.zip', '.', url)\n",
        "if not os.path.exists('./ml-1m'):\n",
        "        zip_ref = zipfile.ZipFile(local_file, 'r')\n",
        "        zip_ref.extractall('.')\n",
        "        zip_ref.close()"
      ],
      "execution_count": null,
      "outputs": [
        {
          "output_type": "stream",
          "text": [
            "Downloading data from http://files.grouplens.org/datasets/movielens/ml-1m.zip\n",
            "5578752/5917549 [===========================>..] - ETA: 0sSuccessfully downloaded ml-1m.zip 5917549 bytes.\n"
          ],
          "name": "stdout"
        }
      ]
    },
    {
      "cell_type": "code",
      "metadata": {
        "id": "OxeY0f2Ia7yo"
      },
      "source": [
        "# Read in the dataset, and do a little preprocessing\n",
        "rating_files=\"./ml-1m/ratings.dat\"\n",
        "new_rating_files=\"./ml-1m/ratings_new.dat\"\n",
        "if not os.path.exists(new_rating_files):\n",
        "        fin = open(rating_files, \"rt\")\n",
        "        fout = open(new_rating_files, \"wt\")\n",
        "        for line in fin:\n",
        "            # replace :: to : for spark 2.4 support\n",
        "            fout.write(line.replace('::', ':'))\n",
        "        fin.close()\n",
        "        fout.close()"
      ],
      "execution_count": null,
      "outputs": []
    },
    {
      "cell_type": "code",
      "metadata": {
        "colab": {
          "base_uri": "https://localhost:8080/"
        },
        "id": "-BVhLa-ebFTe",
        "outputId": "c2317222-bed4-4602-ff71-a1fb77be4975"
      },
      "source": [
        "# read csv\n",
        "spark = OrcaContext.get_spark_session()\n",
        "df = (\n",
        "    spark\n",
        "    .read.csv(new_rating_files, sep=':', header=True, inferSchema=True)\n",
        "    .toDF(\"user\", \"item\", \"label\", \"timestamp\")\n",
        ")\n",
        "\n",
        "user_set = df.select('user').collect()\n",
        "item_set = df.select('item').collect()\n",
        "\n",
        "min_user_id = min(user_set)[0]\n",
        "max_user_id = max(user_set)[0]\n",
        "min_item_id = min(item_set)[0]\n",
        "max_item_id = max(item_set)[0]\n",
        "print(min_user_id, max_user_id, min_item_id, max_item_id)"
      ],
      "execution_count": null,
      "outputs": [
        {
          "output_type": "stream",
          "text": [
            ""
          ],
          "name": "stderr"
        },
        {
          "output_type": "stream",
          "text": [
            "1 6040 1 3952\n"
          ],
          "name": "stdout"
        }
      ]
    },
    {
      "cell_type": "code",
      "metadata": {
        "id": "PFLTccOlbTaa"
      },
      "source": [
        "# update label starting from 0\n",
        "df = df.withColumn('label', df.label-1)"
      ],
      "execution_count": null,
      "outputs": []
    },
    {
      "cell_type": "code",
      "metadata": {
        "id": "kXym4BodbzwS"
      },
      "source": [
        "# split to train/test dataset\n",
        "train_data, test_data = df.randomSplit([0.8, 0.2], 100)"
      ],
      "execution_count": null,
      "outputs": []
    },
    {
      "cell_type": "code",
      "metadata": {
        "id": "DaCa_7CTQLQj",
        "colab": {
          "base_uri": "https://localhost:8080/"
        },
        "outputId": "a2e8c78d-4b2d-4df0-cbf2-f9d9c3b00694"
      },
      "source": [
        "train_data.printSchema()"
      ],
      "execution_count": null,
      "outputs": [
        {
          "output_type": "stream",
          "text": [
            "root\n",
            " |-- user: integer (nullable = true)\n",
            " |-- item: integer (nullable = true)\n",
            " |-- label: integer (nullable = true)\n",
            " |-- timestamp: integer (nullable = true)\n",
            "\n"
          ],
          "name": "stdout"
        }
      ]
    },
    {
      "cell_type": "code",
      "metadata": {
        "id": "R4s0goJmQQ9L",
        "colab": {
          "base_uri": "https://localhost:8080/"
        },
        "outputId": "c080ac29-6084-4781-ba11-868de9a1ff39"
      },
      "source": [
        "train_data.count(), test_data.count()"
      ],
      "execution_count": null,
      "outputs": [
        {
          "output_type": "stream",
          "text": [
            ""
          ],
          "name": "stderr"
        },
        {
          "output_type": "execute_result",
          "data": {
            "text/plain": [
              "(799608, 200600)"
            ]
          },
          "metadata": {
            "tags": []
          },
          "execution_count": 15
        }
      ]
    },
    {
      "cell_type": "markdown",
      "metadata": {
        "id": "nEgxpdYcb7oC"
      },
      "source": [
        "### **Define NCF Model**"
      ]
    },
    {
      "cell_type": "code",
      "metadata": {
        "id": "OnPGNXK0b8ot",
        "colab": {
          "base_uri": "https://localhost:8080/"
        },
        "outputId": "1febe6cf-8c04-4b6d-d90b-b653a4d7a320"
      },
      "source": [
        "import tensorflow as tf\n",
        "from tensorflow import keras\n",
        "\n",
        "print(tf.__version__, keras.__version__)\n",
        "def model_creator(config):\n",
        "    embedding_size=16\n",
        "    user = keras.layers.Input(dtype=tf.int32, shape=(None,))\n",
        "    item = keras.layers.Input(dtype=tf.int32, shape=(None,))\n",
        "    label = keras.layers.Input(dtype=tf.int32, shape=(None,))\n",
        "\n",
        "    with tf.name_scope(\"GMF\"):\n",
        "        user_embed_GMF = keras.layers.Embedding(max_user_id + 1, embedding_size)(user)\n",
        "        item_embed_GMF = keras.layers.Embedding(max_item_id + 1, embedding_size)(item)\n",
        "        GMF = keras.layers.Multiply()([user_embed_GMF, item_embed_GMF])\n",
        "\n",
        "    with tf.name_scope(\"MLP\"):\n",
        "        user_embed_MLP = keras.layers.Embedding(max_user_id + 1, embedding_size)(user)\n",
        "        item_embed_MLP = keras.layers.Embedding(max_item_id + 1, embedding_size)(item)\n",
        "        interaction = tf.concat([user_embed_MLP, item_embed_MLP], axis=-1)\n",
        "        layer1_MLP = keras.layers.Dense(units=embedding_size * 2, activation='relu')(interaction)\n",
        "        layer1_MLP = keras.layers.Dropout(rate=0.2)(layer1_MLP)\n",
        "        layer2_MLP = keras.layers.Dense(units=embedding_size, activation='relu')(layer1_MLP)\n",
        "        layer2_MLP = keras.layers.Dropout(rate=0.2)(layer2_MLP)\n",
        "        layer3_MLP = keras.layers.Dense(units=embedding_size // 2, activation='relu')(layer2_MLP)\n",
        "        layer3_MLP = keras.layers.Dropout(rate=0.2)(layer3_MLP)\n",
        "\n",
        "    # Concate the two parts together\n",
        "    with tf.name_scope(\"concatenation\"):\n",
        "        concatenation = tf.concat([GMF, layer3_MLP], axis=-1)\n",
        "        outputs = keras.layers.Dense(units=5, activation='softmax')(concatenation)\n",
        "    \n",
        "    model = keras.Model(inputs=[user, item], outputs=outputs)\n",
        "    model.compile(optimizer= \"adam\",\n",
        "                  loss= \"sparse_categorical_crossentropy\",\n",
        "                  metrics=['accuracy'])\n",
        "    return model"
      ],
      "execution_count": null,
      "outputs": [
        {
          "output_type": "stream",
          "text": [
            "2.5.0 2.5.0\n"
          ],
          "name": "stdout"
        }
      ]
    },
    {
      "cell_type": "markdown",
      "metadata": {
        "id": "1srWZc5DcHMG"
      },
      "source": [
        "### **Fit with Orca Estimator**"
      ]
    },
    {
      "cell_type": "code",
      "metadata": {
        "id": "tqTuXJbYcRj6",
        "colab": {
          "base_uri": "https://localhost:8080/",
          "height": 1000
        },
        "outputId": "5202c6e6-66cc-4201-dc64-6f320456add6"
      },
      "source": [
        "batch_size=1280\n",
        "epochs=2\n",
        "model_dir='./'\n",
        "\n",
        "# create an Estimator\n",
        "est = Estimator.from_keras(model_creator=model_creator, workers_per_node=1)\n",
        "\n",
        "stats = est.fit(train_data,\n",
        "                epochs=epochs,\n",
        "                batch_size=batch_size,\n",
        "                feature_cols=['user', 'item'],\n",
        "                label_cols=['label'],\n",
        "                steps_per_epoch=800000 // batch_size,\n",
        "                validation_data=test_data,\n",
        "                validation_steps = 200000 // batch_size)\n",
        "\n",
        "checkpoint_path = os.path.join(model_dir, \"NCF.ckpt\")\n",
        "est.save(checkpoint_path)"
      ],
      "execution_count": null,
      "outputs": [
        {
          "output_type": "stream",
          "text": [
            "2021-06-30 09:26:13,318\tINFO services.py:1174 -- View the Ray dashboard at \u001b[1m\u001b[32mhttp://172.28.0.2:8265\u001b[39m\u001b[22m\n"
          ],
          "name": "stderr"
        },
        {
          "output_type": "stream",
          "text": [
            "{'node_ip_address': '172.28.0.2', 'raylet_ip_address': '172.28.0.2', 'redis_address': '172.28.0.2:6379', 'object_store_address': '/tmp/ray/session_2021-06-30_09-26-12_561394_61/sockets/plasma_store', 'raylet_socket_name': '/tmp/ray/session_2021-06-30_09-26-12_561394_61/sockets/raylet', 'webui_url': '172.28.0.2:8265', 'session_dir': '/tmp/ray/session_2021-06-30_09-26-12_561394_61', 'metrics_export_port': 58553, 'node_id': '88b778c9267b6f097d40b1426bac8b6f63a39c4807af59d90c488c23'}\n",
            "\u001b[2m\u001b[36m(pid=566)\u001b[0m Prepending /usr/local/lib/python3.7/dist-packages/bigdl/share/conf/spark-bigdl.conf to sys.path\n",
            "\u001b[2m\u001b[36m(pid=566)\u001b[0m Prepending /usr/local/lib/python3.7/dist-packages/zoo/share/conf/spark-analytics-zoo.conf to sys.path\n"
          ],
          "name": "stdout"
        },
        {
          "output_type": "stream",
          "text": [
            "\u001b[2m\u001b[36m(pid=566)\u001b[0m 2021-06-30 09:26:17.241558: I tensorflow/stream_executor/platform/default/dso_loader.cc:53] Successfully opened dynamic library libcudart.so.11.0\n",
            "\u001b[2m\u001b[36m(pid=566)\u001b[0m WARNING:tensorflow:From /usr/local/lib/python3.7/dist-packages/zoo/orca/learn/tf2/tf_runner.py:314: _CollectiveAllReduceStrategyExperimental.__init__ (from tensorflow.python.distribute.collective_all_reduce_strategy) is deprecated and will be removed in a future version.\n",
            "\u001b[2m\u001b[36m(pid=566)\u001b[0m Instructions for updating:\n",
            "\u001b[2m\u001b[36m(pid=566)\u001b[0m use distribute.MultiWorkerMirroredStrategy instead\n",
            "\u001b[2m\u001b[36m(pid=566)\u001b[0m 2021-06-30 09:26:18.804181: I tensorflow/stream_executor/platform/default/dso_loader.cc:53] Successfully opened dynamic library libcuda.so.1\n",
            "\u001b[2m\u001b[36m(pid=566)\u001b[0m 2021-06-30 09:26:18.918934: E tensorflow/stream_executor/cuda/cuda_driver.cc:328] failed call to cuInit: CUDA_ERROR_NO_DEVICE: no CUDA-capable device is detected\n",
            "\u001b[2m\u001b[36m(pid=566)\u001b[0m 2021-06-30 09:26:18.919004: I tensorflow/stream_executor/cuda/cuda_diagnostics.cc:156] kernel driver does not appear to be running on this host (dc5751057a6b): /proc/driver/nvidia/version does not exist\n",
            "\u001b[2m\u001b[36m(pid=566)\u001b[0m 2021-06-30 09:26:18.995949: I tensorflow/core/distributed_runtime/rpc/grpc_channel.cc:301] Initialize GrpcChannelCache for job worker -> {0 -> 172.28.0.2:50993}\n",
            "\u001b[2m\u001b[36m(pid=566)\u001b[0m 2021-06-30 09:26:18.996275: I tensorflow/core/distributed_runtime/rpc/grpc_server_lib.cc:411] Started server with target: grpc://172.28.0.2:50993\n",
            "[Stage 8:>                                                          (0 + 4) / 4]Prepending /usr/local/lib/python3.7/dist-packages/bigdl/share/conf/spark-bigdl.conf to sys.path\n",
            "Prepending /usr/local/lib/python3.7/dist-packages/zoo/share/conf/spark-analytics-zoo.conf to sys.path\n",
            "Prepending /usr/local/lib/python3.7/dist-packages/bigdl/share/conf/spark-bigdl.conf to sys.path\n",
            "Prepending /usr/local/lib/python3.7/dist-packages/bigdl/share/conf/spark-bigdl.conf to sys.path\n",
            "Prepending /usr/local/lib/python3.7/dist-packages/bigdl/share/conf/spark-bigdl.conf to sys.path\n",
            "Prepending /usr/local/lib/python3.7/dist-packages/zoo/share/conf/spark-analytics-zoo.conf to sys.path\n",
            "Prepending /usr/local/lib/python3.7/dist-packages/zoo/share/conf/spark-analytics-zoo.conf to sys.path\n",
            "Prepending /usr/local/lib/python3.7/dist-packages/zoo/share/conf/spark-analytics-zoo.conf to sys.path\n"
          ],
          "name": "stderr"
        },
        {
          "output_type": "stream",
          "text": [
            "\u001b[2m\u001b[36m(pid=567)\u001b[0m Prepending /usr/local/lib/python3.7/dist-packages/bigdl/share/conf/spark-bigdl.conf to sys.path\n",
            "\u001b[2m\u001b[36m(pid=567)\u001b[0m Prepending /usr/local/lib/python3.7/dist-packages/zoo/share/conf/spark-analytics-zoo.conf to sys.path\n"
          ],
          "name": "stdout"
        },
        {
          "output_type": "stream",
          "text": [
            "2021-06-30 09:26:51,053\tINFO worker.py:655 -- Connecting to existing Ray cluster at address: 172.28.0.2:6379\n",
            "Prepending /usr/local/lib/python3.7/dist-packages/bigdl/share/conf/spark-bigdl.conf to sys.path\n",
            "Prepending /usr/local/lib/python3.7/dist-packages/zoo/share/conf/spark-analytics-zoo.conf to sys.path\n"
          ],
          "name": "stderr"
        },
        {
          "output_type": "stream",
          "text": [
            "\u001b[2m\u001b[36m(pid=988)\u001b[0m Prepending /usr/local/lib/python3.7/dist-packages/bigdl/share/conf/spark-bigdl.conf to sys.path\n",
            "\u001b[2m\u001b[36m(pid=988)\u001b[0m Prepending /usr/local/lib/python3.7/dist-packages/zoo/share/conf/spark-analytics-zoo.conf to sys.path\n"
          ],
          "name": "stdout"
        },
        {
          "output_type": "stream",
          "text": [
            "Prepending /usr/local/lib/python3.7/dist-packages/bigdl/share/conf/spark-bigdl.conf to sys.path\n",
            "Prepending /usr/local/lib/python3.7/dist-packages/zoo/share/conf/spark-analytics-zoo.conf to sys.path\n",
            "[Stage 23:>                                                         (0 + 1) / 1]2021-06-30 09:26:53,306\tINFO worker.py:655 -- Connecting to existing Ray cluster at address: 172.28.0.2:6379\n",
            "\u001b[2m\u001b[36m(pid=566)\u001b[0m WARNING:tensorflow:From /usr/local/lib/python3.7/dist-packages/zoo/orca/learn/tf2/tf_runner.py:191: StrategyBase.experimental_distribute_datasets_from_function (from tensorflow.python.distribute.distribute_lib) is deprecated and will be removed in a future version.\n",
            "\u001b[2m\u001b[36m(pid=566)\u001b[0m Instructions for updating:\n",
            "\u001b[2m\u001b[36m(pid=566)\u001b[0m rename to distribute_datasets_from_function\n",
            "\u001b[2m\u001b[36m(pid=566)\u001b[0m 2021-06-30 09:26:53.918156: I tensorflow/compiler/mlir/mlir_graph_optimization_pass.cc:176] None of the MLIR Optimization Passes are enabled (registered 2)\n",
            "\u001b[2m\u001b[36m(pid=566)\u001b[0m 2021-06-30 09:26:53.918723: I tensorflow/core/platform/profile_utils/cpu_utils.cc:114] CPU Frequency: 2199995000 Hz\n"
          ],
          "name": "stderr"
        },
        {
          "output_type": "stream",
          "text": [
            "\u001b[2m\u001b[36m(pid=566)\u001b[0m Epoch 1/2\n",
            "  1/625 [..............................] - ETA: 38:14 - loss: 1.6067 - accuracy: 0.3234\n",
            "  5/625 [..............................] - ETA: 8s - loss: 1.6045 - accuracy: 0.3270   \n",
            " 10/625 [..............................] - ETA: 7s - loss: 1.6011 - accuracy: 0.3362\n",
            " 15/625 [..............................] - ETA: 7s - loss: 1.5975 - accuracy: 0.3369\n",
            " 20/625 [..............................] - ETA: 7s - loss: 1.5937 - accuracy: 0.3368\n",
            " 24/625 [>.............................] - ETA: 7s - loss: 1.5900 - accuracy: 0.3389\n",
            " 29/625 [>.............................] - ETA: 7s - loss: 1.5849 - accuracy: 0.3405\n",
            " 34/625 [>.............................] - ETA: 7s - loss: 1.5790 - accuracy: 0.3429\n",
            " 38/625 [>.............................] - ETA: 7s - loss: 1.5739 - accuracy: 0.3435\n",
            " 41/625 [>.............................] - ETA: 7s - loss: 1.5707 - accuracy: 0.3425\n",
            " 46/625 [=>............................] - ETA: 7s - loss: 1.5650 - accuracy: 0.3418\n",
            " 50/625 [=>............................] - ETA: 7s - loss: 1.5598 - accuracy: 0.3415\n",
            " 54/625 [=>............................] - ETA: 7s - loss: 1.5554 - accuracy: 0.3413\n",
            " 59/625 [=>............................] - ETA: 7s - loss: 1.5490 - accuracy: 0.3427\n",
            " 63/625 [==>...........................] - ETA: 7s - loss: 1.5435 - accuracy: 0.3436\n",
            " 67/625 [==>...........................] - ETA: 7s - loss: 1.5399 - accuracy: 0.3436\n",
            " 71/625 [==>...........................] - ETA: 7s - loss: 1.5362 - accuracy: 0.3434\n",
            " 76/625 [==>...........................] - ETA: 7s - loss: 1.5309 - accuracy: 0.3435\n",
            " 81/625 [==>...........................] - ETA: 6s - loss: 1.5264 - accuracy: 0.3439\n",
            " 86/625 [===>..........................] - ETA: 6s - loss: 1.5214 - accuracy: 0.3444\n",
            " 90/625 [===>..........................] - ETA: 6s - loss: 1.5177 - accuracy: 0.3452\n",
            " 95/625 [===>..........................] - ETA: 6s - loss: 1.5147 - accuracy: 0.3450\n",
            "100/625 [===>..........................] - ETA: 6s - loss: 1.5123 - accuracy: 0.3446\n",
            "105/625 [====>.........................] - ETA: 6s - loss: 1.5092 - accuracy: 0.3447\n",
            "109/625 [====>.........................] - ETA: 6s - loss: 1.5078 - accuracy: 0.3443\n",
            "113/625 [====>.........................] - ETA: 6s - loss: 1.5067 - accuracy: 0.3431\n",
            "118/625 [====>.........................] - ETA: 6s - loss: 1.5048 - accuracy: 0.3419\n",
            "122/625 [====>.........................] - ETA: 6s - loss: 1.5023 - accuracy: 0.3418\n",
            "126/625 [=====>........................] - ETA: 6s - loss: 1.4993 - accuracy: 0.3421\n",
            "131/625 [=====>........................] - ETA: 6s - loss: 1.4961 - accuracy: 0.3426\n",
            "136/625 [=====>........................] - ETA: 6s - loss: 1.4941 - accuracy: 0.3421\n",
            "140/625 [=====>........................] - ETA: 6s - loss: 1.4920 - accuracy: 0.3420\n",
            "144/625 [=====>........................] - ETA: 6s - loss: 1.4903 - accuracy: 0.3416\n",
            "148/625 [======>.......................] - ETA: 6s - loss: 1.4888 - accuracy: 0.3416\n",
            "153/625 [======>.......................] - ETA: 6s - loss: 1.4858 - accuracy: 0.3425\n",
            "157/625 [======>.......................] - ETA: 5s - loss: 1.4834 - accuracy: 0.3431\n",
            "161/625 [======>.......................] - ETA: 5s - loss: 1.4815 - accuracy: 0.3433\n",
            "166/625 [======>.......................] - ETA: 5s - loss: 1.4794 - accuracy: 0.3439\n",
            "170/625 [=======>......................] - ETA: 5s - loss: 1.4771 - accuracy: 0.3444\n",
            "175/625 [=======>......................] - ETA: 5s - loss: 1.4741 - accuracy: 0.3456\n",
            "179/625 [=======>......................] - ETA: 5s - loss: 1.4719 - accuracy: 0.3460\n",
            "183/625 [=======>......................] - ETA: 5s - loss: 1.4700 - accuracy: 0.3467\n",
            "188/625 [========>.....................] - ETA: 5s - loss: 1.4672 - accuracy: 0.3473\n",
            "193/625 [========>.....................] - ETA: 5s - loss: 1.4644 - accuracy: 0.3482\n",
            "198/625 [========>.....................] - ETA: 5s - loss: 1.4620 - accuracy: 0.3490\n",
            "202/625 [========>.....................] - ETA: 5s - loss: 1.4602 - accuracy: 0.3496\n",
            "207/625 [========>.....................] - ETA: 5s - loss: 1.4581 - accuracy: 0.3504\n",
            "210/625 [=========>....................] - ETA: 5s - loss: 1.4570 - accuracy: 0.3507\n",
            "214/625 [=========>....................] - ETA: 5s - loss: 1.4552 - accuracy: 0.3512\n",
            "218/625 [=========>....................] - ETA: 5s - loss: 1.4539 - accuracy: 0.3517\n",
            "223/625 [=========>....................] - ETA: 5s - loss: 1.4523 - accuracy: 0.3521\n",
            "228/625 [=========>....................] - ETA: 5s - loss: 1.4506 - accuracy: 0.3524\n",
            "232/625 [==========>...................] - ETA: 5s - loss: 1.4491 - accuracy: 0.3528\n",
            "236/625 [==========>...................] - ETA: 4s - loss: 1.4474 - accuracy: 0.3532\n",
            "241/625 [==========>...................] - ETA: 4s - loss: 1.4451 - accuracy: 0.3539\n",
            "245/625 [==========>...................] - ETA: 4s - loss: 1.4432 - accuracy: 0.3545\n",
            "250/625 [===========>..................] - ETA: 4s - loss: 1.4411 - accuracy: 0.3552\n",
            "255/625 [===========>..................] - ETA: 4s - loss: 1.4391 - accuracy: 0.3559\n",
            "260/625 [===========>..................] - ETA: 4s - loss: 1.4372 - accuracy: 0.3565\n",
            "264/625 [===========>..................] - ETA: 4s - loss: 1.4358 - accuracy: 0.3570\n",
            "269/625 [===========>..................] - ETA: 4s - loss: 1.4343 - accuracy: 0.3575\n",
            "274/625 [============>.................] - ETA: 4s - loss: 1.4325 - accuracy: 0.3584\n",
            "278/625 [============>.................] - ETA: 4s - loss: 1.4314 - accuracy: 0.3589\n",
            "281/625 [============>.................] - ETA: 4s - loss: 1.4306 - accuracy: 0.3591\n",
            "285/625 [============>.................] - ETA: 4s - loss: 1.4295 - accuracy: 0.3595\n",
            "290/625 [============>.................] - ETA: 4s - loss: 1.4280 - accuracy: 0.3601\n",
            "295/625 [=============>................] - ETA: 4s - loss: 1.4265 - accuracy: 0.3604\n",
            "299/625 [=============>................] - ETA: 4s - loss: 1.4254 - accuracy: 0.3608\n",
            "304/625 [=============>................] - ETA: 4s - loss: 1.4238 - accuracy: 0.3614\n",
            "308/625 [=============>................] - ETA: 4s - loss: 1.4225 - accuracy: 0.3620\n",
            "312/625 [=============>................] - ETA: 4s - loss: 1.4213 - accuracy: 0.3625\n",
            "316/625 [==============>...............] - ETA: 3s - loss: 1.4202 - accuracy: 0.3628\n",
            "320/625 [==============>...............] - ETA: 3s - loss: 1.4191 - accuracy: 0.3633\n",
            "324/625 [==============>...............] - ETA: 3s - loss: 1.4179 - accuracy: 0.3638\n",
            "328/625 [==============>...............] - ETA: 3s - loss: 1.4169 - accuracy: 0.3641\n",
            "332/625 [==============>...............] - ETA: 3s - loss: 1.4158 - accuracy: 0.3645\n",
            "337/625 [===============>..............] - ETA: 3s - loss: 1.4147 - accuracy: 0.3649\n",
            "341/625 [===============>..............] - ETA: 3s - loss: 1.4138 - accuracy: 0.3653\n",
            "345/625 [===============>..............] - ETA: 3s - loss: 1.4131 - accuracy: 0.3655\n",
            "349/625 [===============>..............] - ETA: 3s - loss: 1.4125 - accuracy: 0.3658\n",
            "353/625 [===============>..............] - ETA: 3s - loss: 1.4118 - accuracy: 0.3661\n",
            "357/625 [================>.............] - ETA: 3s - loss: 1.4110 - accuracy: 0.3663\n",
            "361/625 [================>.............] - ETA: 3s - loss: 1.4106 - accuracy: 0.3665\n",
            "365/625 [================>.............] - ETA: 3s - loss: 1.4102 - accuracy: 0.3668\n",
            "370/625 [================>.............] - ETA: 3s - loss: 1.4097 - accuracy: 0.3672\n",
            "374/625 [================>.............] - ETA: 3s - loss: 1.4089 - accuracy: 0.3675\n",
            "379/625 [=================>............] - ETA: 3s - loss: 1.4078 - accuracy: 0.3681\n",
            "384/625 [=================>............] - ETA: 3s - loss: 1.4069 - accuracy: 0.3685\n",
            "389/625 [=================>............] - ETA: 3s - loss: 1.4061 - accuracy: 0.3687\n",
            "394/625 [=================>............] - ETA: 2s - loss: 1.4054 - accuracy: 0.3690\n",
            "397/625 [==================>...........] - ETA: 2s - loss: 1.4050 - accuracy: 0.3692\n",
            "402/625 [==================>...........] - ETA: 2s - loss: 1.4043 - accuracy: 0.3695\n",
            "407/625 [==================>...........] - ETA: 2s - loss: 1.4037 - accuracy: 0.3698\n",
            "412/625 [==================>...........] - ETA: 2s - loss: 1.4033 - accuracy: 0.3700\n",
            "416/625 [==================>...........] - ETA: 2s - loss: 1.4029 - accuracy: 0.3700\n",
            "420/625 [===================>..........] - ETA: 2s - loss: 1.4024 - accuracy: 0.3704\n",
            "425/625 [===================>..........] - ETA: 2s - loss: 1.4016 - accuracy: 0.3708\n",
            "429/625 [===================>..........] - ETA: 2s - loss: 1.4008 - accuracy: 0.3711\n",
            "433/625 [===================>..........] - ETA: 2s - loss: 1.4000 - accuracy: 0.3714\n",
            "437/625 [===================>..........] - ETA: 2s - loss: 1.3993 - accuracy: 0.3716\n",
            "442/625 [====================>.........] - ETA: 2s - loss: 1.3982 - accuracy: 0.3721\n",
            "446/625 [====================>.........] - ETA: 2s - loss: 1.3975 - accuracy: 0.3724\n",
            "450/625 [====================>.........] - ETA: 2s - loss: 1.3970 - accuracy: 0.3726\n",
            "454/625 [====================>.........] - ETA: 2s - loss: 1.3965 - accuracy: 0.3728\n",
            "459/625 [=====================>........] - ETA: 2s - loss: 1.3957 - accuracy: 0.3731\n",
            "463/625 [=====================>........] - ETA: 2s - loss: 1.3950 - accuracy: 0.3734\n",
            "468/625 [=====================>........] - ETA: 2s - loss: 1.3944 - accuracy: 0.3735\n",
            "473/625 [=====================>........] - ETA: 1s - loss: 1.3936 - accuracy: 0.3737\n",
            "478/625 [=====================>........] - ETA: 1s - loss: 1.3930 - accuracy: 0.3740\n",
            "482/625 [======================>.......] - ETA: 1s - loss: 1.3925 - accuracy: 0.3742\n",
            "486/625 [======================>.......] - ETA: 1s - loss: 1.3919 - accuracy: 0.3744\n",
            "490/625 [======================>.......] - ETA: 1s - loss: 1.3914 - accuracy: 0.3746\n",
            "494/625 [======================>.......] - ETA: 1s - loss: 1.3906 - accuracy: 0.3749\n",
            "498/625 [======================>.......] - ETA: 1s - loss: 1.3897 - accuracy: 0.3752\n",
            "503/625 [=======================>......] - ETA: 1s - loss: 1.3887 - accuracy: 0.3756\n",
            "507/625 [=======================>......] - ETA: 1s - loss: 1.3882 - accuracy: 0.3759\n",
            "512/625 [=======================>......] - ETA: 1s - loss: 1.3873 - accuracy: 0.3762\n",
            "516/625 [=======================>......] - ETA: 1s - loss: 1.3868 - accuracy: 0.3764\n",
            "520/625 [=======================>......] - ETA: 1s - loss: 1.3862 - accuracy: 0.3765\n",
            "524/625 [========================>.....] - ETA: 1s - loss: 1.3858 - accuracy: 0.3765\n",
            "528/625 [========================>.....] - ETA: 1s - loss: 1.3854 - accuracy: 0.3767\n",
            "533/625 [========================>.....] - ETA: 1s - loss: 1.3847 - accuracy: 0.3769\n",
            "537/625 [========================>.....] - ETA: 1s - loss: 1.3844 - accuracy: 0.3770\n",
            "542/625 [=========================>....] - ETA: 1s - loss: 1.3838 - accuracy: 0.3772\n",
            "547/625 [=========================>....] - ETA: 1s - loss: 1.3833 - accuracy: 0.3774\n",
            "551/625 [=========================>....] - ETA: 0s - loss: 1.3828 - accuracy: 0.3776\n",
            "555/625 [=========================>....] - ETA: 0s - loss: 1.3822 - accuracy: 0.3778\n",
            "560/625 [=========================>....] - ETA: 0s - loss: 1.3817 - accuracy: 0.3779\n",
            "565/625 [==========================>...] - ETA: 0s - loss: 1.3810 - accuracy: 0.3782\n",
            "569/625 [==========================>...] - ETA: 0s - loss: 1.3805 - accuracy: 0.3783\n",
            "574/625 [==========================>...] - ETA: 0s - loss: 1.3803 - accuracy: 0.3784\n",
            "578/625 [==========================>...] - ETA: 0s - loss: 1.3800 - accuracy: 0.3785\n",
            "583/625 [==========================>...] - ETA: 0s - loss: 1.3798 - accuracy: 0.3786\n",
            "587/625 [===========================>..] - ETA: 0s - loss: 1.3794 - accuracy: 0.3788\n",
            "591/625 [===========================>..] - ETA: 0s - loss: 1.3790 - accuracy: 0.3790\n",
            "595/625 [===========================>..] - ETA: 0s - loss: 1.3786 - accuracy: 0.3791\n",
            "600/625 [===========================>..] - ETA: 0s - loss: 1.3781 - accuracy: 0.3793\n",
            "604/625 [===========================>..] - ETA: 0s - loss: 1.3777 - accuracy: 0.3795\n",
            "609/625 [============================>.] - ETA: 0s - loss: 1.3773 - accuracy: 0.3796\n",
            "613/625 [============================>.] - ETA: 0s - loss: 1.3769 - accuracy: 0.3798\n",
            "617/625 [============================>.] - ETA: 0s - loss: 1.3765 - accuracy: 0.3800\n",
            "622/625 [============================>.] - ETA: 0s - loss: 1.3760 - accuracy: 0.3801\n",
            "625/625 [==============================] - 14s 16ms/step - loss: 1.3757 - accuracy: 0.3803 - val_loss: 1.2646 - val_accuracy: 0.4277\n",
            "\u001b[2m\u001b[36m(pid=566)\u001b[0m Epoch 2/2\n",
            "  1/625 [..............................] - ETA: 6s - loss: 1.3318 - accuracy: 0.4102\n",
            "  6/625 [..............................] - ETA: 7s - loss: 1.3182 - accuracy: 0.4081\n",
            " 11/625 [..............................] - ETA: 6s - loss: 1.3230 - accuracy: 0.4001\n",
            " 16/625 [..............................] - ETA: 7s - loss: 1.3203 - accuracy: 0.4017\n",
            " 21/625 [>.............................] - ETA: 7s - loss: 1.3171 - accuracy: 0.4009\n",
            " 25/625 [>.............................] - ETA: 7s - loss: 1.3153 - accuracy: 0.4014\n",
            " 30/625 [>.............................] - ETA: 7s - loss: 1.3116 - accuracy: 0.4030\n",
            " 35/625 [>.............................] - ETA: 7s - loss: 1.3062 - accuracy: 0.4047\n",
            " 39/625 [>.............................] - ETA: 7s - loss: 1.3020 - accuracy: 0.4075\n",
            " 44/625 [=>............................] - ETA: 7s - loss: 1.3002 - accuracy: 0.4078\n",
            " 49/625 [=>............................] - ETA: 6s - loss: 1.3001 - accuracy: 0.4085\n",
            " 53/625 [=>............................] - ETA: 7s - loss: 1.3013 - accuracy: 0.4081\n",
            " 57/625 [=>............................] - ETA: 7s - loss: 1.3001 - accuracy: 0.4090\n",
            " 61/625 [=>............................] - ETA: 7s - loss: 1.2982 - accuracy: 0.4106\n",
            " 65/625 [==>...........................] - ETA: 7s - loss: 1.2971 - accuracy: 0.4113\n",
            " 69/625 [==>...........................] - ETA: 7s - loss: 1.2977 - accuracy: 0.4112\n",
            " 73/625 [==>...........................] - ETA: 7s - loss: 1.2977 - accuracy: 0.4120\n",
            " 78/625 [==>...........................] - ETA: 6s - loss: 1.2968 - accuracy: 0.4127\n",
            " 83/625 [==>...........................] - ETA: 6s - loss: 1.2960 - accuracy: 0.4134\n",
            " 87/625 [===>..........................] - ETA: 6s - loss: 1.2946 - accuracy: 0.4144\n",
            " 91/625 [===>..........................] - ETA: 6s - loss: 1.2944 - accuracy: 0.4147\n",
            " 96/625 [===>..........................] - ETA: 6s - loss: 1.2941 - accuracy: 0.4147\n",
            "101/625 [===>..........................] - ETA: 6s - loss: 1.2941 - accuracy: 0.4154\n",
            "105/625 [====>.........................] - ETA: 6s - loss: 1.2932 - accuracy: 0.4162\n",
            "108/625 [====>.........................] - ETA: 6s - loss: 1.2928 - accuracy: 0.4163\n",
            "113/625 [====>.........................] - ETA: 6s - loss: 1.2928 - accuracy: 0.4166\n",
            "118/625 [====>.........................] - ETA: 6s - loss: 1.2927 - accuracy: 0.4166\n",
            "122/625 [====>.........................] - ETA: 6s - loss: 1.2918 - accuracy: 0.4169\n",
            "127/625 [=====>........................] - ETA: 6s - loss: 1.2907 - accuracy: 0.4174\n",
            "132/625 [=====>........................] - ETA: 6s - loss: 1.2900 - accuracy: 0.4174\n",
            "136/625 [=====>........................] - ETA: 6s - loss: 1.2901 - accuracy: 0.4171\n",
            "139/625 [=====>........................] - ETA: 6s - loss: 1.2904 - accuracy: 0.4169\n",
            "143/625 [=====>........................] - ETA: 6s - loss: 1.2905 - accuracy: 0.4172\n",
            "147/625 [======>.......................] - ETA: 6s - loss: 1.2903 - accuracy: 0.4173\n",
            "151/625 [======>.......................] - ETA: 6s - loss: 1.2904 - accuracy: 0.4174\n",
            "155/625 [======>.......................] - ETA: 5s - loss: 1.2899 - accuracy: 0.4176\n",
            "160/625 [======>.......................] - ETA: 5s - loss: 1.2893 - accuracy: 0.4179\n",
            "165/625 [======>.......................] - ETA: 5s - loss: 1.2888 - accuracy: 0.4183\n",
            "169/625 [=======>......................] - ETA: 5s - loss: 1.2884 - accuracy: 0.4183\n",
            "173/625 [=======>......................] - ETA: 5s - loss: 1.2879 - accuracy: 0.4185\n",
            "178/625 [=======>......................] - ETA: 5s - loss: 1.2871 - accuracy: 0.4190\n",
            "183/625 [=======>......................] - ETA: 5s - loss: 1.2865 - accuracy: 0.4190\n",
            "188/625 [========>.....................] - ETA: 5s - loss: 1.2855 - accuracy: 0.4195\n",
            "192/625 [========>.....................] - ETA: 5s - loss: 1.2841 - accuracy: 0.4201\n",
            "196/625 [========>.....................] - ETA: 5s - loss: 1.2836 - accuracy: 0.4203\n",
            "200/625 [========>.....................] - ETA: 5s - loss: 1.2830 - accuracy: 0.4206\n",
            "204/625 [========>.....................] - ETA: 5s - loss: 1.2824 - accuracy: 0.4208\n",
            "207/625 [========>.....................] - ETA: 5s - loss: 1.2825 - accuracy: 0.4207\n",
            "211/625 [=========>....................] - ETA: 5s - loss: 1.2825 - accuracy: 0.4207\n",
            "215/625 [=========>....................] - ETA: 5s - loss: 1.2824 - accuracy: 0.4208\n",
            "219/625 [=========>....................] - ETA: 5s - loss: 1.2822 - accuracy: 0.4208\n",
            "224/625 [=========>....................] - ETA: 5s - loss: 1.2822 - accuracy: 0.4208\n",
            "229/625 [=========>....................] - ETA: 5s - loss: 1.2825 - accuracy: 0.4206\n",
            "233/625 [==========>...................] - ETA: 5s - loss: 1.2820 - accuracy: 0.4208\n",
            "236/625 [==========>...................] - ETA: 5s - loss: 1.2815 - accuracy: 0.4210\n",
            "241/625 [==========>...................] - ETA: 4s - loss: 1.2811 - accuracy: 0.4210\n",
            "245/625 [==========>...................] - ETA: 4s - loss: 1.2805 - accuracy: 0.4214\n",
            "249/625 [==========>...................] - ETA: 4s - loss: 1.2801 - accuracy: 0.4215\n",
            "254/625 [===========>..................] - ETA: 4s - loss: 1.2799 - accuracy: 0.4216\n",
            "259/625 [===========>..................] - ETA: 4s - loss: 1.2794 - accuracy: 0.4219\n",
            "263/625 [===========>..................] - ETA: 4s - loss: 1.2792 - accuracy: 0.4220\n",
            "267/625 [===========>..................] - ETA: 4s - loss: 1.2791 - accuracy: 0.4220\n",
            "272/625 [============>.................] - ETA: 4s - loss: 1.2789 - accuracy: 0.4222\n",
            "277/625 [============>.................] - ETA: 4s - loss: 1.2782 - accuracy: 0.4225\n",
            "281/625 [============>.................] - ETA: 4s - loss: 1.2780 - accuracy: 0.4225\n",
            "286/625 [============>.................] - ETA: 4s - loss: 1.2779 - accuracy: 0.4226\n",
            "290/625 [============>.................] - ETA: 4s - loss: 1.2778 - accuracy: 0.4226\n",
            "294/625 [=============>................] - ETA: 4s - loss: 1.2777 - accuracy: 0.4226\n",
            "298/625 [=============>................] - ETA: 4s - loss: 1.2774 - accuracy: 0.4228\n",
            "303/625 [=============>................] - ETA: 4s - loss: 1.2768 - accuracy: 0.4231\n",
            "307/625 [=============>................] - ETA: 4s - loss: 1.2764 - accuracy: 0.4233\n",
            "311/625 [=============>................] - ETA: 4s - loss: 1.2763 - accuracy: 0.4234\n",
            "315/625 [==============>...............] - ETA: 4s - loss: 1.2762 - accuracy: 0.4234\n",
            "320/625 [==============>...............] - ETA: 3s - loss: 1.2757 - accuracy: 0.4238\n",
            "325/625 [==============>...............] - ETA: 3s - loss: 1.2751 - accuracy: 0.4241\n",
            "330/625 [==============>...............] - ETA: 3s - loss: 1.2750 - accuracy: 0.4241\n",
            "335/625 [===============>..............] - ETA: 3s - loss: 1.2747 - accuracy: 0.4241\n",
            "339/625 [===============>..............] - ETA: 3s - loss: 1.2746 - accuracy: 0.4241\n",
            "344/625 [===============>..............] - ETA: 3s - loss: 1.2743 - accuracy: 0.4241\n",
            "349/625 [===============>..............] - ETA: 3s - loss: 1.2743 - accuracy: 0.4241\n",
            "353/625 [===============>..............] - ETA: 3s - loss: 1.2744 - accuracy: 0.4241\n",
            "358/625 [================>.............] - ETA: 3s - loss: 1.2742 - accuracy: 0.4242\n",
            "363/625 [================>.............] - ETA: 3s - loss: 1.2743 - accuracy: 0.4243\n",
            "368/625 [================>.............] - ETA: 3s - loss: 1.2742 - accuracy: 0.4244\n",
            "372/625 [================>.............] - ETA: 3s - loss: 1.2742 - accuracy: 0.4246\n",
            "377/625 [=================>............] - ETA: 3s - loss: 1.2739 - accuracy: 0.4247\n",
            "382/625 [=================>............] - ETA: 3s - loss: 1.2734 - accuracy: 0.4251\n",
            "386/625 [=================>............] - ETA: 3s - loss: 1.2734 - accuracy: 0.4251\n",
            "391/625 [=================>............] - ETA: 3s - loss: 1.2732 - accuracy: 0.4252\n",
            "395/625 [=================>............] - ETA: 2s - loss: 1.2730 - accuracy: 0.4254\n",
            "400/625 [==================>...........] - ETA: 2s - loss: 1.2730 - accuracy: 0.4254\n",
            "404/625 [==================>...........] - ETA: 2s - loss: 1.2728 - accuracy: 0.4255\n",
            "408/625 [==================>...........] - ETA: 2s - loss: 1.2729 - accuracy: 0.4256\n",
            "412/625 [==================>...........] - ETA: 2s - loss: 1.2731 - accuracy: 0.4256\n",
            "417/625 [===================>..........] - ETA: 2s - loss: 1.2731 - accuracy: 0.4256\n",
            "421/625 [===================>..........] - ETA: 2s - loss: 1.2731 - accuracy: 0.4257\n",
            "425/625 [===================>..........] - ETA: 2s - loss: 1.2729 - accuracy: 0.4258\n",
            "429/625 [===================>..........] - ETA: 2s - loss: 1.2726 - accuracy: 0.4259\n",
            "433/625 [===================>..........] - ETA: 2s - loss: 1.2723 - accuracy: 0.4261\n",
            "437/625 [===================>..........] - ETA: 2s - loss: 1.2720 - accuracy: 0.4263\n",
            "441/625 [====================>.........] - ETA: 2s - loss: 1.2716 - accuracy: 0.4265\n",
            "445/625 [====================>.........] - ETA: 2s - loss: 1.2715 - accuracy: 0.4266\n",
            "449/625 [====================>.........] - ETA: 2s - loss: 1.2713 - accuracy: 0.4267\n",
            "452/625 [====================>.........] - ETA: 2s - loss: 1.2713 - accuracy: 0.4267\n",
            "457/625 [====================>.........] - ETA: 2s - loss: 1.2711 - accuracy: 0.4268\n",
            "462/625 [=====================>........] - ETA: 2s - loss: 1.2708 - accuracy: 0.4270\n",
            "466/625 [=====================>........] - ETA: 2s - loss: 1.2704 - accuracy: 0.4272\n",
            "471/625 [=====================>........] - ETA: 1s - loss: 1.2703 - accuracy: 0.4273\n",
            "475/625 [=====================>........] - ETA: 1s - loss: 1.2701 - accuracy: 0.4274\n",
            "480/625 [======================>.......] - ETA: 1s - loss: 1.2700 - accuracy: 0.4275\n",
            "484/625 [======================>.......] - ETA: 1s - loss: 1.2699 - accuracy: 0.4276\n",
            "488/625 [======================>.......] - ETA: 1s - loss: 1.2695 - accuracy: 0.4279\n",
            "492/625 [======================>.......] - ETA: 1s - loss: 1.2692 - accuracy: 0.4280\n",
            "497/625 [======================>.......] - ETA: 1s - loss: 1.2686 - accuracy: 0.4283\n",
            "502/625 [=======================>......] - ETA: 1s - loss: 1.2681 - accuracy: 0.4285\n",
            "507/625 [=======================>......] - ETA: 1s - loss: 1.2678 - accuracy: 0.4287\n",
            "512/625 [=======================>......] - ETA: 1s - loss: 1.2673 - accuracy: 0.4289\n",
            "517/625 [=======================>......] - ETA: 1s - loss: 1.2669 - accuracy: 0.4291\n",
            "522/625 [========================>.....] - ETA: 1s - loss: 1.2667 - accuracy: 0.4291\n",
            "526/625 [========================>.....] - ETA: 1s - loss: 1.2668 - accuracy: 0.4291\n",
            "530/625 [========================>.....] - ETA: 1s - loss: 1.2666 - accuracy: 0.4292\n",
            "534/625 [========================>.....] - ETA: 1s - loss: 1.2666 - accuracy: 0.4293\n",
            "539/625 [========================>.....] - ETA: 1s - loss: 1.2666 - accuracy: 0.4293\n",
            "543/625 [=========================>....] - ETA: 1s - loss: 1.2667 - accuracy: 0.4293\n",
            "548/625 [=========================>....] - ETA: 0s - loss: 1.2666 - accuracy: 0.4294\n",
            "552/625 [=========================>....] - ETA: 0s - loss: 1.2664 - accuracy: 0.4294\n",
            "557/625 [=========================>....] - ETA: 0s - loss: 1.2662 - accuracy: 0.4295\n",
            "561/625 [=========================>....] - ETA: 0s - loss: 1.2662 - accuracy: 0.4295\n",
            "565/625 [==========================>...] - ETA: 0s - loss: 1.2661 - accuracy: 0.4296\n",
            "570/625 [==========================>...] - ETA: 0s - loss: 1.2661 - accuracy: 0.4296\n",
            "574/625 [==========================>...] - ETA: 0s - loss: 1.2661 - accuracy: 0.4297\n",
            "578/625 [==========================>...] - ETA: 0s - loss: 1.2661 - accuracy: 0.4298\n",
            "582/625 [==========================>...] - ETA: 0s - loss: 1.2660 - accuracy: 0.4298\n",
            "587/625 [===========================>..] - ETA: 0s - loss: 1.2661 - accuracy: 0.4299\n",
            "592/625 [===========================>..] - ETA: 0s - loss: 1.2659 - accuracy: 0.4300\n",
            "597/625 [===========================>..] - ETA: 0s - loss: 1.2658 - accuracy: 0.4300\n",
            "601/625 [===========================>..] - ETA: 0s - loss: 1.2656 - accuracy: 0.4302\n",
            "606/625 [============================>.] - ETA: 0s - loss: 1.2656 - accuracy: 0.4303\n",
            "609/625 [============================>.] - ETA: 0s - loss: 1.2657 - accuracy: 0.4303\n",
            "613/625 [============================>.] - ETA: 0s - loss: 1.2657 - accuracy: 0.4303\n",
            "618/625 [============================>.] - ETA: 0s - loss: 1.2655 - accuracy: 0.4304\n",
            "622/625 [============================>.] - ETA: 0s - loss: 1.2655 - accuracy: 0.4305\n"
          ],
          "name": "stdout"
        },
        {
          "output_type": "execute_result",
          "data": {
            "application/vnd.google.colaboratory.intrinsic+json": {
              "type": "string"
            },
            "text/plain": [
              "'./NCF.ckpt'"
            ]
          },
          "metadata": {
            "tags": []
          },
          "execution_count": 12
        },
        {
          "output_type": "stream",
          "text": [
            "\u001b[2m\u001b[36m(pid=566)\u001b[0m \b\b\b\b\b\b\b\b\b\b\b\b\b\b\b\b\b\b\b\b\b\b\b\b\b\b\b\b\b\b\b\b\b\b\b\b\b\b\b\b\b\b\b\b\b\b\b\b\b\b\b\b\b\b\b\b\b\b\b\b\b\b\b\b\b\b\b\b\b\b\b\b\b\b\b\b\b\b\b\b\b\b\b\b\r625/625 [==============================] - 9s 14ms/step - loss: 1.2655 - accuracy: 0.4305 - val_loss: 1.2246 - val_accuracy: 0.4571\n"
          ],
          "name": "stdout"
        }
      ]
    },
    {
      "cell_type": "code",
      "metadata": {
        "id": "M-ikO_Da3qHv",
        "colab": {
          "base_uri": "https://localhost:8080/"
        },
        "outputId": "53373c28-26c9-4c4e-d3b7-2ea4f77060ce"
      },
      "source": [
        "# evaluate with Estimator\n",
        "stats = est.evaluate(test_data, \n",
        "                     feature_cols=['user', 'item'],\n",
        "                     label_cols=['label'],\n",
        "                     num_steps=100000 // batch_size)\n",
        "est.shutdown()\n",
        "print(stats)"
      ],
      "execution_count": null,
      "outputs": [
        {
          "output_type": "stream",
          "text": [
            "\r[Stage 24:>                                                         (0 + 4) / 4]Prepending /usr/local/lib/python3.7/dist-packages/bigdl/share/conf/spark-bigdl.conf to sys.path\n",
            "Prepending /usr/local/lib/python3.7/dist-packages/zoo/share/conf/spark-analytics-zoo.conf to sys.path\n",
            "Prepending /usr/local/lib/python3.7/dist-packages/bigdl/share/conf/spark-bigdl.conf to sys.path\n",
            "Prepending /usr/local/lib/python3.7/dist-packages/bigdl/share/conf/spark-bigdl.conf to sys.path\n",
            "Prepending /usr/local/lib/python3.7/dist-packages/bigdl/share/conf/spark-bigdl.conf to sys.path\n",
            "Prepending /usr/local/lib/python3.7/dist-packages/zoo/share/conf/spark-analytics-zoo.conf to sys.path\n",
            "Prepending /usr/local/lib/python3.7/dist-packages/zoo/share/conf/spark-analytics-zoo.conf to sys.path\n",
            "Prepending /usr/local/lib/python3.7/dist-packages/zoo/share/conf/spark-analytics-zoo.conf to sys.path\n"
          ],
          "name": "stderr"
        },
        {
          "output_type": "stream",
          "text": [
            "\u001b[2m\u001b[36m(pid=1209)\u001b[0m Prepending /usr/local/lib/python3.7/dist-packages/bigdl/share/conf/spark-bigdl.conf to sys.path\n",
            "\u001b[2m\u001b[36m(pid=1209)\u001b[0m Prepending /usr/local/lib/python3.7/dist-packages/zoo/share/conf/spark-analytics-zoo.conf to sys.path\n"
          ],
          "name": "stdout"
        },
        {
          "output_type": "stream",
          "text": [
            "2021-06-30 09:28:58,700\tINFO worker.py:655 -- Connecting to existing Ray cluster at address: 172.28.0.2:6379\n"
          ],
          "name": "stderr"
        },
        {
          "output_type": "stream",
          "text": [
            "\u001b[2m\u001b[36m(pid=566)\u001b[0m \r 1/78 [..............................] - ETA: 4s - loss: 1.0935 - accuracy: 0.5312\n",
            "\u001b[2m\u001b[36m(pid=566)\u001b[0m \b\b\b\b\b\b\b\b\b\b\b\b\b\b\b\b\b\b\b\b\b\b\b\b\b\b\b\b\b\b\b\b\b\b\b\b\b\b\b\b\b\b\b\b\b\b\b\b\b\b\b\b\b\b\b\b\b\b\b\b\b\b\b\b\b\b\b\b\b\b\b\b\b\b\b\b\b\b\b\b\b\b\r28/78 [=========>....................] - ETA: 0s - loss: 1.2727 - accuracy: 0.4219\n",
            "\u001b[2m\u001b[36m(pid=566)\u001b[0m \b\b\b\b\b\b\b\b\b\b\b\b\b\b\b\b\b\b\b\b\b\b\b\b\b\b\b\b\b\b\b\b\b\b\b\b\b\b\b\b\b\b\b\b\b\b\b\b\b\b\b\b\b\b\b\b\b\b\b\b\b\b\b\b\b\b\b\b\b\b\b\b\b\b\b\b\b\b\b\b\b\b\r55/78 [====================>.........] - ETA: 0s - loss: 1.2081 - accuracy: 0.4563\n",
            "\u001b[2m\u001b[36m(pid=566)\u001b[0m \b\b\b\b\b\b\b\b\b\b\b\b\b\b\b\b\b\b\b\b\b\b\b\b\b\b\b\b\b\b\b\b\b\b\b\b\b\b\b\b\b\b\b\b\b\b\b\b\b\b\b\b\b\b\b\b\b\b\b\b\b\b\b\b\b\b\b\b\b\b\b\b\b\b\b\b\b\b\b\b\b\b\r78/78 [==============================] - 0s 2ms/step - loss: 1.2273 - accuracy: 0.4503\n",
            "[{'validation_loss': 1.227295160293579, 'validation_accuracy': 0.4503205120563507}]\n"
          ],
          "name": "stdout"
        }
      ]
    },
    {
      "cell_type": "code",
      "metadata": {
        "id": "TeJsTahMgFxE"
      },
      "source": [
        "stop_orca_context()"
      ],
      "execution_count": null,
      "outputs": []
    }
  ]
}